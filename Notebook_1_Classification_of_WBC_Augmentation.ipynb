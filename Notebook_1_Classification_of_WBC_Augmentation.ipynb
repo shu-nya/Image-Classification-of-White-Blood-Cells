{
  "nbformat": 4,
  "nbformat_minor": 0,
  "metadata": {
    "colab": {
      "provenance": [],
      "authorship_tag": "ABX9TyN+9Gdn/29xKOSJiaEKoUV9",
      "include_colab_link": true
    },
    "kernelspec": {
      "name": "python3",
      "display_name": "Python 3"
    },
    "language_info": {
      "name": "python"
    }
  },
  "cells": [
    {
      "cell_type": "markdown",
      "metadata": {
        "id": "view-in-github",
        "colab_type": "text"
      },
      "source": [
        "<a href=\"https://colab.research.google.com/github/shu-nya/Image-Classification-of-White-Blood-Cells/blob/main/Notebook_1_Classification_of_WBC_Augmentation.ipynb\" target=\"_parent\"><img src=\"https://colab.research.google.com/assets/colab-badge.svg\" alt=\"Open In Colab\"/></a>"
      ]
    },
    {
      "cell_type": "markdown",
      "source": [
        "# Task: White Blood Cell Classification"
      ],
      "metadata": {
        "id": "5Wk682setba_"
      }
    },
    {
      "cell_type": "markdown",
      "source": [
        "## 📖 Project Goal"
      ],
      "metadata": {
        "id": "YpnTwFSatq62"
      }
    },
    {
      "cell_type": "markdown",
      "source": [
        "This task aims to classify images of White Blood Cells into 9 subtypes. The specific types of WBCs to be classified are as follows: bands, basophils, blasts, eosinophils, lymphocytes, metamyelocytes, monocytes, myelocytes, and neutrophils.\n",
        "\n",
        "The data has been provided to me and it contains two folders: WBC and classify-images. Images in the WBC folder have been used for training and testing the model. While the classify-images folder has been used to classify images into the 9 subtypes mentioned above."
      ],
      "metadata": {
        "id": "8hCjcn5ktYwR"
      }
    },
    {
      "cell_type": "markdown",
      "source": [
        "## 📖 Data Summary\n",
        "\n",
        "-> WBC: This folder has 9 sub-folders, each containing labelled images of the sub-types of WBC. The images in these 9 sub-folders are to be used for training and testing the model.\n",
        "\n",
        "-> classify-images: This folder has unlabelled images. It is to be used for classifying the images after the model has been trained and tested."
      ],
      "metadata": {
        "id": "3XLLkwr4tYtS"
      }
    },
    {
      "cell_type": "markdown",
      "source": [
        "## 📖 Training Environment: Colab Notebook (free version)"
      ],
      "metadata": {
        "id": "3csODso0xbeD"
      }
    },
    {
      "cell_type": "markdown",
      "source": [
        "1. All the tasks have been performed in the free version of the Colab notebook having System RAM = 12.7 GB.\n",
        "\n",
        "2. The CNN and models have been trained using GPU T4."
      ],
      "metadata": {
        "id": "tdodm9nctYVl"
      }
    },
    {
      "cell_type": "markdown",
      "source": [
        "## 📖 Task Work-flow: Pre-processing"
      ],
      "metadata": {
        "id": "XEoqJY46xbja"
      }
    },
    {
      "cell_type": "markdown",
      "source": [
        "1. Creation of train and test folders using the labelled images of the folder WBC in the base directory:\n",
        "\n",
        "-> train: 80% of the labelled images of folder WBC are copied into the train folder.\n",
        "\n",
        "-> test: the remaining labelled images are copied into the test folder. The test folder will be used for model testing and evaluation. This is because the folder classify-images has unlabelled images and it is difficult to create a confusion matrix using it.\n",
        "\n",
        "2. Normalization: The independent variable X is an array created from images having dimensions = 256, 256. Hence X has been normalized so that the images contribute more evenly to the total loss.\n",
        "\n",
        "3. Augmentation: The dataset is augmented to increase the variations in the images of each class.\n",
        "\n",
        "4. Over-sampling using SMOTE: The balance of the dataset is checked and it is found that it is an unbalanced dataset. Hence, the imbalance is removed using SMOTE.\n",
        "\n",
        "5. One-hot encoding of the labels in the training dataset."
      ],
      "metadata": {
        "id": "7HOptetYxuF0"
      }
    },
    {
      "cell_type": "markdown",
      "source": [
        "## 📖 Task Work-flow: Model training and testing"
      ],
      "metadata": {
        "id": "2Fe3FnQPy6AZ"
      }
    },
    {
      "cell_type": "markdown",
      "source": [
        "Note: Accuracy is used as a metric for model evaluation because it is more important that the model classifies each image correctly rather than penalizing the False-Positives (Precision) or the False-Negatives (Recall) or penalizing both (F1).\n",
        "\n",
        "1. VGG16 model: It gave a prediction accuracy of 76.6% on the test set."
      ],
      "metadata": {
        "id": "EBiBACL3y558"
      }
    },
    {
      "cell_type": "markdown",
      "source": [
        "## 📖 Challenges faced"
      ],
      "metadata": {
        "id": "fs_qBsHAy5ur"
      }
    },
    {
      "cell_type": "markdown",
      "source": [
        "1. The computational resource limitation to handle image data: The pre-processing steps, especially image augmentation and SMOTE, are restricted by the 12.7 GB RAM available in the Colab notebook.\n",
        "\n",
        "2. To manage the computational limitation, multiple Colab notebooks for different tasks have been used.\n",
        "\n",
        "3. Concerning SMOTE: SMOTE uses the KNN algorithm to increase the number of samples in the minority classes. The class blasts in the training dataset have only 3 images. This means that each image has only 2 neighbours in the original train dataset. Hence, applying SMOTE to the original training dataset may create many similar images in the under-represented classes.\n",
        "\n",
        "4. Hence, image augmentation has been done before applying SMOTE. Augmentation creates many variations in the under-represented classes and after that, SMOTE over-samples the variations."
      ],
      "metadata": {
        "id": "MNPRh3MDy5rT"
      }
    },
    {
      "cell_type": "code",
      "source": [],
      "metadata": {
        "id": "VZj9MVLgzNWn"
      },
      "execution_count": 23,
      "outputs": []
    },
    {
      "cell_type": "markdown",
      "source": [
        "### Note:\n",
        "\n",
        "1. Notebook 1 contains the pre-processing tasks: Image Augmentation\n",
        "\n",
        "2. Notebook 2 contains the Model: VGG16\n",
        "\n",
        "A CNN model built from scratch and a Resnet152 model is also tried. But they perform poorly on evalutation. Need to look into more detail how they can be improved."
      ],
      "metadata": {
        "id": "x1NmZjZ56h89"
      }
    },
    {
      "cell_type": "code",
      "source": [],
      "metadata": {
        "id": "HeoUn8QJ6kBz"
      },
      "execution_count": 23,
      "outputs": []
    },
    {
      "cell_type": "markdown",
      "source": [
        "# Notebook 1"
      ],
      "metadata": {
        "id": "Yv2YIh5u6h5-"
      }
    },
    {
      "cell_type": "markdown",
      "source": [
        "## Import the libraries"
      ],
      "metadata": {
        "id": "iaB1RUuIMTLV"
      }
    },
    {
      "cell_type": "code",
      "execution_count": 24,
      "metadata": {
        "id": "17O6hb8qIM4e"
      },
      "outputs": [],
      "source": [
        "# import the necessary libraries\n",
        "\n",
        "import numpy as np\n",
        "import cv2\n",
        "import os\n",
        "from os.path import exists\n",
        "import shutil\n",
        "import matplotlib.pyplot as plt\n",
        "from collections import Counter\n",
        "\n",
        "from keras.utils import to_categorical\n",
        "from keras.utils import np_utils\n",
        "from keras.preprocessing.image import ImageDataGenerator\n",
        "\n",
        "from sklearn.preprocessing import LabelEncoder\n",
        "\n",
        "import warnings\n",
        "warnings.filterwarnings('ignore')\n",
        "\n",
        "%matplotlib inline"
      ]
    },
    {
      "cell_type": "code",
      "source": [],
      "metadata": {
        "id": "xl9cLJQ31txt"
      },
      "execution_count": 24,
      "outputs": []
    },
    {
      "cell_type": "markdown",
      "source": [
        "## Mount google drive to load the dataset"
      ],
      "metadata": {
        "id": "KPbEHsAuMvqi"
      }
    },
    {
      "cell_type": "code",
      "source": [
        "# mount the drive\n",
        "\n",
        "from google.colab import drive\n",
        "drive.mount('/content/drive')\n"
      ],
      "metadata": {
        "colab": {
          "base_uri": "https://localhost:8080/"
        },
        "id": "QaoaQYQCIPBX",
        "outputId": "ceb9b923-c730-4474-94b7-1ce8e40da2ea"
      },
      "execution_count": 25,
      "outputs": [
        {
          "output_type": "stream",
          "name": "stdout",
          "text": [
            "Drive already mounted at /content/drive; to attempt to forcibly remount, call drive.mount(\"/content/drive\", force_remount=True).\n"
          ]
        }
      ]
    },
    {
      "cell_type": "code",
      "source": [
        "# path of the base directory in drive\n",
        "\n",
        "BASE_DIR = '/content/drive/MyDrive/taskMedPrime'\n"
      ],
      "metadata": {
        "id": "8VkIhMjkrDvz"
      },
      "execution_count": 26,
      "outputs": []
    },
    {
      "cell_type": "code",
      "source": [
        "# number of classes into which the classifications are to be made\n",
        "num_classes = 9\n",
        "\n",
        "# classes into which the classifications are to be made\n",
        "classes = ['bands', 'basophils', 'blasts', 'eosinophils', 'lymphocytes', 'metamyelocytes', 'monocytes', 'myelocytes', 'neutrophils']\n"
      ],
      "metadata": {
        "id": "7nzgCKAIIO8C"
      },
      "execution_count": 27,
      "outputs": []
    },
    {
      "cell_type": "code",
      "source": [],
      "metadata": {
        "id": "sbIbMnwq1sxb"
      },
      "execution_count": 27,
      "outputs": []
    },
    {
      "cell_type": "markdown",
      "source": [
        "## Create train and test folders in the base directory\n",
        "\n",
        "There are two folders in the base directory:\n",
        "\n",
        "1. wbc: it has 9 sub-folders, each containing labelled images of the sub-types of wbc.\n",
        "\n",
        "2. classify-images: it has unlabelled images. It is to be used for testing.\n",
        "\n"
      ],
      "metadata": {
        "id": "ectoFalpPR35"
      }
    },
    {
      "cell_type": "markdown",
      "source": [
        "Two more folders using the labelled images of the folder wbc in the base directory are created. One folder is named as train and the other as test.\n",
        "\n",
        "1. train: 80% of the labelled images of folder wbc are copied into the train folder.\n",
        "\n",
        "2. test: the remaining labelled images are copied into the test folder.\n",
        "\n",
        "The train folder will be used for model training.\n",
        "\n",
        "The test folder will be used for model testing and evaluation. This is because the folder classify-images has unlabelled images and it is difficult to create confusion matrix using it."
      ],
      "metadata": {
        "id": "OCRjtNlfTXGU"
      }
    },
    {
      "cell_type": "code",
      "source": [
        "# create two folders in the base directory: train and test\n",
        "\n",
        "train_folder_exists = exists(BASE_DIR + '/train')\n",
        "\n",
        "# assuming if train folder exists then test folder also exists because both are being created simultaneously\n",
        "\n",
        "if train_folder_exists:\n",
        "\n",
        "    # remove train and test directories from the base folder else if this code is run twice then\n",
        "    # data will be augmented twice and we will get an error on the dimensions while model training\n",
        "\n",
        "    shutil.rmtree(BASE_DIR + '/train')\n",
        "    shutil.rmtree(BASE_DIR + '/test')\n",
        "\n",
        "\n",
        "\n",
        "for i in classes:\n",
        "\n",
        "    os.makedirs(BASE_DIR + '/train/' + i)       # create the train folder and the sub-folders for the sub-types inside it\n",
        "\n",
        "    os.makedirs(BASE_DIR + '/test/' + i)        # create the test folder and the sub-folders for the sub-types inside it\n",
        "\n",
        "    source = BASE_DIR + '/wbc/' + i             # path to the sub-folders inside the folder wbc\n",
        "\n",
        "    allFileNames = os.listdir(source)           # names of all the labelled images inside the sub-folders of the folder wbc\n",
        "\n",
        "    np.random.shuffle(allFileNames)             # randomly shuffling before splitting into train and test\n",
        "\n",
        "    test_ratio = 0.20                           # setting the test ratio = 20%\n",
        "\n",
        "    # splitting the file-names into train and test parts\n",
        "\n",
        "    train_FileNames, test_FileNames = np.split(np.array(allFileNames),\n",
        "                                                      [int(len(allFileNames)* (1 - test_ratio))])\n",
        "\n",
        "    # converting the file-names array into list of paths of their source\n",
        "\n",
        "    train_FileNames = [source + '/' + name for name in train_FileNames.tolist()]\n",
        "    test_FileNames = [source + '/' + name for name in test_FileNames.tolist()]\n",
        "\n",
        "    # using shutil to copy the labelled images from their source to their train and test destination folders\n",
        "\n",
        "    for name in train_FileNames:\n",
        "        shutil.copy(name, BASE_DIR +'/train/' + i)\n",
        "\n",
        "    for name in test_FileNames:\n",
        "        shutil.copy(name, BASE_DIR +'/test/' + i)\n"
      ],
      "metadata": {
        "id": "QGZEjamyIO57"
      },
      "execution_count": 28,
      "outputs": []
    },
    {
      "cell_type": "code",
      "source": [],
      "metadata": {
        "id": "ctdstiKA1qzF"
      },
      "execution_count": 28,
      "outputs": []
    },
    {
      "cell_type": "markdown",
      "source": [
        "## Create the variables X and y"
      ],
      "metadata": {
        "id": "66xqxkfqX_Dm"
      }
    },
    {
      "cell_type": "code",
      "source": [
        "# method to get the images as independent variable X and their labels as the dependent variable y\n",
        "\n",
        "def get_data(folder):\n",
        "\n",
        "    X = []\n",
        "    y = []\n",
        "\n",
        "    # if the image files in the folder wbc are not empty then read the files\n",
        "    # and convert the images as numpy arrays\n",
        "    # append the image numpy arrays to the independent variable X\n",
        "    # and append their labels to y\n",
        "\n",
        "    for wbc_type in os.listdir(folder):\n",
        "\n",
        "        if not wbc_type.startswith('.'):\n",
        "\n",
        "            for image_filename in os.listdir(folder + '/' + wbc_type):\n",
        "                img_file = cv2.imread(folder + '/' + wbc_type + '/' + image_filename)\n",
        "\n",
        "                if img_file is not None:\n",
        "                    img_arr = np.asarray(img_file)\n",
        "                    X.append(img_arr)\n",
        "                    y.append(wbc_type)\n",
        "\n",
        "    # create numpy arrays of X and y\n",
        "\n",
        "    X = np.asarray(X)\n",
        "    y = np.asarray(y)\n",
        "\n",
        "    return X,y\n"
      ],
      "metadata": {
        "id": "EA3hoNf4IO3b"
      },
      "execution_count": 29,
      "outputs": []
    },
    {
      "cell_type": "code",
      "source": [
        "# call the get_data method using the path to the train and test folders as arguments\n",
        "# to get the variables X_train, y_train, X_test and y_test\n",
        "\n",
        "X_train, y_train = get_data(BASE_DIR + '/train')\n",
        "X_test, y_test = get_data(BASE_DIR + '/test')\n"
      ],
      "metadata": {
        "id": "BMRd3TzYIO1c"
      },
      "execution_count": 30,
      "outputs": []
    },
    {
      "cell_type": "code",
      "source": [],
      "metadata": {
        "id": "oRMhF8Mc1phV"
      },
      "execution_count": 30,
      "outputs": []
    },
    {
      "cell_type": "markdown",
      "source": [
        "## Normalize the input\n",
        "\n",
        "it will make images contribute more evenly to the total loss"
      ],
      "metadata": {
        "id": "qBxxqFMMcK-Y"
      }
    },
    {
      "cell_type": "code",
      "source": [
        "# get all dimensions of the X\n",
        "\n",
        "n_samples, height, width, n_channels = [X_train.shape[index] for index in range(4)]\n",
        "print(f\"Shape of X_train: {X_train.shape}\")\n",
        "\n",
        "n_samples, height, width, n_channels = [X_test.shape[index] for index in range(4)]\n",
        "print(f\"Shape of X_test: {X_test.shape}\")\n"
      ],
      "metadata": {
        "colab": {
          "base_uri": "https://localhost:8080/"
        },
        "id": "VKnr7tFYkWRd",
        "outputId": "eff77613-4f99-4d7d-d935-983e4e9a58ad"
      },
      "execution_count": 31,
      "outputs": [
        {
          "output_type": "stream",
          "name": "stdout",
          "text": [
            "Shape of X_train: (421, 256, 256, 3)\n",
            "Shape of X_test: (107, 256, 256, 3)\n"
          ]
        }
      ]
    },
    {
      "cell_type": "markdown",
      "source": [
        "### Observations:\n",
        "\n",
        "1. There are total 421 images in X_train having width = 256 and height = 256 and channels = 3\n",
        "2. There are total 107 images in X_train having width = 256 and height = 256 and channels = 3"
      ],
      "metadata": {
        "id": "ls-Fj1h52brv"
      }
    },
    {
      "cell_type": "code",
      "source": [
        "# image has scale [0, 255], hence multiply by the scaling factor 1./255.\n",
        "# to rescale to pixels to range [0, 1]\n",
        "\n",
        "X_train = X_train * 1./255.\n",
        "X_test = X_test * 1./255.\n"
      ],
      "metadata": {
        "id": "cm-2WLUOIOu2"
      },
      "execution_count": 32,
      "outputs": []
    },
    {
      "cell_type": "code",
      "source": [],
      "metadata": {
        "id": "85TtKkIl1old"
      },
      "execution_count": 32,
      "outputs": []
    },
    {
      "cell_type": "markdown",
      "source": [
        "## Check the balance of the train dataset"
      ],
      "metadata": {
        "id": "vdDKT-Gycfdg"
      }
    },
    {
      "cell_type": "code",
      "source": [
        "# summarize the class distribution in the train dataset\n",
        "\n",
        "counter = Counter(y_train)\n",
        "print(counter)\n"
      ],
      "metadata": {
        "colab": {
          "base_uri": "https://localhost:8080/"
        },
        "id": "LsXUxqQILiZM",
        "outputId": "e2a088ac-8cd5-4717-ee38-a1cee73cbfd1"
      },
      "execution_count": 33,
      "outputs": [
        {
          "output_type": "stream",
          "name": "stdout",
          "text": [
            "Counter({'neutrophils': 168, 'lymphocytes': 152, 'monocytes': 24, 'bands': 21, 'eosinophils': 20, 'metamyelocytes': 20, 'myelocytes': 7, 'basophils': 6, 'blasts': 3})\n"
          ]
        }
      ]
    },
    {
      "cell_type": "code",
      "source": [
        "# plot the number of images in each sub-folder of the train dataset\n",
        "\n",
        "y_train_unique_counts = np.unique(y_train, return_counts=True)\n",
        "\n",
        "plt.title('Number of Images in each WBC type')\n",
        "plt.barh(y_train_unique_counts[0], y_train_unique_counts[1])\n",
        "plt.show()\n"
      ],
      "metadata": {
        "colab": {
          "base_uri": "https://localhost:8080/",
          "height": 452
        },
        "id": "XqqqaKUrIOmo",
        "outputId": "a9933734-f787-4a60-f23d-0c8d62ba224d"
      },
      "execution_count": 34,
      "outputs": [
        {
          "output_type": "display_data",
          "data": {
            "text/plain": [
              "<Figure size 640x480 with 1 Axes>"
            ],
            "image/png": "[encoded data removed]"
          },
          "metadata": {}
        }
      ]
    },
    {
      "cell_type": "markdown",
      "source": [
        "### Observations:\n",
        "\n",
        "1. This is an imbalanced dataset.\n",
        "2. neutrophils is the majority class with 168 image samples.\n",
        "3. blasts has the least number of samples: only 3 samples.\n",
        "4. myelocytes and basophils have only 7 and 6 samples respectively."
      ],
      "metadata": {
        "id": "z45EyZCTc5an"
      }
    },
    {
      "cell_type": "markdown",
      "source": [
        "Hence, there is a need to treat the imbalance of the train dataset."
      ],
      "metadata": {
        "id": "JNXafZqgtnak"
      }
    },
    {
      "cell_type": "markdown",
      "source": [
        "There are a number of ways to deal with data imbalance:\n",
        "\n",
        "1. Under-sampling the over-represented class. However, this can result in a loss of big amounts of useful data.\n",
        "\n",
        "2. Over-sampling the under-represented class. There is big discrepancy in the counts between the classes such as neutrophils (168 samples) and blasts (3 samples).\n",
        "\n",
        "SMOTE (Synthetic Minority Oversampling Technique). This method selects examples of data in the feature space (a data point and its nearest neighbor), and then creates a synthetic data point in-between them. In essence, this is an augmentation technique to add varying copies of existing data. We chose to go with this option since we do not want to lose data and do not want to experience the effects of over-fitting."
      ],
      "metadata": {
        "id": "npKgDUWcyOlH"
      }
    },
    {
      "cell_type": "markdown",
      "source": [
        "###Note:\n",
        "\n",
        "If SMOTE is applied before augmentation on the given dataset, there is a restriction.\n",
        "\n",
        "The class blasts has only 3 samples in the train dataset. Since, SMOTE works using the KNN algorithm, each image in the class blast has only 2 neighbours. This will create similar types of images in the classes that have very few images.\n",
        "\n",
        "Therefore, applying SMOTE after image augmentation will create more variations."
      ],
      "metadata": {
        "id": "ZrOioQs8zJjW"
      }
    },
    {
      "cell_type": "code",
      "source": [],
      "metadata": {
        "id": "KJMoOOIHIOkC"
      },
      "execution_count": 34,
      "outputs": []
    },
    {
      "cell_type": "markdown",
      "source": [
        "## Augment the train dataset"
      ],
      "metadata": {
        "id": "UjnI6z2adNAf"
      }
    },
    {
      "cell_type": "markdown",
      "source": [
        "###Note:\n",
        "\n",
        "The number of new variations created by augmentation is limited by the computing resources (System RAM = 12.7 GB) provided in Colab notebook."
      ],
      "metadata": {
        "id": "L1yZwcRzrlyG"
      }
    },
    {
      "cell_type": "code",
      "source": [
        "# getting the image arrays associated with each class type in the train dataset\n",
        "\n",
        "basophils_samples = X_train[np.where(y_train == 'basophils')]\n",
        "bands_samples = X_train[np.where(y_train == 'bands')]\n",
        "blasts_samples = X_train[np.where(y_train == 'blasts')]\n",
        "eosinophils_samples = X_train[np.where(y_train == 'eosinophils')]\n",
        "lymphocytes_samples = X_train[np.where(y_train == 'lymphocytes')]\n",
        "monocytes_samples = X_train[np.where(y_train == 'monocytes')]\n",
        "metamyelocytes_samples = X_train[np.where(y_train == 'metamyelocytes')]\n",
        "myelocytes_samples = X_train[np.where(y_train == 'myelocytes')]\n",
        "neutrophils_samples = X_train[np.where(y_train == 'neutrophils')]\n"
      ],
      "metadata": {
        "id": "OISbIavNIOhC"
      },
      "execution_count": 35,
      "outputs": []
    },
    {
      "cell_type": "code",
      "source": [
        "# using ImageDataGenerator to define new variations\n",
        "\n",
        "datagen = ImageDataGenerator(\n",
        "    rotation_range=20,\n",
        "    fill_mode='constant',\n",
        "    height_shift_range=0.1,\n",
        "    width_shift_range=0.1,\n",
        "    horizontal_flip=True,\n",
        "    vertical_flip=True,\n",
        "    shear_range=0.2\n",
        ")\n"
      ],
      "metadata": {
        "id": "Z_IaV9VgJid5"
      },
      "execution_count": 36,
      "outputs": []
    },
    {
      "cell_type": "code",
      "source": [
        "# saving the new variations to their respective folders in the train dataset\n",
        "\n",
        "basophils_generator = datagen.flow(\n",
        "        basophils_samples,\n",
        "        y_train[np.where(y_train == 'basophils')],\n",
        "        save_to_dir = BASE_DIR + '/train/basophils',\n",
        "        batch_size=1)\n",
        "\n",
        "bands_generator = datagen.flow(\n",
        "        bands_samples,\n",
        "        y_train[np.where(y_train == 'bands')],\n",
        "        save_to_dir = BASE_DIR + '/train/bands',\n",
        "        batch_size=1)\n",
        "\n",
        "blasts_generator = datagen.flow(\n",
        "        blasts_samples,\n",
        "        y_train[np.where(y_train == 'blasts')],\n",
        "        save_to_dir = BASE_DIR + '/train/blasts',\n",
        "        batch_size=1)\n",
        "\n",
        "eosinophils_generator = datagen.flow(\n",
        "        eosinophils_samples,\n",
        "        y_train[np.where(y_train == 'eosinophils')],\n",
        "        save_to_dir = BASE_DIR + '/train/eosinophils',\n",
        "        batch_size=1)\n",
        "\n",
        "lymphocytes_generator = datagen.flow(\n",
        "        lymphocytes_samples,\n",
        "        y_train[np.where(y_train == 'lymphocytes')],\n",
        "        save_to_dir = BASE_DIR + '/train/lymphocytes',\n",
        "        batch_size=1)\n",
        "\n",
        "monocytes_generator = datagen.flow(\n",
        "        monocytes_samples,\n",
        "        y_train[np.where(y_train == 'monocytes')],\n",
        "        save_to_dir = BASE_DIR + '/train/monocytes',\n",
        "        batch_size=1)\n",
        "\n",
        "metamyelocytes_generator = datagen.flow(\n",
        "        metamyelocytes_samples,\n",
        "        y_train[np.where(y_train == 'metamyelocytes')],\n",
        "        save_to_dir = BASE_DIR + '/train/metamyelocytes',\n",
        "        batch_size=1)\n",
        "\n",
        "myelocytes_generator = datagen.flow(\n",
        "        myelocytes_samples,\n",
        "        y_train[np.where(y_train == 'myelocytes')],\n",
        "        save_to_dir = BASE_DIR + '/train/myelocytes',\n",
        "        batch_size=1)\n",
        "\n",
        "neutrophils_generator = datagen.flow(\n",
        "        neutrophils_samples,\n",
        "        y_train[np.where(y_train == 'neutrophils')],\n",
        "        save_to_dir = BASE_DIR + '/train/neutrophils',\n",
        "        batch_size=1)\n"
      ],
      "metadata": {
        "id": "auR7C32OJibT"
      },
      "execution_count": 37,
      "outputs": []
    },
    {
      "cell_type": "markdown",
      "source": [
        "###Note:\n",
        "\n",
        "aim is to create 225 images for the majority class so that after applying SMOTE all the classes have 225 images\n",
        "\n",
        "a lot of times session got expired during modelling because the system RAM provided in Colab notebook got exhausted"
      ],
      "metadata": {
        "id": "JsjdCNczv-dC"
      }
    },
    {
      "cell_type": "code",
      "source": [
        "# aim is used to create total of 225 images of the majority class which is neutrophils\n",
        "# neutrophils has total 168 images before augmentation\n",
        "# hence, after augmentation, neutrophils will have total 168 + 82 = 250 images\n",
        "\n",
        "size_of_majority_class = 168\n",
        "num_of_augmentations = 225 - size_of_majority_class"
      ],
      "metadata": {
        "id": "UuWg_114cvQy"
      },
      "execution_count": 38,
      "outputs": []
    },
    {
      "cell_type": "code",
      "source": [
        "# creating new variations in the train dataset\n",
        "\n",
        "for i in range(num_of_augmentations):\n",
        "    next(basophils_generator)\n",
        "    next(bands_generator)\n",
        "    next(blasts_generator)\n",
        "    next(eosinophils_generator)\n",
        "    next(lymphocytes_generator)\n",
        "    next(monocytes_generator)\n",
        "    next(metamyelocytes_generator)\n",
        "    next(myelocytes_generator)\n",
        "    next(neutrophils_generator)\n"
      ],
      "metadata": {
        "id": "4CfEtjwgJiWU"
      },
      "execution_count": 39,
      "outputs": []
    },
    {
      "cell_type": "code",
      "source": [],
      "metadata": {
        "id": "37QcaOkQ2BZL"
      },
      "execution_count": 39,
      "outputs": []
    },
    {
      "cell_type": "code",
      "source": [
        "datagen_simple = ImageDataGenerator()\n"
      ],
      "metadata": {
        "id": "gtUCc_EFJiYs"
      },
      "execution_count": 40,
      "outputs": []
    },
    {
      "cell_type": "code",
      "source": [
        "basophils_test_samples = X_test[np.where(y_test == 'basophils')]\n",
        "bands_test_samples = X_test[np.where(y_test == 'bands')]\n",
        "blasts_test_samples = X_test[np.where(y_test == 'blasts')]\n",
        "eosinophils_test_samples = X_test[np.where(y_test == 'eosinophils')]\n",
        "lymphocytes_test_samples = X_test[np.where(y_test == 'lymphocytes')]\n",
        "monocytes_test_samples = X_test[np.where(y_test == 'monocytes')]\n",
        "metamyelocytes_test_samples = X_test[np.where(y_test == 'metamyelocytes')]\n",
        "myelocytes_test_samples = X_test[np.where(y_test == 'myelocytes')]\n",
        "neutrophils_test_samples = X_test[np.where(y_test == 'neutrophils')]\n"
      ],
      "metadata": {
        "id": "09Vu7mw9JiT2"
      },
      "execution_count": 41,
      "outputs": []
    },
    {
      "cell_type": "code",
      "source": [
        "basophils_test_generator = datagen_simple.flow(\n",
        "        basophils_test_samples,\n",
        "        y_test[np.where(y_test == 'basophils')],\n",
        "        save_to_dir = BASE_DIR + '/test/basophils',\n",
        "        batch_size=1)\n",
        "\n",
        "bands_test_generator = datagen_simple.flow(\n",
        "        bands_test_samples,\n",
        "        y_test[np.where(y_test == 'bands')],\n",
        "        save_to_dir = BASE_DIR + '/test/bands',\n",
        "        batch_size=1)\n",
        "\n",
        "blasts_test_generator = datagen_simple.flow(\n",
        "        blasts_test_samples,\n",
        "        y_test[np.where(y_test == 'blasts')],\n",
        "        save_to_dir = BASE_DIR + '/test/blasts',\n",
        "        batch_size=1)\n",
        "\n",
        "eosinophils_test_generator = datagen_simple.flow(\n",
        "        eosinophils_test_samples,\n",
        "        y_test[np.where(y_test == 'eosinophils')],\n",
        "        save_to_dir = BASE_DIR + '/test/eosinophils',\n",
        "        batch_size=1)\n",
        "\n",
        "lymphocytes_test_generator = datagen_simple.flow(\n",
        "        lymphocytes_test_samples,\n",
        "        y_test[np.where(y_test == 'lymphocytes')],\n",
        "        save_to_dir = BASE_DIR + '/test/lymphocytes',\n",
        "        batch_size=1)\n",
        "\n",
        "monocytes_test_generator = datagen_simple.flow(\n",
        "        monocytes_test_samples,\n",
        "        y_test[np.where(y_test == 'monocytes')],\n",
        "        save_to_dir = BASE_DIR + '/test/monocytes',\n",
        "        batch_size=1)\n",
        "\n",
        "metamyelocytes_test_generator = datagen_simple.flow(\n",
        "        metamyelocytes_test_samples,\n",
        "        y_test[np.where(y_test == 'metamyelocytes')],\n",
        "        save_to_dir = BASE_DIR + '/test/metamyelocytes',\n",
        "        batch_size=1)\n",
        "\n",
        "myelocytes_test_generator = datagen_simple.flow(\n",
        "        myelocytes_test_samples,\n",
        "        y_test[np.where(y_test == 'myelocytes')],\n",
        "        save_to_dir = BASE_DIR + '/test/myelocytes',\n",
        "        batch_size=1)\n",
        "\n",
        "neutrophils_test_generator = datagen_simple.flow(\n",
        "        neutrophils_test_samples,\n",
        "        y_test[np.where(y_test == 'neutrophils')],\n",
        "        save_to_dir = BASE_DIR + '/test/neutrophils',\n",
        "        batch_size=1)\n"
      ],
      "metadata": {
        "id": "r1ClVbZwJiRZ"
      },
      "execution_count": 42,
      "outputs": []
    },
    {
      "cell_type": "code",
      "source": [
        "for i in range(len(basophils_test_samples)):\n",
        "    next(basophils_test_generator)\n",
        "\n",
        "for i in range(len(bands_test_samples)):\n",
        "    next(bands_test_generator)\n",
        "\n",
        "for i in range(len(blasts_test_samples)):\n",
        "    next(blasts_test_generator)\n",
        "\n",
        "for i in range(len(eosinophils_test_samples)):\n",
        "    next(eosinophils_test_generator)\n",
        "\n",
        "for i in range(len(lymphocytes_test_samples)):\n",
        "    next(lymphocytes_test_generator)\n",
        "\n",
        "for i in range(len(monocytes_test_samples)):\n",
        "    next(monocytes_test_generator)\n",
        "\n",
        "for i in range(len(metamyelocytes_test_samples)):\n",
        "    next(metamyelocytes_test_generator)\n",
        "\n",
        "for i in range(len(myelocytes_test_samples)):\n",
        "    next(myelocytes_test_generator)\n",
        "\n",
        "for i in range(len(neutrophils_test_samples)):\n",
        "    next(neutrophils_test_generator)\n"
      ],
      "metadata": {
        "id": "hesxX0HqJiOg"
      },
      "execution_count": 43,
      "outputs": []
    },
    {
      "cell_type": "code",
      "source": [],
      "metadata": {
        "id": "1SlJYlqx18yy"
      },
      "execution_count": 43,
      "outputs": []
    },
    {
      "cell_type": "markdown",
      "source": [
        "## Load the augmented training dataset\n",
        "\n",
        "to analyse the class distribution after augmentation\n",
        "\n"
      ],
      "metadata": {
        "id": "FozbIkmWfxbU"
      }
    },
    {
      "cell_type": "code",
      "source": [
        "# using the get_data method defined earlier to load the augmented training data\n",
        "\n",
        "X_train, y_train = get_data(BASE_DIR + '/train')\n",
        "X_test, y_test = get_data(BASE_DIR + '/test')\n"
      ],
      "metadata": {
        "id": "BTNcLOBcJiLt"
      },
      "execution_count": 44,
      "outputs": []
    },
    {
      "cell_type": "code",
      "source": [
        "# summarize the new class distribution in the augmented train dataset\n",
        "\n",
        "counter = Counter(y_train)\n",
        "print(counter)\n"
      ],
      "metadata": {
        "colab": {
          "base_uri": "https://localhost:8080/"
        },
        "id": "Ae1IE34dJiI1",
        "outputId": "7bbdfe09-4300-4cce-844f-26638659f14f"
      },
      "execution_count": 45,
      "outputs": [
        {
          "output_type": "stream",
          "name": "stdout",
          "text": [
            "Counter({'neutrophils': 225, 'lymphocytes': 209, 'monocytes': 81, 'bands': 78, 'eosinophils': 77, 'metamyelocytes': 77, 'myelocytes': 64, 'basophils': 63, 'blasts': 60})\n"
          ]
        }
      ]
    },
    {
      "cell_type": "code",
      "source": [
        "# visualize the new class distribution the augmented train dataset\n",
        "\n",
        "y_train_unique_counts = np.unique(y_train, return_counts=True)\n",
        "\n",
        "plt.title('Number of Images in each WBC type')\n",
        "plt.barh(y_train_unique_counts[0], y_train_unique_counts[1])\n",
        "plt.show()\n"
      ],
      "metadata": {
        "colab": {
          "base_uri": "https://localhost:8080/",
          "height": 452
        },
        "id": "jrKYYIk-LR5b",
        "outputId": "45c3987d-31a9-4666-a6a4-d8fb7c69f8f6"
      },
      "execution_count": 46,
      "outputs": [
        {
          "output_type": "display_data",
          "data": {
            "text/plain": [
              "<Figure size 640x480 with 1 Axes>"
            ],
            "image/png": "[encoded data removed]"
          },
          "metadata": {}
        }
      ]
    },
    {
      "cell_type": "code",
      "source": [],
      "metadata": {
        "id": "32LNaMWu1-n6"
      },
      "execution_count": 46,
      "outputs": []
    },
    {
      "cell_type": "markdown",
      "source": [
        "# Continued in the next notebook\n",
        "\n",
        "due to the computational resource limitation (System RAM = 12.7 GB) in the free version of Colab notebooks"
      ],
      "metadata": {
        "id": "SrvhOBv66mF1"
      }
    }
  ]
}