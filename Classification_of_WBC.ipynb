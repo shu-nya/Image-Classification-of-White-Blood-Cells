{
  "nbformat": 4,
  "nbformat_minor": 0,
  "metadata": {
    "colab": {
      "provenance": [],
      "gpuType": "T4",
      "mount_file_id": "1zVOrhRVTn2_TfY7T7O000lafLOdiMvhr",
      "authorship_tag": "ABX9TyMlWK/TJb9V4EjQN394xYOI",
      "include_colab_link": true
    },
    "kernelspec": {
      "name": "python3",
      "display_name": "Python 3"
    },
    "language_info": {
      "name": "python"
    },
    "accelerator": "GPU"
  },
  "cells": [
    {
      "cell_type": "markdown",
      "metadata": {
        "id": "view-in-github",
        "colab_type": "text"
      },
      "source": [
        "<a href=\"https://colab.research.google.com/github/shu-nya/Image-Classification-of-White-Blood-Cells/blob/main/Classification_of_WBC.ipynb\" target=\"_parent\"><img src=\"https://colab.research.google.com/assets/colab-badge.svg\" alt=\"Open In Colab\"/></a>"
      ]
    },
    {
      "cell_type": "code",
      "execution_count": 1,
      "metadata": {
        "id": "9ERkvCy2tNEo"
      },
      "outputs": [],
      "source": [
        "#pip install split-folders"
      ]
    },
    {
      "cell_type": "code",
      "source": [
        "from google.colab import drive\n",
        "drive.mount('/content/drive')"
      ],
      "metadata": {
        "colab": {
          "base_uri": "https://localhost:8080/"
        },
        "id": "aDtAFIbXIk1u",
        "outputId": "d8e57024-63de-4dd7-bfe4-4204b414d86a"
      },
      "execution_count": 1,
      "outputs": [
        {
          "output_type": "stream",
          "name": "stdout",
          "text": [
            "Drive already mounted at /content/drive; to attempt to forcibly remount, call drive.mount(\"/content/drive\", force_remount=True).\n"
          ]
        }
      ]
    },
    {
      "cell_type": "code",
      "execution_count": 2,
      "metadata": {
        "id": "u9mr0iSZAN0q"
      },
      "outputs": [],
      "source": [
        "import numpy as np\n",
        "from keras.models import Sequential\n",
        "from keras import applications\n",
        "from keras import optimizers\n",
        "from keras.layers import Dense, Dropout, Activation, Flatten\n",
        "from keras.layers import Input, Conv2D, MaxPooling2D, Lambda\n",
        "from keras.layers import Dense\n",
        "from keras.models import Model\n",
        "from keras.wrappers.scikit_learn import KerasClassifier\n",
        "from keras.utils import to_categorical\n",
        "from keras.utils import np_utils\n",
        "from keras.preprocessing.image import ImageDataGenerator\n",
        "from sklearn.model_selection import cross_val_score\n",
        "from sklearn.model_selection import KFold\n",
        "from sklearn.preprocessing import LabelEncoder\n",
        "from sklearn.pipeline import Pipeline\n",
        "from sklearn.model_selection import train_test_split\n",
        "from sklearn.metrics import roc_curve, auc\n",
        "from sklearn.utils import shuffle\n",
        "import csv\n",
        "import cv2\n",
        "import scipy\n",
        "import os\n",
        "from PIL import Image\n",
        "#import splitfolders\n",
        "import shutil"
      ]
    },
    {
      "cell_type": "code",
      "source": [
        "num_classes = 9\n",
        "epochs = 20\n",
        "\n",
        "BASE_DIR = '/content/drive/MyDrive/taskMedPrime'\n",
        "\n",
        "batch_size = 32"
      ],
      "metadata": {
        "id": "J0RYHeYMtSOD"
      },
      "execution_count": 3,
      "outputs": []
    },
    {
      "cell_type": "code",
      "source": [
        "classes = ['bands', 'basophils', 'blasts', 'eosinophils', 'lymphocytes', 'metamyelocytes', 'monocytes', 'myelocytes', 'neutrophils']\n",
        "\n",
        "for i in classes:\n",
        "\n",
        "    os.makedirs(BASE_DIR + '/train/' + i)\n",
        "\n",
        "    os.makedirs(BASE_DIR + '/test/' + i)\n",
        "\n",
        "    source = BASE_DIR + '/wbc/' + i\n",
        "\n",
        "    allFileNames = os.listdir(source)\n",
        "\n",
        "    np.random.shuffle(allFileNames)\n",
        "\n",
        "    test_ratio = 0.20\n",
        "\n",
        "    train_FileNames, test_FileNames = np.split(np.array(allFileNames),\n",
        "                                                      [int(len(allFileNames)* (1 - test_ratio))])\n",
        "\n",
        "\n",
        "    train_FileNames = [source + '/' + name for name in train_FileNames.tolist()]\n",
        "    test_FileNames = [source + '/' + name for name in test_FileNames.tolist()]\n",
        "\n",
        "\n",
        "    for name in train_FileNames:\n",
        "        shutil.copy(name, BASE_DIR +'/train/' + i)\n",
        "\n",
        "    for name in test_FileNames:\n",
        "        shutil.copy(name, BASE_DIR +'/test/' + i)"
      ],
      "metadata": {
        "id": "mFlLP806aJUZ"
      },
      "execution_count": 4,
      "outputs": []
    },
    {
      "cell_type": "code",
      "source": [
        "#splitfolders.fixed(BASE_DIR + '/' + 'wbc', output=\"output\", seed=1337, fixed=(100), oversample=True, group_prefix=None, move=True)"
      ],
      "metadata": {
        "id": "FQ8rw27BVgmG"
      },
      "execution_count": 6,
      "outputs": []
    },
    {
      "cell_type": "code",
      "source": [
        "#splitfolders.ratio(BASE_DIR + '/' + 'wbc', output=\"output\",\n",
        "#    seed=1337, ratio=(.8, .2), group_prefix=None, move=True)"
      ],
      "metadata": {
        "id": "vjykFgWXXqoO"
      },
      "execution_count": 7,
      "outputs": []
    },
    {
      "cell_type": "code",
      "source": [
        "def get_data(folder):\n",
        "    X = []\n",
        "    y = []\n",
        "\n",
        "    for wbc_type in os.listdir(folder):\n",
        "        if not wbc_type.startswith('.'):\n",
        "\n",
        "            for image_filename in os.listdir(folder + '/' + wbc_type):\n",
        "                img_file = cv2.imread(folder + '/' + wbc_type + '/' + image_filename)\n",
        "\n",
        "                if img_file is not None:\n",
        "                    img_arr = np.asarray(img_file)\n",
        "                    X.append(img_arr)\n",
        "                    y.append(wbc_type)\n",
        "\n",
        "    X = np.asarray(X)\n",
        "    y = np.asarray(y)\n",
        "    return X,y"
      ],
      "metadata": {
        "id": "sXaIDywW8Zs-"
      },
      "execution_count": 5,
      "outputs": []
    },
    {
      "cell_type": "code",
      "source": [
        "X_train, y_train = get_data(BASE_DIR + '/train')\n",
        "X_test, y_test = get_data(BASE_DIR + '/test')\n",
        "\n",
        "\n",
        "X_train = X_train * 1./255.\n",
        "X_test = X_test * 1./255.\n"
      ],
      "metadata": {
        "id": "DREfrgVJtcAp"
      },
      "execution_count": 6,
      "outputs": []
    },
    {
      "cell_type": "code",
      "source": [
        "print(len(X_train))"
      ],
      "metadata": {
        "colab": {
          "base_uri": "https://localhost:8080/"
        },
        "id": "4cOTts8_eDj5",
        "outputId": "5d02d145-0842-45da-d7dd-bc204b0d6734"
      },
      "execution_count": 7,
      "outputs": [
        {
          "output_type": "stream",
          "name": "stdout",
          "text": [
            "421\n"
          ]
        }
      ]
    },
    {
      "cell_type": "code",
      "source": [
        "print(len(y_train))"
      ],
      "metadata": {
        "colab": {
          "base_uri": "https://localhost:8080/"
        },
        "id": "EZLxY16LeM8O",
        "outputId": "d1519e83-04c7-4a5f-8b31-afe703e232c6"
      },
      "execution_count": 8,
      "outputs": [
        {
          "output_type": "stream",
          "name": "stdout",
          "text": [
            "421\n"
          ]
        }
      ]
    },
    {
      "cell_type": "code",
      "source": [
        "print(len(X_test))"
      ],
      "metadata": {
        "colab": {
          "base_uri": "https://localhost:8080/"
        },
        "id": "SODZ0epcgpWu",
        "outputId": "8780c9ef-49ac-45ab-8bdd-78339f2a1565"
      },
      "execution_count": 9,
      "outputs": [
        {
          "output_type": "stream",
          "name": "stdout",
          "text": [
            "107\n"
          ]
        }
      ]
    },
    {
      "cell_type": "code",
      "source": [
        "print(len(y_test))"
      ],
      "metadata": {
        "colab": {
          "base_uri": "https://localhost:8080/"
        },
        "id": "uUP8Z1V-guNc",
        "outputId": "ee11845c-af49-4ae2-ea43-826df8c6821e"
      },
      "execution_count": 10,
      "outputs": [
        {
          "output_type": "stream",
          "name": "stdout",
          "text": [
            "107\n"
          ]
        }
      ]
    },
    {
      "cell_type": "code",
      "source": [
        "#Convert labels to one hot encoding\n",
        "\n",
        "encoder = LabelEncoder()\n",
        "encoder.fit(y_train)\n",
        "encoded_y_train = encoder.transform(y_train)\n",
        "encoded_y_test = encoder.transform(y_test)\n",
        "\n",
        "y_train = np_utils.to_categorical(encoded_y_train)\n",
        "y_test = np_utils.to_categorical(encoded_y_test)\n"
      ],
      "metadata": {
        "id": "fySR3x8G0RRN"
      },
      "execution_count": 9,
      "outputs": []
    },
    {
      "cell_type": "code",
      "source": [
        "print(y_train)"
      ],
      "metadata": {
        "colab": {
          "base_uri": "https://localhost:8080/"
        },
        "id": "pBEeHXwk9GYF",
        "outputId": "88033310-187a-4890-d4a7-66ab8f1861d0"
      },
      "execution_count": 15,
      "outputs": [
        {
          "output_type": "stream",
          "name": "stdout",
          "text": [
            "[[1. 0. 0. ... 0. 0. 0.]\n",
            " [1. 0. 0. ... 0. 0. 0.]\n",
            " [1. 0. 0. ... 0. 0. 0.]\n",
            " ...\n",
            " [0. 0. 0. ... 0. 0. 1.]\n",
            " [0. 0. 0. ... 0. 0. 1.]\n",
            " [0. 0. 0. ... 0. 0. 1.]]\n"
          ]
        }
      ]
    },
    {
      "cell_type": "code",
      "source": [
        "print(y_test)"
      ],
      "metadata": {
        "colab": {
          "base_uri": "https://localhost:8080/"
        },
        "id": "OklgQ9rGsZFE",
        "outputId": "01cc7b1e-ccca-4710-bc94-012b38eeee22"
      },
      "execution_count": 16,
      "outputs": [
        {
          "output_type": "stream",
          "name": "stdout",
          "text": [
            "[[1. 0. 0. 0. 0. 0. 0. 0. 0.]\n",
            " [1. 0. 0. 0. 0. 0. 0. 0. 0.]\n",
            " [1. 0. 0. 0. 0. 0. 0. 0. 0.]\n",
            " [1. 0. 0. 0. 0. 0. 0. 0. 0.]\n",
            " [1. 0. 0. 0. 0. 0. 0. 0. 0.]\n",
            " [1. 0. 0. 0. 0. 0. 0. 0. 0.]\n",
            " [0. 1. 0. 0. 0. 0. 0. 0. 0.]\n",
            " [0. 1. 0. 0. 0. 0. 0. 0. 0.]\n",
            " [0. 0. 1. 0. 0. 0. 0. 0. 0.]\n",
            " [0. 0. 0. 1. 0. 0. 0. 0. 0.]\n",
            " [0. 0. 0. 1. 0. 0. 0. 0. 0.]\n",
            " [0. 0. 0. 1. 0. 0. 0. 0. 0.]\n",
            " [0. 0. 0. 1. 0. 0. 0. 0. 0.]\n",
            " [0. 0. 0. 1. 0. 0. 0. 0. 0.]\n",
            " [0. 0. 0. 0. 1. 0. 0. 0. 0.]\n",
            " [0. 0. 0. 0. 1. 0. 0. 0. 0.]\n",
            " [0. 0. 0. 0. 1. 0. 0. 0. 0.]\n",
            " [0. 0. 0. 0. 1. 0. 0. 0. 0.]\n",
            " [0. 0. 0. 0. 1. 0. 0. 0. 0.]\n",
            " [0. 0. 0. 0. 1. 0. 0. 0. 0.]\n",
            " [0. 0. 0. 0. 1. 0. 0. 0. 0.]\n",
            " [0. 0. 0. 0. 1. 0. 0. 0. 0.]\n",
            " [0. 0. 0. 0. 1. 0. 0. 0. 0.]\n",
            " [0. 0. 0. 0. 1. 0. 0. 0. 0.]\n",
            " [0. 0. 0. 0. 1. 0. 0. 0. 0.]\n",
            " [0. 0. 0. 0. 1. 0. 0. 0. 0.]\n",
            " [0. 0. 0. 0. 1. 0. 0. 0. 0.]\n",
            " [0. 0. 0. 0. 1. 0. 0. 0. 0.]\n",
            " [0. 0. 0. 0. 1. 0. 0. 0. 0.]\n",
            " [0. 0. 0. 0. 1. 0. 0. 0. 0.]\n",
            " [0. 0. 0. 0. 1. 0. 0. 0. 0.]\n",
            " [0. 0. 0. 0. 1. 0. 0. 0. 0.]\n",
            " [0. 0. 0. 0. 1. 0. 0. 0. 0.]\n",
            " [0. 0. 0. 0. 1. 0. 0. 0. 0.]\n",
            " [0. 0. 0. 0. 1. 0. 0. 0. 0.]\n",
            " [0. 0. 0. 0. 1. 0. 0. 0. 0.]\n",
            " [0. 0. 0. 0. 1. 0. 0. 0. 0.]\n",
            " [0. 0. 0. 0. 1. 0. 0. 0. 0.]\n",
            " [0. 0. 0. 0. 1. 0. 0. 0. 0.]\n",
            " [0. 0. 0. 0. 1. 0. 0. 0. 0.]\n",
            " [0. 0. 0. 0. 1. 0. 0. 0. 0.]\n",
            " [0. 0. 0. 0. 1. 0. 0. 0. 0.]\n",
            " [0. 0. 0. 0. 1. 0. 0. 0. 0.]\n",
            " [0. 0. 0. 0. 1. 0. 0. 0. 0.]\n",
            " [0. 0. 0. 0. 1. 0. 0. 0. 0.]\n",
            " [0. 0. 0. 0. 1. 0. 0. 0. 0.]\n",
            " [0. 0. 0. 0. 1. 0. 0. 0. 0.]\n",
            " [0. 0. 0. 0. 1. 0. 0. 0. 0.]\n",
            " [0. 0. 0. 0. 1. 0. 0. 0. 0.]\n",
            " [0. 0. 0. 0. 1. 0. 0. 0. 0.]\n",
            " [0. 0. 0. 0. 1. 0. 0. 0. 0.]\n",
            " [0. 0. 0. 0. 1. 0. 0. 0. 0.]\n",
            " [0. 0. 0. 0. 0. 1. 0. 0. 0.]\n",
            " [0. 0. 0. 0. 0. 1. 0. 0. 0.]\n",
            " [0. 0. 0. 0. 0. 1. 0. 0. 0.]\n",
            " [0. 0. 0. 0. 0. 1. 0. 0. 0.]\n",
            " [0. 0. 0. 0. 0. 1. 0. 0. 0.]\n",
            " [0. 0. 0. 0. 0. 0. 1. 0. 0.]\n",
            " [0. 0. 0. 0. 0. 0. 1. 0. 0.]\n",
            " [0. 0. 0. 0. 0. 0. 1. 0. 0.]\n",
            " [0. 0. 0. 0. 0. 0. 1. 0. 0.]\n",
            " [0. 0. 0. 0. 0. 0. 1. 0. 0.]\n",
            " [0. 0. 0. 0. 0. 0. 1. 0. 0.]\n",
            " [0. 0. 0. 0. 0. 0. 0. 1. 0.]\n",
            " [0. 0. 0. 0. 0. 0. 0. 1. 0.]\n",
            " [0. 0. 0. 0. 0. 0. 0. 0. 1.]\n",
            " [0. 0. 0. 0. 0. 0. 0. 0. 1.]\n",
            " [0. 0. 0. 0. 0. 0. 0. 0. 1.]\n",
            " [0. 0. 0. 0. 0. 0. 0. 0. 1.]\n",
            " [0. 0. 0. 0. 0. 0. 0. 0. 1.]\n",
            " [0. 0. 0. 0. 0. 0. 0. 0. 1.]\n",
            " [0. 0. 0. 0. 0. 0. 0. 0. 1.]\n",
            " [0. 0. 0. 0. 0. 0. 0. 0. 1.]\n",
            " [0. 0. 0. 0. 0. 0. 0. 0. 1.]\n",
            " [0. 0. 0. 0. 0. 0. 0. 0. 1.]\n",
            " [0. 0. 0. 0. 0. 0. 0. 0. 1.]\n",
            " [0. 0. 0. 0. 0. 0. 0. 0. 1.]\n",
            " [0. 0. 0. 0. 0. 0. 0. 0. 1.]\n",
            " [0. 0. 0. 0. 0. 0. 0. 0. 1.]\n",
            " [0. 0. 0. 0. 0. 0. 0. 0. 1.]\n",
            " [0. 0. 0. 0. 0. 0. 0. 0. 1.]\n",
            " [0. 0. 0. 0. 0. 0. 0. 0. 1.]\n",
            " [0. 0. 0. 0. 0. 0. 0. 0. 1.]\n",
            " [0. 0. 0. 0. 0. 0. 0. 0. 1.]\n",
            " [0. 0. 0. 0. 0. 0. 0. 0. 1.]\n",
            " [0. 0. 0. 0. 0. 0. 0. 0. 1.]\n",
            " [0. 0. 0. 0. 0. 0. 0. 0. 1.]\n",
            " [0. 0. 0. 0. 0. 0. 0. 0. 1.]\n",
            " [0. 0. 0. 0. 0. 0. 0. 0. 1.]\n",
            " [0. 0. 0. 0. 0. 0. 0. 0. 1.]\n",
            " [0. 0. 0. 0. 0. 0. 0. 0. 1.]\n",
            " [0. 0. 0. 0. 0. 0. 0. 0. 1.]\n",
            " [0. 0. 0. 0. 0. 0. 0. 0. 1.]\n",
            " [0. 0. 0. 0. 0. 0. 0. 0. 1.]\n",
            " [0. 0. 0. 0. 0. 0. 0. 0. 1.]\n",
            " [0. 0. 0. 0. 0. 0. 0. 0. 1.]\n",
            " [0. 0. 0. 0. 0. 0. 0. 0. 1.]\n",
            " [0. 0. 0. 0. 0. 0. 0. 0. 1.]\n",
            " [0. 0. 0. 0. 0. 0. 0. 0. 1.]\n",
            " [0. 0. 0. 0. 0. 0. 0. 0. 1.]\n",
            " [0. 0. 0. 0. 0. 0. 0. 0. 1.]\n",
            " [0. 0. 0. 0. 0. 0. 0. 0. 1.]\n",
            " [0. 0. 0. 0. 0. 0. 0. 0. 1.]\n",
            " [0. 0. 0. 0. 0. 0. 0. 0. 1.]\n",
            " [0. 0. 0. 0. 0. 0. 0. 0. 1.]\n",
            " [0. 0. 0. 0. 0. 0. 0. 0. 1.]\n",
            " [0. 0. 0. 0. 0. 0. 0. 0. 1.]]\n"
          ]
        }
      ]
    },
    {
      "cell_type": "code",
      "source": [
        "def get_model():\n",
        "    model = Sequential()\n",
        "    model.add(Lambda(lambda x: x/127.5 - 1., input_shape=(256, 256, 3), output_shape=(256, 256, 3)))\n",
        "    model.add(Conv2D(32, (3, 3), input_shape=(256, 356, 3)))\n",
        "    model.add(Activation('relu'))\n",
        "    model.add(MaxPooling2D(pool_size=(2, 2)))\n",
        "\n",
        "    model.add(Conv2D(32, (3, 3)))\n",
        "    model.add(Activation('relu'))\n",
        "    model.add(MaxPooling2D(pool_size=(2, 2)))\n",
        "\n",
        "    model.add(Conv2D(64, (3, 3)))\n",
        "    model.add(Activation('relu'))\n",
        "    model.add(MaxPooling2D(pool_size=(2, 2)))\n",
        "\n",
        "    model.add(Flatten())  # this converts our 3D feature maps to 1D feature vectors\n",
        "    model.add(Dense(64))\n",
        "    model.add(Activation('relu'))\n",
        "    model.add(Dropout(0.7))\n",
        "    model.add(Dense(num_classes))\n",
        "    model.add(Activation('softmax'))\n",
        "\n",
        "    model.compile(loss='categorical_crossentropy',\n",
        "                optimizer='Adam',\n",
        "                metrics=['accuracy'])\n",
        "\n",
        "    return model"
      ],
      "metadata": {
        "id": "bnUkbtK_9ZZl"
      },
      "execution_count": 17,
      "outputs": []
    },
    {
      "cell_type": "code",
      "source": [],
      "metadata": {
        "id": "4_OkaDQXR2PP"
      },
      "execution_count": null,
      "outputs": []
    },
    {
      "cell_type": "code",
      "source": [
        "def get_model():\n",
        "    model = Sequential()\n",
        "    model.add(Lambda(lambda x: x/127.5 - 1., input_shape=(256, 256, 3), output_shape=(256, 256, 3)))\n",
        "\n",
        "    # layer 1\n",
        "    model.add(Conv2D(32, (3, 3), input_shape=(256, 356, 3)))\n",
        "    model.add(Activation('relu'))\n",
        "    model.add(MaxPooling2D(pool_size=(2, 2)))\n",
        "    model.add(Dropout(rate=0.25))\n",
        "\n",
        "    # layer 2\n",
        "    model.add(Conv2D(64, (3, 3)))\n",
        "    model.add(Activation('relu'))\n",
        "    model.add(MaxPooling2D(pool_size=(2, 2)))\n",
        "    model.add(Dropout(rate=0.25))\n",
        "\n",
        "\n",
        "#    model.add(Conv2D(64, (3, 3)))\n",
        "#    model.add(Activation('relu'))\n",
        "#    model.add(MaxPooling2D(pool_size=(2, 2)))\n",
        "\n",
        "\n",
        "    # Fully connected network layer\n",
        "    model.add(Flatten())  # this converts our 3D feature maps to 1D feature vectors\n",
        "    model.add(Dense(128))\n",
        "    model.add(Activation('relu'))\n",
        "    model.add(Dropout(0.25))\n",
        "\n",
        "    # Output\n",
        "    model.add(Dense(9))\n",
        "    model.add(Activation('softmax'))\n",
        "\n",
        "    # Compile\n",
        "    model.compile(loss='categorical_crossentropy',\n",
        "                optimizer='Adam',\n",
        "                metrics=['accuracy'])\n",
        "\n",
        "    return model"
      ],
      "metadata": {
        "id": "fO_XWh1-YWNJ"
      },
      "execution_count": 22,
      "outputs": []
    },
    {
      "cell_type": "code",
      "source": [],
      "metadata": {
        "id": "TGh-paasb935"
      },
      "execution_count": null,
      "outputs": []
    },
    {
      "cell_type": "code",
      "source": [],
      "metadata": {
        "id": "nOROcqG8b9uQ"
      },
      "execution_count": null,
      "outputs": []
    },
    {
      "cell_type": "code",
      "source": [],
      "metadata": {
        "id": "HS-Haj0gcAAd"
      },
      "execution_count": null,
      "outputs": []
    },
    {
      "cell_type": "code",
      "source": [],
      "metadata": {
        "id": "2tYdIjGwb_xO"
      },
      "execution_count": null,
      "outputs": []
    },
    {
      "cell_type": "code",
      "source": [
        "def get_model():\n",
        "    model = Sequential()\n",
        "    model.add(Lambda(lambda x: x/127.5 - 1., input_shape=(256, 256, 3), output_shape=(256, 256, 3)))\n",
        "\n",
        "    # layer 1\n",
        "    model.add(Conv2D(32, kernel_size=(3, 3), padding='same', input_shape=(256, 356, 3)))\n",
        "    model.add(Activation('relu'))\n",
        "    model.add(MaxPooling2D(pool_size=(2, 2)))\n",
        "    model.add(Dropout(rate=0.25))\n",
        "\n",
        "    # layer 2\n",
        "    model.add(Conv2D(32, kernel_size=(3, 3), padding='same'))\n",
        "    model.add(Activation('relu'))\n",
        "    model.add(MaxPooling2D(pool_size=(2, 2)))\n",
        "    model.add(Dropout(rate=0.40))\n",
        "\n",
        "    # layer 3\n",
        "    model.add(Conv2D(64, kernel_size=(3, 3), padding='same'))\n",
        "    model.add(Activation('relu'))\n",
        "    model.add(MaxPooling2D(pool_size=(2, 2)))\n",
        "    model.add(Dropout(rate=0.40))\n",
        "\n",
        "\n",
        "    # Fully connected network layer\n",
        "    model.add(Flatten())  # this converts our 3D feature maps to 1D feature vectors\n",
        "    model.add(Dense(64))\n",
        "    model.add(Activation('relu'))\n",
        "    model.add(Dropout(0.40))\n",
        "\n",
        "    # Output\n",
        "    model.add(Dense(9))\n",
        "    model.add(Activation('softmax'))\n",
        "\n",
        "    # Compile\n",
        "    model.compile(loss='categorical_crossentropy',\n",
        "                optimizer='Adam',\n",
        "                metrics=['accuracy'])\n",
        "\n",
        "    return model"
      ],
      "metadata": {
        "id": "RCPJEwXYb_ll"
      },
      "execution_count": 10,
      "outputs": []
    },
    {
      "cell_type": "code",
      "source": [],
      "metadata": {
        "id": "pasaWhxnb_hl"
      },
      "execution_count": null,
      "outputs": []
    },
    {
      "cell_type": "code",
      "source": [],
      "metadata": {
        "id": "y3IT3xOWcIop"
      },
      "execution_count": null,
      "outputs": []
    },
    {
      "cell_type": "code",
      "source": [],
      "metadata": {
        "id": "WkkyBXhvcIXN"
      },
      "execution_count": null,
      "outputs": []
    },
    {
      "cell_type": "code",
      "source": [
        "#Input\n",
        "x_input = Input(shape=X_test.shape[1:])\n",
        "\n",
        "# Layer 1\n",
        "x = Conv2D(filters=32, kernel_size=3, activation='relu')(x_input)\n",
        "x = MaxPooling2D(pool_size=2)(x)\n",
        "x = Dropout(rate=0.25)(x)\n",
        "\n",
        "# Layer 2\n",
        "x = Conv2D(filters=64, kernel_size=3, activation='relu')(x)\n",
        "x = MaxPooling2D(pool_size=2)(x)\n",
        "x = Dropout(rate=0.25)(x)\n",
        "\n",
        "# Fully Connected Network layer\n",
        "x = Flatten()(x)\n",
        "x = Dense(units=128, activation='relu')(x)\n",
        "x = Dropout(rate=0.25)(x)\n",
        "\n",
        "# Output\n",
        "x = Dense(units=4, activation='softmax')(x)\n",
        "\n",
        "# Build model\n",
        "model1 = Model(inputs=x_input, outputs=x)"
      ],
      "metadata": {
        "id": "7Udl9Wc0R1o_"
      },
      "execution_count": 12,
      "outputs": []
    },
    {
      "cell_type": "code",
      "source": [
        "# Compile and Train Model\n",
        "\n",
        "model1.compile(loss='categorical_crossentropy', optimizer='Adam', metrics=['accuracy'])\n",
        "history1 = model1.fit(x=X_train, y=y_train, epochs=epoch, batch_size=64, validation_split=0.1, verbose=2)"
      ],
      "metadata": {
        "colab": {
          "base_uri": "https://localhost:8080/",
          "height": 936
        },
        "id": "-P3tqTPESV5-",
        "outputId": "015b4342-0179-446c-96ca-3ad6cf483106"
      },
      "execution_count": 13,
      "outputs": [
        {
          "output_type": "stream",
          "name": "stdout",
          "text": [
            "Epoch 1/150\n"
          ]
        },
        {
          "output_type": "error",
          "ename": "ValueError",
          "evalue": "ignored",
          "traceback": [
            "\u001b[0;31m---------------------------------------------------------------------------\u001b[0m",
            "\u001b[0;31mValueError\u001b[0m                                Traceback (most recent call last)",
            "\u001b[0;32m<ipython-input-13-2b2b96b3d0d1>\u001b[0m in \u001b[0;36m<cell line: 4>\u001b[0;34m()\u001b[0m\n\u001b[1;32m      2\u001b[0m \u001b[0;34m\u001b[0m\u001b[0m\n\u001b[1;32m      3\u001b[0m \u001b[0mmodel1\u001b[0m\u001b[0;34m.\u001b[0m\u001b[0mcompile\u001b[0m\u001b[0;34m(\u001b[0m\u001b[0mloss\u001b[0m\u001b[0;34m=\u001b[0m\u001b[0;34m'categorical_crossentropy'\u001b[0m\u001b[0;34m,\u001b[0m \u001b[0moptimizer\u001b[0m\u001b[0;34m=\u001b[0m\u001b[0;34m'Adam'\u001b[0m\u001b[0;34m,\u001b[0m \u001b[0mmetrics\u001b[0m\u001b[0;34m=\u001b[0m\u001b[0;34m[\u001b[0m\u001b[0;34m'accuracy'\u001b[0m\u001b[0;34m]\u001b[0m\u001b[0;34m)\u001b[0m\u001b[0;34m\u001b[0m\u001b[0;34m\u001b[0m\u001b[0m\n\u001b[0;32m----> 4\u001b[0;31m \u001b[0mhistory1\u001b[0m \u001b[0;34m=\u001b[0m \u001b[0mmodel1\u001b[0m\u001b[0;34m.\u001b[0m\u001b[0mfit\u001b[0m\u001b[0;34m(\u001b[0m\u001b[0mx\u001b[0m\u001b[0;34m=\u001b[0m\u001b[0mX_train\u001b[0m\u001b[0;34m,\u001b[0m \u001b[0my\u001b[0m\u001b[0;34m=\u001b[0m\u001b[0my_train\u001b[0m\u001b[0;34m,\u001b[0m \u001b[0mepochs\u001b[0m\u001b[0;34m=\u001b[0m\u001b[0;36m150\u001b[0m\u001b[0;34m,\u001b[0m \u001b[0mbatch_size\u001b[0m\u001b[0;34m=\u001b[0m\u001b[0;36m64\u001b[0m\u001b[0;34m,\u001b[0m \u001b[0mvalidation_split\u001b[0m\u001b[0;34m=\u001b[0m\u001b[0;36m0.1\u001b[0m\u001b[0;34m,\u001b[0m \u001b[0mverbose\u001b[0m\u001b[0;34m=\u001b[0m\u001b[0;36m2\u001b[0m\u001b[0;34m)\u001b[0m\u001b[0;34m\u001b[0m\u001b[0;34m\u001b[0m\u001b[0m\n\u001b[0m",
            "\u001b[0;32m/usr/local/lib/python3.10/dist-packages/keras/utils/traceback_utils.py\u001b[0m in \u001b[0;36merror_handler\u001b[0;34m(*args, **kwargs)\u001b[0m\n\u001b[1;32m     68\u001b[0m             \u001b[0;31m# To get the full stack trace, call:\u001b[0m\u001b[0;34m\u001b[0m\u001b[0;34m\u001b[0m\u001b[0m\n\u001b[1;32m     69\u001b[0m             \u001b[0;31m# `tf.debugging.disable_traceback_filtering()`\u001b[0m\u001b[0;34m\u001b[0m\u001b[0;34m\u001b[0m\u001b[0m\n\u001b[0;32m---> 70\u001b[0;31m             \u001b[0;32mraise\u001b[0m \u001b[0me\u001b[0m\u001b[0;34m.\u001b[0m\u001b[0mwith_traceback\u001b[0m\u001b[0;34m(\u001b[0m\u001b[0mfiltered_tb\u001b[0m\u001b[0;34m)\u001b[0m \u001b[0;32mfrom\u001b[0m \u001b[0;32mNone\u001b[0m\u001b[0;34m\u001b[0m\u001b[0;34m\u001b[0m\u001b[0m\n\u001b[0m\u001b[1;32m     71\u001b[0m         \u001b[0;32mfinally\u001b[0m\u001b[0;34m:\u001b[0m\u001b[0;34m\u001b[0m\u001b[0;34m\u001b[0m\u001b[0m\n\u001b[1;32m     72\u001b[0m             \u001b[0;32mdel\u001b[0m \u001b[0mfiltered_tb\u001b[0m\u001b[0;34m\u001b[0m\u001b[0;34m\u001b[0m\u001b[0m\n",
            "\u001b[0;32m/usr/local/lib/python3.10/dist-packages/keras/engine/training.py\u001b[0m in \u001b[0;36mtf__train_function\u001b[0;34m(iterator)\u001b[0m\n\u001b[1;32m     13\u001b[0m                 \u001b[0;32mtry\u001b[0m\u001b[0;34m:\u001b[0m\u001b[0;34m\u001b[0m\u001b[0;34m\u001b[0m\u001b[0m\n\u001b[1;32m     14\u001b[0m                     \u001b[0mdo_return\u001b[0m \u001b[0;34m=\u001b[0m \u001b[0;32mTrue\u001b[0m\u001b[0;34m\u001b[0m\u001b[0;34m\u001b[0m\u001b[0m\n\u001b[0;32m---> 15\u001b[0;31m                     \u001b[0mretval_\u001b[0m \u001b[0;34m=\u001b[0m \u001b[0mag__\u001b[0m\u001b[0;34m.\u001b[0m\u001b[0mconverted_call\u001b[0m\u001b[0;34m(\u001b[0m\u001b[0mag__\u001b[0m\u001b[0;34m.\u001b[0m\u001b[0mld\u001b[0m\u001b[0;34m(\u001b[0m\u001b[0mstep_function\u001b[0m\u001b[0;34m)\u001b[0m\u001b[0;34m,\u001b[0m \u001b[0;34m(\u001b[0m\u001b[0mag__\u001b[0m\u001b[0;34m.\u001b[0m\u001b[0mld\u001b[0m\u001b[0;34m(\u001b[0m\u001b[0mself\u001b[0m\u001b[0;34m)\u001b[0m\u001b[0;34m,\u001b[0m \u001b[0mag__\u001b[0m\u001b[0;34m.\u001b[0m\u001b[0mld\u001b[0m\u001b[0;34m(\u001b[0m\u001b[0miterator\u001b[0m\u001b[0;34m)\u001b[0m\u001b[0;34m)\u001b[0m\u001b[0;34m,\u001b[0m \u001b[0;32mNone\u001b[0m\u001b[0;34m,\u001b[0m \u001b[0mfscope\u001b[0m\u001b[0;34m)\u001b[0m\u001b[0;34m\u001b[0m\u001b[0;34m\u001b[0m\u001b[0m\n\u001b[0m\u001b[1;32m     16\u001b[0m                 \u001b[0;32mexcept\u001b[0m\u001b[0;34m:\u001b[0m\u001b[0;34m\u001b[0m\u001b[0;34m\u001b[0m\u001b[0m\n\u001b[1;32m     17\u001b[0m                     \u001b[0mdo_return\u001b[0m \u001b[0;34m=\u001b[0m \u001b[0;32mFalse\u001b[0m\u001b[0;34m\u001b[0m\u001b[0;34m\u001b[0m\u001b[0m\n",
            "\u001b[0;31mValueError\u001b[0m: in user code:\n\n    File \"/usr/local/lib/python3.10/dist-packages/keras/engine/training.py\", line 1284, in train_function  *\n        return step_function(self, iterator)\n    File \"/usr/local/lib/python3.10/dist-packages/keras/engine/training.py\", line 1268, in step_function  **\n        outputs = model.distribute_strategy.run(run_step, args=(data,))\n    File \"/usr/local/lib/python3.10/dist-packages/keras/engine/training.py\", line 1249, in run_step  **\n        outputs = model.train_step(data)\n    File \"/usr/local/lib/python3.10/dist-packages/keras/engine/training.py\", line 1051, in train_step\n        loss = self.compute_loss(x, y, y_pred, sample_weight)\n    File \"/usr/local/lib/python3.10/dist-packages/keras/engine/training.py\", line 1109, in compute_loss\n        return self.compiled_loss(\n    File \"/usr/local/lib/python3.10/dist-packages/keras/engine/compile_utils.py\", line 265, in __call__\n        loss_value = loss_obj(y_t, y_p, sample_weight=sw)\n    File \"/usr/local/lib/python3.10/dist-packages/keras/losses.py\", line 142, in __call__\n        losses = call_fn(y_true, y_pred)\n    File \"/usr/local/lib/python3.10/dist-packages/keras/losses.py\", line 268, in call  **\n        return ag_fn(y_true, y_pred, **self._fn_kwargs)\n    File \"/usr/local/lib/python3.10/dist-packages/keras/losses.py\", line 1984, in categorical_crossentropy\n        return backend.categorical_crossentropy(\n    File \"/usr/local/lib/python3.10/dist-packages/keras/backend.py\", line 5559, in categorical_crossentropy\n        target.shape.assert_is_compatible_with(output.shape)\n\n    ValueError: Shapes (None, 9) and (None, 4) are incompatible\n"
          ]
        }
      ]
    },
    {
      "cell_type": "code",
      "source": [
        "# Test Trained Model on Test Data\n",
        "\n",
        "y1_predict = model1.predict(X_test).argmax(axis=1)\n",
        "model1_test_acc = (y1_predict == y_test).sum()/(y1_predict.shape[0])"
      ],
      "metadata": {
        "id": "Zao5u3_CSW6F"
      },
      "execution_count": null,
      "outputs": []
    },
    {
      "cell_type": "code",
      "source": [],
      "metadata": {
        "id": "YAPtTwWhSW1l"
      },
      "execution_count": null,
      "outputs": []
    },
    {
      "cell_type": "code",
      "source": [
        "model = get_model()\n",
        "\n",
        "# fits the model on batches\n",
        "model.fit(\n",
        "    X_train,\n",
        "    y_train,\n",
        "    validation_split=0.1,\n",
        "    epochs=150,\n",
        "    shuffle=True,\n",
        "    batch_size=64,\n",
        "    verbose=2)\n",
        "\n",
        "model.save_weights('balanced_model_2.h5')"
      ],
      "metadata": {
        "colab": {
          "base_uri": "https://localhost:8080/"
        },
        "id": "LZME3OKD9HEc",
        "outputId": "d1e9bad6-f469-4425-a1cf-5bac279c7d31"
      },
      "execution_count": 11,
      "outputs": [
        {
          "output_type": "stream",
          "name": "stdout",
          "text": [
            "Epoch 1/150\n",
            "6/6 - 16s - loss: 5.6501 - accuracy: 0.2513 - val_loss: 2.1382 - val_accuracy: 0.0000e+00 - 16s/epoch - 3s/step\n",
            "Epoch 2/150\n",
            "6/6 - 1s - loss: 1.8418 - accuracy: 0.2857 - val_loss: 1.9497 - val_accuracy: 0.0000e+00 - 1s/epoch - 195ms/step\n",
            "Epoch 3/150\n",
            "6/6 - 1s - loss: 1.7592 - accuracy: 0.3333 - val_loss: 1.8972 - val_accuracy: 0.0000e+00 - 1s/epoch - 179ms/step\n",
            "Epoch 4/150\n",
            "6/6 - 1s - loss: 1.7381 - accuracy: 0.3783 - val_loss: 1.9598 - val_accuracy: 0.0000e+00 - 1s/epoch - 174ms/step\n",
            "Epoch 5/150\n",
            "6/6 - 1s - loss: 1.7477 - accuracy: 0.3624 - val_loss: 1.9621 - val_accuracy: 0.0000e+00 - 1s/epoch - 175ms/step\n",
            "Epoch 6/150\n",
            "6/6 - 1s - loss: 1.7551 - accuracy: 0.3651 - val_loss: 2.0299 - val_accuracy: 0.0000e+00 - 1s/epoch - 177ms/step\n",
            "Epoch 7/150\n",
            "6/6 - 1s - loss: 1.7215 - accuracy: 0.3889 - val_loss: 1.8967 - val_accuracy: 0.0000e+00 - 1s/epoch - 173ms/step\n",
            "Epoch 8/150\n",
            "6/6 - 1s - loss: 1.7263 - accuracy: 0.3466 - val_loss: 2.0645 - val_accuracy: 0.0000e+00 - 1s/epoch - 173ms/step\n",
            "Epoch 9/150\n",
            "6/6 - 1s - loss: 1.7078 - accuracy: 0.3386 - val_loss: 1.8848 - val_accuracy: 0.0000e+00 - 1s/epoch - 176ms/step\n",
            "Epoch 10/150\n",
            "6/6 - 1s - loss: 1.7155 - accuracy: 0.3492 - val_loss: 2.0151 - val_accuracy: 0.0000e+00 - 1s/epoch - 179ms/step\n",
            "Epoch 11/150\n",
            "6/6 - 1s - loss: 1.7183 - accuracy: 0.3651 - val_loss: 1.9672 - val_accuracy: 0.0000e+00 - 1s/epoch - 178ms/step\n",
            "Epoch 12/150\n",
            "6/6 - 1s - loss: 1.6660 - accuracy: 0.3624 - val_loss: 1.9650 - val_accuracy: 0.0000e+00 - 1s/epoch - 182ms/step\n",
            "Epoch 13/150\n",
            "6/6 - 1s - loss: 1.6838 - accuracy: 0.3624 - val_loss: 1.9979 - val_accuracy: 0.0000e+00 - 1s/epoch - 188ms/step\n",
            "Epoch 14/150\n",
            "6/6 - 1s - loss: 1.6940 - accuracy: 0.3413 - val_loss: 1.9924 - val_accuracy: 0.0000e+00 - 1s/epoch - 187ms/step\n",
            "Epoch 15/150\n",
            "6/6 - 1s - loss: 1.7007 - accuracy: 0.3624 - val_loss: 1.9856 - val_accuracy: 0.0000e+00 - 1s/epoch - 183ms/step\n",
            "Epoch 16/150\n",
            "6/6 - 1s - loss: 1.6853 - accuracy: 0.3571 - val_loss: 1.9841 - val_accuracy: 0.0000e+00 - 1s/epoch - 175ms/step\n",
            "Epoch 17/150\n",
            "6/6 - 1s - loss: 1.6906 - accuracy: 0.3915 - val_loss: 1.9734 - val_accuracy: 0.0000e+00 - 1s/epoch - 175ms/step\n",
            "Epoch 18/150\n",
            "6/6 - 1s - loss: 1.6568 - accuracy: 0.4021 - val_loss: 1.8891 - val_accuracy: 0.0000e+00 - 1s/epoch - 175ms/step\n",
            "Epoch 19/150\n",
            "6/6 - 1s - loss: 1.6399 - accuracy: 0.3704 - val_loss: 2.0017 - val_accuracy: 0.0000e+00 - 1s/epoch - 178ms/step\n",
            "Epoch 20/150\n",
            "6/6 - 1s - loss: 1.6471 - accuracy: 0.3598 - val_loss: 1.8649 - val_accuracy: 0.0000e+00 - 1s/epoch - 177ms/step\n",
            "Epoch 21/150\n",
            "6/6 - 1s - loss: 1.7081 - accuracy: 0.3519 - val_loss: 1.9469 - val_accuracy: 0.0000e+00 - 1s/epoch - 175ms/step\n",
            "Epoch 22/150\n",
            "6/6 - 1s - loss: 1.6930 - accuracy: 0.3810 - val_loss: 1.9475 - val_accuracy: 0.0000e+00 - 1s/epoch - 174ms/step\n",
            "Epoch 23/150\n",
            "6/6 - 1s - loss: 1.6492 - accuracy: 0.3545 - val_loss: 1.8357 - val_accuracy: 0.0000e+00 - 1s/epoch - 174ms/step\n",
            "Epoch 24/150\n",
            "6/6 - 1s - loss: 1.6713 - accuracy: 0.3704 - val_loss: 1.9490 - val_accuracy: 0.0000e+00 - 1s/epoch - 174ms/step\n",
            "Epoch 25/150\n",
            "6/6 - 1s - loss: 1.6297 - accuracy: 0.3889 - val_loss: 1.8890 - val_accuracy: 0.0000e+00 - 1s/epoch - 190ms/step\n",
            "Epoch 26/150\n",
            "6/6 - 1s - loss: 1.6600 - accuracy: 0.4101 - val_loss: 1.9206 - val_accuracy: 0.0000e+00 - 1s/epoch - 185ms/step\n",
            "Epoch 27/150\n",
            "6/6 - 1s - loss: 1.6498 - accuracy: 0.3545 - val_loss: 1.9262 - val_accuracy: 0.0000e+00 - 1s/epoch - 188ms/step\n",
            "Epoch 28/150\n",
            "6/6 - 1s - loss: 1.6454 - accuracy: 0.3810 - val_loss: 1.9013 - val_accuracy: 0.0000e+00 - 1s/epoch - 176ms/step\n",
            "Epoch 29/150\n",
            "6/6 - 1s - loss: 1.6646 - accuracy: 0.3624 - val_loss: 1.9489 - val_accuracy: 0.0000e+00 - 1s/epoch - 177ms/step\n",
            "Epoch 30/150\n",
            "6/6 - 1s - loss: 1.6401 - accuracy: 0.3862 - val_loss: 1.9085 - val_accuracy: 0.0000e+00 - 1s/epoch - 173ms/step\n",
            "Epoch 31/150\n",
            "6/6 - 1s - loss: 1.6491 - accuracy: 0.3651 - val_loss: 1.8738 - val_accuracy: 0.0000e+00 - 1s/epoch - 174ms/step\n",
            "Epoch 32/150\n",
            "6/6 - 1s - loss: 1.6287 - accuracy: 0.3810 - val_loss: 1.8915 - val_accuracy: 0.0000e+00 - 1s/epoch - 177ms/step\n",
            "Epoch 33/150\n",
            "6/6 - 1s - loss: 1.6476 - accuracy: 0.4048 - val_loss: 1.8059 - val_accuracy: 0.0000e+00 - 1s/epoch - 174ms/step\n",
            "Epoch 34/150\n",
            "6/6 - 1s - loss: 1.6585 - accuracy: 0.3704 - val_loss: 1.8777 - val_accuracy: 0.0000e+00 - 1s/epoch - 174ms/step\n",
            "Epoch 35/150\n",
            "6/6 - 1s - loss: 1.6452 - accuracy: 0.3757 - val_loss: 1.9331 - val_accuracy: 0.0000e+00 - 1s/epoch - 172ms/step\n",
            "Epoch 36/150\n",
            "6/6 - 1s - loss: 1.6472 - accuracy: 0.3942 - val_loss: 1.8383 - val_accuracy: 0.0000e+00 - 1s/epoch - 175ms/step\n",
            "Epoch 37/150\n",
            "6/6 - 1s - loss: 1.6626 - accuracy: 0.3889 - val_loss: 1.9403 - val_accuracy: 0.0000e+00 - 1s/epoch - 183ms/step\n",
            "Epoch 38/150\n",
            "6/6 - 1s - loss: 1.6623 - accuracy: 0.3915 - val_loss: 1.8277 - val_accuracy: 0.0000e+00 - 1s/epoch - 184ms/step\n",
            "Epoch 39/150\n",
            "6/6 - 1s - loss: 1.6405 - accuracy: 0.3968 - val_loss: 1.8089 - val_accuracy: 0.0000e+00 - 1s/epoch - 189ms/step\n",
            "Epoch 40/150\n",
            "6/6 - 1s - loss: 1.6646 - accuracy: 0.3704 - val_loss: 1.8932 - val_accuracy: 0.0000e+00 - 1s/epoch - 182ms/step\n",
            "Epoch 41/150\n",
            "6/6 - 1s - loss: 1.6424 - accuracy: 0.3783 - val_loss: 1.7596 - val_accuracy: 0.0000e+00 - 1s/epoch - 172ms/step\n",
            "Epoch 42/150\n",
            "6/6 - 1s - loss: 1.6702 - accuracy: 0.3862 - val_loss: 1.8587 - val_accuracy: 0.0000e+00 - 1s/epoch - 172ms/step\n",
            "Epoch 43/150\n",
            "6/6 - 1s - loss: 1.6568 - accuracy: 0.3836 - val_loss: 1.8714 - val_accuracy: 0.0000e+00 - 1s/epoch - 172ms/step\n",
            "Epoch 44/150\n",
            "6/6 - 1s - loss: 1.6416 - accuracy: 0.3677 - val_loss: 1.7530 - val_accuracy: 0.0000e+00 - 1s/epoch - 172ms/step\n",
            "Epoch 45/150\n",
            "6/6 - 1s - loss: 1.6741 - accuracy: 0.3810 - val_loss: 1.8444 - val_accuracy: 0.0000e+00 - 1s/epoch - 172ms/step\n",
            "Epoch 46/150\n",
            "6/6 - 1s - loss: 1.5991 - accuracy: 0.3783 - val_loss: 1.7584 - val_accuracy: 0.0000e+00 - 1s/epoch - 176ms/step\n",
            "Epoch 47/150\n",
            "6/6 - 1s - loss: 1.6413 - accuracy: 0.3995 - val_loss: 1.7991 - val_accuracy: 0.0000e+00 - 1s/epoch - 176ms/step\n",
            "Epoch 48/150\n",
            "6/6 - 1s - loss: 1.6338 - accuracy: 0.3757 - val_loss: 1.8052 - val_accuracy: 0.0000e+00 - 1s/epoch - 175ms/step\n",
            "Epoch 49/150\n",
            "6/6 - 1s - loss: 1.6368 - accuracy: 0.3889 - val_loss: 1.7196 - val_accuracy: 0.0000e+00 - 1s/epoch - 204ms/step\n",
            "Epoch 50/150\n",
            "6/6 - 1s - loss: 1.6238 - accuracy: 0.3995 - val_loss: 1.7969 - val_accuracy: 0.0000e+00 - 1s/epoch - 186ms/step\n",
            "Epoch 51/150\n",
            "6/6 - 1s - loss: 1.6607 - accuracy: 0.3915 - val_loss: 1.8071 - val_accuracy: 0.0000e+00 - 1s/epoch - 187ms/step\n",
            "Epoch 52/150\n",
            "6/6 - 1s - loss: 1.6378 - accuracy: 0.4021 - val_loss: 1.7549 - val_accuracy: 0.0000e+00 - 1s/epoch - 189ms/step\n",
            "Epoch 53/150\n",
            "6/6 - 1s - loss: 1.6448 - accuracy: 0.3862 - val_loss: 1.8301 - val_accuracy: 0.0000e+00 - 1s/epoch - 179ms/step\n",
            "Epoch 54/150\n",
            "6/6 - 1s - loss: 1.6062 - accuracy: 0.3915 - val_loss: 1.7440 - val_accuracy: 0.0000e+00 - 1s/epoch - 175ms/step\n",
            "Epoch 55/150\n",
            "6/6 - 1s - loss: 1.6175 - accuracy: 0.3492 - val_loss: 1.7442 - val_accuracy: 0.0000e+00 - 1s/epoch - 172ms/step\n",
            "Epoch 56/150\n",
            "6/6 - 1s - loss: 1.6381 - accuracy: 0.3704 - val_loss: 1.8254 - val_accuracy: 0.0000e+00 - 1s/epoch - 178ms/step\n",
            "Epoch 57/150\n",
            "6/6 - 1s - loss: 1.6104 - accuracy: 0.4074 - val_loss: 1.7273 - val_accuracy: 0.0000e+00 - 1s/epoch - 173ms/step\n",
            "Epoch 58/150\n",
            "6/6 - 1s - loss: 1.6113 - accuracy: 0.4074 - val_loss: 1.7655 - val_accuracy: 0.0000e+00 - 1s/epoch - 175ms/step\n",
            "Epoch 59/150\n",
            "6/6 - 1s - loss: 1.6444 - accuracy: 0.3810 - val_loss: 1.8198 - val_accuracy: 0.0000e+00 - 1s/epoch - 172ms/step\n",
            "Epoch 60/150\n",
            "6/6 - 1s - loss: 1.6202 - accuracy: 0.3677 - val_loss: 1.7148 - val_accuracy: 0.0000e+00 - 1s/epoch - 174ms/step\n",
            "Epoch 61/150\n",
            "6/6 - 1s - loss: 1.6022 - accuracy: 0.4048 - val_loss: 1.7268 - val_accuracy: 0.0000e+00 - 1s/epoch - 172ms/step\n",
            "Epoch 62/150\n",
            "6/6 - 1s - loss: 1.6081 - accuracy: 0.4101 - val_loss: 1.7328 - val_accuracy: 0.0000e+00 - 1s/epoch - 179ms/step\n",
            "Epoch 63/150\n",
            "6/6 - 1s - loss: 1.6385 - accuracy: 0.4048 - val_loss: 1.7954 - val_accuracy: 0.0000e+00 - 1s/epoch - 188ms/step\n",
            "Epoch 64/150\n",
            "6/6 - 1s - loss: 1.6088 - accuracy: 0.3915 - val_loss: 1.7315 - val_accuracy: 0.0000e+00 - 1s/epoch - 190ms/step\n",
            "Epoch 65/150\n",
            "6/6 - 1s - loss: 1.5926 - accuracy: 0.4101 - val_loss: 1.7071 - val_accuracy: 0.0000e+00 - 1s/epoch - 204ms/step\n",
            "Epoch 66/150\n",
            "6/6 - 1s - loss: 1.6370 - accuracy: 0.3889 - val_loss: 1.7703 - val_accuracy: 0.0000e+00 - 1s/epoch - 194ms/step\n",
            "Epoch 67/150\n",
            "6/6 - 1s - loss: 1.6197 - accuracy: 0.3915 - val_loss: 1.7670 - val_accuracy: 0.0000e+00 - 1s/epoch - 187ms/step\n",
            "Epoch 68/150\n",
            "6/6 - 1s - loss: 1.6079 - accuracy: 0.3995 - val_loss: 1.7295 - val_accuracy: 0.0000e+00 - 1s/epoch - 173ms/step\n",
            "Epoch 69/150\n",
            "6/6 - 1s - loss: 1.6203 - accuracy: 0.3862 - val_loss: 1.7224 - val_accuracy: 0.0000e+00 - 1s/epoch - 176ms/step\n",
            "Epoch 70/150\n",
            "6/6 - 1s - loss: 1.5917 - accuracy: 0.4048 - val_loss: 1.7244 - val_accuracy: 0.0000e+00 - 1s/epoch - 171ms/step\n",
            "Epoch 71/150\n",
            "6/6 - 1s - loss: 1.5923 - accuracy: 0.3915 - val_loss: 1.7042 - val_accuracy: 0.0000e+00 - 1s/epoch - 174ms/step\n",
            "Epoch 72/150\n",
            "6/6 - 1s - loss: 1.6343 - accuracy: 0.3995 - val_loss: 1.7381 - val_accuracy: 0.0000e+00 - 1s/epoch - 173ms/step\n",
            "Epoch 73/150\n",
            "6/6 - 1s - loss: 1.6294 - accuracy: 0.4101 - val_loss: 1.7352 - val_accuracy: 0.0000e+00 - 1s/epoch - 176ms/step\n",
            "Epoch 74/150\n",
            "6/6 - 1s - loss: 1.6232 - accuracy: 0.3915 - val_loss: 1.7226 - val_accuracy: 0.0000e+00 - 1s/epoch - 177ms/step\n",
            "Epoch 75/150\n",
            "6/6 - 1s - loss: 1.6167 - accuracy: 0.3942 - val_loss: 1.7101 - val_accuracy: 0.0000e+00 - 1s/epoch - 187ms/step\n",
            "Epoch 76/150\n",
            "6/6 - 1s - loss: 1.5886 - accuracy: 0.4021 - val_loss: 1.6916 - val_accuracy: 0.0000e+00 - 1s/epoch - 184ms/step\n",
            "Epoch 77/150\n",
            "6/6 - 1s - loss: 1.6193 - accuracy: 0.3942 - val_loss: 1.6954 - val_accuracy: 0.0000e+00 - 1s/epoch - 190ms/step\n",
            "Epoch 78/150\n",
            "6/6 - 1s - loss: 1.6140 - accuracy: 0.4127 - val_loss: 1.7424 - val_accuracy: 0.0000e+00 - 1s/epoch - 171ms/step\n",
            "Epoch 79/150\n",
            "6/6 - 1s - loss: 1.6265 - accuracy: 0.4101 - val_loss: 1.6645 - val_accuracy: 0.0000e+00 - 1s/epoch - 173ms/step\n",
            "Epoch 80/150\n",
            "6/6 - 1s - loss: 1.5985 - accuracy: 0.3836 - val_loss: 1.7205 - val_accuracy: 0.0000e+00 - 1s/epoch - 173ms/step\n",
            "Epoch 81/150\n",
            "6/6 - 1s - loss: 1.6193 - accuracy: 0.4127 - val_loss: 1.7305 - val_accuracy: 0.0000e+00 - 1s/epoch - 173ms/step\n",
            "Epoch 82/150\n",
            "6/6 - 1s - loss: 1.6211 - accuracy: 0.3836 - val_loss: 1.6661 - val_accuracy: 0.0000e+00 - 1s/epoch - 173ms/step\n",
            "Epoch 83/150\n",
            "6/6 - 1s - loss: 1.6055 - accuracy: 0.4074 - val_loss: 1.6953 - val_accuracy: 0.0000e+00 - 1s/epoch - 174ms/step\n",
            "Epoch 84/150\n",
            "6/6 - 1s - loss: 1.6260 - accuracy: 0.4048 - val_loss: 1.7240 - val_accuracy: 0.0000e+00 - 1s/epoch - 172ms/step\n",
            "Epoch 85/150\n",
            "6/6 - 1s - loss: 1.6260 - accuracy: 0.3862 - val_loss: 1.6675 - val_accuracy: 0.0000e+00 - 1s/epoch - 172ms/step\n",
            "Epoch 86/150\n",
            "6/6 - 1s - loss: 1.5777 - accuracy: 0.4048 - val_loss: 1.6617 - val_accuracy: 0.0000e+00 - 1s/epoch - 176ms/step\n",
            "Epoch 87/150\n",
            "6/6 - 1s - loss: 1.5872 - accuracy: 0.3968 - val_loss: 1.7078 - val_accuracy: 0.0000e+00 - 1s/epoch - 178ms/step\n",
            "Epoch 88/150\n",
            "6/6 - 1s - loss: 1.6172 - accuracy: 0.3889 - val_loss: 1.7238 - val_accuracy: 0.0000e+00 - 1s/epoch - 217ms/step\n",
            "Epoch 89/150\n",
            "6/6 - 1s - loss: 1.6005 - accuracy: 0.3942 - val_loss: 1.6335 - val_accuracy: 0.0000e+00 - 1s/epoch - 220ms/step\n",
            "Epoch 90/150\n",
            "6/6 - 1s - loss: 1.6257 - accuracy: 0.4074 - val_loss: 1.6905 - val_accuracy: 0.0000e+00 - 1s/epoch - 183ms/step\n",
            "Epoch 91/150\n",
            "6/6 - 1s - loss: 1.6281 - accuracy: 0.4153 - val_loss: 1.7167 - val_accuracy: 0.0000e+00 - 1s/epoch - 174ms/step\n",
            "Epoch 92/150\n",
            "6/6 - 1s - loss: 1.6295 - accuracy: 0.4021 - val_loss: 1.6653 - val_accuracy: 0.0000e+00 - 1s/epoch - 173ms/step\n",
            "Epoch 93/150\n",
            "6/6 - 1s - loss: 1.5957 - accuracy: 0.3968 - val_loss: 1.6916 - val_accuracy: 0.0000e+00 - 1s/epoch - 173ms/step\n",
            "Epoch 94/150\n",
            "6/6 - 1s - loss: 1.5929 - accuracy: 0.3995 - val_loss: 1.6710 - val_accuracy: 0.0000e+00 - 1s/epoch - 173ms/step\n",
            "Epoch 95/150\n",
            "6/6 - 1s - loss: 1.6214 - accuracy: 0.4021 - val_loss: 1.7081 - val_accuracy: 0.0000e+00 - 1s/epoch - 175ms/step\n",
            "Epoch 96/150\n",
            "6/6 - 1s - loss: 1.6093 - accuracy: 0.4021 - val_loss: 1.6875 - val_accuracy: 0.0000e+00 - 1s/epoch - 172ms/step\n",
            "Epoch 97/150\n",
            "6/6 - 1s - loss: 1.5946 - accuracy: 0.4021 - val_loss: 1.6858 - val_accuracy: 0.0000e+00 - 1s/epoch - 174ms/step\n",
            "Epoch 98/150\n",
            "6/6 - 1s - loss: 1.5865 - accuracy: 0.4021 - val_loss: 1.6456 - val_accuracy: 0.0000e+00 - 1s/epoch - 173ms/step\n",
            "Epoch 99/150\n",
            "6/6 - 1s - loss: 1.6103 - accuracy: 0.4021 - val_loss: 1.6749 - val_accuracy: 0.0000e+00 - 1s/epoch - 175ms/step\n",
            "Epoch 100/150\n",
            "6/6 - 1s - loss: 1.6082 - accuracy: 0.4074 - val_loss: 1.6819 - val_accuracy: 0.0000e+00 - 1s/epoch - 187ms/step\n",
            "Epoch 101/150\n",
            "6/6 - 1s - loss: 1.6283 - accuracy: 0.3968 - val_loss: 1.6917 - val_accuracy: 0.0000e+00 - 1s/epoch - 193ms/step\n",
            "Epoch 102/150\n",
            "6/6 - 1s - loss: 1.6087 - accuracy: 0.3995 - val_loss: 1.6523 - val_accuracy: 0.0000e+00 - 1s/epoch - 187ms/step\n",
            "Epoch 103/150\n",
            "6/6 - 1s - loss: 1.6189 - accuracy: 0.3995 - val_loss: 1.6476 - val_accuracy: 0.0000e+00 - 1s/epoch - 174ms/step\n",
            "Epoch 104/150\n",
            "6/6 - 1s - loss: 1.5999 - accuracy: 0.3995 - val_loss: 1.6426 - val_accuracy: 0.0000e+00 - 1s/epoch - 176ms/step\n",
            "Epoch 105/150\n",
            "6/6 - 1s - loss: 1.6136 - accuracy: 0.4127 - val_loss: 1.6727 - val_accuracy: 0.0000e+00 - 1s/epoch - 174ms/step\n",
            "Epoch 106/150\n",
            "6/6 - 1s - loss: 1.5932 - accuracy: 0.3889 - val_loss: 1.6412 - val_accuracy: 0.0000e+00 - 1s/epoch - 172ms/step\n",
            "Epoch 107/150\n",
            "6/6 - 1s - loss: 1.6213 - accuracy: 0.4021 - val_loss: 1.6308 - val_accuracy: 0.0000e+00 - 1s/epoch - 173ms/step\n",
            "Epoch 108/150\n",
            "6/6 - 1s - loss: 1.6113 - accuracy: 0.4021 - val_loss: 1.6400 - val_accuracy: 0.0000e+00 - 1s/epoch - 173ms/step\n",
            "Epoch 109/150\n",
            "6/6 - 1s - loss: 1.6128 - accuracy: 0.3942 - val_loss: 1.6562 - val_accuracy: 0.0000e+00 - 1s/epoch - 173ms/step\n",
            "Epoch 110/150\n",
            "6/6 - 1s - loss: 1.6002 - accuracy: 0.4048 - val_loss: 1.6299 - val_accuracy: 0.0000e+00 - 1s/epoch - 174ms/step\n",
            "Epoch 111/150\n",
            "6/6 - 1s - loss: 1.5928 - accuracy: 0.4021 - val_loss: 1.6333 - val_accuracy: 0.0000e+00 - 1s/epoch - 175ms/step\n",
            "Epoch 112/150\n",
            "6/6 - 1s - loss: 1.6171 - accuracy: 0.3995 - val_loss: 1.6552 - val_accuracy: 0.0000e+00 - 1s/epoch - 179ms/step\n",
            "Epoch 113/150\n",
            "6/6 - 1s - loss: 1.5930 - accuracy: 0.4021 - val_loss: 1.6473 - val_accuracy: 0.0000e+00 - 1s/epoch - 193ms/step\n",
            "Epoch 114/150\n",
            "6/6 - 1s - loss: 1.6038 - accuracy: 0.4021 - val_loss: 1.6284 - val_accuracy: 0.0000e+00 - 1s/epoch - 192ms/step\n",
            "Epoch 115/150\n",
            "6/6 - 1s - loss: 1.6120 - accuracy: 0.3995 - val_loss: 1.6360 - val_accuracy: 0.0000e+00 - 1s/epoch - 186ms/step\n",
            "Epoch 116/150\n",
            "6/6 - 1s - loss: 1.6222 - accuracy: 0.4021 - val_loss: 1.6634 - val_accuracy: 0.0000e+00 - 1s/epoch - 172ms/step\n",
            "Epoch 117/150\n",
            "6/6 - 1s - loss: 1.6077 - accuracy: 0.4021 - val_loss: 1.5941 - val_accuracy: 0.0000e+00 - 1s/epoch - 173ms/step\n",
            "Epoch 118/150\n",
            "6/6 - 1s - loss: 1.6103 - accuracy: 0.4021 - val_loss: 1.5933 - val_accuracy: 0.0000e+00 - 1s/epoch - 173ms/step\n",
            "Epoch 119/150\n",
            "6/6 - 1s - loss: 1.6135 - accuracy: 0.4021 - val_loss: 1.6341 - val_accuracy: 0.0000e+00 - 1s/epoch - 176ms/step\n",
            "Epoch 120/150\n",
            "6/6 - 1s - loss: 1.5942 - accuracy: 0.4021 - val_loss: 1.6180 - val_accuracy: 0.0000e+00 - 1s/epoch - 172ms/step\n",
            "Epoch 121/150\n",
            "6/6 - 1s - loss: 1.5990 - accuracy: 0.4021 - val_loss: 1.5899 - val_accuracy: 0.0000e+00 - 1s/epoch - 172ms/step\n",
            "Epoch 122/150\n",
            "6/6 - 1s - loss: 1.6145 - accuracy: 0.4021 - val_loss: 1.6074 - val_accuracy: 0.0000e+00 - 1s/epoch - 174ms/step\n",
            "Epoch 123/150\n",
            "6/6 - 1s - loss: 1.6101 - accuracy: 0.4021 - val_loss: 1.5884 - val_accuracy: 0.0000e+00 - 1s/epoch - 183ms/step\n",
            "Epoch 124/150\n",
            "6/6 - 1s - loss: 1.6112 - accuracy: 0.4021 - val_loss: 1.6033 - val_accuracy: 0.0000e+00 - 1s/epoch - 193ms/step\n",
            "Epoch 125/150\n",
            "6/6 - 1s - loss: 1.5882 - accuracy: 0.4021 - val_loss: 1.5621 - val_accuracy: 0.0000e+00 - 1s/epoch - 193ms/step\n",
            "Epoch 126/150\n",
            "6/6 - 1s - loss: 1.6030 - accuracy: 0.4021 - val_loss: 1.5881 - val_accuracy: 0.0000e+00 - 1s/epoch - 210ms/step\n",
            "Epoch 127/150\n",
            "6/6 - 1s - loss: 1.5929 - accuracy: 0.4021 - val_loss: 1.5735 - val_accuracy: 0.0000e+00 - 1s/epoch - 185ms/step\n",
            "Epoch 128/150\n",
            "6/6 - 1s - loss: 1.6235 - accuracy: 0.4021 - val_loss: 1.5626 - val_accuracy: 0.0000e+00 - 1s/epoch - 191ms/step\n",
            "Epoch 129/150\n",
            "6/6 - 1s - loss: 1.6054 - accuracy: 0.4021 - val_loss: 1.5744 - val_accuracy: 0.0000e+00 - 1s/epoch - 177ms/step\n",
            "Epoch 130/150\n",
            "6/6 - 1s - loss: 1.5925 - accuracy: 0.4021 - val_loss: 1.5507 - val_accuracy: 0.0000e+00 - 1s/epoch - 174ms/step\n",
            "Epoch 131/150\n",
            "6/6 - 1s - loss: 1.6056 - accuracy: 0.4021 - val_loss: 1.5872 - val_accuracy: 0.0000e+00 - 1s/epoch - 173ms/step\n",
            "Epoch 132/150\n",
            "6/6 - 1s - loss: 1.5908 - accuracy: 0.4021 - val_loss: 1.5604 - val_accuracy: 0.0000e+00 - 1s/epoch - 175ms/step\n",
            "Epoch 133/150\n",
            "6/6 - 1s - loss: 1.6350 - accuracy: 0.4021 - val_loss: 1.5956 - val_accuracy: 0.0000e+00 - 1s/epoch - 173ms/step\n",
            "Epoch 134/150\n",
            "6/6 - 1s - loss: 1.6138 - accuracy: 0.4021 - val_loss: 1.5823 - val_accuracy: 0.0000e+00 - 1s/epoch - 174ms/step\n",
            "Epoch 135/150\n",
            "6/6 - 1s - loss: 1.6019 - accuracy: 0.4021 - val_loss: 1.5530 - val_accuracy: 0.0000e+00 - 1s/epoch - 174ms/step\n",
            "Epoch 136/150\n",
            "6/6 - 1s - loss: 1.5876 - accuracy: 0.4021 - val_loss: 1.5686 - val_accuracy: 0.0000e+00 - 1s/epoch - 175ms/step\n",
            "Epoch 137/150\n",
            "6/6 - 1s - loss: 1.6172 - accuracy: 0.4021 - val_loss: 1.5612 - val_accuracy: 0.0000e+00 - 1s/epoch - 173ms/step\n",
            "Epoch 138/150\n",
            "6/6 - 1s - loss: 1.6174 - accuracy: 0.4021 - val_loss: 1.5834 - val_accuracy: 0.0000e+00 - 1s/epoch - 178ms/step\n",
            "Epoch 139/150\n",
            "6/6 - 1s - loss: 1.6011 - accuracy: 0.4021 - val_loss: 1.5487 - val_accuracy: 0.0000e+00 - 1s/epoch - 188ms/step\n",
            "Epoch 140/150\n",
            "6/6 - 1s - loss: 1.6109 - accuracy: 0.4021 - val_loss: 1.5359 - val_accuracy: 0.0000e+00 - 1s/epoch - 186ms/step\n",
            "Epoch 141/150\n",
            "6/6 - 1s - loss: 1.6030 - accuracy: 0.4021 - val_loss: 1.5718 - val_accuracy: 0.0000e+00 - 1s/epoch - 187ms/step\n",
            "Epoch 142/150\n",
            "6/6 - 1s - loss: 1.5903 - accuracy: 0.4021 - val_loss: 1.5466 - val_accuracy: 0.0000e+00 - 1s/epoch - 175ms/step\n",
            "Epoch 143/150\n",
            "6/6 - 1s - loss: 1.6077 - accuracy: 0.4021 - val_loss: 1.5344 - val_accuracy: 0.0000e+00 - 1s/epoch - 173ms/step\n",
            "Epoch 144/150\n",
            "6/6 - 1s - loss: 1.5631 - accuracy: 0.4021 - val_loss: 1.5231 - val_accuracy: 0.0000e+00 - 1s/epoch - 173ms/step\n",
            "Epoch 145/150\n",
            "6/6 - 1s - loss: 1.5881 - accuracy: 0.4021 - val_loss: 1.5286 - val_accuracy: 0.0000e+00 - 1s/epoch - 173ms/step\n",
            "Epoch 146/150\n",
            "6/6 - 1s - loss: 1.5975 - accuracy: 0.4021 - val_loss: 1.5221 - val_accuracy: 0.0000e+00 - 1s/epoch - 176ms/step\n",
            "Epoch 147/150\n",
            "6/6 - 1s - loss: 1.6057 - accuracy: 0.4021 - val_loss: 1.5434 - val_accuracy: 0.0000e+00 - 1s/epoch - 174ms/step\n",
            "Epoch 148/150\n",
            "6/6 - 1s - loss: 1.5805 - accuracy: 0.4021 - val_loss: 1.4792 - val_accuracy: 0.0000e+00 - 1s/epoch - 173ms/step\n",
            "Epoch 149/150\n",
            "6/6 - 1s - loss: 1.5829 - accuracy: 0.4021 - val_loss: 1.5106 - val_accuracy: 0.0000e+00 - 1s/epoch - 176ms/step\n",
            "Epoch 150/150\n",
            "6/6 - 1s - loss: 1.5720 - accuracy: 0.4021 - val_loss: 1.4787 - val_accuracy: 0.0000e+00 - 1s/epoch - 172ms/step\n"
          ]
        }
      ]
    },
    {
      "cell_type": "code",
      "source": [
        "from sklearn.metrics import accuracy_score\n",
        "\n",
        "print('Predicting on test data')\n",
        "\n",
        "y_pred = np.rint(model.predict(X_test))\n",
        "\n",
        "print(accuracy_score(y_test, y_pred))"
      ],
      "metadata": {
        "colab": {
          "base_uri": "https://localhost:8080/"
        },
        "id": "TP15OFQCEPoX",
        "outputId": "c3c245f5-7bb4-49bb-ee45-2f31fcf8e80f"
      },
      "execution_count": 12,
      "outputs": [
        {
          "output_type": "stream",
          "name": "stdout",
          "text": [
            "Predicting on test data\n",
            "4/4 [==============================] - 1s 73ms/step\n",
            "0.0\n"
          ]
        }
      ]
    },
    {
      "cell_type": "code",
      "source": [
        "from sklearn.metrics import confusion_matrix\n",
        "\n",
        "y_pred_unencoded = np.argmax(y_pred, axis=1)\n",
        "\n",
        "y_test_unencoded = np.argmax(y_test, axis=1)\n",
        "\n",
        "print(confusion_matrix(y_test_unencoded, y_pred_unencoded))"
      ],
      "metadata": {
        "colab": {
          "base_uri": "https://localhost:8080/"
        },
        "id": "KxjhC2A-Eqlv",
        "outputId": "b20bc29c-8153-4d25-bd21-af5a93e9e0ae"
      },
      "execution_count": 13,
      "outputs": [
        {
          "output_type": "stream",
          "name": "stdout",
          "text": [
            "[[ 6  0  0  0  0  0  0  0  0]\n",
            " [ 2  0  0  0  0  0  0  0  0]\n",
            " [ 1  0  0  0  0  0  0  0  0]\n",
            " [ 5  0  0  0  0  0  0  0  0]\n",
            " [38  0  0  0  0  0  0  0  0]\n",
            " [ 5  0  0  0  0  0  0  0  0]\n",
            " [ 6  0  0  0  0  0  0  0  0]\n",
            " [ 2  0  0  0  0  0  0  0  0]\n",
            " [42  0  0  0  0  0  0  0  0]]\n"
          ]
        }
      ]
    }
  ]
}