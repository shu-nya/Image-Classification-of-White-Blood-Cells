{
  "nbformat": 4,
  "nbformat_minor": 0,
  "metadata": {
    "colab": {
      "provenance": [],
      "gpuType": "T4",
      "authorship_tag": "ABX9TyNKzto9M5JHWsncQ2UJHeWB",
      "include_colab_link": true
    },
    "kernelspec": {
      "name": "python3",
      "display_name": "Python 3"
    },
    "language_info": {
      "name": "python"
    },
    "accelerator": "GPU"
  },
  "cells": [
    {
      "cell_type": "markdown",
      "metadata": {
        "id": "view-in-github",
        "colab_type": "text"
      },
      "source": [
        "<a href=\"https://colab.research.google.com/github/shu-nya/Image-Classification-of-White-Blood-Cells/blob/master/WBC_Classification_with_VGG_and_SMOTE.ipynb\" target=\"_parent\"><img src=\"https://colab.research.google.com/assets/colab-badge.svg\" alt=\"Open In Colab\"/></a>"
      ]
    },
    {
      "cell_type": "code",
      "source": [
        "!pip install imblearn"
      ],
      "metadata": {
        "colab": {
          "base_uri": "https://localhost:8080/"
        },
        "id": "ddpnOBjBFJT8",
        "outputId": "decb609d-7275-42ac-9db5-b00ee38fa28a"
      },
      "execution_count": 1,
      "outputs": [
        {
          "output_type": "stream",
          "name": "stdout",
          "text": [
            "Collecting imblearn\n",
            "  Downloading imblearn-0.0-py2.py3-none-any.whl (1.9 kB)\n",
            "Requirement already satisfied: imbalanced-learn in /usr/local/lib/python3.10/dist-packages (from imblearn) (0.10.1)\n",
            "Requirement already satisfied: numpy>=1.17.3 in /usr/local/lib/python3.10/dist-packages (from imbalanced-learn->imblearn) (1.22.4)\n",
            "Requirement already satisfied: scipy>=1.3.2 in /usr/local/lib/python3.10/dist-packages (from imbalanced-learn->imblearn) (1.10.1)\n",
            "Requirement already satisfied: scikit-learn>=1.0.2 in /usr/local/lib/python3.10/dist-packages (from imbalanced-learn->imblearn) (1.2.2)\n",
            "Requirement already satisfied: joblib>=1.1.1 in /usr/local/lib/python3.10/dist-packages (from imbalanced-learn->imblearn) (1.2.0)\n",
            "Requirement already satisfied: threadpoolctl>=2.0.0 in /usr/local/lib/python3.10/dist-packages (from imbalanced-learn->imblearn) (3.1.0)\n",
            "Installing collected packages: imblearn\n",
            "Successfully installed imblearn-0.0\n"
          ]
        }
      ]
    },
    {
      "cell_type": "code",
      "execution_count": 2,
      "metadata": {
        "id": "KBmEj0RR1MRP"
      },
      "outputs": [],
      "source": [
        "import numpy as np\n",
        "from keras.models import Sequential\n",
        "from keras import applications\n",
        "from keras import optimizers\n",
        "from keras.layers import Dense, Dropout, Activation, Flatten\n",
        "from keras.layers import Input, Conv2D, MaxPooling2D, Lambda\n",
        "from keras.layers import Dense\n",
        "from keras.models import Model\n",
        "from keras.wrappers.scikit_learn import KerasClassifier\n",
        "from keras.utils import to_categorical\n",
        "from keras.utils import np_utils\n",
        "from keras.preprocessing.image import ImageDataGenerator\n",
        "from sklearn.model_selection import cross_val_score\n",
        "from sklearn.model_selection import KFold\n",
        "from sklearn.preprocessing import LabelEncoder\n",
        "from sklearn.pipeline import Pipeline\n",
        "from sklearn.model_selection import train_test_split\n",
        "from sklearn.metrics import roc_curve, auc\n",
        "from sklearn.utils import shuffle\n",
        "import csv\n",
        "import cv2\n",
        "import scipy\n",
        "import os\n",
        "from PIL import Image\n",
        "#import splitfolders\n",
        "import shutil\n",
        "\n",
        "import matplotlib.pyplot as plt\n",
        "from imblearn.over_sampling import SMOTE\n",
        "from collections import Counter\n"
      ]
    },
    {
      "cell_type": "code",
      "source": [
        "from google.colab import drive\n",
        "drive.mount('/content/drive')"
      ],
      "metadata": {
        "colab": {
          "base_uri": "https://localhost:8080/"
        },
        "id": "M3TTF4TQ1PE1",
        "outputId": "52776891-9b52-4f7c-e83e-cf946c04d4a3"
      },
      "execution_count": 3,
      "outputs": [
        {
          "output_type": "stream",
          "name": "stdout",
          "text": [
            "Mounted at /content/drive\n"
          ]
        }
      ]
    },
    {
      "cell_type": "code",
      "source": [
        "BASE_DIR = '/content/drive/MyDrive/taskMedPrime'"
      ],
      "metadata": {
        "id": "eu15MYI01PBw"
      },
      "execution_count": 4,
      "outputs": []
    },
    {
      "cell_type": "code",
      "source": [],
      "metadata": {
        "id": "8we2Z0he1O-c"
      },
      "execution_count": 3,
      "outputs": []
    },
    {
      "cell_type": "code",
      "source": [
        "def get_data(folder):\n",
        "    X = []\n",
        "    y = []\n",
        "\n",
        "    for wbc_type in os.listdir(folder):\n",
        "        if not wbc_type.startswith('.'):\n",
        "\n",
        "            for image_filename in os.listdir(folder + '/' + wbc_type):\n",
        "                img_file = cv2.imread(folder + '/' + wbc_type + '/' + image_filename)\n",
        "\n",
        "                if img_file is not None:\n",
        "                    img_arr = np.asarray(img_file)\n",
        "                    X.append(img_arr)\n",
        "                    y.append(wbc_type)\n",
        "\n",
        "    X = np.asarray(X)\n",
        "    y = np.asarray(y)\n",
        "    return X,y\n",
        ""
      ],
      "metadata": {
        "id": "Zhh87iJO1O7l"
      },
      "execution_count": 5,
      "outputs": []
    },
    {
      "cell_type": "code",
      "source": [
        "X_train, y_train = get_data(BASE_DIR + '/train')\n",
        "X_test, y_test = get_data(BASE_DIR + '/test')\n"
      ],
      "metadata": {
        "id": "D1YQH6cq1O4s"
      },
      "execution_count": 6,
      "outputs": []
    },
    {
      "cell_type": "code",
      "source": [
        "X_train = X_train * 1./255.\n",
        "X_test = X_test * 1./255.\n"
      ],
      "metadata": {
        "id": "XBbEPUEv1O17"
      },
      "execution_count": 7,
      "outputs": []
    },
    {
      "cell_type": "code",
      "source": [
        "y_train_unique_counts = np.unique(y_train, return_counts=True)"
      ],
      "metadata": {
        "id": "JvuficAI5MJ4"
      },
      "execution_count": 8,
      "outputs": []
    },
    {
      "cell_type": "code",
      "source": [
        "print(y_train_unique_counts)"
      ],
      "metadata": {
        "colab": {
          "base_uri": "https://localhost:8080/"
        },
        "id": "qoWtj0Fp6FLo",
        "outputId": "e4296f16-dc42-4cfe-dee3-ebe52441e319"
      },
      "execution_count": 9,
      "outputs": [
        {
          "output_type": "stream",
          "name": "stdout",
          "text": [
            "(array(['bands', 'basophils', 'blasts', 'eosinophils', 'lymphocytes',\n",
            "       'metamyelocytes', 'monocytes', 'myelocytes', 'neutrophils'],\n",
            "      dtype='<U14'), array([121, 105, 103, 120, 252, 120, 124, 106, 268]))\n"
          ]
        }
      ]
    },
    {
      "cell_type": "code",
      "source": [
        "plt.title('Number of Images in each WBC type')\n",
        "plt.barh(y_train_unique_counts[0], y_train_unique_counts[1])\n",
        "plt.show()"
      ],
      "metadata": {
        "colab": {
          "base_uri": "https://localhost:8080/",
          "height": 452
        },
        "id": "XLw9PIXF65ha",
        "outputId": "d8f883f2-b7f9-4608-ecfb-2794850723a1"
      },
      "execution_count": 10,
      "outputs": [
        {
          "output_type": "display_data",
          "data": {
            "text/plain": [
              "<Figure size 640x480 with 1 Axes>"
            ],
            "image/png": "[encoded data removed]"
          },
          "metadata": {}
        }
      ]
    },
    {
      "cell_type": "code",
      "source": [
        "# summarize class distribution\n",
        "counter = Counter(y_train)\n",
        "print(counter)"
      ],
      "metadata": {
        "colab": {
          "base_uri": "https://localhost:8080/"
        },
        "id": "7A8AL_K265eR",
        "outputId": "43156994-84e5-47e7-b016-eeb5c20d1304"
      },
      "execution_count": 11,
      "outputs": [
        {
          "output_type": "stream",
          "name": "stdout",
          "text": [
            "Counter({'neutrophils': 268, 'lymphocytes': 252, 'monocytes': 124, 'bands': 121, 'eosinophils': 120, 'metamyelocytes': 120, 'myelocytes': 106, 'basophils': 105, 'blasts': 103})\n"
          ]
        }
      ]
    },
    {
      "cell_type": "code",
      "source": [],
      "metadata": {
        "id": "doToUl1RlcUd"
      },
      "execution_count": null,
      "outputs": []
    },
    {
      "cell_type": "code",
      "source": [],
      "metadata": {
        "id": "jVmcadVylcRO"
      },
      "execution_count": null,
      "outputs": []
    },
    {
      "cell_type": "code",
      "source": [
        "# initialize the SMOTE model\n",
        "#smote = SMOTE(random_state=62)\n",
        "smote = SMOTE(k_neighbors=5, random_state=62)\n",
        "\n",
        "# get all dimensions of the X\n",
        "n_samples, height, width, n_channels = [X_train.shape[index] for index in range(4)]\n",
        "\n",
        "print(f\"Shape of X_train before reshape: {X_train.shape}\")\n",
        "\n",
        "# reshape X because SMOTE accepts only (n_samples, n_channels*height*weight)-type data\n",
        "X_train_reshaped = X_train.reshape(n_samples, n_channels*height*width)\n",
        "\n",
        "print(f\"Shape of X_train after reshape: {X_train_reshaped.shape}\")"
      ],
      "metadata": {
        "colab": {
          "base_uri": "https://localhost:8080/"
        },
        "id": "gM8-8ghXHyax",
        "outputId": "a411a3b9-6326-4e85-f02e-cbc55f4adddd"
      },
      "execution_count": 12,
      "outputs": [
        {
          "output_type": "stream",
          "name": "stdout",
          "text": [
            "Shape of X_train before reshape: (1319, 256, 256, 3)\n",
            "Shape of X_train after reshape: (1319, 196608)\n"
          ]
        }
      ]
    },
    {
      "cell_type": "code",
      "source": [
        "# perform re-sampling on modified X given y\n",
        "X_smote, y_smote = smote.fit_resample(X_train_reshaped, y_train)"
      ],
      "metadata": {
        "id": "CRTnrJZQHyMo"
      },
      "execution_count": 13,
      "outputs": []
    },
    {
      "cell_type": "code",
      "source": [
        "print(f'Before re-sampling, the number of images:  {len(X_train):6}')\n",
        "print(f'After re-sampling, the number of images:{len(X_smote):10}')"
      ],
      "metadata": {
        "colab": {
          "base_uri": "https://localhost:8080/"
        },
        "id": "XMwQvwWvI7-2",
        "outputId": "fda8dd5f-b4b4-4361-e07c-4c9e8a7384ef"
      },
      "execution_count": 14,
      "outputs": [
        {
          "output_type": "stream",
          "name": "stdout",
          "text": [
            "Before re-sampling, the number of images:    1319\n",
            "After re-sampling, the number of images:      2412\n"
          ]
        }
      ]
    },
    {
      "cell_type": "code",
      "source": [
        "# summarize the new class distribution\n",
        "counter = Counter(y_smote)\n",
        "print(counter)"
      ],
      "metadata": {
        "colab": {
          "base_uri": "https://localhost:8080/"
        },
        "id": "qd8GAHFaIwtm",
        "outputId": "28ab7826-3324-4dc5-bcce-f7e91bc46cd0"
      },
      "execution_count": 16,
      "outputs": [
        {
          "output_type": "stream",
          "name": "stdout",
          "text": [
            "Counter({'bands': 268, 'basophils': 268, 'blasts': 268, 'eosinophils': 268, 'lymphocytes': 268, 'metamyelocytes': 268, 'monocytes': 268, 'myelocytes': 268, 'neutrophils': 268})\n"
          ]
        }
      ]
    },
    {
      "cell_type": "code",
      "source": [
        "y_smote_unique_counts = np.unique(y_smote, return_counts=True)"
      ],
      "metadata": {
        "id": "2uLAuFShIwRJ"
      },
      "execution_count": 17,
      "outputs": []
    },
    {
      "cell_type": "code",
      "source": [
        "print(y_smote_unique_counts)"
      ],
      "metadata": {
        "colab": {
          "base_uri": "https://localhost:8080/"
        },
        "id": "pW8bIT1vlGix",
        "outputId": "5b93f72a-4240-48de-e620-8fda66e7de7d"
      },
      "execution_count": 18,
      "outputs": [
        {
          "output_type": "stream",
          "name": "stdout",
          "text": [
            "(array(['bands', 'basophils', 'blasts', 'eosinophils', 'lymphocytes',\n",
            "       'metamyelocytes', 'monocytes', 'myelocytes', 'neutrophils'],\n",
            "      dtype='<U14'), array([268, 268, 268, 268, 268, 268, 268, 268, 268]))\n"
          ]
        }
      ]
    },
    {
      "cell_type": "code",
      "source": [
        "# view the resulting balanced data(modified distribution)\n",
        "plt.title('Number of Images in each WBC type')\n",
        "plt.barh(y_smote_unique_counts[0], y_smote_unique_counts[1])\n",
        "plt.show()"
      ],
      "metadata": {
        "colab": {
          "base_uri": "https://localhost:8080/",
          "height": 452
        },
        "id": "w-_2GUUilGgL",
        "outputId": "ba38fb00-af20-47f3-e9d7-2c49675934fc"
      },
      "execution_count": 19,
      "outputs": [
        {
          "output_type": "display_data",
          "data": {
            "text/plain": [
              "<Figure size 640x480 with 1 Axes>"
            ],
            "image/png": "[encoded data removed]"
          },
          "metadata": {}
        }
      ]
    },
    {
      "cell_type": "code",
      "source": [
        "X_train, y_train = X_smote, y_smote"
      ],
      "metadata": {
        "id": "LFZAXhELlMXT"
      },
      "execution_count": 20,
      "outputs": []
    },
    {
      "cell_type": "code",
      "source": [
        "n_samples, height, width, n_channels = 268*9, 256, 256, 3"
      ],
      "metadata": {
        "id": "RdIBzGkSlMUS"
      },
      "execution_count": 21,
      "outputs": []
    },
    {
      "cell_type": "code",
      "source": [
        "X_train = X_train.reshape(n_samples, height, width, n_channels)"
      ],
      "metadata": {
        "id": "bI8494GvlMRl"
      },
      "execution_count": 22,
      "outputs": []
    },
    {
      "cell_type": "code",
      "source": [],
      "metadata": {
        "id": "mNPeYVPRlGcd"
      },
      "execution_count": null,
      "outputs": []
    },
    {
      "cell_type": "code",
      "source": [],
      "metadata": {
        "id": "QHEUjBSGFZtL"
      },
      "execution_count": null,
      "outputs": []
    },
    {
      "cell_type": "code",
      "source": [],
      "metadata": {
        "id": "pXek6mWsFZp6"
      },
      "execution_count": null,
      "outputs": []
    },
    {
      "cell_type": "code",
      "source": [],
      "metadata": {
        "id": "jv2Rfdzp1OzY"
      },
      "execution_count": 6,
      "outputs": []
    },
    {
      "cell_type": "code",
      "source": [
        "#Convert labels to one hot encoding\n",
        "\n",
        "encoder = LabelEncoder()\n",
        "encoder.fit(y_train)\n",
        "encoded_y_train = encoder.transform(y_train)\n",
        "encoded_y_test = encoder.transform(y_test)\n",
        "\n",
        "y_train = np_utils.to_categorical(encoded_y_train)\n",
        "y_test = np_utils.to_categorical(encoded_y_test)\n"
      ],
      "metadata": {
        "id": "M-Hw6QM81OwW"
      },
      "execution_count": 23,
      "outputs": []
    },
    {
      "cell_type": "code",
      "source": [],
      "metadata": {
        "id": "nWbQlzir47-A"
      },
      "execution_count": null,
      "outputs": []
    },
    {
      "cell_type": "code",
      "source": [
        "from keras.models import Model\n",
        "from keras.layers import Input\n",
        "from keras import optimizers\n"
      ],
      "metadata": {
        "id": "7oil3Apr1zre"
      },
      "execution_count": 24,
      "outputs": []
    },
    {
      "cell_type": "code",
      "source": [
        "num_classes = 9\n",
        "epochs = 10\n",
        "batch_size = 32\n"
      ],
      "metadata": {
        "id": "GGhQlUJ81OrI"
      },
      "execution_count": 25,
      "outputs": []
    },
    {
      "cell_type": "code",
      "source": [
        "base_model = applications.VGG16(include_top=False, weights='imagenet')\n",
        "input = Input(shape=(256, 256, 3), name = 'image_input')\n",
        "vgg_output = base_model(input)\n",
        "\n",
        "top_model = Flatten()(vgg_output)\n",
        "top_model = Dense(64, activation='relu')(top_model)\n",
        "predictions = Dense(num_classes, activation='softmax', name='prediction_layer')(top_model)\n",
        "\n",
        "model = Model(inputs=input, outputs=predictions)\n",
        "\n",
        "# first: train only the top layers (which were randomly initialized)\n",
        "# i.e. freeze all convolutional InceptionV3 layers\n",
        "layers = base_model.layers[:-2]\n",
        "for layer in layers:\n",
        "    layer.trainable = False\n",
        ""
      ],
      "metadata": {
        "colab": {
          "base_uri": "https://localhost:8080/"
        },
        "id": "nf_h1opg1OoU",
        "outputId": "b64928e8-a8a6-4d58-bbac-6e4b1221023f"
      },
      "execution_count": 26,
      "outputs": [
        {
          "output_type": "stream",
          "name": "stdout",
          "text": [
            "Downloading data from https://storage.googleapis.com/tensorflow/keras-applications/vgg16/vgg16_weights_tf_dim_ordering_tf_kernels_notop.h5\n",
            "58889256/58889256 [==============================] - 1s 0us/step\n"
          ]
        }
      ]
    },
    {
      "cell_type": "code",
      "source": [
        "# compile the model (should be done *after* setting layers to non-trainable)\n",
        "model.compile(optimizer='rmsprop', loss='categorical_crossentropy', metrics=['accuracy'])\n"
      ],
      "metadata": {
        "id": "0cYDFX_D1Olg"
      },
      "execution_count": 27,
      "outputs": []
    },
    {
      "cell_type": "code",
      "source": [],
      "metadata": {
        "id": "sq7dZIe21Oim"
      },
      "execution_count": 11,
      "outputs": []
    },
    {
      "cell_type": "code",
      "source": [
        "model.summary()\n"
      ],
      "metadata": {
        "colab": {
          "base_uri": "https://localhost:8080/"
        },
        "id": "KcJXi6Ij1Of8",
        "outputId": "8b379a30-631b-4ef7-9836-08480f8fd4b4"
      },
      "execution_count": 28,
      "outputs": [
        {
          "output_type": "stream",
          "name": "stdout",
          "text": [
            "Model: \"model\"\n",
            "_________________________________________________________________\n",
            " Layer (type)                Output Shape              Param #   \n",
            "=================================================================\n",
            " image_input (InputLayer)    [(None, 256, 256, 3)]     0         \n",
            "                                                                 \n",
            " vgg16 (Functional)          (None, None, None, 512)   14714688  \n",
            "                                                                 \n",
            " flatten (Flatten)           (None, 32768)             0         \n",
            "                                                                 \n",
            " dense (Dense)               (None, 64)                2097216   \n",
            "                                                                 \n",
            " prediction_layer (Dense)    (None, 9)                 585       \n",
            "                                                                 \n",
            "=================================================================\n",
            "Total params: 16,812,489\n",
            "Trainable params: 4,457,609\n",
            "Non-trainable params: 12,354,880\n",
            "_________________________________________________________________\n"
          ]
        }
      ]
    },
    {
      "cell_type": "code",
      "source": [
        "model.fit(X_train, y_train, epochs=epochs, batch_size=batch_size, validation_split=0.2, shuffle=True, verbose=1)\n"
      ],
      "metadata": {
        "colab": {
          "base_uri": "https://localhost:8080/"
        },
        "id": "zt0UdqYS1OdE",
        "outputId": "9e579d2c-fbf0-4fbf-a412-253903833ced"
      },
      "execution_count": 29,
      "outputs": [
        {
          "output_type": "stream",
          "name": "stdout",
          "text": [
            "Epoch 1/10\n",
            "61/61 [==============================] - 37s 303ms/step - loss: 2.4859 - accuracy: 0.4520 - val_loss: 2.3376 - val_accuracy: 0.2091\n",
            "Epoch 2/10\n",
            "61/61 [==============================] - 13s 210ms/step - loss: 0.7555 - accuracy: 0.7595 - val_loss: 1.7747 - val_accuracy: 0.3789\n",
            "Epoch 3/10\n",
            "61/61 [==============================] - 13s 215ms/step - loss: 0.3601 - accuracy: 0.8787 - val_loss: 3.9911 - val_accuracy: 0.2961\n",
            "Epoch 4/10\n",
            "61/61 [==============================] - 16s 265ms/step - loss: 0.1901 - accuracy: 0.9347 - val_loss: 1.7211 - val_accuracy: 0.5797\n",
            "Epoch 5/10\n",
            "61/61 [==============================] - 16s 269ms/step - loss: 0.0951 - accuracy: 0.9705 - val_loss: 1.0220 - val_accuracy: 0.7205\n",
            "Epoch 6/10\n",
            "61/61 [==============================] - 16s 266ms/step - loss: 0.0669 - accuracy: 0.9787 - val_loss: 1.8406 - val_accuracy: 0.6418\n",
            "Epoch 7/10\n",
            "61/61 [==============================] - 13s 220ms/step - loss: 0.0443 - accuracy: 0.9844 - val_loss: 3.0003 - val_accuracy: 0.5714\n",
            "Epoch 8/10\n",
            "61/61 [==============================] - 14s 223ms/step - loss: 0.0416 - accuracy: 0.9860 - val_loss: 1.0834 - val_accuracy: 0.7516\n",
            "Epoch 9/10\n",
            "61/61 [==============================] - 16s 267ms/step - loss: 0.0322 - accuracy: 0.9922 - val_loss: 0.8626 - val_accuracy: 0.8054\n",
            "Epoch 10/10\n",
            "61/61 [==============================] - 16s 266ms/step - loss: 0.0392 - accuracy: 0.9902 - val_loss: 1.3147 - val_accuracy: 0.7329\n"
          ]
        },
        {
          "output_type": "execute_result",
          "data": {
            "text/plain": [
              "<keras.callbacks.History at 0x7f63d4b0b610>"
            ]
          },
          "metadata": {},
          "execution_count": 29
        }
      ]
    },
    {
      "cell_type": "code",
      "source": [
        "model.save_weights('vgg_top.h5')\n"
      ],
      "metadata": {
        "id": "hPLrgF6A1OaD"
      },
      "execution_count": 30,
      "outputs": []
    },
    {
      "cell_type": "code",
      "source": [
        "model.load_weights('vgg_top.h5')\n"
      ],
      "metadata": {
        "id": "HXHOxjOG1OXn"
      },
      "execution_count": 31,
      "outputs": []
    },
    {
      "cell_type": "code",
      "source": [
        "print('Predicting on test data')\n",
        "#y_pred = np.rint(model.predict(X_test))\n",
        "\n",
        "y_pred = model.predict(X_test)\n",
        "\n",
        "print(y_pred)\n"
      ],
      "metadata": {
        "id": "_Aco1FCV1OUg"
      },
      "execution_count": null,
      "outputs": []
    },
    {
      "cell_type": "code",
      "source": [
        "y_pred = np.rint(y_pred)\n",
        "\n",
        "print(y_pred)\n"
      ],
      "metadata": {
        "id": "Y3fLzNvT1OSJ"
      },
      "execution_count": null,
      "outputs": []
    },
    {
      "cell_type": "code",
      "source": [
        "from sklearn.metrics import accuracy_score\n"
      ],
      "metadata": {
        "id": "7Bj2JLhO1OPu"
      },
      "execution_count": null,
      "outputs": []
    },
    {
      "cell_type": "code",
      "source": [
        "print(accuracy_score(y_test, y_pred))\n"
      ],
      "metadata": {
        "id": "YuIDO5Ma1ONO"
      },
      "execution_count": null,
      "outputs": []
    },
    {
      "cell_type": "code",
      "source": [
        "model.summary()\n"
      ],
      "metadata": {
        "id": "w8ZO0FL61OLK"
      },
      "execution_count": null,
      "outputs": []
    },
    {
      "cell_type": "code",
      "source": [
        "print(base_model.layers[-2].name)\n"
      ],
      "metadata": {
        "id": "4yO7OIP31OIo"
      },
      "execution_count": null,
      "outputs": []
    },
    {
      "cell_type": "code",
      "source": [
        "from sklearn.metrics import confusion_matrix\n",
        "\n",
        "y_pred_unencoded = np.argmax(y_pred, axis=1)\n",
        "\n",
        "y_test_unencoded = np.argmax(y_test, axis=1)\n",
        "\n",
        "print(confusion_matrix(y_test_unencoded, y_pred_unencoded))\n"
      ],
      "metadata": {
        "id": "ueA3Y1VO1OGM"
      },
      "execution_count": null,
      "outputs": []
    },
    {
      "cell_type": "code",
      "source": [],
      "metadata": {
        "id": "8yq4dXta1N5s"
      },
      "execution_count": 22,
      "outputs": []
    },
    {
      "cell_type": "code",
      "source": [],
      "metadata": {
        "id": "uuPqItcS1N20"
      },
      "execution_count": 22,
      "outputs": []
    }
  ]
}