{
  "nbformat": 4,
  "nbformat_minor": 0,
  "metadata": {
    "colab": {
      "provenance": [],
      "gpuType": "T4",
      "authorship_tag": "ABX9TyODA7vpPEuoud3++kE7/fhr",
      "include_colab_link": true
    },
    "kernelspec": {
      "name": "python3",
      "display_name": "Python 3"
    },
    "language_info": {
      "name": "python"
    },
    "accelerator": "GPU"
  },
  "cells": [
    {
      "cell_type": "markdown",
      "metadata": {
        "id": "view-in-github",
        "colab_type": "text"
      },
      "source": [
        "<a href=\"https://colab.research.google.com/github/shu-nya/Image-Classification-of-White-Blood-Cells/blob/master/WBC_Classification_with_VGG_and_SMOTE.ipynb\" target=\"_parent\"><img src=\"https://colab.research.google.com/assets/colab-badge.svg\" alt=\"Open In Colab\"/></a>"
      ]
    },
    {
      "cell_type": "code",
      "source": [
        "!pip install imblearn"
      ],
      "metadata": {
        "colab": {
          "base_uri": "https://localhost:8080/"
        },
        "id": "ddpnOBjBFJT8",
        "outputId": "665cd9e8-c944-4fb0-f56f-cd31b465c032"
      },
      "execution_count": 1,
      "outputs": [
        {
          "output_type": "stream",
          "name": "stdout",
          "text": [
            "Collecting imblearn\n",
            "  Downloading imblearn-0.0-py2.py3-none-any.whl (1.9 kB)\n",
            "Requirement already satisfied: imbalanced-learn in /usr/local/lib/python3.10/dist-packages (from imblearn) (0.10.1)\n",
            "Requirement already satisfied: numpy>=1.17.3 in /usr/local/lib/python3.10/dist-packages (from imbalanced-learn->imblearn) (1.22.4)\n",
            "Requirement already satisfied: scipy>=1.3.2 in /usr/local/lib/python3.10/dist-packages (from imbalanced-learn->imblearn) (1.10.1)\n",
            "Requirement already satisfied: scikit-learn>=1.0.2 in /usr/local/lib/python3.10/dist-packages (from imbalanced-learn->imblearn) (1.2.2)\n",
            "Requirement already satisfied: joblib>=1.1.1 in /usr/local/lib/python3.10/dist-packages (from imbalanced-learn->imblearn) (1.2.0)\n",
            "Requirement already satisfied: threadpoolctl>=2.0.0 in /usr/local/lib/python3.10/dist-packages (from imbalanced-learn->imblearn) (3.1.0)\n",
            "Installing collected packages: imblearn\n",
            "Successfully installed imblearn-0.0\n"
          ]
        }
      ]
    },
    {
      "cell_type": "code",
      "execution_count": 2,
      "metadata": {
        "id": "KBmEj0RR1MRP"
      },
      "outputs": [],
      "source": [
        "import numpy as np\n",
        "from keras.models import Sequential\n",
        "from keras import applications\n",
        "from keras import optimizers\n",
        "from keras.layers import Dense, Dropout, Activation, Flatten\n",
        "from keras.layers import Input, Conv2D, MaxPooling2D, Lambda\n",
        "from keras.layers import Dense\n",
        "from keras.models import Model\n",
        "from keras.wrappers.scikit_learn import KerasClassifier\n",
        "from keras.utils import to_categorical\n",
        "from keras.utils import np_utils\n",
        "from keras.preprocessing.image import ImageDataGenerator\n",
        "from sklearn.model_selection import cross_val_score\n",
        "from sklearn.model_selection import KFold\n",
        "from sklearn.preprocessing import LabelEncoder\n",
        "from sklearn.pipeline import Pipeline\n",
        "from sklearn.model_selection import train_test_split\n",
        "from sklearn.metrics import roc_curve, auc\n",
        "from sklearn.utils import shuffle\n",
        "import csv\n",
        "import cv2\n",
        "import scipy\n",
        "import os\n",
        "from PIL import Image\n",
        "#import splitfolders\n",
        "import shutil\n",
        "\n",
        "import matplotlib.pyplot as plt\n",
        "from imblearn.over_sampling import SMOTE\n",
        "from collections import Counter\n"
      ]
    },
    {
      "cell_type": "code",
      "source": [
        "from google.colab import drive\n",
        "drive.mount('/content/drive')"
      ],
      "metadata": {
        "colab": {
          "base_uri": "https://localhost:8080/"
        },
        "id": "M3TTF4TQ1PE1",
        "outputId": "4b6f7d62-c408-47bb-94f4-b77ea53bb6ea"
      },
      "execution_count": 3,
      "outputs": [
        {
          "output_type": "stream",
          "name": "stdout",
          "text": [
            "Mounted at /content/drive\n"
          ]
        }
      ]
    },
    {
      "cell_type": "code",
      "source": [
        "BASE_DIR = '/content/drive/MyDrive/taskMedPrime'"
      ],
      "metadata": {
        "id": "eu15MYI01PBw"
      },
      "execution_count": 4,
      "outputs": []
    },
    {
      "cell_type": "code",
      "source": [],
      "metadata": {
        "id": "8we2Z0he1O-c"
      },
      "execution_count": 4,
      "outputs": []
    },
    {
      "cell_type": "code",
      "source": [
        "def get_data(folder):\n",
        "    X = []\n",
        "    y = []\n",
        "\n",
        "    for wbc_type in os.listdir(folder):\n",
        "        if not wbc_type.startswith('.'):\n",
        "\n",
        "            for image_filename in os.listdir(folder + '/' + wbc_type):\n",
        "                img_file = cv2.imread(folder + '/' + wbc_type + '/' + image_filename)\n",
        "\n",
        "                if img_file is not None:\n",
        "                    img_arr = np.asarray(img_file)\n",
        "                    X.append(img_arr)\n",
        "                    y.append(wbc_type)\n",
        "\n",
        "    X = np.asarray(X)\n",
        "    y = np.asarray(y)\n",
        "    return X,y\n",
        ""
      ],
      "metadata": {
        "id": "Zhh87iJO1O7l"
      },
      "execution_count": 5,
      "outputs": []
    },
    {
      "cell_type": "code",
      "source": [
        "X_train, y_train = get_data(BASE_DIR + '/train')\n",
        "X_test, y_test = get_data(BASE_DIR + '/test')\n"
      ],
      "metadata": {
        "id": "D1YQH6cq1O4s"
      },
      "execution_count": 6,
      "outputs": []
    },
    {
      "cell_type": "code",
      "source": [
        "X_train = X_train * 1./255.\n",
        "X_test = X_test * 1./255.\n"
      ],
      "metadata": {
        "id": "XBbEPUEv1O17"
      },
      "execution_count": 7,
      "outputs": []
    },
    {
      "cell_type": "code",
      "source": [
        "y_train_unique_counts = np.unique(y_train, return_counts=True)"
      ],
      "metadata": {
        "id": "JvuficAI5MJ4"
      },
      "execution_count": 8,
      "outputs": []
    },
    {
      "cell_type": "code",
      "source": [
        "print(y_train_unique_counts)"
      ],
      "metadata": {
        "colab": {
          "base_uri": "https://localhost:8080/"
        },
        "id": "qoWtj0Fp6FLo",
        "outputId": "8f222f89-4b87-4ee4-bd38-e63cf351b87a"
      },
      "execution_count": 9,
      "outputs": [
        {
          "output_type": "stream",
          "name": "stdout",
          "text": [
            "(array(['bands', 'basophils', 'blasts', 'eosinophils', 'lymphocytes',\n",
            "       'metamyelocytes', 'monocytes', 'myelocytes', 'neutrophils'],\n",
            "      dtype='<U14'), array([103,  88,  85, 102, 234, 102, 106,  89, 250]))\n"
          ]
        }
      ]
    },
    {
      "cell_type": "code",
      "source": [
        "plt.title('Number of Images in each WBC type')\n",
        "plt.barh(y_train_unique_counts[0], y_train_unique_counts[1])\n",
        "plt.show()"
      ],
      "metadata": {
        "colab": {
          "base_uri": "https://localhost:8080/",
          "height": 452
        },
        "id": "XLw9PIXF65ha",
        "outputId": "f9256b08-2665-4c05-d1ee-4feeb5895dc5"
      },
      "execution_count": 10,
      "outputs": [
        {
          "output_type": "display_data",
          "data": {
            "text/plain": [
              "<Figure size 640x480 with 1 Axes>"
            ],
            "image/png": "[encoded data removed]"
          },
          "metadata": {}
        }
      ]
    },
    {
      "cell_type": "code",
      "source": [
        "# summarize class distribution\n",
        "counter = Counter(y_train)\n",
        "print(counter)"
      ],
      "metadata": {
        "colab": {
          "base_uri": "https://localhost:8080/"
        },
        "id": "7A8AL_K265eR",
        "outputId": "cb493e40-4a05-4a34-a385-16389a96dc22"
      },
      "execution_count": 11,
      "outputs": [
        {
          "output_type": "stream",
          "name": "stdout",
          "text": [
            "Counter({'neutrophils': 250, 'lymphocytes': 234, 'monocytes': 106, 'bands': 103, 'eosinophils': 102, 'metamyelocytes': 102, 'myelocytes': 89, 'basophils': 88, 'blasts': 85})\n"
          ]
        }
      ]
    },
    {
      "cell_type": "code",
      "source": [],
      "metadata": {
        "id": "doToUl1RlcUd"
      },
      "execution_count": 11,
      "outputs": []
    },
    {
      "cell_type": "code",
      "source": [],
      "metadata": {
        "id": "jVmcadVylcRO"
      },
      "execution_count": 11,
      "outputs": []
    },
    {
      "cell_type": "code",
      "source": [
        "# initialize the SMOTE model\n",
        "#smote = SMOTE(random_state=62)\n",
        "smote = SMOTE(k_neighbors=5, random_state=62)\n",
        "\n",
        "# get all dimensions of the X\n",
        "n_samples, height, width, n_channels = [X_train.shape[index] for index in range(4)]\n",
        "\n",
        "print(f\"Shape of X_train before reshape: {X_train.shape}\")\n",
        "\n",
        "# reshape X because SMOTE accepts only (n_samples, n_channels*height*weight)-type data\n",
        "X_train_reshaped = X_train.reshape(n_samples, n_channels*height*width)\n",
        "\n",
        "print(f\"Shape of X_train after reshape: {X_train_reshaped.shape}\")"
      ],
      "metadata": {
        "colab": {
          "base_uri": "https://localhost:8080/"
        },
        "id": "gM8-8ghXHyax",
        "outputId": "a1c6b75e-e2f1-466f-c51e-044b258b2476"
      },
      "execution_count": 12,
      "outputs": [
        {
          "output_type": "stream",
          "name": "stdout",
          "text": [
            "Shape of X_train before reshape: (1159, 256, 256, 3)\n",
            "Shape of X_train after reshape: (1159, 196608)\n"
          ]
        }
      ]
    },
    {
      "cell_type": "code",
      "source": [
        "# perform re-sampling on modified X given y\n",
        "X_smote, y_smote = smote.fit_resample(X_train_reshaped, y_train)"
      ],
      "metadata": {
        "id": "CRTnrJZQHyMo"
      },
      "execution_count": 13,
      "outputs": []
    },
    {
      "cell_type": "code",
      "source": [
        "print(f'Before re-sampling, the number of images:  {len(X_train):6}')\n",
        "print(f'After re-sampling, the number of images:{len(X_smote):10}')"
      ],
      "metadata": {
        "colab": {
          "base_uri": "https://localhost:8080/"
        },
        "id": "XMwQvwWvI7-2",
        "outputId": "bb8827c8-5c05-47be-92fc-82317ceaf29a"
      },
      "execution_count": 14,
      "outputs": [
        {
          "output_type": "stream",
          "name": "stdout",
          "text": [
            "Before re-sampling, the number of images:    1159\n",
            "After re-sampling, the number of images:      2250\n"
          ]
        }
      ]
    },
    {
      "cell_type": "code",
      "source": [
        "# summarize the new class distribution\n",
        "counter = Counter(y_smote)\n",
        "print(counter)"
      ],
      "metadata": {
        "colab": {
          "base_uri": "https://localhost:8080/"
        },
        "id": "qd8GAHFaIwtm",
        "outputId": "76b61359-f6e0-44a8-86a3-1cb8dd0ea289"
      },
      "execution_count": 15,
      "outputs": [
        {
          "output_type": "stream",
          "name": "stdout",
          "text": [
            "Counter({'bands': 250, 'basophils': 250, 'blasts': 250, 'eosinophils': 250, 'lymphocytes': 250, 'metamyelocytes': 250, 'monocytes': 250, 'myelocytes': 250, 'neutrophils': 250})\n"
          ]
        }
      ]
    },
    {
      "cell_type": "code",
      "source": [
        "y_smote_unique_counts = np.unique(y_smote, return_counts=True)"
      ],
      "metadata": {
        "id": "2uLAuFShIwRJ"
      },
      "execution_count": 16,
      "outputs": []
    },
    {
      "cell_type": "code",
      "source": [
        "print(y_smote_unique_counts)"
      ],
      "metadata": {
        "colab": {
          "base_uri": "https://localhost:8080/"
        },
        "id": "pW8bIT1vlGix",
        "outputId": "1090531c-80de-4477-bebf-c45aaa726a7d"
      },
      "execution_count": 17,
      "outputs": [
        {
          "output_type": "stream",
          "name": "stdout",
          "text": [
            "(array(['bands', 'basophils', 'blasts', 'eosinophils', 'lymphocytes',\n",
            "       'metamyelocytes', 'monocytes', 'myelocytes', 'neutrophils'],\n",
            "      dtype='<U14'), array([250, 250, 250, 250, 250, 250, 250, 250, 250]))\n"
          ]
        }
      ]
    },
    {
      "cell_type": "code",
      "source": [
        "# view the resulting balanced data(modified distribution)\n",
        "plt.title('Number of Images in each WBC type')\n",
        "plt.barh(y_smote_unique_counts[0], y_smote_unique_counts[1])\n",
        "plt.show()"
      ],
      "metadata": {
        "colab": {
          "base_uri": "https://localhost:8080/",
          "height": 452
        },
        "id": "w-_2GUUilGgL",
        "outputId": "77c9db8c-b900-408b-dc90-fbda8154f7f1"
      },
      "execution_count": 18,
      "outputs": [
        {
          "output_type": "display_data",
          "data": {
            "text/plain": [
              "<Figure size 640x480 with 1 Axes>"
            ],
            "image/png": "[encoded data removed]"
          },
          "metadata": {}
        }
      ]
    },
    {
      "cell_type": "code",
      "source": [
        "X_train, y_train = X_smote, y_smote"
      ],
      "metadata": {
        "id": "LFZAXhELlMXT"
      },
      "execution_count": 19,
      "outputs": []
    },
    {
      "cell_type": "code",
      "source": [
        "n_samples, height, width, n_channels = 250*9, 256, 256, 3"
      ],
      "metadata": {
        "id": "RdIBzGkSlMUS"
      },
      "execution_count": 20,
      "outputs": []
    },
    {
      "cell_type": "code",
      "source": [
        "X_train = X_train.reshape(n_samples, height, width, n_channels)"
      ],
      "metadata": {
        "id": "bI8494GvlMRl"
      },
      "execution_count": 21,
      "outputs": []
    },
    {
      "cell_type": "code",
      "source": [],
      "metadata": {
        "id": "mNPeYVPRlGcd"
      },
      "execution_count": 21,
      "outputs": []
    },
    {
      "cell_type": "code",
      "source": [],
      "metadata": {
        "id": "QHEUjBSGFZtL"
      },
      "execution_count": 21,
      "outputs": []
    },
    {
      "cell_type": "code",
      "source": [],
      "metadata": {
        "id": "pXek6mWsFZp6"
      },
      "execution_count": 21,
      "outputs": []
    },
    {
      "cell_type": "code",
      "source": [],
      "metadata": {
        "id": "jv2Rfdzp1OzY"
      },
      "execution_count": 21,
      "outputs": []
    },
    {
      "cell_type": "code",
      "source": [
        "#Convert labels to one hot encoding\n",
        "\n",
        "encoder = LabelEncoder()\n",
        "encoder.fit(y_train)\n",
        "encoded_y_train = encoder.transform(y_train)\n",
        "encoded_y_test = encoder.transform(y_test)\n",
        "\n",
        "y_train = np_utils.to_categorical(encoded_y_train)\n",
        "y_test = np_utils.to_categorical(encoded_y_test)\n"
      ],
      "metadata": {
        "id": "M-Hw6QM81OwW"
      },
      "execution_count": 22,
      "outputs": []
    },
    {
      "cell_type": "code",
      "source": [],
      "metadata": {
        "id": "nWbQlzir47-A"
      },
      "execution_count": 22,
      "outputs": []
    },
    {
      "cell_type": "code",
      "source": [
        "from keras.models import Model\n",
        "from keras.layers import Input\n",
        "from keras import optimizers\n"
      ],
      "metadata": {
        "id": "7oil3Apr1zre"
      },
      "execution_count": 23,
      "outputs": []
    },
    {
      "cell_type": "code",
      "source": [
        "num_classes = 9\n",
        "epochs = 10\n",
        "batch_size = 32\n"
      ],
      "metadata": {
        "id": "GGhQlUJ81OrI"
      },
      "execution_count": 24,
      "outputs": []
    },
    {
      "cell_type": "code",
      "source": [
        "base_model = applications.VGG16(include_top=False, weights='imagenet')\n",
        "input = Input(shape=(256, 256, 3), name = 'image_input')\n",
        "vgg_output = base_model(input)\n",
        "\n",
        "top_model = Flatten()(vgg_output)\n",
        "top_model = Dense(64, activation='relu')(top_model)\n",
        "predictions = Dense(num_classes, activation='softmax', name='prediction_layer')(top_model)\n",
        "\n",
        "model = Model(inputs=input, outputs=predictions)\n",
        "\n",
        "# first: train only the top layers (which were randomly initialized)\n",
        "# i.e. freeze all convolutional InceptionV3 layers\n",
        "layers = base_model.layers[:-2]\n",
        "for layer in layers:\n",
        "    layer.trainable = False\n",
        ""
      ],
      "metadata": {
        "colab": {
          "base_uri": "https://localhost:8080/"
        },
        "id": "nf_h1opg1OoU",
        "outputId": "bad8baea-f234-4496-d40b-f5ab6ecd9c97"
      },
      "execution_count": 25,
      "outputs": [
        {
          "output_type": "stream",
          "name": "stdout",
          "text": [
            "Downloading data from https://storage.googleapis.com/tensorflow/keras-applications/vgg16/vgg16_weights_tf_dim_ordering_tf_kernels_notop.h5\n",
            "58889256/58889256 [==============================] - 0s 0us/step\n"
          ]
        }
      ]
    },
    {
      "cell_type": "code",
      "source": [
        "# compile the model (should be done *after* setting layers to non-trainable)\n",
        "model.compile(optimizer='rmsprop', loss='categorical_crossentropy', metrics=['accuracy'])\n"
      ],
      "metadata": {
        "id": "0cYDFX_D1Olg"
      },
      "execution_count": 26,
      "outputs": []
    },
    {
      "cell_type": "code",
      "source": [],
      "metadata": {
        "id": "sq7dZIe21Oim"
      },
      "execution_count": 26,
      "outputs": []
    },
    {
      "cell_type": "code",
      "source": [
        "model.summary()\n"
      ],
      "metadata": {
        "colab": {
          "base_uri": "https://localhost:8080/"
        },
        "id": "KcJXi6Ij1Of8",
        "outputId": "ee9293bc-0a2c-438f-ece1-2e323ddc49cc"
      },
      "execution_count": 27,
      "outputs": [
        {
          "output_type": "stream",
          "name": "stdout",
          "text": [
            "Model: \"model\"\n",
            "_________________________________________________________________\n",
            " Layer (type)                Output Shape              Param #   \n",
            "=================================================================\n",
            " image_input (InputLayer)    [(None, 256, 256, 3)]     0         \n",
            "                                                                 \n",
            " vgg16 (Functional)          (None, None, None, 512)   14714688  \n",
            "                                                                 \n",
            " flatten (Flatten)           (None, 32768)             0         \n",
            "                                                                 \n",
            " dense (Dense)               (None, 64)                2097216   \n",
            "                                                                 \n",
            " prediction_layer (Dense)    (None, 9)                 585       \n",
            "                                                                 \n",
            "=================================================================\n",
            "Total params: 16,812,489\n",
            "Trainable params: 4,457,609\n",
            "Non-trainable params: 12,354,880\n",
            "_________________________________________________________________\n"
          ]
        }
      ]
    },
    {
      "cell_type": "code",
      "source": [
        "model.fit(X_train, y_train, epochs=epochs, batch_size=batch_size, validation_split=0.2, shuffle=True, verbose=1)\n"
      ],
      "metadata": {
        "colab": {
          "base_uri": "https://localhost:8080/"
        },
        "id": "zt0UdqYS1OdE",
        "outputId": "416a2d54-0948-4ec5-bf30-a0ad2df5aee2"
      },
      "execution_count": 28,
      "outputs": [
        {
          "output_type": "stream",
          "name": "stdout",
          "text": [
            "Epoch 1/10\n",
            "57/57 [==============================] - 31s 266ms/step - loss: 2.5915 - accuracy: 0.4161 - val_loss: 1.5531 - val_accuracy: 0.4133\n",
            "Epoch 2/10\n",
            "57/57 [==============================] - 12s 207ms/step - loss: 0.7936 - accuracy: 0.7289 - val_loss: 3.0251 - val_accuracy: 0.1467\n",
            "Epoch 3/10\n",
            "57/57 [==============================] - 12s 210ms/step - loss: 0.4001 - accuracy: 0.8656 - val_loss: 1.5225 - val_accuracy: 0.4978\n",
            "Epoch 4/10\n",
            "57/57 [==============================] - 12s 214ms/step - loss: 0.1771 - accuracy: 0.9439 - val_loss: 2.5289 - val_accuracy: 0.3133\n",
            "Epoch 5/10\n",
            "57/57 [==============================] - 12s 216ms/step - loss: 0.1131 - accuracy: 0.9606 - val_loss: 2.2878 - val_accuracy: 0.4644\n",
            "Epoch 6/10\n",
            "57/57 [==============================] - 13s 222ms/step - loss: 0.0744 - accuracy: 0.9822 - val_loss: 0.8642 - val_accuracy: 0.7400\n",
            "Epoch 7/10\n",
            "57/57 [==============================] - 13s 220ms/step - loss: 0.0945 - accuracy: 0.9789 - val_loss: 0.6793 - val_accuracy: 0.8000\n",
            "Epoch 8/10\n",
            "57/57 [==============================] - 12s 217ms/step - loss: 0.0060 - accuracy: 0.9989 - val_loss: 2.5235 - val_accuracy: 0.6156\n",
            "Epoch 9/10\n",
            "57/57 [==============================] - 12s 216ms/step - loss: 0.0635 - accuracy: 0.9867 - val_loss: 0.9241 - val_accuracy: 0.7689\n",
            "Epoch 10/10\n",
            "57/57 [==============================] - 12s 215ms/step - loss: 1.3832e-04 - accuracy: 1.0000 - val_loss: 1.1106 - val_accuracy: 0.7378\n"
          ]
        },
        {
          "output_type": "execute_result",
          "data": {
            "text/plain": [
              "<keras.callbacks.History at 0x7f5581d54640>"
            ]
          },
          "metadata": {},
          "execution_count": 28
        }
      ]
    },
    {
      "cell_type": "code",
      "source": [
        "model.save_weights('vgg_top.h5')\n"
      ],
      "metadata": {
        "id": "hPLrgF6A1OaD"
      },
      "execution_count": 29,
      "outputs": []
    },
    {
      "cell_type": "code",
      "source": [
        "model.load_weights('vgg_top.h5')\n"
      ],
      "metadata": {
        "id": "HXHOxjOG1OXn"
      },
      "execution_count": 30,
      "outputs": []
    },
    {
      "cell_type": "code",
      "source": [
        "print('Predicting on test data')\n",
        "#y_pred = np.rint(model.predict(X_test))\n",
        "\n",
        "y_pred = model.predict(X_test)\n",
        "\n",
        "print(y_pred)\n"
      ],
      "metadata": {
        "colab": {
          "base_uri": "https://localhost:8080/"
        },
        "id": "_Aco1FCV1OUg",
        "outputId": "0f684d6d-8276-4151-b957-88114b19e194"
      },
      "execution_count": 31,
      "outputs": [
        {
          "output_type": "stream",
          "name": "stdout",
          "text": [
            "Predicting on test data\n",
            "7/7 [==============================] - 6s 880ms/step\n",
            "[[6.22120023e-01 1.17738734e-08 2.43887189e-05 ... 1.11989175e-04\n",
            "  3.18857114e-04 3.66061181e-01]\n",
            " [5.47855496e-01 1.03444819e-07 1.33363747e-08 ... 1.53541472e-02\n",
            "  4.60014576e-07 3.47468197e-01]\n",
            " [3.66579513e-08 1.13443812e-21 5.18259120e-16 ... 1.85028520e-14\n",
            "  2.73845716e-19 1.00000000e+00]\n",
            " ...\n",
            " [9.60616112e-01 9.63010461e-06 8.13466613e-06 ... 2.49265973e-02\n",
            "  6.11268030e-03 4.58363589e-04]\n",
            " [3.60799646e-07 4.10819831e-15 3.52084750e-10 ... 5.76402272e-07\n",
            "  2.71161687e-11 9.99978781e-01]\n",
            " [5.44172032e-08 1.69238870e-17 1.32665406e-10 ... 2.76447146e-11\n",
            "  7.55351888e-17 9.99999881e-01]]\n"
          ]
        }
      ]
    },
    {
      "cell_type": "code",
      "source": [
        "y_pred = np.rint(y_pred)\n",
        "\n",
        "print(y_pred)\n"
      ],
      "metadata": {
        "colab": {
          "base_uri": "https://localhost:8080/"
        },
        "id": "Y3fLzNvT1OSJ",
        "outputId": "e78b1aa0-e7eb-4c24-a6ec-75cda29acba4"
      },
      "execution_count": 32,
      "outputs": [
        {
          "output_type": "stream",
          "name": "stdout",
          "text": [
            "[[1. 0. 0. ... 0. 0. 0.]\n",
            " [1. 0. 0. ... 0. 0. 0.]\n",
            " [0. 0. 0. ... 0. 0. 1.]\n",
            " ...\n",
            " [1. 0. 0. ... 0. 0. 0.]\n",
            " [0. 0. 0. ... 0. 0. 1.]\n",
            " [0. 0. 0. ... 0. 0. 1.]]\n"
          ]
        }
      ]
    },
    {
      "cell_type": "code",
      "source": [
        "from sklearn.metrics import accuracy_score\n"
      ],
      "metadata": {
        "id": "7Bj2JLhO1OPu"
      },
      "execution_count": 33,
      "outputs": []
    },
    {
      "cell_type": "code",
      "source": [
        "print(accuracy_score(y_test, y_pred))\n"
      ],
      "metadata": {
        "colab": {
          "base_uri": "https://localhost:8080/"
        },
        "id": "YuIDO5Ma1ONO",
        "outputId": "7bbc20d9-e43c-4210-f12e-4565447cce6c"
      },
      "execution_count": 34,
      "outputs": [
        {
          "output_type": "stream",
          "name": "stdout",
          "text": [
            "0.7850467289719626\n"
          ]
        }
      ]
    },
    {
      "cell_type": "code",
      "source": [
        "model.summary()\n"
      ],
      "metadata": {
        "colab": {
          "base_uri": "https://localhost:8080/"
        },
        "id": "w8ZO0FL61OLK",
        "outputId": "34b2bb21-a66c-47e6-8576-9b680bc403f5"
      },
      "execution_count": 35,
      "outputs": [
        {
          "output_type": "stream",
          "name": "stdout",
          "text": [
            "Model: \"model\"\n",
            "_________________________________________________________________\n",
            " Layer (type)                Output Shape              Param #   \n",
            "=================================================================\n",
            " image_input (InputLayer)    [(None, 256, 256, 3)]     0         \n",
            "                                                                 \n",
            " vgg16 (Functional)          (None, None, None, 512)   14714688  \n",
            "                                                                 \n",
            " flatten (Flatten)           (None, 32768)             0         \n",
            "                                                                 \n",
            " dense (Dense)               (None, 64)                2097216   \n",
            "                                                                 \n",
            " prediction_layer (Dense)    (None, 9)                 585       \n",
            "                                                                 \n",
            "=================================================================\n",
            "Total params: 16,812,489\n",
            "Trainable params: 4,457,609\n",
            "Non-trainable params: 12,354,880\n",
            "_________________________________________________________________\n"
          ]
        }
      ]
    },
    {
      "cell_type": "code",
      "source": [
        "print(base_model.layers[-2].name)\n"
      ],
      "metadata": {
        "colab": {
          "base_uri": "https://localhost:8080/"
        },
        "id": "4yO7OIP31OIo",
        "outputId": "714811cb-d8d4-4aea-d2be-de106ec6b232"
      },
      "execution_count": 36,
      "outputs": [
        {
          "output_type": "stream",
          "name": "stdout",
          "text": [
            "block5_conv3\n"
          ]
        }
      ]
    },
    {
      "cell_type": "code",
      "source": [
        "from sklearn.metrics import confusion_matrix\n",
        "\n",
        "y_pred_unencoded = np.argmax(y_pred, axis=1)\n",
        "\n",
        "y_test_unencoded = np.argmax(y_test, axis=1)\n",
        "\n",
        "print(confusion_matrix(y_test_unencoded, y_pred_unencoded))\n"
      ],
      "metadata": {
        "colab": {
          "base_uri": "https://localhost:8080/"
        },
        "id": "ueA3Y1VO1OGM",
        "outputId": "127c73d4-aa86-404a-c280-899b9a842194"
      },
      "execution_count": 37,
      "outputs": [
        {
          "output_type": "stream",
          "name": "stdout",
          "text": [
            "[[ 6  0  0  0  0  0  0  2  4]\n",
            " [ 0  4  0  0  0  0  0  0  0]\n",
            " [ 0  0  0  0  1  0  0  0  1]\n",
            " [ 0  0  0  5  0  4  0  0  1]\n",
            " [ 0  0  0  0 74  0  0  1  1]\n",
            " [ 1  1  0  0  1  0  2  1  4]\n",
            " [ 2  0  0  1  0  2  7  0  0]\n",
            " [ 0  0  0  0  4  0  0  0  0]\n",
            " [ 5  0  1  0  2  4  0  0 72]]\n"
          ]
        }
      ]
    },
    {
      "cell_type": "code",
      "source": [],
      "metadata": {
        "id": "8yq4dXta1N5s"
      },
      "execution_count": 37,
      "outputs": []
    },
    {
      "cell_type": "code",
      "source": [],
      "metadata": {
        "id": "uuPqItcS1N20"
      },
      "execution_count": 37,
      "outputs": []
    }
  ]
}