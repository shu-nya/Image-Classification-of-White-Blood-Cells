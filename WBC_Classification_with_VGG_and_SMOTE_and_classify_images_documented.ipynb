{
  "nbformat": 4,
  "nbformat_minor": 0,
  "metadata": {
    "colab": {
      "provenance": [],
      "gpuType": "T4",
      "authorship_tag": "ABX9TyOg+6833y7+Ycd6D2jsDdlG",
      "include_colab_link": true
    },
    "kernelspec": {
      "name": "python3",
      "display_name": "Python 3"
    },
    "language_info": {
      "name": "python"
    }
  },
  "cells": [
    {
      "cell_type": "markdown",
      "metadata": {
        "id": "view-in-github",
        "colab_type": "text"
      },
      "source": [
        "<a href=\"https://colab.research.google.com/github/shu-nya/Image-Classification-of-White-Blood-Cells/blob/master/WBC_Classification_with_VGG_and_SMOTE_and_classify_images_documented.ipynb\" target=\"_parent\"><img src=\"https://colab.research.google.com/assets/colab-badge.svg\" alt=\"Open In Colab\"/></a>"
      ]
    },
    {
      "cell_type": "markdown",
      "source": [
        "## Install and import the necessary libraries"
      ],
      "metadata": {
        "id": "fzG3XTsyBFw0"
      }
    },
    {
      "cell_type": "code",
      "source": [
        "!pip install imblearn\n"
      ],
      "metadata": {
        "colab": {
          "base_uri": "https://localhost:8080/"
        },
        "id": "ddpnOBjBFJT8",
        "outputId": "17c6fa0a-385a-4b97-b088-4074bfa1ce96"
      },
      "execution_count": null,
      "outputs": [
        {
          "output_type": "stream",
          "name": "stdout",
          "text": [
            "Collecting imblearn\n",
            "  Downloading imblearn-0.0-py2.py3-none-any.whl (1.9 kB)\n",
            "Requirement already satisfied: imbalanced-learn in /usr/local/lib/python3.10/dist-packages (from imblearn) (0.10.1)\n",
            "Requirement already satisfied: numpy>=1.17.3 in /usr/local/lib/python3.10/dist-packages (from imbalanced-learn->imblearn) (1.22.4)\n",
            "Requirement already satisfied: scipy>=1.3.2 in /usr/local/lib/python3.10/dist-packages (from imbalanced-learn->imblearn) (1.10.1)\n",
            "Requirement already satisfied: scikit-learn>=1.0.2 in /usr/local/lib/python3.10/dist-packages (from imbalanced-learn->imblearn) (1.2.2)\n",
            "Requirement already satisfied: joblib>=1.1.1 in /usr/local/lib/python3.10/dist-packages (from imbalanced-learn->imblearn) (1.2.0)\n",
            "Requirement already satisfied: threadpoolctl>=2.0.0 in /usr/local/lib/python3.10/dist-packages (from imbalanced-learn->imblearn) (3.1.0)\n",
            "Installing collected packages: imblearn\n",
            "Successfully installed imblearn-0.0\n"
          ]
        }
      ]
    },
    {
      "cell_type": "code",
      "execution_count": null,
      "metadata": {
        "id": "KBmEj0RR1MRP"
      },
      "outputs": [],
      "source": [
        "import numpy as np\n",
        "import cv2\n",
        "import os\n",
        "import shutil\n",
        "\n",
        "import matplotlib.pyplot as plt\n",
        "from imblearn.over_sampling import SMOTE\n",
        "from collections import Counter\n",
        "\n",
        "from keras.models import Sequential\n",
        "from keras import applications\n",
        "from keras import optimizers\n",
        "from keras.layers import Dense, Dropout, Activation, Flatten\n",
        "from keras.layers import Input, Conv2D, MaxPooling2D, Lambda\n",
        "from keras.layers import Dense\n",
        "from keras.models import Model\n",
        "from keras.wrappers.scikit_learn import KerasClassifier\n",
        "from keras.utils import to_categorical\n",
        "from keras.utils import np_utils\n",
        "\n",
        "from sklearn.preprocessing import LabelEncoder\n",
        "from sklearn.metrics import accuracy_score\n",
        "from sklearn.metrics import confusion_matrix\n",
        "\n",
        "import warnings\n",
        "warnings.filterwarnings('ignore')\n",
        "\n",
        "%matplotlib inline\n"
      ]
    },
    {
      "cell_type": "code",
      "source": [],
      "metadata": {
        "id": "2w21WL8pB0nm"
      },
      "execution_count": null,
      "outputs": []
    },
    {
      "cell_type": "markdown",
      "source": [
        "## Mount google drive to load the dataset"
      ],
      "metadata": {
        "id": "C0bKnRCYB0MO"
      }
    },
    {
      "cell_type": "code",
      "source": [
        "# mount the drive\n",
        "\n",
        "from google.colab import drive\n",
        "drive.mount('/content/drive')\n"
      ],
      "metadata": {
        "colab": {
          "base_uri": "https://localhost:8080/"
        },
        "id": "M3TTF4TQ1PE1",
        "outputId": "ac244365-03db-440f-fd10-8499e55ad830"
      },
      "execution_count": null,
      "outputs": [
        {
          "output_type": "stream",
          "name": "stdout",
          "text": [
            "Mounted at /content/drive\n"
          ]
        }
      ]
    },
    {
      "cell_type": "code",
      "source": [
        "# path to the base folder\n",
        "\n",
        "BASE_DIR = '/content/drive/MyDrive/taskMedPrime'\n"
      ],
      "metadata": {
        "id": "eu15MYI01PBw"
      },
      "execution_count": null,
      "outputs": []
    },
    {
      "cell_type": "code",
      "source": [
        "# number of classes into which the classifications are to be made\n",
        "num_classes = 9\n",
        "\n",
        "# classes into which the classifications are to be made\n",
        "classes = ['bands', 'basophils', 'blasts', 'eosinophils', 'lymphocytes', 'metamyelocytes', 'monocytes', 'myelocytes', 'neutrophils']\n"
      ],
      "metadata": {
        "id": "DFUrlXARCIav"
      },
      "execution_count": null,
      "outputs": []
    },
    {
      "cell_type": "code",
      "source": [],
      "metadata": {
        "id": "m-Pr4_SgCaop"
      },
      "execution_count": null,
      "outputs": []
    },
    {
      "cell_type": "markdown",
      "source": [
        "## Create the variables X and y"
      ],
      "metadata": {
        "id": "0s7a_xUHCaWS"
      }
    },
    {
      "cell_type": "code",
      "source": [
        "# method to get the images as independent variable X and their labels as the dependent variable y\n",
        "\n",
        "def get_data(folder):\n",
        "    X = []\n",
        "    y = []\n",
        "\n",
        "    # if the image files in the folder wbc are not empty then read the files\n",
        "    # and convert the images as numpy arrays\n",
        "    # append the image numpy arrays to the independent variable X\n",
        "    # and append their labels to y\n",
        "\n",
        "    for wbc_type in os.listdir(folder):\n",
        "        if not wbc_type.startswith('.'):\n",
        "\n",
        "            for image_filename in os.listdir(folder + '/' + wbc_type):\n",
        "                img_file = cv2.imread(folder + '/' + wbc_type + '/' + image_filename)\n",
        "\n",
        "                if img_file is not None:\n",
        "                    img_arr = np.asarray(img_file)\n",
        "                    X.append(img_arr)\n",
        "                    y.append(wbc_type)\n",
        "\n",
        "    # create numpy arrays of X and y\n",
        "\n",
        "    X = np.asarray(X)\n",
        "    y = np.asarray(y)\n",
        "\n",
        "    return X,y\n"
      ],
      "metadata": {
        "id": "Zhh87iJO1O7l"
      },
      "execution_count": null,
      "outputs": []
    },
    {
      "cell_type": "code",
      "source": [
        "# call the get_data method using the path to the train and test folders as arguments\n",
        "# to get the variables X_train, y_train, X_test and y_test\n",
        "\n",
        "X_train, y_train = get_data(BASE_DIR + '/train')\n",
        "X_test, y_test = get_data(BASE_DIR + '/test')\n"
      ],
      "metadata": {
        "id": "D1YQH6cq1O4s"
      },
      "execution_count": null,
      "outputs": []
    },
    {
      "cell_type": "code",
      "source": [
        "# normalize X_train and X_test\n",
        "# it will make images contribute more evenly to the total loss\n",
        "\n",
        "X_train = X_train * 1./255.\n",
        "X_test = X_test * 1./255.\n"
      ],
      "metadata": {
        "id": "XBbEPUEv1O17"
      },
      "execution_count": null,
      "outputs": []
    },
    {
      "cell_type": "code",
      "source": [
        "# summarize class distribution in the train dataset after augmentation\n",
        "\n",
        "counter = Counter(y_train)\n",
        "print(counter)\n"
      ],
      "metadata": {
        "colab": {
          "base_uri": "https://localhost:8080/"
        },
        "id": "7A8AL_K265eR",
        "outputId": "e837661f-24ee-4fe3-8b8a-8f5694432b82"
      },
      "execution_count": null,
      "outputs": [
        {
          "output_type": "stream",
          "name": "stdout",
          "text": [
            "Counter({'neutrophils': 250, 'lymphocytes': 234, 'monocytes': 106, 'bands': 103, 'eosinophils': 102, 'metamyelocytes': 102, 'myelocytes': 89, 'basophils': 88, 'blasts': 84})\n"
          ]
        }
      ]
    },
    {
      "cell_type": "code",
      "source": [
        "# plot the number of images in each sub-folder of the train dataset\n",
        "\n",
        "y_train_unique_counts = np.unique(y_train, return_counts=True)\n",
        "\n",
        "plt.title('Number of Images in each WBC type')\n",
        "plt.barh(y_train_unique_counts[0], y_train_unique_counts[1])\n",
        "plt.show()\n"
      ],
      "metadata": {
        "colab": {
          "base_uri": "https://localhost:8080/",
          "height": 452
        },
        "id": "JvuficAI5MJ4",
        "outputId": "5b229f4a-5ec4-4ec2-89ae-92be02fab299"
      },
      "execution_count": null,
      "outputs": [
        {
          "output_type": "display_data",
          "data": {
            "text/plain": [
              "<Figure size 640x480 with 1 Axes>"
            ],
            "image/png": "[encoded data removed]"
          },
          "metadata": {}
        }
      ]
    },
    {
      "cell_type": "code",
      "source": [],
      "metadata": {
        "id": "6XqSdKRDaY1y"
      },
      "execution_count": null,
      "outputs": []
    },
    {
      "cell_type": "markdown",
      "source": [
        "## SMOTE to treat the imbalance in the dataset"
      ],
      "metadata": {
        "id": "QbcAkmGfGr56"
      }
    },
    {
      "cell_type": "code",
      "source": [
        "# get all the dimensions of X_train\n",
        "\n",
        "n_samples, height, width, n_channels = [X_train.shape[index] for index in range(4)]\n",
        "print(f\"Shape of X_train before reshape: {X_train.shape}\")\n"
      ],
      "metadata": {
        "colab": {
          "base_uri": "https://localhost:8080/"
        },
        "id": "sHrUMT2VHDGz",
        "outputId": "cbc0b641-44b9-4d1c-8867-685c8e918125"
      },
      "execution_count": null,
      "outputs": [
        {
          "output_type": "stream",
          "name": "stdout",
          "text": [
            "Shape of X_train before reshape: (1158, 256, 256, 3)\n"
          ]
        }
      ]
    },
    {
      "cell_type": "code",
      "source": [
        "# reshape X because SMOTE accepts only (n_samples, n_channels*height*weight) type data\n",
        "\n",
        "X_train_reshaped = X_train.reshape(n_samples, n_channels*height*width)\n",
        "print(f\"Shape of X_train after reshape: {X_train_reshaped.shape}\")\n"
      ],
      "metadata": {
        "colab": {
          "base_uri": "https://localhost:8080/"
        },
        "id": "OcM3HWYhHFxg",
        "outputId": "7514a313-37d1-41d6-f9ad-e890b5a5724d"
      },
      "execution_count": null,
      "outputs": [
        {
          "output_type": "stream",
          "name": "stdout",
          "text": [
            "Shape of X_train after reshape: (1158, 196608)\n"
          ]
        }
      ]
    },
    {
      "cell_type": "code",
      "source": [
        "# initialize the SMOTE model\n",
        "\n",
        "smote = SMOTE(k_neighbors=5, random_state=62)\n"
      ],
      "metadata": {
        "id": "gM8-8ghXHyax"
      },
      "execution_count": null,
      "outputs": []
    },
    {
      "cell_type": "code",
      "source": [
        "# perform re-sampling on modified X given y of the train data\n",
        "\n",
        "X_smote, y_smote = smote.fit_resample(X_train_reshaped, y_train)\n"
      ],
      "metadata": {
        "id": "CRTnrJZQHyMo"
      },
      "execution_count": null,
      "outputs": []
    },
    {
      "cell_type": "code",
      "source": [
        "# number of images before and after applying SMOTE\n",
        "\n",
        "print(f'Before re-sampling, the number of images: {len(X_train):2}')\n",
        "print(f'After re-sampling, the number of images: {len(X_smote):2}')\n"
      ],
      "metadata": {
        "colab": {
          "base_uri": "https://localhost:8080/"
        },
        "id": "XMwQvwWvI7-2",
        "outputId": "d3a96100-9174-4346-be17-1227842463d4"
      },
      "execution_count": null,
      "outputs": [
        {
          "output_type": "stream",
          "name": "stdout",
          "text": [
            "Before re-sampling, the number of images: 1158\n",
            "After re-sampling, the number of images: 2250\n"
          ]
        }
      ]
    },
    {
      "cell_type": "markdown",
      "source": [
        "### Observations:\n",
        "\n",
        "1. The number of samples in the train dataset has increased from 1158 to 2250 after applying SMOTE"
      ],
      "metadata": {
        "id": "iFS681VdY0Cc"
      }
    },
    {
      "cell_type": "code",
      "source": [
        "# summarize the new class distribution after applying SMOTE on the train data\n",
        "\n",
        "counter = Counter(y_smote)\n",
        "print(counter)\n"
      ],
      "metadata": {
        "colab": {
          "base_uri": "https://localhost:8080/"
        },
        "id": "qd8GAHFaIwtm",
        "outputId": "3635987f-deca-464f-acaa-c32a2c80e823"
      },
      "execution_count": null,
      "outputs": [
        {
          "output_type": "stream",
          "name": "stdout",
          "text": [
            "Counter({'bands': 250, 'basophils': 250, 'blasts': 250, 'eosinophils': 250, 'lymphocytes': 250, 'metamyelocytes': 250, 'monocytes': 250, 'myelocytes': 250, 'neutrophils': 250})\n"
          ]
        }
      ]
    },
    {
      "cell_type": "code",
      "source": [
        "# view the resulting balanced data (modified distribution) after applying SMOTE\n",
        "\n",
        "y_smote_unique_counts = np.unique(y_smote, return_counts=True)\n",
        "print(y_smote_unique_counts)\n",
        "\n",
        "plt.title('Number of Images in each WBC type')\n",
        "plt.barh(y_smote_unique_counts[0], y_smote_unique_counts[1])\n",
        "plt.show()\n"
      ],
      "metadata": {
        "colab": {
          "base_uri": "https://localhost:8080/",
          "height": 504
        },
        "id": "w-_2GUUilGgL",
        "outputId": "38d1f2dc-e4d5-4f51-9538-7d4eede7a164"
      },
      "execution_count": null,
      "outputs": [
        {
          "output_type": "stream",
          "name": "stdout",
          "text": [
            "(array(['bands', 'basophils', 'blasts', 'eosinophils', 'lymphocytes',\n",
            "       'metamyelocytes', 'monocytes', 'myelocytes', 'neutrophils'],\n",
            "      dtype='<U14'), array([250, 250, 250, 250, 250, 250, 250, 250, 250]))\n"
          ]
        },
        {
          "output_type": "display_data",
          "data": {
            "text/plain": [
              "<Figure size 640x480 with 1 Axes>"
            ],
            "image/png": "[encoded data removed]"
          },
          "metadata": {}
        }
      ]
    },
    {
      "cell_type": "markdown",
      "source": [
        "### Observations:\n",
        "\n",
        "1. Each class in the train dataset has 250 samples after applying SMOTE\n",
        "2. This removes the imbalance in the train dataset"
      ],
      "metadata": {
        "id": "pHj3Ujf8ZPJ7"
      }
    },
    {
      "cell_type": "code",
      "source": [
        "# assign the values of X_smote and y_smote to X_train and y_train respectively\n",
        "\n",
        "X_train, y_train = X_smote, y_smote\n"
      ],
      "metadata": {
        "id": "LFZAXhELlMXT"
      },
      "execution_count": null,
      "outputs": []
    },
    {
      "cell_type": "code",
      "source": [
        "# re-shape the dimension of X_train that was changed to apply SMOTE\n",
        "\n",
        "n_samples, height, width, n_channels = 250*9, 256, 256, 3\n",
        "\n",
        "X_train = X_train.reshape(n_samples, height, width, n_channels)\n"
      ],
      "metadata": {
        "id": "RdIBzGkSlMUS"
      },
      "execution_count": null,
      "outputs": []
    },
    {
      "cell_type": "code",
      "source": [
        "# get all the dimensions of X_train\n",
        "\n",
        "n_samples, height, width, n_channels = [X_train.shape[index] for index in range(4)]\n",
        "print(f\"Shape of X_train before reshape: {X_train.shape}\")\n"
      ],
      "metadata": {
        "colab": {
          "base_uri": "https://localhost:8080/"
        },
        "id": "mwEHXcS5Z1Lr",
        "outputId": "d7a146f8-8bf8-4d6f-cccd-3b76d4e6309e"
      },
      "execution_count": null,
      "outputs": [
        {
          "output_type": "stream",
          "name": "stdout",
          "text": [
            "Shape of X_train before reshape: (2250, 256, 256, 3)\n"
          ]
        }
      ]
    },
    {
      "cell_type": "markdown",
      "source": [
        "### Observations:\n",
        "\n",
        "1. Shape of X_train has been restored for training the model"
      ],
      "metadata": {
        "id": "thi70TZxZxc8"
      }
    },
    {
      "cell_type": "code",
      "source": [],
      "metadata": {
        "id": "9WmI-hcNafcq"
      },
      "execution_count": null,
      "outputs": []
    },
    {
      "cell_type": "markdown",
      "source": [
        "## One-hot encoding of the labels"
      ],
      "metadata": {
        "id": "ymywygQWFzbk"
      }
    },
    {
      "cell_type": "code",
      "source": [
        "# Convert the labels in y_train using one-hot encoding\n",
        "\n",
        "encoder = LabelEncoder()\n",
        "encoder.fit(y_train)\n",
        "encoded_y_train = encoder.transform(y_train)\n",
        "encoded_y_test = encoder.transform(y_test)\n",
        "\n",
        "y_train = np_utils.to_categorical(encoded_y_train)\n",
        "y_test = np_utils.to_categorical(encoded_y_test)\n"
      ],
      "metadata": {
        "id": "M-Hw6QM81OwW"
      },
      "execution_count": null,
      "outputs": []
    },
    {
      "cell_type": "code",
      "source": [],
      "metadata": {
        "id": "7oil3Apr1zre"
      },
      "execution_count": null,
      "outputs": []
    },
    {
      "cell_type": "markdown",
      "source": [
        "## Model: VGG16"
      ],
      "metadata": {
        "id": "PcDcxoZNITOv"
      }
    },
    {
      "cell_type": "code",
      "source": [
        "# define the variables to be used in the model\n",
        "\n",
        "num_classes = 9\n",
        "\n",
        "epochs = 10\n",
        "batch_size = 32\n"
      ],
      "metadata": {
        "id": "GGhQlUJ81OrI"
      },
      "execution_count": null,
      "outputs": []
    },
    {
      "cell_type": "code",
      "source": [
        "# define the VGG16 model\n",
        "\n",
        "base_model = applications.VGG16(include_top=False, weights='imagenet')\n",
        "input = Input(shape=(256, 256, 3), name = 'image_input')\n",
        "vgg_output = base_model(input)\n",
        "\n",
        "top_model = Flatten()(vgg_output)\n",
        "top_model = Dense(64, activation='relu')(top_model)\n",
        "predictions = Dense(num_classes, activation='softmax', name='prediction_layer')(top_model)\n",
        "\n",
        "model = Model(inputs=input, outputs=predictions)\n",
        "\n",
        "# first: train only the top layers (which were randomly initialized)\n",
        "# i.e. freeze all convolutional InceptionV3 layers\n",
        "\n",
        "layers = base_model.layers[:-2]\n",
        "for layer in layers:\n",
        "    layer.trainable = False\n"
      ],
      "metadata": {
        "colab": {
          "base_uri": "https://localhost:8080/"
        },
        "id": "nf_h1opg1OoU",
        "outputId": "5bc0af4a-4d9c-4b01-f7eb-4dd3c3258d47"
      },
      "execution_count": null,
      "outputs": [
        {
          "output_type": "stream",
          "name": "stdout",
          "text": [
            "Downloading data from https://storage.googleapis.com/tensorflow/keras-applications/vgg16/vgg16_weights_tf_dim_ordering_tf_kernels_notop.h5\n",
            "58889256/58889256 [==============================] - 4s 0us/step\n"
          ]
        }
      ]
    },
    {
      "cell_type": "code",
      "source": [
        "# compile the model (should be done after setting layers to non-trainable)\n",
        "\n",
        "model.compile(optimizer='rmsprop', loss='categorical_crossentropy', metrics=['accuracy'])\n"
      ],
      "metadata": {
        "id": "0cYDFX_D1Olg"
      },
      "execution_count": null,
      "outputs": []
    },
    {
      "cell_type": "markdown",
      "source": [
        "### Note:\n",
        "\n",
        "Accuracy is used as a metric for model evaluation because it is more important that the model classifies each image correctly rather than penalizing the False-Positives (Precision) or the False-Negatives (Recall) or penalizing both (F1)."
      ],
      "metadata": {
        "id": "xNDKdYnB74wY"
      }
    },
    {
      "cell_type": "code",
      "source": [
        "# model summary\n",
        "\n",
        "model.summary()\n"
      ],
      "metadata": {
        "colab": {
          "base_uri": "https://localhost:8080/"
        },
        "id": "KcJXi6Ij1Of8",
        "outputId": "54543b93-387b-46ff-945e-367d12f3780c"
      },
      "execution_count": null,
      "outputs": [
        {
          "output_type": "stream",
          "name": "stdout",
          "text": [
            "Model: \"model\"\n",
            "_________________________________________________________________\n",
            " Layer (type)                Output Shape              Param #   \n",
            "=================================================================\n",
            " image_input (InputLayer)    [(None, 256, 256, 3)]     0         \n",
            "                                                                 \n",
            " vgg16 (Functional)          (None, None, None, 512)   14714688  \n",
            "                                                                 \n",
            " flatten (Flatten)           (None, 32768)             0         \n",
            "                                                                 \n",
            " dense (Dense)               (None, 64)                2097216   \n",
            "                                                                 \n",
            " prediction_layer (Dense)    (None, 9)                 585       \n",
            "                                                                 \n",
            "=================================================================\n",
            "Total params: 16,812,489\n",
            "Trainable params: 4,457,609\n",
            "Non-trainable params: 12,354,880\n",
            "_________________________________________________________________\n"
          ]
        }
      ]
    },
    {
      "cell_type": "code",
      "source": [
        "# fit the model on train data\n",
        "\n",
        "model.fit(X_train, y_train, epochs=epochs, batch_size=batch_size, validation_split=0.2, shuffle=True, verbose=1)\n"
      ],
      "metadata": {
        "colab": {
          "base_uri": "https://localhost:8080/"
        },
        "id": "zt0UdqYS1OdE",
        "outputId": "ba2170bb-0207-4be7-f949-eb5e6fe633d5"
      },
      "execution_count": null,
      "outputs": [
        {
          "output_type": "stream",
          "name": "stdout",
          "text": [
            "Epoch 1/10\n",
            "57/57 [==============================] - 33s 301ms/step - loss: 2.6595 - accuracy: 0.4644 - val_loss: 3.1047 - val_accuracy: 0.0067\n",
            "Epoch 2/10\n",
            "57/57 [==============================] - 11s 194ms/step - loss: 0.8156 - accuracy: 0.7306 - val_loss: 1.6542 - val_accuracy: 0.4511\n",
            "Epoch 3/10\n",
            "57/57 [==============================] - 11s 188ms/step - loss: 0.3944 - accuracy: 0.8761 - val_loss: 1.6631 - val_accuracy: 0.4711\n",
            "Epoch 4/10\n",
            "57/57 [==============================] - 11s 191ms/step - loss: 0.1925 - accuracy: 0.9400 - val_loss: 2.6777 - val_accuracy: 0.3956\n",
            "Epoch 5/10\n",
            "57/57 [==============================] - 11s 193ms/step - loss: 0.1197 - accuracy: 0.9567 - val_loss: 0.6379 - val_accuracy: 0.8222\n",
            "Epoch 6/10\n",
            "57/57 [==============================] - 11s 196ms/step - loss: 0.1006 - accuracy: 0.9772 - val_loss: 1.2940 - val_accuracy: 0.6689\n",
            "Epoch 7/10\n",
            "57/57 [==============================] - 12s 204ms/step - loss: 0.0685 - accuracy: 0.9872 - val_loss: 1.8338 - val_accuracy: 0.6400\n",
            "Epoch 8/10\n",
            "57/57 [==============================] - 11s 201ms/step - loss: 0.0506 - accuracy: 0.9900 - val_loss: 1.5939 - val_accuracy: 0.6644\n",
            "Epoch 9/10\n",
            "57/57 [==============================] - 12s 209ms/step - loss: 0.0123 - accuracy: 0.9961 - val_loss: 1.3056 - val_accuracy: 0.7578\n",
            "Epoch 10/10\n",
            "57/57 [==============================] - 12s 208ms/step - loss: 0.0437 - accuracy: 0.9911 - val_loss: 1.6031 - val_accuracy: 0.7000\n"
          ]
        },
        {
          "output_type": "execute_result",
          "data": {
            "text/plain": [
              "<keras.callbacks.History at 0x7f8a99edc0a0>"
            ]
          },
          "metadata": {},
          "execution_count": 25
        }
      ]
    },
    {
      "cell_type": "code",
      "source": [
        "# save the weights of the model\n",
        "\n",
        "model.save_weights('vgg_top.h5')\n"
      ],
      "metadata": {
        "id": "hPLrgF6A1OaD"
      },
      "execution_count": null,
      "outputs": []
    },
    {
      "cell_type": "code",
      "source": [
        "# load the weights of the moodel\n",
        "\n",
        "model.load_weights('vgg_top.h5')\n"
      ],
      "metadata": {
        "id": "HXHOxjOG1OXn"
      },
      "execution_count": null,
      "outputs": []
    },
    {
      "cell_type": "code",
      "source": [],
      "metadata": {
        "id": "IvriFN5CaiKS"
      },
      "execution_count": null,
      "outputs": []
    },
    {
      "cell_type": "markdown",
      "source": [
        "## Make predictions on the test dataset that was created using 20% images of the wbc folder"
      ],
      "metadata": {
        "id": "Y_zmfE38OM5A"
      }
    },
    {
      "cell_type": "code",
      "source": [
        "# predictions on the test dataset\n",
        "\n",
        "y_pred = model.predict(X_test)\n",
        "\n",
        "print(y_pred)\n"
      ],
      "metadata": {
        "colab": {
          "base_uri": "https://localhost:8080/"
        },
        "id": "_Aco1FCV1OUg",
        "outputId": "b54ea598-50f7-41d7-db16-bc8267d9dbdd"
      },
      "execution_count": null,
      "outputs": [
        {
          "output_type": "stream",
          "name": "stdout",
          "text": [
            "7/7 [==============================] - 6s 885ms/step\n",
            "[[1.3585199e-08 4.5656844e-04 2.0685566e-13 ... 2.7117966e-04\n",
            "  6.0474789e-03 6.1128126e-06]\n",
            " [6.8576663e-04 9.4036203e-08 1.7725731e-07 ... 1.2718051e-03\n",
            "  1.9160411e-06 9.8258334e-01]\n",
            " [1.8450766e-05 6.7128786e-10 2.1832362e-12 ... 2.9066907e-05\n",
            "  6.4727737e-11 9.9948823e-01]\n",
            " ...\n",
            " [1.5754960e-02 4.8673159e-09 5.5631575e-09 ... 3.3602294e-06\n",
            "  1.5342486e-07 9.8252583e-01]\n",
            " [2.0355514e-01 2.2528241e-08 2.5449097e-07 ... 9.6610514e-05\n",
            "  3.0199553e-06 7.9550707e-01]\n",
            " [1.8370044e-03 2.3492580e-10 1.4682155e-12 ... 1.6339909e-06\n",
            "  3.1751224e-10 9.9041945e-01]]\n"
          ]
        }
      ]
    },
    {
      "cell_type": "code",
      "source": [
        "# rounding the elements of the y_pred array to the nearest integer using np.rint\n",
        "\n",
        "y_pred = np.rint(y_pred)\n",
        "\n",
        "print(y_pred)\n"
      ],
      "metadata": {
        "colab": {
          "base_uri": "https://localhost:8080/"
        },
        "id": "Y3fLzNvT1OSJ",
        "outputId": "1fa15534-2c0d-43be-9aad-0703e4f7e6e3"
      },
      "execution_count": null,
      "outputs": [
        {
          "output_type": "stream",
          "name": "stdout",
          "text": [
            "[[0. 0. 0. ... 0. 0. 0.]\n",
            " [0. 0. 0. ... 0. 0. 1.]\n",
            " [0. 0. 0. ... 0. 0. 1.]\n",
            " ...\n",
            " [0. 0. 0. ... 0. 0. 1.]\n",
            " [0. 0. 0. ... 0. 0. 1.]\n",
            " [0. 0. 0. ... 0. 0. 1.]]\n"
          ]
        }
      ]
    },
    {
      "cell_type": "code",
      "source": [
        "# print the accuracy obtained on the test data\n",
        "\n",
        "print(accuracy_score(y_test, y_pred))\n"
      ],
      "metadata": {
        "colab": {
          "base_uri": "https://localhost:8080/"
        },
        "id": "YuIDO5Ma1ONO",
        "outputId": "fb2749b4-b9d1-4a33-85ae-67b6acc86652"
      },
      "execution_count": null,
      "outputs": [
        {
          "output_type": "stream",
          "name": "stdout",
          "text": [
            "0.7663551401869159\n"
          ]
        }
      ]
    },
    {
      "cell_type": "code",
      "source": [
        "# the confusion matrix\n",
        "\n",
        "y_pred_unencoded = np.argmax(y_pred, axis=1)\n",
        "y_test_unencoded = np.argmax(y_test, axis=1)\n",
        "\n",
        "print(confusion_matrix(y_test_unencoded, y_pred_unencoded))\n"
      ],
      "metadata": {
        "colab": {
          "base_uri": "https://localhost:8080/"
        },
        "id": "ueA3Y1VO1OGM",
        "outputId": "48544297-8831-4ee6-cc3a-b60ee64832e6"
      },
      "execution_count": null,
      "outputs": [
        {
          "output_type": "stream",
          "name": "stdout",
          "text": [
            "[[ 4  0  0  0  0  2  0  0  6]\n",
            " [ 1  2  0  0  1  0  0  0  0]\n",
            " [ 0  0  0  0  0  0  0  0  2]\n",
            " [ 0  0  0  6  0  0  0  0  4]\n",
            " [ 0  0  0  0 72  0  0  3  1]\n",
            " [ 0  3  0  0  0  3  1  0  3]\n",
            " [ 1  2  0  0  0  0  9  0  0]\n",
            " [ 0  0  0  0  2  2  0  0  0]\n",
            " [ 7  0  0  2  5  1  0  1 68]]\n"
          ]
        }
      ]
    },
    {
      "cell_type": "code",
      "source": [],
      "metadata": {
        "id": "Gp8kZYoUyGVg"
      },
      "execution_count": null,
      "outputs": []
    },
    {
      "cell_type": "markdown",
      "source": [
        "# Making prediction on the *classify-images* dataset"
      ],
      "metadata": {
        "id": "xYNFycXmK-vB"
      }
    },
    {
      "cell_type": "code",
      "source": [
        "# define get_data_classify_images to load the images in the classify-images folder\n",
        "\n",
        "def get_data_classify_images(folder):\n",
        "\n",
        "    X = []\n",
        "\n",
        "    for image_filename in os.listdir(folder):\n",
        "        img_file = cv2.imread(folder + '/' + image_filename)\n",
        "\n",
        "        if img_file is not None:\n",
        "            img_arr = np.asarray(img_file)\n",
        "            X.append(img_arr)\n",
        "\n",
        "    X = np.asarray(X)\n",
        "\n",
        "    return X\n"
      ],
      "metadata": {
        "id": "TXcLkHMsyHM6"
      },
      "execution_count": null,
      "outputs": []
    },
    {
      "cell_type": "code",
      "source": [
        "# call the get_data_classify_images method using the path of classify-images folder as the argument\n",
        "\n",
        "X_classify_images = get_data_classify_images(BASE_DIR + '/classify-images')\n"
      ],
      "metadata": {
        "id": "w440nL2oyQ_m"
      },
      "execution_count": null,
      "outputs": []
    },
    {
      "cell_type": "code",
      "source": [
        "# load weights of the model\n",
        "\n",
        "model.load_weights('vgg_top.h5')\n"
      ],
      "metadata": {
        "id": "9oAnA9L41oJa"
      },
      "execution_count": null,
      "outputs": []
    },
    {
      "cell_type": "code",
      "source": [
        "# prediction on the classify-images data\n",
        "\n",
        "y_pred_classify_images = model.predict(X_classify_images)\n"
      ],
      "metadata": {
        "colab": {
          "base_uri": "https://localhost:8080/"
        },
        "id": "iT2rXsN11tVU",
        "outputId": "140876fb-dd9b-4f63-a430-565cd621e817"
      },
      "execution_count": null,
      "outputs": [
        {
          "output_type": "stream",
          "name": "stdout",
          "text": [
            "2/2 [==============================] - 5s 5s/step\n"
          ]
        }
      ]
    },
    {
      "cell_type": "code",
      "source": [
        "# rounding the elements of the y_pred array to the nearest integer using np.rint\n",
        "\n",
        "y_pred_classify_images = np.rint(y_pred_classify_images)\n",
        "\n",
        "print('Prediction on the classify-images data')\n",
        "print()\n",
        "\n",
        "print(y_pred_classify_images)\n"
      ],
      "metadata": {
        "colab": {
          "base_uri": "https://localhost:8080/"
        },
        "id": "UNe5m3w01tSr",
        "outputId": "22201843-f57e-4620-a7d5-47745f982df2"
      },
      "execution_count": null,
      "outputs": [
        {
          "output_type": "stream",
          "name": "stdout",
          "text": [
            "Prediction on the classify-images data\n",
            "\n",
            "[[0. 1. 0. 0. 0. 0. 0. 0. 0.]\n",
            " [0. 0. 0. 1. 0. 0. 0. 0. 0.]\n",
            " [0. 0. 0. 0. 1. 0. 0. 0. 0.]\n",
            " [0. 0. 0. 0. 0. 0. 0. 0. 1.]\n",
            " [0. 0. 0. 0. 0. 0. 0. 0. 1.]\n",
            " [0. 0. 0. 0. 0. 0. 1. 0. 0.]\n",
            " [0. 0. 0. 0. 0. 0. 0. 0. 1.]\n",
            " [0. 0. 0. 0. 1. 0. 0. 0. 0.]\n",
            " [0. 0. 0. 0. 0. 0. 0. 0. 1.]\n",
            " [0. 0. 0. 0. 0. 1. 0. 0. 0.]\n",
            " [0. 0. 0. 0. 1. 0. 0. 0. 0.]\n",
            " [0. 0. 0. 0. 0. 0. 0. 0. 1.]\n",
            " [0. 0. 0. 0. 0. 0. 0. 0. 1.]\n",
            " [0. 0. 0. 0. 0. 0. 0. 0. 1.]\n",
            " [0. 0. 0. 0. 0. 0. 0. 0. 1.]\n",
            " [0. 0. 0. 0. 0. 0. 0. 0. 1.]\n",
            " [0. 0. 0. 0. 0. 1. 0. 0. 0.]\n",
            " [0. 0. 0. 0. 0. 0. 0. 0. 1.]\n",
            " [0. 0. 0. 0. 0. 0. 0. 0. 1.]\n",
            " [0. 0. 0. 0. 0. 0. 0. 0. 1.]\n",
            " [0. 1. 0. 0. 0. 0. 0. 0. 0.]\n",
            " [0. 0. 0. 0. 0. 0. 0. 0. 1.]\n",
            " [0. 0. 0. 0. 1. 0. 0. 0. 0.]\n",
            " [1. 0. 0. 0. 0. 0. 0. 0. 0.]\n",
            " [0. 0. 0. 0. 0. 0. 0. 0. 1.]\n",
            " [0. 0. 0. 0. 1. 0. 0. 0. 0.]\n",
            " [0. 0. 0. 0. 0. 0. 0. 0. 1.]\n",
            " [0. 0. 0. 0. 1. 0. 0. 0. 0.]\n",
            " [0. 0. 0. 0. 0. 0. 0. 0. 1.]\n",
            " [0. 0. 0. 0. 0. 0. 0. 0. 1.]\n",
            " [0. 0. 0. 0. 1. 0. 0. 0. 0.]\n",
            " [0. 0. 0. 0. 0. 0. 0. 0. 1.]\n",
            " [0. 0. 0. 0. 0. 0. 0. 0. 1.]\n",
            " [0. 0. 0. 0. 0. 0. 0. 0. 1.]\n",
            " [0. 0. 0. 0. 0. 0. 0. 0. 1.]\n",
            " [1. 0. 0. 0. 0. 0. 0. 0. 0.]\n",
            " [0. 0. 0. 0. 0. 0. 0. 0. 1.]\n",
            " [0. 0. 0. 0. 0. 0. 0. 0. 1.]\n",
            " [0. 0. 0. 0. 1. 0. 0. 0. 0.]\n",
            " [0. 0. 0. 0. 0. 0. 0. 1. 0.]\n",
            " [0. 0. 0. 0. 0. 0. 0. 0. 1.]\n",
            " [0. 0. 0. 0. 0. 0. 0. 0. 1.]\n",
            " [0. 1. 0. 0. 0. 0. 0. 0. 0.]\n",
            " [0. 0. 0. 0. 1. 0. 0. 0. 0.]\n",
            " [0. 0. 0. 0. 0. 0. 0. 0. 1.]\n",
            " [0. 0. 0. 0. 0. 0. 0. 0. 1.]\n",
            " [0. 0. 0. 0. 0. 0. 0. 0. 1.]\n",
            " [1. 0. 0. 0. 0. 0. 0. 0. 0.]\n",
            " [0. 0. 0. 0. 0. 0. 0. 0. 1.]\n",
            " [0. 0. 0. 0. 1. 0. 0. 0. 0.]\n",
            " [0. 0. 0. 0. 0. 0. 0. 0. 1.]\n",
            " [1. 0. 0. 0. 0. 0. 0. 0. 0.]\n",
            " [0. 0. 0. 0. 0. 0. 0. 1. 0.]\n",
            " [0. 0. 0. 0. 0. 0. 0. 0. 1.]\n",
            " [0. 0. 0. 0. 0. 0. 0. 0. 1.]\n",
            " [0. 0. 0. 0. 0. 0. 0. 0. 1.]\n",
            " [0. 0. 0. 0. 0. 0. 0. 0. 1.]\n",
            " [0. 0. 0. 0. 0. 0. 0. 0. 1.]\n",
            " [0. 0. 0. 0. 1. 0. 0. 0. 0.]]\n"
          ]
        }
      ]
    },
    {
      "cell_type": "code",
      "source": [],
      "metadata": {
        "id": "gXgfd6SU3B9t"
      },
      "execution_count": null,
      "outputs": []
    }
  ]
}