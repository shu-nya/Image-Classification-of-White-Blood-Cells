{
  "nbformat": 4,
  "nbformat_minor": 0,
  "metadata": {
    "colab": {
      "provenance": [],
      "gpuType": "T4",
      "authorship_tag": "ABX9TyNKV1yS4rTb8J5pXwTe4Hrg",
      "include_colab_link": true
    },
    "kernelspec": {
      "name": "python3",
      "display_name": "Python 3"
    },
    "language_info": {
      "name": "python"
    },
    "accelerator": "GPU"
  },
  "cells": [
    {
      "cell_type": "markdown",
      "metadata": {
        "id": "view-in-github",
        "colab_type": "text"
      },
      "source": [
        "<a href=\"https://colab.research.google.com/github/shu-nya/Image-Classification-of-White-Blood-Cells/blob/main/Notebook_2_Classification_of_WBC_VGG16_Model.ipynb\" target=\"_parent\"><img src=\"https://colab.research.google.com/assets/colab-badge.svg\" alt=\"Open In Colab\"/></a>"
      ]
    },
    {
      "cell_type": "markdown",
      "source": [
        "# Notebook 2: VGG16 model\n",
        "\n",
        "### to be run after notebook 1"
      ],
      "metadata": {
        "id": "Szuh4lMafAUW"
      }
    },
    {
      "cell_type": "markdown",
      "source": [
        "## This notebook contains the VGG16 model.\n",
        "\n",
        "Getting an accuracy score around 75% on the test split."
      ],
      "metadata": {
        "id": "DqDMOQ8NfO1G"
      }
    },
    {
      "cell_type": "markdown",
      "source": [
        "#### SMOTE is performed before training the model to create a balanced training dataset."
      ],
      "metadata": {
        "id": "lWkiNu_Pk5yz"
      }
    },
    {
      "cell_type": "markdown",
      "source": [
        "## After training the model, predictions are done on the classify-images folder dataset and the output is stored in a dataframe."
      ],
      "metadata": {
        "id": "-zoe1Sa6fdQQ"
      }
    },
    {
      "cell_type": "markdown",
      "source": [
        "#### Future Work to be done\n",
        "\n",
        "1. Fine-tuning the VGG16 model."
      ],
      "metadata": {
        "id": "C69xuKeQhj71"
      }
    },
    {
      "cell_type": "code",
      "source": [],
      "metadata": {
        "id": "4AUYsAl6fwMP"
      },
      "execution_count": null,
      "outputs": []
    },
    {
      "cell_type": "markdown",
      "source": [
        "## Install and import the necessary libraries"
      ],
      "metadata": {
        "id": "fzG3XTsyBFw0"
      }
    },
    {
      "cell_type": "code",
      "source": [
        "!pip install imblearn\n"
      ],
      "metadata": {
        "colab": {
          "base_uri": "https://localhost:8080/"
        },
        "id": "ddpnOBjBFJT8",
        "outputId": "df7133dc-cf9d-4eae-d68c-9b5d1ea7570c"
      },
      "execution_count": 1,
      "outputs": [
        {
          "output_type": "stream",
          "name": "stdout",
          "text": [
            "Collecting imblearn\n",
            "  Downloading imblearn-0.0-py2.py3-none-any.whl (1.9 kB)\n",
            "Requirement already satisfied: imbalanced-learn in /usr/local/lib/python3.10/dist-packages (from imblearn) (0.10.1)\n",
            "Requirement already satisfied: numpy>=1.17.3 in /usr/local/lib/python3.10/dist-packages (from imbalanced-learn->imblearn) (1.22.4)\n",
            "Requirement already satisfied: scipy>=1.3.2 in /usr/local/lib/python3.10/dist-packages (from imbalanced-learn->imblearn) (1.10.1)\n",
            "Requirement already satisfied: scikit-learn>=1.0.2 in /usr/local/lib/python3.10/dist-packages (from imbalanced-learn->imblearn) (1.2.2)\n",
            "Requirement already satisfied: joblib>=1.1.1 in /usr/local/lib/python3.10/dist-packages (from imbalanced-learn->imblearn) (1.2.0)\n",
            "Requirement already satisfied: threadpoolctl>=2.0.0 in /usr/local/lib/python3.10/dist-packages (from imbalanced-learn->imblearn) (3.1.0)\n",
            "Installing collected packages: imblearn\n",
            "Successfully installed imblearn-0.0\n"
          ]
        }
      ]
    },
    {
      "cell_type": "code",
      "execution_count": 2,
      "metadata": {
        "id": "KBmEj0RR1MRP"
      },
      "outputs": [],
      "source": [
        "import numpy as np\n",
        "import cv2\n",
        "import os\n",
        "import shutil\n",
        "\n",
        "import matplotlib.pyplot as plt\n",
        "import seaborn as sns\n",
        "from imblearn.over_sampling import SMOTE\n",
        "from collections import Counter\n",
        "\n",
        "from keras.models import Sequential\n",
        "from keras import applications\n",
        "from keras import optimizers\n",
        "from keras.layers import Dense, Dropout, Activation, Flatten\n",
        "from keras.layers import Input, Conv2D, MaxPooling2D, Lambda\n",
        "from keras.layers import Dense\n",
        "from keras.models import Model\n",
        "from keras.wrappers.scikit_learn import KerasClassifier\n",
        "from keras.utils import to_categorical\n",
        "from keras.utils import np_utils\n",
        "\n",
        "from sklearn.preprocessing import LabelEncoder\n",
        "from sklearn.metrics import accuracy_score\n",
        "from sklearn.metrics import confusion_matrix\n",
        "\n",
        "import warnings\n",
        "warnings.filterwarnings('ignore')\n",
        "\n",
        "%matplotlib inline\n"
      ]
    },
    {
      "cell_type": "code",
      "source": [],
      "metadata": {
        "id": "2w21WL8pB0nm"
      },
      "execution_count": 2,
      "outputs": []
    },
    {
      "cell_type": "markdown",
      "source": [
        "## Mount google drive to load the dataset"
      ],
      "metadata": {
        "id": "C0bKnRCYB0MO"
      }
    },
    {
      "cell_type": "code",
      "source": [
        "# mount the drive\n",
        "\n",
        "from google.colab import drive\n",
        "drive.mount('/content/drive')\n"
      ],
      "metadata": {
        "colab": {
          "base_uri": "https://localhost:8080/"
        },
        "id": "M3TTF4TQ1PE1",
        "outputId": "da3b8ab0-17d4-4a5f-a4c8-97ad4d6858c7"
      },
      "execution_count": 3,
      "outputs": [
        {
          "output_type": "stream",
          "name": "stdout",
          "text": [
            "Mounted at /content/drive\n"
          ]
        }
      ]
    },
    {
      "cell_type": "code",
      "source": [
        "# path to the base folder\n",
        "\n",
        "BASE_DIR = '/content/drive/MyDrive/taskMedPrime'\n"
      ],
      "metadata": {
        "id": "eu15MYI01PBw"
      },
      "execution_count": 4,
      "outputs": []
    },
    {
      "cell_type": "code",
      "source": [
        "# number of classes into which the classifications are to be made\n",
        "num_classes = 9\n",
        "\n",
        "# classes into which the classifications are to be made\n",
        "classes = ['bands', 'basophils', 'blasts', 'eosinophils', 'lymphocytes', 'metamyelocytes', 'monocytes', 'myelocytes', 'neutrophils']\n"
      ],
      "metadata": {
        "id": "DFUrlXARCIav"
      },
      "execution_count": 5,
      "outputs": []
    },
    {
      "cell_type": "code",
      "source": [],
      "metadata": {
        "id": "m-Pr4_SgCaop"
      },
      "execution_count": 5,
      "outputs": []
    },
    {
      "cell_type": "markdown",
      "source": [
        "## Create the variables X and y"
      ],
      "metadata": {
        "id": "0s7a_xUHCaWS"
      }
    },
    {
      "cell_type": "code",
      "source": [
        "# method to get the images as independent variable X and their labels as the dependent variable y\n",
        "\n",
        "def get_data(folder):\n",
        "    X = []\n",
        "    y = []\n",
        "\n",
        "    # if the image files in the folder wbc are not empty then read the files\n",
        "    # and convert the images as numpy arrays\n",
        "    # append the image numpy arrays to the independent variable X\n",
        "    # and append their labels to y\n",
        "\n",
        "    for wbc_type in os.listdir(folder):\n",
        "        if not wbc_type.startswith('.'):\n",
        "\n",
        "            for image_filename in os.listdir(folder + '/' + wbc_type):\n",
        "                img_file = cv2.imread(folder + '/' + wbc_type + '/' + image_filename)\n",
        "\n",
        "                if img_file is not None:\n",
        "                    img_arr = np.asarray(img_file)\n",
        "                    X.append(img_arr)\n",
        "                    y.append(wbc_type)\n",
        "\n",
        "    # create numpy arrays of X and y\n",
        "\n",
        "    X = np.asarray(X)\n",
        "    y = np.asarray(y)\n",
        "\n",
        "    return X,y\n"
      ],
      "metadata": {
        "id": "Zhh87iJO1O7l"
      },
      "execution_count": 6,
      "outputs": []
    },
    {
      "cell_type": "code",
      "source": [
        "# call the get_data method using the path to the train and test folders as arguments\n",
        "# to get the variables X_train, y_train, X_test and y_test\n",
        "\n",
        "X_train, y_train = get_data(BASE_DIR + '/train')\n",
        "X_test, y_test = get_data(BASE_DIR + '/test')\n"
      ],
      "metadata": {
        "id": "D1YQH6cq1O4s"
      },
      "execution_count": 7,
      "outputs": []
    },
    {
      "cell_type": "code",
      "source": [
        "# normalize X_train and X_test\n",
        "# it will make images contribute more evenly to the total loss\n",
        "\n",
        "X_train = X_train * 1./255.\n",
        "X_test = X_test * 1./255.\n"
      ],
      "metadata": {
        "id": "XBbEPUEv1O17"
      },
      "execution_count": 8,
      "outputs": []
    },
    {
      "cell_type": "code",
      "source": [
        "# summarize class distribution in the train dataset after augmentation\n",
        "\n",
        "counter = Counter(y_train)\n",
        "print(counter)\n"
      ],
      "metadata": {
        "colab": {
          "base_uri": "https://localhost:8080/"
        },
        "id": "7A8AL_K265eR",
        "outputId": "97ca5550-1233-4783-a99a-82e0b6b11c4a"
      },
      "execution_count": 9,
      "outputs": [
        {
          "output_type": "stream",
          "name": "stdout",
          "text": [
            "Counter({'neutrophils': 225, 'lymphocytes': 209, 'monocytes': 81, 'bands': 78, 'eosinophils': 77, 'metamyelocytes': 77, 'myelocytes': 64, 'basophils': 63, 'blasts': 60})\n"
          ]
        }
      ]
    },
    {
      "cell_type": "code",
      "source": [
        "# plot the number of images in each sub-folder of the train dataset\n",
        "\n",
        "y_train_unique_counts = np.unique(y_train, return_counts=True)\n",
        "\n",
        "plt.title('Number of Images in each WBC type')\n",
        "plt.barh(y_train_unique_counts[0], y_train_unique_counts[1])\n",
        "plt.show()\n"
      ],
      "metadata": {
        "colab": {
          "base_uri": "https://localhost:8080/",
          "height": 452
        },
        "id": "JvuficAI5MJ4",
        "outputId": "2e417aa3-560a-48ba-9f12-40e140c486d9"
      },
      "execution_count": 10,
      "outputs": [
        {
          "output_type": "display_data",
          "data": {
            "text/plain": [
              "<Figure size 640x480 with 1 Axes>"
            ],
            "image/png": "[encoded data removed]"
          },
          "metadata": {}
        }
      ]
    },
    {
      "cell_type": "code",
      "source": [],
      "metadata": {
        "id": "6XqSdKRDaY1y"
      },
      "execution_count": 10,
      "outputs": []
    },
    {
      "cell_type": "markdown",
      "source": [
        "## SMOTE to treat the imbalance in the dataset"
      ],
      "metadata": {
        "id": "QbcAkmGfGr56"
      }
    },
    {
      "cell_type": "code",
      "source": [
        "# get all the dimensions of X_train\n",
        "\n",
        "n_samples, height, width, n_channels = [X_train.shape[index] for index in range(4)]\n",
        "print(f\"Shape of X_train before reshape: {X_train.shape}\")\n"
      ],
      "metadata": {
        "colab": {
          "base_uri": "https://localhost:8080/"
        },
        "id": "sHrUMT2VHDGz",
        "outputId": "79225d4c-acc1-4a4e-dfee-72b78ee7a9a1"
      },
      "execution_count": 11,
      "outputs": [
        {
          "output_type": "stream",
          "name": "stdout",
          "text": [
            "Shape of X_train before reshape: (934, 256, 256, 3)\n"
          ]
        }
      ]
    },
    {
      "cell_type": "code",
      "source": [
        "# reshape X because SMOTE accepts only (n_samples, n_channels*height*weight) type data\n",
        "\n",
        "X_train_reshaped = X_train.reshape(n_samples, n_channels*height*width)\n",
        "print(f\"Shape of X_train after reshape: {X_train_reshaped.shape}\")\n"
      ],
      "metadata": {
        "colab": {
          "base_uri": "https://localhost:8080/"
        },
        "id": "OcM3HWYhHFxg",
        "outputId": "c24e5d6e-e7c7-4bc9-ab8f-65623ed0827f"
      },
      "execution_count": 12,
      "outputs": [
        {
          "output_type": "stream",
          "name": "stdout",
          "text": [
            "Shape of X_train after reshape: (934, 196608)\n"
          ]
        }
      ]
    },
    {
      "cell_type": "code",
      "source": [
        "# initialize the SMOTE model\n",
        "\n",
        "smote = SMOTE(k_neighbors=5, random_state=62)\n"
      ],
      "metadata": {
        "id": "gM8-8ghXHyax"
      },
      "execution_count": 13,
      "outputs": []
    },
    {
      "cell_type": "code",
      "source": [
        "# perform re-sampling on modified X given y of the train data\n",
        "\n",
        "X_smote, y_smote = smote.fit_resample(X_train_reshaped, y_train)\n"
      ],
      "metadata": {
        "id": "CRTnrJZQHyMo"
      },
      "execution_count": 14,
      "outputs": []
    },
    {
      "cell_type": "code",
      "source": [
        "# number of images before and after applying SMOTE\n",
        "\n",
        "print(f'Before re-sampling, the number of images: {len(X_train):2}')\n",
        "print(f'After re-sampling, the number of images: {len(X_smote):2}')\n"
      ],
      "metadata": {
        "colab": {
          "base_uri": "https://localhost:8080/"
        },
        "id": "XMwQvwWvI7-2",
        "outputId": "691eca9a-79ec-447c-c4fd-ae6612d098dc"
      },
      "execution_count": 15,
      "outputs": [
        {
          "output_type": "stream",
          "name": "stdout",
          "text": [
            "Before re-sampling, the number of images: 934\n",
            "After re-sampling, the number of images: 2025\n"
          ]
        }
      ]
    },
    {
      "cell_type": "markdown",
      "source": [
        "### Observations:\n",
        "\n",
        "1. The number of samples in the train dataset has increased from 1158 to 2250 after applying SMOTE"
      ],
      "metadata": {
        "id": "iFS681VdY0Cc"
      }
    },
    {
      "cell_type": "code",
      "source": [
        "# summarize the new class distribution after applying SMOTE on the train data\n",
        "\n",
        "counter = Counter(y_smote)\n",
        "print(counter)\n"
      ],
      "metadata": {
        "colab": {
          "base_uri": "https://localhost:8080/"
        },
        "id": "qd8GAHFaIwtm",
        "outputId": "ba1a0923-3857-4c92-d783-6b9c6176a65d"
      },
      "execution_count": 16,
      "outputs": [
        {
          "output_type": "stream",
          "name": "stdout",
          "text": [
            "Counter({'bands': 225, 'basophils': 225, 'blasts': 225, 'eosinophils': 225, 'lymphocytes': 225, 'metamyelocytes': 225, 'monocytes': 225, 'myelocytes': 225, 'neutrophils': 225})\n"
          ]
        }
      ]
    },
    {
      "cell_type": "code",
      "source": [
        "# view the resulting balanced data (modified distribution) after applying SMOTE\n",
        "\n",
        "y_smote_unique_counts = np.unique(y_smote, return_counts=True)\n",
        "print(y_smote_unique_counts)\n",
        "\n",
        "plt.title('Number of Images in each WBC type')\n",
        "plt.barh(y_smote_unique_counts[0], y_smote_unique_counts[1])\n",
        "plt.show()\n"
      ],
      "metadata": {
        "colab": {
          "base_uri": "https://localhost:8080/",
          "height": 504
        },
        "id": "w-_2GUUilGgL",
        "outputId": "6df7aefa-e2e4-4c9d-d954-6a3b9992331f"
      },
      "execution_count": 17,
      "outputs": [
        {
          "output_type": "stream",
          "name": "stdout",
          "text": [
            "(array(['bands', 'basophils', 'blasts', 'eosinophils', 'lymphocytes',\n",
            "       'metamyelocytes', 'monocytes', 'myelocytes', 'neutrophils'],\n",
            "      dtype='<U14'), array([225, 225, 225, 225, 225, 225, 225, 225, 225]))\n"
          ]
        },
        {
          "output_type": "display_data",
          "data": {
            "text/plain": [
              "<Figure size 640x480 with 1 Axes>"
            ],
            "image/png": "[encoded data removed]"
          },
          "metadata": {}
        }
      ]
    },
    {
      "cell_type": "markdown",
      "source": [
        "### Observations:\n",
        "\n",
        "1. Each class in the train dataset has 250 samples after applying SMOTE\n",
        "2. This removes the imbalance in the train dataset"
      ],
      "metadata": {
        "id": "pHj3Ujf8ZPJ7"
      }
    },
    {
      "cell_type": "code",
      "source": [
        "# assign the values of X_smote and y_smote to X_train and y_train respectively\n",
        "\n",
        "X_train, y_train = X_smote, y_smote\n"
      ],
      "metadata": {
        "id": "LFZAXhELlMXT"
      },
      "execution_count": 18,
      "outputs": []
    },
    {
      "cell_type": "code",
      "source": [
        "# re-shape the dimension of X_train that was changed to apply SMOTE\n",
        "\n",
        "n_samples, height, width, n_channels = 225*9, 256, 256, 3\n",
        "\n",
        "X_train = X_train.reshape(n_samples, height, width, n_channels)\n"
      ],
      "metadata": {
        "id": "RdIBzGkSlMUS"
      },
      "execution_count": 19,
      "outputs": []
    },
    {
      "cell_type": "code",
      "source": [
        "# get all the dimensions of X_train\n",
        "\n",
        "n_samples, height, width, n_channels = [X_train.shape[index] for index in range(4)]\n",
        "print(f\"Shape of X_train before reshape: {X_train.shape}\")\n"
      ],
      "metadata": {
        "colab": {
          "base_uri": "https://localhost:8080/"
        },
        "id": "mwEHXcS5Z1Lr",
        "outputId": "c396f251-45e6-457a-d6f6-5e8ff7778d12"
      },
      "execution_count": 20,
      "outputs": [
        {
          "output_type": "stream",
          "name": "stdout",
          "text": [
            "Shape of X_train before reshape: (2025, 256, 256, 3)\n"
          ]
        }
      ]
    },
    {
      "cell_type": "markdown",
      "source": [
        "### Observations:\n",
        "\n",
        "1. Shape of X_train has been restored for training the model"
      ],
      "metadata": {
        "id": "thi70TZxZxc8"
      }
    },
    {
      "cell_type": "code",
      "source": [],
      "metadata": {
        "id": "9WmI-hcNafcq"
      },
      "execution_count": 20,
      "outputs": []
    },
    {
      "cell_type": "markdown",
      "source": [
        "## One-hot encoding of the labels"
      ],
      "metadata": {
        "id": "ymywygQWFzbk"
      }
    },
    {
      "cell_type": "code",
      "source": [
        "# Convert the labels in y_train using one-hot encoding\n",
        "\n",
        "encoder = LabelEncoder()\n",
        "encoder.fit(y_train)\n",
        "encoded_y_train = encoder.transform(y_train)\n",
        "encoded_y_test = encoder.transform(y_test)\n",
        "\n",
        "y_train = np_utils.to_categorical(encoded_y_train)\n",
        "y_test = np_utils.to_categorical(encoded_y_test)\n"
      ],
      "metadata": {
        "id": "M-Hw6QM81OwW"
      },
      "execution_count": 21,
      "outputs": []
    },
    {
      "cell_type": "code",
      "source": [],
      "metadata": {
        "id": "7oil3Apr1zre"
      },
      "execution_count": 21,
      "outputs": []
    },
    {
      "cell_type": "markdown",
      "source": [
        "## Model: VGG16"
      ],
      "metadata": {
        "id": "PcDcxoZNITOv"
      }
    },
    {
      "cell_type": "code",
      "source": [
        "# define the variables to be used in the model\n",
        "\n",
        "num_classes = 9\n",
        "\n",
        "epochs = 10\n",
        "batch_size = 32\n"
      ],
      "metadata": {
        "id": "GGhQlUJ81OrI"
      },
      "execution_count": 22,
      "outputs": []
    },
    {
      "cell_type": "code",
      "source": [
        "# define the VGG16 model\n",
        "\n",
        "base_model = applications.VGG16(include_top=False, weights='imagenet')\n",
        "input = Input(shape=(256, 256, 3), name = 'image_input')\n",
        "vgg_output = base_model(input)\n",
        "\n",
        "top_model = Flatten()(vgg_output)\n",
        "top_model = Dense(64, activation='relu')(top_model)\n",
        "predictions = Dense(num_classes, activation='softmax', name='prediction_layer')(top_model)\n",
        "\n",
        "model = Model(inputs=input, outputs=predictions)\n",
        "\n",
        "# first: train only the top layers (which were randomly initialized)\n",
        "# i.e. freeze all convolutional InceptionV3 layers\n",
        "\n",
        "layers = base_model.layers[:-2]\n",
        "for layer in layers:\n",
        "    layer.trainable = False\n"
      ],
      "metadata": {
        "colab": {
          "base_uri": "https://localhost:8080/"
        },
        "id": "nf_h1opg1OoU",
        "outputId": "525c261b-13a0-4d26-95d5-33a0cc5daeb5"
      },
      "execution_count": 23,
      "outputs": [
        {
          "output_type": "stream",
          "name": "stdout",
          "text": [
            "Downloading data from https://storage.googleapis.com/tensorflow/keras-applications/vgg16/vgg16_weights_tf_dim_ordering_tf_kernels_notop.h5\n",
            "58889256/58889256 [==============================] - 0s 0us/step\n"
          ]
        }
      ]
    },
    {
      "cell_type": "code",
      "source": [
        "# compile the model (should be done after setting layers to non-trainable)\n",
        "\n",
        "model.compile(optimizer='rmsprop', loss='categorical_crossentropy', metrics=['accuracy'])\n"
      ],
      "metadata": {
        "id": "0cYDFX_D1Olg"
      },
      "execution_count": 24,
      "outputs": []
    },
    {
      "cell_type": "markdown",
      "source": [
        "### Note:\n",
        "\n",
        "Accuracy is used as a metric for model evaluation because it is more important that the model classifies each image correctly rather than penalizing the False-Positives (Precision) or the False-Negatives (Recall) or penalizing both (F1)."
      ],
      "metadata": {
        "id": "xNDKdYnB74wY"
      }
    },
    {
      "cell_type": "code",
      "source": [
        "# model summary\n",
        "\n",
        "model.summary()\n"
      ],
      "metadata": {
        "colab": {
          "base_uri": "https://localhost:8080/"
        },
        "id": "KcJXi6Ij1Of8",
        "outputId": "fb4a8919-9a2f-4992-b959-d9ff6189f630"
      },
      "execution_count": 25,
      "outputs": [
        {
          "output_type": "stream",
          "name": "stdout",
          "text": [
            "Model: \"model\"\n",
            "_________________________________________________________________\n",
            " Layer (type)                Output Shape              Param #   \n",
            "=================================================================\n",
            " image_input (InputLayer)    [(None, 256, 256, 3)]     0         \n",
            "                                                                 \n",
            " vgg16 (Functional)          (None, None, None, 512)   14714688  \n",
            "                                                                 \n",
            " flatten (Flatten)           (None, 32768)             0         \n",
            "                                                                 \n",
            " dense (Dense)               (None, 64)                2097216   \n",
            "                                                                 \n",
            " prediction_layer (Dense)    (None, 9)                 585       \n",
            "                                                                 \n",
            "=================================================================\n",
            "Total params: 16,812,489\n",
            "Trainable params: 4,457,609\n",
            "Non-trainable params: 12,354,880\n",
            "_________________________________________________________________\n"
          ]
        }
      ]
    },
    {
      "cell_type": "code",
      "source": [
        "# fit the model on train data\n",
        "\n",
        "model.fit(X_train, y_train, epochs=epochs, batch_size=batch_size, validation_split=0.2, shuffle=True, verbose=1)\n"
      ],
      "metadata": {
        "colab": {
          "base_uri": "https://localhost:8080/"
        },
        "id": "zt0UdqYS1OdE",
        "outputId": "3abad552-3476-4551-9bb8-45f5897d486c"
      },
      "execution_count": 26,
      "outputs": [
        {
          "output_type": "stream",
          "name": "stdout",
          "text": [
            "Epoch 1/10\n",
            "51/51 [==============================] - 39s 459ms/step - loss: 2.7645 - accuracy: 0.4432 - val_loss: 2.4323 - val_accuracy: 0.0494\n",
            "Epoch 2/10\n",
            "51/51 [==============================] - 11s 211ms/step - loss: 0.9276 - accuracy: 0.6994 - val_loss: 1.9017 - val_accuracy: 0.2420\n",
            "Epoch 3/10\n",
            "51/51 [==============================] - 10s 201ms/step - loss: 0.4159 - accuracy: 0.8691 - val_loss: 4.6440 - val_accuracy: 0.0864\n",
            "Epoch 4/10\n",
            "51/51 [==============================] - 10s 202ms/step - loss: 0.2133 - accuracy: 0.9302 - val_loss: 1.0255 - val_accuracy: 0.6272\n",
            "Epoch 5/10\n",
            "51/51 [==============================] - 11s 207ms/step - loss: 0.1087 - accuracy: 0.9710 - val_loss: 0.5444 - val_accuracy: 0.8222\n",
            "Epoch 6/10\n",
            "51/51 [==============================] - 11s 219ms/step - loss: 0.0683 - accuracy: 0.9778 - val_loss: 0.5444 - val_accuracy: 0.7951\n",
            "Epoch 7/10\n",
            "51/51 [==============================] - 11s 219ms/step - loss: 0.0814 - accuracy: 0.9809 - val_loss: 1.2309 - val_accuracy: 0.6568\n",
            "Epoch 8/10\n",
            "51/51 [==============================] - 11s 216ms/step - loss: 0.0234 - accuracy: 0.9914 - val_loss: 2.0224 - val_accuracy: 0.6346\n",
            "Epoch 9/10\n",
            "51/51 [==============================] - 11s 215ms/step - loss: 0.0434 - accuracy: 0.9883 - val_loss: 0.8137 - val_accuracy: 0.7802\n",
            "Epoch 10/10\n",
            "51/51 [==============================] - 10s 204ms/step - loss: 0.0297 - accuracy: 0.9938 - val_loss: 0.5884 - val_accuracy: 0.8148\n"
          ]
        },
        {
          "output_type": "execute_result",
          "data": {
            "text/plain": [
              "<keras.callbacks.History at 0x7f66876934c0>"
            ]
          },
          "metadata": {},
          "execution_count": 26
        }
      ]
    },
    {
      "cell_type": "code",
      "source": [
        "# save the weights of the model\n",
        "\n",
        "model.save_weights('vgg_top.h5')\n"
      ],
      "metadata": {
        "id": "hPLrgF6A1OaD"
      },
      "execution_count": 27,
      "outputs": []
    },
    {
      "cell_type": "code",
      "source": [
        "# load the weights of the moodel\n",
        "\n",
        "model.load_weights('vgg_top.h5')\n"
      ],
      "metadata": {
        "id": "HXHOxjOG1OXn"
      },
      "execution_count": 28,
      "outputs": []
    },
    {
      "cell_type": "code",
      "source": [],
      "metadata": {
        "id": "IvriFN5CaiKS"
      },
      "execution_count": 28,
      "outputs": []
    },
    {
      "cell_type": "markdown",
      "source": [
        "## Make predictions on the test dataset that was created using 20% images of the wbc folder"
      ],
      "metadata": {
        "id": "Y_zmfE38OM5A"
      }
    },
    {
      "cell_type": "code",
      "source": [
        "# predictions on the test dataset\n",
        "\n",
        "y_pred = model.predict(X_test)\n",
        "\n",
        "print(y_pred)\n"
      ],
      "metadata": {
        "colab": {
          "base_uri": "https://localhost:8080/"
        },
        "id": "_Aco1FCV1OUg",
        "outputId": "32d3018a-793e-4835-ae6d-c5407292b979"
      },
      "execution_count": 29,
      "outputs": [
        {
          "output_type": "stream",
          "name": "stdout",
          "text": [
            "7/7 [==============================] - 5s 859ms/step\n",
            "[[1.1997371e-03 5.0501665e-04 2.2212097e-04 ... 4.2700153e-04\n",
            "  1.4980124e-05 9.6989375e-01]\n",
            " [9.1864895e-06 5.5854028e-09 1.0568584e-05 ... 2.6217660e-07\n",
            "  1.8363458e-07 9.9997687e-01]\n",
            " [1.8853154e-06 7.1311776e-12 1.5850411e-08 ... 2.9189726e-10\n",
            "  2.9524664e-11 9.9999726e-01]\n",
            " ...\n",
            " [1.5493313e-07 3.8072159e-16 7.5505913e-14 ... 5.9242417e-11\n",
            "  5.3941239e-15 9.9999988e-01]\n",
            " [5.1076580e-07 1.0385508e-13 1.5703703e-08 ... 1.8461928e-11\n",
            "  2.1546596e-10 9.9999869e-01]\n",
            " [3.2014495e-06 1.9007351e-09 4.5967672e-06 ... 4.1000951e-07\n",
            "  6.7060242e-08 9.9243474e-01]]\n"
          ]
        }
      ]
    },
    {
      "cell_type": "code",
      "source": [
        "# rounding the elements of the y_pred array to the nearest integer using np.rint\n",
        "\n",
        "y_pred = np.rint(y_pred)\n",
        "\n",
        "print(y_pred)\n"
      ],
      "metadata": {
        "colab": {
          "base_uri": "https://localhost:8080/"
        },
        "id": "Y3fLzNvT1OSJ",
        "outputId": "96fc32f6-98f6-4a15-de90-4ae5afe4dc01"
      },
      "execution_count": 30,
      "outputs": [
        {
          "output_type": "stream",
          "name": "stdout",
          "text": [
            "[[0. 0. 0. ... 0. 0. 1.]\n",
            " [0. 0. 0. ... 0. 0. 1.]\n",
            " [0. 0. 0. ... 0. 0. 1.]\n",
            " ...\n",
            " [0. 0. 0. ... 0. 0. 1.]\n",
            " [0. 0. 0. ... 0. 0. 1.]\n",
            " [0. 0. 0. ... 0. 0. 1.]]\n"
          ]
        }
      ]
    },
    {
      "cell_type": "code",
      "source": [
        "# print the accuracy obtained on the test data\n",
        "\n",
        "print(accuracy_score(y_test, y_pred))\n"
      ],
      "metadata": {
        "colab": {
          "base_uri": "https://localhost:8080/"
        },
        "id": "YuIDO5Ma1ONO",
        "outputId": "78063c1e-fd65-448c-a0f1-d98b304c49de"
      },
      "execution_count": 31,
      "outputs": [
        {
          "output_type": "stream",
          "name": "stdout",
          "text": [
            "0.7149532710280374\n"
          ]
        }
      ]
    },
    {
      "cell_type": "markdown",
      "source": [
        "### Observations:\n",
        "\n",
        "1. Getting accuracy score around 75%"
      ],
      "metadata": {
        "id": "txegCW7GekbG"
      }
    },
    {
      "cell_type": "code",
      "source": [
        "# the confusion matrix\n",
        "\n",
        "y_pred_unencoded = np.argmax(y_pred, axis=1)\n",
        "y_test_unencoded = np.argmax(y_test, axis=1)\n",
        "\n",
        "print(confusion_matrix(y_test_unencoded, y_pred_unencoded))\n"
      ],
      "metadata": {
        "colab": {
          "base_uri": "https://localhost:8080/"
        },
        "id": "ueA3Y1VO1OGM",
        "outputId": "9a730cdb-a5b0-4e2b-9df2-678dc4f96d70"
      },
      "execution_count": 32,
      "outputs": [
        {
          "output_type": "stream",
          "name": "stdout",
          "text": [
            "[[ 0  0  0  0  0  0  0  0 12]\n",
            " [ 0  3  0  0  0  0  0  1  0]\n",
            " [ 0  0  0  0  0  0  0  0  2]\n",
            " [ 2  0  0  3  2  0  0  0  3]\n",
            " [ 0  0  0  0 72  2  0  2  0]\n",
            " [ 3  0  0  0  0  2  1  0  4]\n",
            " [ 0  0  0  0  1  1  7  2  1]\n",
            " [ 0  0  0  0  4  0  0  0  0]\n",
            " [ 6  0  1  2  2  7  0  0 66]]\n"
          ]
        }
      ]
    },
    {
      "cell_type": "code",
      "source": [
        "# confusion matrix visualization using heatplot\n",
        "\n",
        "def plot_heatmap(y_true, y_pred, class_names, ax, title):\n",
        "\n",
        "    cm = confusion_matrix(y_true, y_pred)\n",
        "\n",
        "    sns.heatmap(\n",
        "        cm,\n",
        "        annot=True,\n",
        "        square=True,\n",
        "        xticklabels=class_names,\n",
        "        yticklabels=class_names,\n",
        "        fmt='d',\n",
        "        cmap=plt.cm.Blues,\n",
        "        cbar=False,\n",
        "    )\n",
        "\n",
        "    ax.set_title(title, fontsize=16)\n",
        "    ax.set_xticklabels(ax.get_xticklabels(), rotation=90, ha=\"right\")\n",
        "    ax.set_ylabel('True Label', fontsize=12)\n",
        "    ax.set_xlabel('Predicted Label', fontsize=12)\n",
        "\n",
        "# Get the names of the ten classes\n",
        "class_names = classes\n",
        "\n",
        "fig = plt.figure(figsize = (5, 5))\n",
        "ax = fig.gca()\n",
        "plot_heatmap(y_test_unencoded, y_pred_unencoded, class_names, ax, title=\"VGG16 Confusion Matrix\")\n",
        "plt.show()"
      ],
      "metadata": {
        "colab": {
          "base_uri": "https://localhost:8080/",
          "height": 595
        },
        "id": "ATdmd7rYEmyS",
        "outputId": "594f3d61-7f2d-4f85-fc37-17022f43fe29"
      },
      "execution_count": 33,
      "outputs": [
        {
          "output_type": "display_data",
          "data": {
            "text/plain": [
              "<Figure size 500x500 with 1 Axes>"
            ],
            "image/png": "[encoded data removed]"
          },
          "metadata": {}
        }
      ]
    },
    {
      "cell_type": "code",
      "source": [],
      "metadata": {
        "id": "Gp8kZYoUyGVg"
      },
      "execution_count": 33,
      "outputs": []
    },
    {
      "cell_type": "markdown",
      "source": [
        "# Making prediction on the *classify-images* dataset"
      ],
      "metadata": {
        "id": "xYNFycXmK-vB"
      }
    },
    {
      "cell_type": "code",
      "source": [
        "# define get_data_classify_images to load the images in the classify-images folder\n",
        "\n",
        "def get_data_classify_images(folder):\n",
        "\n",
        "    X = []\n",
        "    y = []\n",
        "\n",
        "    for image_filename in os.listdir(folder):\n",
        "        img_file = cv2.imread(folder + '/' + image_filename)\n",
        "\n",
        "        if img_file is not None:\n",
        "            img_arr = np.asarray(img_file)\n",
        "            X.append(img_arr)\n",
        "            y.append(image_filename)\n",
        "\n",
        "    X = np.asarray(X)\n",
        "    y = np.asarray(y)\n",
        "\n",
        "    return X, y\n"
      ],
      "metadata": {
        "id": "TXcLkHMsyHM6"
      },
      "execution_count": 34,
      "outputs": []
    },
    {
      "cell_type": "code",
      "source": [
        "# call the get_data_classify_images method using the path of classify-images folder as the argument\n",
        "\n",
        "X_classify_images, classify_images_filenames = get_data_classify_images(BASE_DIR + '/classify-images')\n"
      ],
      "metadata": {
        "id": "w440nL2oyQ_m"
      },
      "execution_count": 35,
      "outputs": []
    },
    {
      "cell_type": "code",
      "source": [
        "# load weights of the model\n",
        "\n",
        "model.load_weights('vgg_top.h5')\n"
      ],
      "metadata": {
        "id": "9oAnA9L41oJa"
      },
      "execution_count": 36,
      "outputs": []
    },
    {
      "cell_type": "code",
      "source": [
        "# prediction on the classify-images data\n",
        "\n",
        "y_pred_classify_images = model.predict(X_classify_images)\n"
      ],
      "metadata": {
        "colab": {
          "base_uri": "https://localhost:8080/"
        },
        "id": "iT2rXsN11tVU",
        "outputId": "498efc12-25e6-476b-d43a-07515e437a28"
      },
      "execution_count": 37,
      "outputs": [
        {
          "output_type": "stream",
          "name": "stdout",
          "text": [
            "2/2 [==============================] - 5s 5s/step\n"
          ]
        }
      ]
    },
    {
      "cell_type": "code",
      "source": [
        "# rounding the elements of the y_pred array to the nearest integer using np.rint\n",
        "\n",
        "y_pred_classify_images = np.rint(y_pred_classify_images)\n",
        "\n",
        "print('Prediction on the classify-images data')\n",
        "print()\n",
        "\n",
        "print(y_pred_classify_images)\n"
      ],
      "metadata": {
        "colab": {
          "base_uri": "https://localhost:8080/"
        },
        "id": "UNe5m3w01tSr",
        "outputId": "32b7335c-bfe0-4b04-fd60-1d2ab9633278"
      },
      "execution_count": 38,
      "outputs": [
        {
          "output_type": "stream",
          "name": "stdout",
          "text": [
            "Prediction on the classify-images data\n",
            "\n",
            "[[0. 1. 0. 0. 0. 0. 0. 0. 0.]\n",
            " [0. 0. 0. 1. 0. 0. 0. 0. 0.]\n",
            " [0. 0. 0. 0. 1. 0. 0. 0. 0.]\n",
            " [0. 0. 0. 0. 0. 0. 0. 0. 1.]\n",
            " [0. 0. 0. 0. 0. 0. 0. 0. 1.]\n",
            " [0. 0. 0. 0. 0. 0. 1. 0. 0.]\n",
            " [0. 0. 0. 0. 0. 0. 0. 0. 1.]\n",
            " [0. 0. 0. 0. 1. 0. 0. 0. 0.]\n",
            " [0. 0. 0. 0. 0. 0. 0. 0. 1.]\n",
            " [0. 0. 0. 0. 1. 0. 0. 0. 0.]\n",
            " [0. 0. 0. 0. 1. 0. 0. 0. 0.]\n",
            " [0. 0. 0. 0. 1. 0. 0. 0. 0.]\n",
            " [0. 0. 0. 0. 0. 0. 0. 0. 1.]\n",
            " [0. 0. 0. 0. 0. 0. 0. 0. 1.]\n",
            " [0. 0. 0. 0. 0. 0. 0. 0. 1.]\n",
            " [0. 0. 0. 0. 1. 0. 0. 0. 0.]\n",
            " [0. 0. 0. 0. 0. 1. 0. 0. 0.]\n",
            " [0. 0. 0. 0. 0. 0. 0. 0. 1.]\n",
            " [0. 0. 0. 0. 0. 0. 1. 0. 0.]\n",
            " [0. 0. 0. 0. 0. 0. 0. 0. 1.]\n",
            " [0. 1. 0. 0. 0. 0. 0. 0. 0.]\n",
            " [0. 0. 0. 0. 0. 1. 0. 0. 0.]\n",
            " [0. 0. 0. 0. 1. 0. 0. 0. 0.]\n",
            " [1. 0. 0. 0. 0. 0. 0. 0. 0.]\n",
            " [1. 0. 0. 0. 0. 0. 0. 0. 0.]\n",
            " [0. 0. 0. 0. 1. 0. 0. 0. 0.]\n",
            " [0. 0. 0. 0. 0. 0. 0. 0. 1.]\n",
            " [0. 0. 0. 0. 1. 0. 0. 0. 0.]\n",
            " [1. 0. 0. 0. 0. 0. 0. 0. 0.]\n",
            " [0. 0. 0. 0. 0. 0. 0. 0. 1.]\n",
            " [0. 0. 0. 0. 1. 0. 0. 0. 0.]\n",
            " [0. 0. 0. 0. 0. 0. 0. 0. 1.]\n",
            " [0. 0. 0. 0. 0. 0. 0. 0. 1.]\n",
            " [0. 0. 0. 0. 0. 0. 0. 0. 1.]\n",
            " [0. 0. 0. 1. 0. 0. 0. 0. 0.]\n",
            " [0. 0. 0. 0. 0. 0. 0. 0. 1.]\n",
            " [0. 0. 0. 0. 0. 0. 0. 0. 1.]\n",
            " [1. 0. 0. 0. 0. 0. 0. 0. 0.]\n",
            " [0. 0. 0. 0. 1. 0. 0. 0. 0.]\n",
            " [0. 1. 0. 0. 0. 0. 0. 0. 0.]\n",
            " [0. 1. 0. 0. 0. 0. 0. 0. 0.]\n",
            " [0. 0. 0. 0. 0. 0. 0. 0. 1.]\n",
            " [0. 1. 0. 0. 0. 0. 0. 0. 0.]\n",
            " [0. 0. 0. 0. 1. 0. 0. 0. 0.]\n",
            " [0. 0. 0. 0. 0. 0. 0. 0. 1.]\n",
            " [0. 0. 0. 0. 0. 0. 0. 0. 1.]\n",
            " [1. 0. 0. 0. 0. 0. 0. 0. 0.]\n",
            " [0. 0. 0. 0. 0. 0. 1. 0. 0.]\n",
            " [0. 0. 0. 0. 0. 0. 0. 0. 1.]\n",
            " [0. 0. 0. 0. 1. 0. 0. 0. 0.]\n",
            " [0. 0. 0. 1. 0. 0. 0. 0. 0.]\n",
            " [0. 0. 0. 0. 0. 0. 0. 0. 1.]\n",
            " [0. 0. 0. 0. 0. 0. 0. 1. 0.]\n",
            " [0. 0. 0. 0. 1. 0. 0. 0. 0.]\n",
            " [0. 0. 0. 0. 0. 0. 0. 1. 0.]\n",
            " [0. 0. 0. 0. 0. 0. 0. 0. 1.]\n",
            " [0. 0. 0. 0. 0. 0. 0. 0. 1.]\n",
            " [0. 0. 0. 0. 0. 0. 0. 0. 1.]\n",
            " [0. 0. 0. 0. 1. 0. 0. 0. 0.]]\n"
          ]
        }
      ]
    },
    {
      "cell_type": "code",
      "source": [
        "import pandas as pd\n",
        "\n",
        "df = pd.DataFrame(data = y_pred_classify_images, index = classify_images_filenames, columns = classes)"
      ],
      "metadata": {
        "id": "QlS2FIOLKxhf"
      },
      "execution_count": 39,
      "outputs": []
    },
    {
      "cell_type": "code",
      "source": [
        "df"
      ],
      "metadata": {
        "colab": {
          "base_uri": "https://localhost:8080/",
          "height": 1000
        },
        "id": "PfMZHjVSKxej",
        "outputId": "a3208ee6-ec59-43d0-a085-f45e07d57238"
      },
      "execution_count": 40,
      "outputs": [
        {
          "output_type": "execute_result",
          "data": {
            "text/plain": [
              "        bands  basophils  blasts  eosinophils  lymphocytes  metamyelocytes  \\\n",
              "3.jpg     0.0        1.0     0.0          0.0          0.0             0.0   \n",
              "56.jpg    0.0        0.0     0.0          1.0          0.0             0.0   \n",
              "30.jpg    0.0        0.0     0.0          0.0          1.0             0.0   \n",
              "55.jpg    0.0        0.0     0.0          0.0          0.0             0.0   \n",
              "31.jpg    0.0        0.0     0.0          0.0          0.0             0.0   \n",
              "13.jpg    0.0        0.0     0.0          0.0          0.0             0.0   \n",
              "57.jpg    0.0        0.0     0.0          0.0          0.0             0.0   \n",
              "36.jpg    0.0        0.0     0.0          0.0          1.0             0.0   \n",
              "2.jpg     0.0        0.0     0.0          0.0          0.0             0.0   \n",
              "42.jpg    0.0        0.0     0.0          0.0          1.0             0.0   \n",
              "26.jpg    0.0        0.0     0.0          0.0          1.0             0.0   \n",
              "19.jpg    0.0        0.0     0.0          0.0          1.0             0.0   \n",
              "35.jpg    0.0        0.0     0.0          0.0          0.0             0.0   \n",
              "48.jpg    0.0        0.0     0.0          0.0          0.0             0.0   \n",
              "9.jpg     0.0        0.0     0.0          0.0          0.0             0.0   \n",
              "25.jpg    0.0        0.0     0.0          0.0          1.0             0.0   \n",
              "4.jpg     0.0        0.0     0.0          0.0          0.0             1.0   \n",
              "59.jpg    0.0        0.0     0.0          0.0          0.0             0.0   \n",
              "45.jpg    0.0        0.0     0.0          0.0          0.0             0.0   \n",
              "15.jpg    0.0        0.0     0.0          0.0          0.0             0.0   \n",
              "39.jpg    0.0        1.0     0.0          0.0          0.0             0.0   \n",
              "10.jpg    0.0        0.0     0.0          0.0          0.0             1.0   \n",
              "29.jpg    0.0        0.0     0.0          0.0          1.0             0.0   \n",
              "17.jpg    1.0        0.0     0.0          0.0          0.0             0.0   \n",
              "43.jpg    1.0        0.0     0.0          0.0          0.0             0.0   \n",
              "38.jpg    0.0        0.0     0.0          0.0          1.0             0.0   \n",
              "52.jpg    0.0        0.0     0.0          0.0          0.0             0.0   \n",
              "37.jpg    0.0        0.0     0.0          0.0          1.0             0.0   \n",
              "53.jpg    1.0        0.0     0.0          0.0          0.0             0.0   \n",
              "41.jpg    0.0        0.0     0.0          0.0          0.0             0.0   \n",
              "22.jpg    0.0        0.0     0.0          0.0          1.0             0.0   \n",
              "1.jpg     0.0        0.0     0.0          0.0          0.0             0.0   \n",
              "58.jpg    0.0        0.0     0.0          0.0          0.0             0.0   \n",
              "50.jpg    0.0        0.0     0.0          0.0          0.0             0.0   \n",
              "8.jpg     0.0        0.0     0.0          1.0          0.0             0.0   \n",
              "33.jpg    0.0        0.0     0.0          0.0          0.0             0.0   \n",
              "47.jpg    0.0        0.0     0.0          0.0          0.0             0.0   \n",
              "12.jpg    1.0        0.0     0.0          0.0          0.0             0.0   \n",
              "34.jpg    0.0        0.0     0.0          0.0          1.0             0.0   \n",
              "40.jpg    0.0        1.0     0.0          0.0          0.0             0.0   \n",
              "6.jpg     0.0        1.0     0.0          0.0          0.0             0.0   \n",
              "28.jpg    0.0        0.0     0.0          0.0          0.0             0.0   \n",
              "21.jpg    0.0        1.0     0.0          0.0          0.0             0.0   \n",
              "32.jpg    0.0        0.0     0.0          0.0          1.0             0.0   \n",
              "18.jpg    0.0        0.0     0.0          0.0          0.0             0.0   \n",
              "16.jpg    0.0        0.0     0.0          0.0          0.0             0.0   \n",
              "46.jpg    1.0        0.0     0.0          0.0          0.0             0.0   \n",
              "23.jpg    0.0        0.0     0.0          0.0          0.0             0.0   \n",
              "54.jpg    0.0        0.0     0.0          0.0          0.0             0.0   \n",
              "20.jpg    0.0        0.0     0.0          0.0          1.0             0.0   \n",
              "5.jpg     0.0        0.0     0.0          1.0          0.0             0.0   \n",
              "24.jpg    0.0        0.0     0.0          0.0          0.0             0.0   \n",
              "7.jpg     0.0        0.0     0.0          0.0          0.0             0.0   \n",
              "27.jpg    0.0        0.0     0.0          0.0          1.0             0.0   \n",
              "11.jpg    0.0        0.0     0.0          0.0          0.0             0.0   \n",
              "44.jpg    0.0        0.0     0.0          0.0          0.0             0.0   \n",
              "51.jpg    0.0        0.0     0.0          0.0          0.0             0.0   \n",
              "49.jpg    0.0        0.0     0.0          0.0          0.0             0.0   \n",
              "14.jpg    0.0        0.0     0.0          0.0          1.0             0.0   \n",
              "\n",
              "        monocytes  myelocytes  neutrophils  \n",
              "3.jpg         0.0         0.0          0.0  \n",
              "56.jpg        0.0         0.0          0.0  \n",
              "30.jpg        0.0         0.0          0.0  \n",
              "55.jpg        0.0         0.0          1.0  \n",
              "31.jpg        0.0         0.0          1.0  \n",
              "13.jpg        1.0         0.0          0.0  \n",
              "57.jpg        0.0         0.0          1.0  \n",
              "36.jpg        0.0         0.0          0.0  \n",
              "2.jpg         0.0         0.0          1.0  \n",
              "42.jpg        0.0         0.0          0.0  \n",
              "26.jpg        0.0         0.0          0.0  \n",
              "19.jpg        0.0         0.0          0.0  \n",
              "35.jpg        0.0         0.0          1.0  \n",
              "48.jpg        0.0         0.0          1.0  \n",
              "9.jpg         0.0         0.0          1.0  \n",
              "25.jpg        0.0         0.0          0.0  \n",
              "4.jpg         0.0         0.0          0.0  \n",
              "59.jpg        0.0         0.0          1.0  \n",
              "45.jpg        1.0         0.0          0.0  \n",
              "15.jpg        0.0         0.0          1.0  \n",
              "39.jpg        0.0         0.0          0.0  \n",
              "10.jpg        0.0         0.0          0.0  \n",
              "29.jpg        0.0         0.0          0.0  \n",
              "17.jpg        0.0         0.0          0.0  \n",
              "43.jpg        0.0         0.0          0.0  \n",
              "38.jpg        0.0         0.0          0.0  \n",
              "52.jpg        0.0         0.0          1.0  \n",
              "37.jpg        0.0         0.0          0.0  \n",
              "53.jpg        0.0         0.0          0.0  \n",
              "41.jpg        0.0         0.0          1.0  \n",
              "22.jpg        0.0         0.0          0.0  \n",
              "1.jpg         0.0         0.0          1.0  \n",
              "58.jpg        0.0         0.0          1.0  \n",
              "50.jpg        0.0         0.0          1.0  \n",
              "8.jpg         0.0         0.0          0.0  \n",
              "33.jpg        0.0         0.0          1.0  \n",
              "47.jpg        0.0         0.0          1.0  \n",
              "12.jpg        0.0         0.0          0.0  \n",
              "34.jpg        0.0         0.0          0.0  \n",
              "40.jpg        0.0         0.0          0.0  \n",
              "6.jpg         0.0         0.0          0.0  \n",
              "28.jpg        0.0         0.0          1.0  \n",
              "21.jpg        0.0         0.0          0.0  \n",
              "32.jpg        0.0         0.0          0.0  \n",
              "18.jpg        0.0         0.0          1.0  \n",
              "16.jpg        0.0         0.0          1.0  \n",
              "46.jpg        0.0         0.0          0.0  \n",
              "23.jpg        1.0         0.0          0.0  \n",
              "54.jpg        0.0         0.0          1.0  \n",
              "20.jpg        0.0         0.0          0.0  \n",
              "5.jpg         0.0         0.0          0.0  \n",
              "24.jpg        0.0         0.0          1.0  \n",
              "7.jpg         0.0         1.0          0.0  \n",
              "27.jpg        0.0         0.0          0.0  \n",
              "11.jpg        0.0         1.0          0.0  \n",
              "44.jpg        0.0         0.0          1.0  \n",
              "51.jpg        0.0         0.0          1.0  \n",
              "49.jpg        0.0         0.0          1.0  \n",
              "14.jpg        0.0         0.0          0.0  "
            ],
            "text/html": [
              "\n",
              "  <div id=\"df-4853d3ae-d45b-42c6-8253-340a425c9ee0\">\n",
              "    <div class=\"colab-df-container\">\n",
              "      <div>\n",
              "<style scoped>\n",
              "    .dataframe tbody tr th:only-of-type {\n",
              "        vertical-align: middle;\n",
              "    }\n",
              "\n",
              "    .dataframe tbody tr th {\n",
              "        vertical-align: top;\n",
              "    }\n",
              "\n",
              "    .dataframe thead th {\n",
              "        text-align: right;\n",
              "    }\n",
              "</style>\n",
              "<table border=\"1\" class=\"dataframe\">\n",
              "  <thead>\n",
              "    <tr style=\"text-align: right;\">\n",
              "      <th></th>\n",
              "      <th>bands</th>\n",
              "      <th>basophils</th>\n",
              "      <th>blasts</th>\n",
              "      <th>eosinophils</th>\n",
              "      <th>lymphocytes</th>\n",
              "      <th>metamyelocytes</th>\n",
              "      <th>monocytes</th>\n",
              "      <th>myelocytes</th>\n",
              "      <th>neutrophils</th>\n",
              "    </tr>\n",
              "  </thead>\n",
              "  <tbody>\n",
              "    <tr>\n",
              "      <th>3.jpg</th>\n",
              "      <td>0.0</td>\n",
              "      <td>1.0</td>\n",
              "      <td>0.0</td>\n",
              "      <td>0.0</td>\n",
              "      <td>0.0</td>\n",
              "      <td>0.0</td>\n",
              "      <td>0.0</td>\n",
              "      <td>0.0</td>\n",
              "      <td>0.0</td>\n",
              "    </tr>\n",
              "    <tr>\n",
              "      <th>56.jpg</th>\n",
              "      <td>0.0</td>\n",
              "      <td>0.0</td>\n",
              "      <td>0.0</td>\n",
              "      <td>1.0</td>\n",
              "      <td>0.0</td>\n",
              "      <td>0.0</td>\n",
              "      <td>0.0</td>\n",
              "      <td>0.0</td>\n",
              "      <td>0.0</td>\n",
              "    </tr>\n",
              "    <tr>\n",
              "      <th>30.jpg</th>\n",
              "      <td>0.0</td>\n",
              "      <td>0.0</td>\n",
              "      <td>0.0</td>\n",
              "      <td>0.0</td>\n",
              "      <td>1.0</td>\n",
              "      <td>0.0</td>\n",
              "      <td>0.0</td>\n",
              "      <td>0.0</td>\n",
              "      <td>0.0</td>\n",
              "    </tr>\n",
              "    <tr>\n",
              "      <th>55.jpg</th>\n",
              "      <td>0.0</td>\n",
              "      <td>0.0</td>\n",
              "      <td>0.0</td>\n",
              "      <td>0.0</td>\n",
              "      <td>0.0</td>\n",
              "      <td>0.0</td>\n",
              "      <td>0.0</td>\n",
              "      <td>0.0</td>\n",
              "      <td>1.0</td>\n",
              "    </tr>\n",
              "    <tr>\n",
              "      <th>31.jpg</th>\n",
              "      <td>0.0</td>\n",
              "      <td>0.0</td>\n",
              "      <td>0.0</td>\n",
              "      <td>0.0</td>\n",
              "      <td>0.0</td>\n",
              "      <td>0.0</td>\n",
              "      <td>0.0</td>\n",
              "      <td>0.0</td>\n",
              "      <td>1.0</td>\n",
              "    </tr>\n",
              "    <tr>\n",
              "      <th>13.jpg</th>\n",
              "      <td>0.0</td>\n",
              "      <td>0.0</td>\n",
              "      <td>0.0</td>\n",
              "      <td>0.0</td>\n",
              "      <td>0.0</td>\n",
              "      <td>0.0</td>\n",
              "      <td>1.0</td>\n",
              "      <td>0.0</td>\n",
              "      <td>0.0</td>\n",
              "    </tr>\n",
              "    <tr>\n",
              "      <th>57.jpg</th>\n",
              "      <td>0.0</td>\n",
              "      <td>0.0</td>\n",
              "      <td>0.0</td>\n",
              "      <td>0.0</td>\n",
              "      <td>0.0</td>\n",
              "      <td>0.0</td>\n",
              "      <td>0.0</td>\n",
              "      <td>0.0</td>\n",
              "      <td>1.0</td>\n",
              "    </tr>\n",
              "    <tr>\n",
              "      <th>36.jpg</th>\n",
              "      <td>0.0</td>\n",
              "      <td>0.0</td>\n",
              "      <td>0.0</td>\n",
              "      <td>0.0</td>\n",
              "      <td>1.0</td>\n",
              "      <td>0.0</td>\n",
              "      <td>0.0</td>\n",
              "      <td>0.0</td>\n",
              "      <td>0.0</td>\n",
              "    </tr>\n",
              "    <tr>\n",
              "      <th>2.jpg</th>\n",
              "      <td>0.0</td>\n",
              "      <td>0.0</td>\n",
              "      <td>0.0</td>\n",
              "      <td>0.0</td>\n",
              "      <td>0.0</td>\n",
              "      <td>0.0</td>\n",
              "      <td>0.0</td>\n",
              "      <td>0.0</td>\n",
              "      <td>1.0</td>\n",
              "    </tr>\n",
              "    <tr>\n",
              "      <th>42.jpg</th>\n",
              "      <td>0.0</td>\n",
              "      <td>0.0</td>\n",
              "      <td>0.0</td>\n",
              "      <td>0.0</td>\n",
              "      <td>1.0</td>\n",
              "      <td>0.0</td>\n",
              "      <td>0.0</td>\n",
              "      <td>0.0</td>\n",
              "      <td>0.0</td>\n",
              "    </tr>\n",
              "    <tr>\n",
              "      <th>26.jpg</th>\n",
              "      <td>0.0</td>\n",
              "      <td>0.0</td>\n",
              "      <td>0.0</td>\n",
              "      <td>0.0</td>\n",
              "      <td>1.0</td>\n",
              "      <td>0.0</td>\n",
              "      <td>0.0</td>\n",
              "      <td>0.0</td>\n",
              "      <td>0.0</td>\n",
              "    </tr>\n",
              "    <tr>\n",
              "      <th>19.jpg</th>\n",
              "      <td>0.0</td>\n",
              "      <td>0.0</td>\n",
              "      <td>0.0</td>\n",
              "      <td>0.0</td>\n",
              "      <td>1.0</td>\n",
              "      <td>0.0</td>\n",
              "      <td>0.0</td>\n",
              "      <td>0.0</td>\n",
              "      <td>0.0</td>\n",
              "    </tr>\n",
              "    <tr>\n",
              "      <th>35.jpg</th>\n",
              "      <td>0.0</td>\n",
              "      <td>0.0</td>\n",
              "      <td>0.0</td>\n",
              "      <td>0.0</td>\n",
              "      <td>0.0</td>\n",
              "      <td>0.0</td>\n",
              "      <td>0.0</td>\n",
              "      <td>0.0</td>\n",
              "      <td>1.0</td>\n",
              "    </tr>\n",
              "    <tr>\n",
              "      <th>48.jpg</th>\n",
              "      <td>0.0</td>\n",
              "      <td>0.0</td>\n",
              "      <td>0.0</td>\n",
              "      <td>0.0</td>\n",
              "      <td>0.0</td>\n",
              "      <td>0.0</td>\n",
              "      <td>0.0</td>\n",
              "      <td>0.0</td>\n",
              "      <td>1.0</td>\n",
              "    </tr>\n",
              "    <tr>\n",
              "      <th>9.jpg</th>\n",
              "      <td>0.0</td>\n",
              "      <td>0.0</td>\n",
              "      <td>0.0</td>\n",
              "      <td>0.0</td>\n",
              "      <td>0.0</td>\n",
              "      <td>0.0</td>\n",
              "      <td>0.0</td>\n",
              "      <td>0.0</td>\n",
              "      <td>1.0</td>\n",
              "    </tr>\n",
              "    <tr>\n",
              "      <th>25.jpg</th>\n",
              "      <td>0.0</td>\n",
              "      <td>0.0</td>\n",
              "      <td>0.0</td>\n",
              "      <td>0.0</td>\n",
              "      <td>1.0</td>\n",
              "      <td>0.0</td>\n",
              "      <td>0.0</td>\n",
              "      <td>0.0</td>\n",
              "      <td>0.0</td>\n",
              "    </tr>\n",
              "    <tr>\n",
              "      <th>4.jpg</th>\n",
              "      <td>0.0</td>\n",
              "      <td>0.0</td>\n",
              "      <td>0.0</td>\n",
              "      <td>0.0</td>\n",
              "      <td>0.0</td>\n",
              "      <td>1.0</td>\n",
              "      <td>0.0</td>\n",
              "      <td>0.0</td>\n",
              "      <td>0.0</td>\n",
              "    </tr>\n",
              "    <tr>\n",
              "      <th>59.jpg</th>\n",
              "      <td>0.0</td>\n",
              "      <td>0.0</td>\n",
              "      <td>0.0</td>\n",
              "      <td>0.0</td>\n",
              "      <td>0.0</td>\n",
              "      <td>0.0</td>\n",
              "      <td>0.0</td>\n",
              "      <td>0.0</td>\n",
              "      <td>1.0</td>\n",
              "    </tr>\n",
              "    <tr>\n",
              "      <th>45.jpg</th>\n",
              "      <td>0.0</td>\n",
              "      <td>0.0</td>\n",
              "      <td>0.0</td>\n",
              "      <td>0.0</td>\n",
              "      <td>0.0</td>\n",
              "      <td>0.0</td>\n",
              "      <td>1.0</td>\n",
              "      <td>0.0</td>\n",
              "      <td>0.0</td>\n",
              "    </tr>\n",
              "    <tr>\n",
              "      <th>15.jpg</th>\n",
              "      <td>0.0</td>\n",
              "      <td>0.0</td>\n",
              "      <td>0.0</td>\n",
              "      <td>0.0</td>\n",
              "      <td>0.0</td>\n",
              "      <td>0.0</td>\n",
              "      <td>0.0</td>\n",
              "      <td>0.0</td>\n",
              "      <td>1.0</td>\n",
              "    </tr>\n",
              "    <tr>\n",
              "      <th>39.jpg</th>\n",
              "      <td>0.0</td>\n",
              "      <td>1.0</td>\n",
              "      <td>0.0</td>\n",
              "      <td>0.0</td>\n",
              "      <td>0.0</td>\n",
              "      <td>0.0</td>\n",
              "      <td>0.0</td>\n",
              "      <td>0.0</td>\n",
              "      <td>0.0</td>\n",
              "    </tr>\n",
              "    <tr>\n",
              "      <th>10.jpg</th>\n",
              "      <td>0.0</td>\n",
              "      <td>0.0</td>\n",
              "      <td>0.0</td>\n",
              "      <td>0.0</td>\n",
              "      <td>0.0</td>\n",
              "      <td>1.0</td>\n",
              "      <td>0.0</td>\n",
              "      <td>0.0</td>\n",
              "      <td>0.0</td>\n",
              "    </tr>\n",
              "    <tr>\n",
              "      <th>29.jpg</th>\n",
              "      <td>0.0</td>\n",
              "      <td>0.0</td>\n",
              "      <td>0.0</td>\n",
              "      <td>0.0</td>\n",
              "      <td>1.0</td>\n",
              "      <td>0.0</td>\n",
              "      <td>0.0</td>\n",
              "      <td>0.0</td>\n",
              "      <td>0.0</td>\n",
              "    </tr>\n",
              "    <tr>\n",
              "      <th>17.jpg</th>\n",
              "      <td>1.0</td>\n",
              "      <td>0.0</td>\n",
              "      <td>0.0</td>\n",
              "      <td>0.0</td>\n",
              "      <td>0.0</td>\n",
              "      <td>0.0</td>\n",
              "      <td>0.0</td>\n",
              "      <td>0.0</td>\n",
              "      <td>0.0</td>\n",
              "    </tr>\n",
              "    <tr>\n",
              "      <th>43.jpg</th>\n",
              "      <td>1.0</td>\n",
              "      <td>0.0</td>\n",
              "      <td>0.0</td>\n",
              "      <td>0.0</td>\n",
              "      <td>0.0</td>\n",
              "      <td>0.0</td>\n",
              "      <td>0.0</td>\n",
              "      <td>0.0</td>\n",
              "      <td>0.0</td>\n",
              "    </tr>\n",
              "    <tr>\n",
              "      <th>38.jpg</th>\n",
              "      <td>0.0</td>\n",
              "      <td>0.0</td>\n",
              "      <td>0.0</td>\n",
              "      <td>0.0</td>\n",
              "      <td>1.0</td>\n",
              "      <td>0.0</td>\n",
              "      <td>0.0</td>\n",
              "      <td>0.0</td>\n",
              "      <td>0.0</td>\n",
              "    </tr>\n",
              "    <tr>\n",
              "      <th>52.jpg</th>\n",
              "      <td>0.0</td>\n",
              "      <td>0.0</td>\n",
              "      <td>0.0</td>\n",
              "      <td>0.0</td>\n",
              "      <td>0.0</td>\n",
              "      <td>0.0</td>\n",
              "      <td>0.0</td>\n",
              "      <td>0.0</td>\n",
              "      <td>1.0</td>\n",
              "    </tr>\n",
              "    <tr>\n",
              "      <th>37.jpg</th>\n",
              "      <td>0.0</td>\n",
              "      <td>0.0</td>\n",
              "      <td>0.0</td>\n",
              "      <td>0.0</td>\n",
              "      <td>1.0</td>\n",
              "      <td>0.0</td>\n",
              "      <td>0.0</td>\n",
              "      <td>0.0</td>\n",
              "      <td>0.0</td>\n",
              "    </tr>\n",
              "    <tr>\n",
              "      <th>53.jpg</th>\n",
              "      <td>1.0</td>\n",
              "      <td>0.0</td>\n",
              "      <td>0.0</td>\n",
              "      <td>0.0</td>\n",
              "      <td>0.0</td>\n",
              "      <td>0.0</td>\n",
              "      <td>0.0</td>\n",
              "      <td>0.0</td>\n",
              "      <td>0.0</td>\n",
              "    </tr>\n",
              "    <tr>\n",
              "      <th>41.jpg</th>\n",
              "      <td>0.0</td>\n",
              "      <td>0.0</td>\n",
              "      <td>0.0</td>\n",
              "      <td>0.0</td>\n",
              "      <td>0.0</td>\n",
              "      <td>0.0</td>\n",
              "      <td>0.0</td>\n",
              "      <td>0.0</td>\n",
              "      <td>1.0</td>\n",
              "    </tr>\n",
              "    <tr>\n",
              "      <th>22.jpg</th>\n",
              "      <td>0.0</td>\n",
              "      <td>0.0</td>\n",
              "      <td>0.0</td>\n",
              "      <td>0.0</td>\n",
              "      <td>1.0</td>\n",
              "      <td>0.0</td>\n",
              "      <td>0.0</td>\n",
              "      <td>0.0</td>\n",
              "      <td>0.0</td>\n",
              "    </tr>\n",
              "    <tr>\n",
              "      <th>1.jpg</th>\n",
              "      <td>0.0</td>\n",
              "      <td>0.0</td>\n",
              "      <td>0.0</td>\n",
              "      <td>0.0</td>\n",
              "      <td>0.0</td>\n",
              "      <td>0.0</td>\n",
              "      <td>0.0</td>\n",
              "      <td>0.0</td>\n",
              "      <td>1.0</td>\n",
              "    </tr>\n",
              "    <tr>\n",
              "      <th>58.jpg</th>\n",
              "      <td>0.0</td>\n",
              "      <td>0.0</td>\n",
              "      <td>0.0</td>\n",
              "      <td>0.0</td>\n",
              "      <td>0.0</td>\n",
              "      <td>0.0</td>\n",
              "      <td>0.0</td>\n",
              "      <td>0.0</td>\n",
              "      <td>1.0</td>\n",
              "    </tr>\n",
              "    <tr>\n",
              "      <th>50.jpg</th>\n",
              "      <td>0.0</td>\n",
              "      <td>0.0</td>\n",
              "      <td>0.0</td>\n",
              "      <td>0.0</td>\n",
              "      <td>0.0</td>\n",
              "      <td>0.0</td>\n",
              "      <td>0.0</td>\n",
              "      <td>0.0</td>\n",
              "      <td>1.0</td>\n",
              "    </tr>\n",
              "    <tr>\n",
              "      <th>8.jpg</th>\n",
              "      <td>0.0</td>\n",
              "      <td>0.0</td>\n",
              "      <td>0.0</td>\n",
              "      <td>1.0</td>\n",
              "      <td>0.0</td>\n",
              "      <td>0.0</td>\n",
              "      <td>0.0</td>\n",
              "      <td>0.0</td>\n",
              "      <td>0.0</td>\n",
              "    </tr>\n",
              "    <tr>\n",
              "      <th>33.jpg</th>\n",
              "      <td>0.0</td>\n",
              "      <td>0.0</td>\n",
              "      <td>0.0</td>\n",
              "      <td>0.0</td>\n",
              "      <td>0.0</td>\n",
              "      <td>0.0</td>\n",
              "      <td>0.0</td>\n",
              "      <td>0.0</td>\n",
              "      <td>1.0</td>\n",
              "    </tr>\n",
              "    <tr>\n",
              "      <th>47.jpg</th>\n",
              "      <td>0.0</td>\n",
              "      <td>0.0</td>\n",
              "      <td>0.0</td>\n",
              "      <td>0.0</td>\n",
              "      <td>0.0</td>\n",
              "      <td>0.0</td>\n",
              "      <td>0.0</td>\n",
              "      <td>0.0</td>\n",
              "      <td>1.0</td>\n",
              "    </tr>\n",
              "    <tr>\n",
              "      <th>12.jpg</th>\n",
              "      <td>1.0</td>\n",
              "      <td>0.0</td>\n",
              "      <td>0.0</td>\n",
              "      <td>0.0</td>\n",
              "      <td>0.0</td>\n",
              "      <td>0.0</td>\n",
              "      <td>0.0</td>\n",
              "      <td>0.0</td>\n",
              "      <td>0.0</td>\n",
              "    </tr>\n",
              "    <tr>\n",
              "      <th>34.jpg</th>\n",
              "      <td>0.0</td>\n",
              "      <td>0.0</td>\n",
              "      <td>0.0</td>\n",
              "      <td>0.0</td>\n",
              "      <td>1.0</td>\n",
              "      <td>0.0</td>\n",
              "      <td>0.0</td>\n",
              "      <td>0.0</td>\n",
              "      <td>0.0</td>\n",
              "    </tr>\n",
              "    <tr>\n",
              "      <th>40.jpg</th>\n",
              "      <td>0.0</td>\n",
              "      <td>1.0</td>\n",
              "      <td>0.0</td>\n",
              "      <td>0.0</td>\n",
              "      <td>0.0</td>\n",
              "      <td>0.0</td>\n",
              "      <td>0.0</td>\n",
              "      <td>0.0</td>\n",
              "      <td>0.0</td>\n",
              "    </tr>\n",
              "    <tr>\n",
              "      <th>6.jpg</th>\n",
              "      <td>0.0</td>\n",
              "      <td>1.0</td>\n",
              "      <td>0.0</td>\n",
              "      <td>0.0</td>\n",
              "      <td>0.0</td>\n",
              "      <td>0.0</td>\n",
              "      <td>0.0</td>\n",
              "      <td>0.0</td>\n",
              "      <td>0.0</td>\n",
              "    </tr>\n",
              "    <tr>\n",
              "      <th>28.jpg</th>\n",
              "      <td>0.0</td>\n",
              "      <td>0.0</td>\n",
              "      <td>0.0</td>\n",
              "      <td>0.0</td>\n",
              "      <td>0.0</td>\n",
              "      <td>0.0</td>\n",
              "      <td>0.0</td>\n",
              "      <td>0.0</td>\n",
              "      <td>1.0</td>\n",
              "    </tr>\n",
              "    <tr>\n",
              "      <th>21.jpg</th>\n",
              "      <td>0.0</td>\n",
              "      <td>1.0</td>\n",
              "      <td>0.0</td>\n",
              "      <td>0.0</td>\n",
              "      <td>0.0</td>\n",
              "      <td>0.0</td>\n",
              "      <td>0.0</td>\n",
              "      <td>0.0</td>\n",
              "      <td>0.0</td>\n",
              "    </tr>\n",
              "    <tr>\n",
              "      <th>32.jpg</th>\n",
              "      <td>0.0</td>\n",
              "      <td>0.0</td>\n",
              "      <td>0.0</td>\n",
              "      <td>0.0</td>\n",
              "      <td>1.0</td>\n",
              "      <td>0.0</td>\n",
              "      <td>0.0</td>\n",
              "      <td>0.0</td>\n",
              "      <td>0.0</td>\n",
              "    </tr>\n",
              "    <tr>\n",
              "      <th>18.jpg</th>\n",
              "      <td>0.0</td>\n",
              "      <td>0.0</td>\n",
              "      <td>0.0</td>\n",
              "      <td>0.0</td>\n",
              "      <td>0.0</td>\n",
              "      <td>0.0</td>\n",
              "      <td>0.0</td>\n",
              "      <td>0.0</td>\n",
              "      <td>1.0</td>\n",
              "    </tr>\n",
              "    <tr>\n",
              "      <th>16.jpg</th>\n",
              "      <td>0.0</td>\n",
              "      <td>0.0</td>\n",
              "      <td>0.0</td>\n",
              "      <td>0.0</td>\n",
              "      <td>0.0</td>\n",
              "      <td>0.0</td>\n",
              "      <td>0.0</td>\n",
              "      <td>0.0</td>\n",
              "      <td>1.0</td>\n",
              "    </tr>\n",
              "    <tr>\n",
              "      <th>46.jpg</th>\n",
              "      <td>1.0</td>\n",
              "      <td>0.0</td>\n",
              "      <td>0.0</td>\n",
              "      <td>0.0</td>\n",
              "      <td>0.0</td>\n",
              "      <td>0.0</td>\n",
              "      <td>0.0</td>\n",
              "      <td>0.0</td>\n",
              "      <td>0.0</td>\n",
              "    </tr>\n",
              "    <tr>\n",
              "      <th>23.jpg</th>\n",
              "      <td>0.0</td>\n",
              "      <td>0.0</td>\n",
              "      <td>0.0</td>\n",
              "      <td>0.0</td>\n",
              "      <td>0.0</td>\n",
              "      <td>0.0</td>\n",
              "      <td>1.0</td>\n",
              "      <td>0.0</td>\n",
              "      <td>0.0</td>\n",
              "    </tr>\n",
              "    <tr>\n",
              "      <th>54.jpg</th>\n",
              "      <td>0.0</td>\n",
              "      <td>0.0</td>\n",
              "      <td>0.0</td>\n",
              "      <td>0.0</td>\n",
              "      <td>0.0</td>\n",
              "      <td>0.0</td>\n",
              "      <td>0.0</td>\n",
              "      <td>0.0</td>\n",
              "      <td>1.0</td>\n",
              "    </tr>\n",
              "    <tr>\n",
              "      <th>20.jpg</th>\n",
              "      <td>0.0</td>\n",
              "      <td>0.0</td>\n",
              "      <td>0.0</td>\n",
              "      <td>0.0</td>\n",
              "      <td>1.0</td>\n",
              "      <td>0.0</td>\n",
              "      <td>0.0</td>\n",
              "      <td>0.0</td>\n",
              "      <td>0.0</td>\n",
              "    </tr>\n",
              "    <tr>\n",
              "      <th>5.jpg</th>\n",
              "      <td>0.0</td>\n",
              "      <td>0.0</td>\n",
              "      <td>0.0</td>\n",
              "      <td>1.0</td>\n",
              "      <td>0.0</td>\n",
              "      <td>0.0</td>\n",
              "      <td>0.0</td>\n",
              "      <td>0.0</td>\n",
              "      <td>0.0</td>\n",
              "    </tr>\n",
              "    <tr>\n",
              "      <th>24.jpg</th>\n",
              "      <td>0.0</td>\n",
              "      <td>0.0</td>\n",
              "      <td>0.0</td>\n",
              "      <td>0.0</td>\n",
              "      <td>0.0</td>\n",
              "      <td>0.0</td>\n",
              "      <td>0.0</td>\n",
              "      <td>0.0</td>\n",
              "      <td>1.0</td>\n",
              "    </tr>\n",
              "    <tr>\n",
              "      <th>7.jpg</th>\n",
              "      <td>0.0</td>\n",
              "      <td>0.0</td>\n",
              "      <td>0.0</td>\n",
              "      <td>0.0</td>\n",
              "      <td>0.0</td>\n",
              "      <td>0.0</td>\n",
              "      <td>0.0</td>\n",
              "      <td>1.0</td>\n",
              "      <td>0.0</td>\n",
              "    </tr>\n",
              "    <tr>\n",
              "      <th>27.jpg</th>\n",
              "      <td>0.0</td>\n",
              "      <td>0.0</td>\n",
              "      <td>0.0</td>\n",
              "      <td>0.0</td>\n",
              "      <td>1.0</td>\n",
              "      <td>0.0</td>\n",
              "      <td>0.0</td>\n",
              "      <td>0.0</td>\n",
              "      <td>0.0</td>\n",
              "    </tr>\n",
              "    <tr>\n",
              "      <th>11.jpg</th>\n",
              "      <td>0.0</td>\n",
              "      <td>0.0</td>\n",
              "      <td>0.0</td>\n",
              "      <td>0.0</td>\n",
              "      <td>0.0</td>\n",
              "      <td>0.0</td>\n",
              "      <td>0.0</td>\n",
              "      <td>1.0</td>\n",
              "      <td>0.0</td>\n",
              "    </tr>\n",
              "    <tr>\n",
              "      <th>44.jpg</th>\n",
              "      <td>0.0</td>\n",
              "      <td>0.0</td>\n",
              "      <td>0.0</td>\n",
              "      <td>0.0</td>\n",
              "      <td>0.0</td>\n",
              "      <td>0.0</td>\n",
              "      <td>0.0</td>\n",
              "      <td>0.0</td>\n",
              "      <td>1.0</td>\n",
              "    </tr>\n",
              "    <tr>\n",
              "      <th>51.jpg</th>\n",
              "      <td>0.0</td>\n",
              "      <td>0.0</td>\n",
              "      <td>0.0</td>\n",
              "      <td>0.0</td>\n",
              "      <td>0.0</td>\n",
              "      <td>0.0</td>\n",
              "      <td>0.0</td>\n",
              "      <td>0.0</td>\n",
              "      <td>1.0</td>\n",
              "    </tr>\n",
              "    <tr>\n",
              "      <th>49.jpg</th>\n",
              "      <td>0.0</td>\n",
              "      <td>0.0</td>\n",
              "      <td>0.0</td>\n",
              "      <td>0.0</td>\n",
              "      <td>0.0</td>\n",
              "      <td>0.0</td>\n",
              "      <td>0.0</td>\n",
              "      <td>0.0</td>\n",
              "      <td>1.0</td>\n",
              "    </tr>\n",
              "    <tr>\n",
              "      <th>14.jpg</th>\n",
              "      <td>0.0</td>\n",
              "      <td>0.0</td>\n",
              "      <td>0.0</td>\n",
              "      <td>0.0</td>\n",
              "      <td>1.0</td>\n",
              "      <td>0.0</td>\n",
              "      <td>0.0</td>\n",
              "      <td>0.0</td>\n",
              "      <td>0.0</td>\n",
              "    </tr>\n",
              "  </tbody>\n",
              "</table>\n",
              "</div>\n",
              "      <button class=\"colab-df-convert\" onclick=\"convertToInteractive('df-4853d3ae-d45b-42c6-8253-340a425c9ee0')\"\n",
              "              title=\"Convert this dataframe to an interactive table.\"\n",
              "              style=\"display:none;\">\n",
              "        \n",
              "  <svg xmlns=\"http://www.w3.org/2000/svg\" height=\"24px\"viewBox=\"0 0 24 24\"\n",
              "       width=\"24px\">\n",
              "    <path d=\"M0 0h24v24H0V0z\" fill=\"none\"/>\n",
              "    <path d=\"M18.56 5.44l.94 2.06.94-2.06 2.06-.94-2.06-.94-.94-2.06-.94 2.06-2.06.94zm-11 1L8.5 8.5l.94-2.06 2.06-.94-2.06-.94L8.5 2.5l-.94 2.06-2.06.94zm10 10l.94 2.06.94-2.06 2.06-.94-2.06-.94-.94-2.06-.94 2.06-2.06.94z\"/><path d=\"M17.41 7.96l-1.37-1.37c-.4-.4-.92-.59-1.43-.59-.52 0-1.04.2-1.43.59L10.3 9.45l-7.72 7.72c-.78.78-.78 2.05 0 2.83L4 21.41c.39.39.9.59 1.41.59.51 0 1.02-.2 1.41-.59l7.78-7.78 2.81-2.81c.8-.78.8-2.07 0-2.86zM5.41 20L4 18.59l7.72-7.72 1.47 1.35L5.41 20z\"/>\n",
              "  </svg>\n",
              "      </button>\n",
              "      \n",
              "  <style>\n",
              "    .colab-df-container {\n",
              "      display:flex;\n",
              "      flex-wrap:wrap;\n",
              "      gap: 12px;\n",
              "    }\n",
              "\n",
              "    .colab-df-convert {\n",
              "      background-color: #E8F0FE;\n",
              "      border: none;\n",
              "      border-radius: 50%;\n",
              "      cursor: pointer;\n",
              "      display: none;\n",
              "      fill: #1967D2;\n",
              "      height: 32px;\n",
              "      padding: 0 0 0 0;\n",
              "      width: 32px;\n",
              "    }\n",
              "\n",
              "    .colab-df-convert:hover {\n",
              "      background-color: #E2EBFA;\n",
              "      box-shadow: 0px 1px 2px rgba(60, 64, 67, 0.3), 0px 1px 3px 1px rgba(60, 64, 67, 0.15);\n",
              "      fill: #174EA6;\n",
              "    }\n",
              "\n",
              "    [theme=dark] .colab-df-convert {\n",
              "      background-color: #3B4455;\n",
              "      fill: #D2E3FC;\n",
              "    }\n",
              "\n",
              "    [theme=dark] .colab-df-convert:hover {\n",
              "      background-color: #434B5C;\n",
              "      box-shadow: 0px 1px 3px 1px rgba(0, 0, 0, 0.15);\n",
              "      filter: drop-shadow(0px 1px 2px rgba(0, 0, 0, 0.3));\n",
              "      fill: #FFFFFF;\n",
              "    }\n",
              "  </style>\n",
              "\n",
              "      <script>\n",
              "        const buttonEl =\n",
              "          document.querySelector('#df-4853d3ae-d45b-42c6-8253-340a425c9ee0 button.colab-df-convert');\n",
              "        buttonEl.style.display =\n",
              "          google.colab.kernel.accessAllowed ? 'block' : 'none';\n",
              "\n",
              "        async function convertToInteractive(key) {\n",
              "          const element = document.querySelector('#df-4853d3ae-d45b-42c6-8253-340a425c9ee0');\n",
              "          const dataTable =\n",
              "            await google.colab.kernel.invokeFunction('convertToInteractive',\n",
              "                                                     [key], {});\n",
              "          if (!dataTable) return;\n",
              "\n",
              "          const docLinkHtml = 'Like what you see? Visit the ' +\n",
              "            '<a target=\"_blank\" href=https://colab.research.google.com/notebooks/data_table.ipynb>data table notebook</a>'\n",
              "            + ' to learn more about interactive tables.';\n",
              "          element.innerHTML = '';\n",
              "          dataTable['output_type'] = 'display_data';\n",
              "          await google.colab.output.renderOutput(dataTable, element);\n",
              "          const docLink = document.createElement('div');\n",
              "          docLink.innerHTML = docLinkHtml;\n",
              "          element.appendChild(docLink);\n",
              "        }\n",
              "      </script>\n",
              "    </div>\n",
              "  </div>\n",
              "  "
            ]
          },
          "metadata": {},
          "execution_count": 40
        }
      ]
    },
    {
      "cell_type": "code",
      "source": [],
      "metadata": {
        "id": "sm2XsIQ8VsT4"
      },
      "execution_count": 40,
      "outputs": []
    },
    {
      "cell_type": "markdown",
      "source": [
        "## Future work\n",
        "\n",
        "1. Fine-tuning the VGG16 model.\n",
        "\n",
        "2. Dealing with overfitting.\n",
        "\n",
        "3. Selecting the appropriate number of layers to unfreeze by careful experimentation.\n",
        "\n",
        "4. Other parameters to consider when training the network include:\n",
        "\n",
        "Optimizers: Here, rmsprop optimizer is used to update the weights during training. When training the network, experimentation with other optimizers and their learning rate can be done.\n",
        "\n",
        "\n",
        "Dropout: Dropout is a form of regularization to prevent overfitting of the network.\n",
        "\n",
        "\n",
        "Fully-Connected Layer: If a bootstrapped approach is taken for modelling, ensure that the Fully-Connected layer is structured appropriately for the classification task. The the number of input nodes should be correct for the outputted features. Number of densely-connected layers should be apprpriate.\n"
      ],
      "metadata": {
        "id": "IRuTBD5nG62O"
      }
    },
    {
      "cell_type": "code",
      "source": [],
      "metadata": {
        "id": "eC93acBjVsKe"
      },
      "execution_count": 40,
      "outputs": []
    },
    {
      "cell_type": "markdown",
      "source": [
        "#### 1. A CNN model has also been built from scratch in another notebook. But the performance evaluation of the CNN model is poor.\n",
        "\n",
        "#### 2. Also, a Resnet152 model has been trained. But it is achieving around 40% accuracy on the test data. More work has to be done to improve it."
      ],
      "metadata": {
        "id": "qM3yPueJb-N6"
      }
    },
    {
      "cell_type": "code",
      "source": [],
      "metadata": {
        "id": "moRc73YMjDpL"
      },
      "execution_count": 40,
      "outputs": []
    }
  ]
}