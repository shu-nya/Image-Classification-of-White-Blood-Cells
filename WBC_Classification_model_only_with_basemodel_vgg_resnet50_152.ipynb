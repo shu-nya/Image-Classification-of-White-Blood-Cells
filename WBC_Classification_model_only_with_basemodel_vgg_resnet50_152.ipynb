{
  "cells": [
    {
      "cell_type": "markdown",
      "metadata": {
        "id": "view-in-github",
        "colab_type": "text"
      },
      "source": [
        "<a href=\"https://colab.research.google.com/github/shu-nya/Image-Classification-of-White-Blood-Cells/blob/master/WBC_Classification_model_only_with_basemodel_vgg_resnet50_152.ipynb\" target=\"_parent\"><img src=\"https://colab.research.google.com/assets/colab-badge.svg\" alt=\"Open In Colab\"/></a>"
      ]
    },
    {
      "cell_type": "code",
      "execution_count": 1,
      "metadata": {
        "id": "HNFhaaFk-akc"
      },
      "outputs": [],
      "source": [
        "import numpy as np\n",
        "from keras.models import Sequential\n",
        "from keras import applications\n",
        "from keras import optimizers\n",
        "from keras.layers import Dense, Dropout, Activation, Flatten\n",
        "from keras.layers import Input, Conv2D, MaxPooling2D, Lambda\n",
        "from keras.layers import Dense\n",
        "from keras.models import Model\n",
        "from keras.wrappers.scikit_learn import KerasClassifier\n",
        "from keras.utils import to_categorical\n",
        "from keras.utils import np_utils\n",
        "from keras.preprocessing.image import ImageDataGenerator\n",
        "from sklearn.model_selection import cross_val_score\n",
        "from sklearn.model_selection import KFold\n",
        "from sklearn.preprocessing import LabelEncoder\n",
        "from sklearn.pipeline import Pipeline\n",
        "from sklearn.model_selection import train_test_split\n",
        "from sklearn.metrics import roc_curve, auc\n",
        "from sklearn.utils import shuffle\n",
        "import csv\n",
        "import cv2\n",
        "import scipy\n",
        "import os\n",
        "from PIL import Image\n",
        "#import splitfolders\n",
        "import shutil"
      ]
    },
    {
      "cell_type": "code",
      "execution_count": 2,
      "metadata": {
        "colab": {
          "base_uri": "https://localhost:8080/"
        },
        "id": "5o-YKxb7--aK",
        "outputId": "33b0351c-299a-453e-950c-c8713754d53d"
      },
      "outputs": [
        {
          "output_type": "stream",
          "name": "stdout",
          "text": [
            "Mounted at /content/drive\n"
          ]
        }
      ],
      "source": [
        "from google.colab import drive\n",
        "drive.mount('/content/drive')"
      ]
    },
    {
      "cell_type": "code",
      "execution_count": 3,
      "metadata": {
        "id": "OVLUoKtNFfKd"
      },
      "outputs": [],
      "source": [
        "BASE_DIR = '/content/drive/MyDrive/taskMedPrime'"
      ]
    },
    {
      "cell_type": "code",
      "execution_count": null,
      "metadata": {
        "id": "bTQKwZo4FfHq"
      },
      "outputs": [],
      "source": []
    },
    {
      "cell_type": "code",
      "execution_count": 4,
      "metadata": {
        "id": "Plg1cYH0FiXM"
      },
      "outputs": [],
      "source": [
        "def get_data(folder):\n",
        "    X = []\n",
        "    y = []\n",
        "\n",
        "    for wbc_type in os.listdir(folder):\n",
        "        if not wbc_type.startswith('.'):\n",
        "\n",
        "            for image_filename in os.listdir(folder + '/' + wbc_type):\n",
        "                img_file = cv2.imread(folder + '/' + wbc_type + '/' + image_filename)\n",
        "\n",
        "                if img_file is not None:\n",
        "                    img_arr = np.asarray(img_file)\n",
        "                    X.append(img_arr)\n",
        "                    y.append(wbc_type)\n",
        "\n",
        "    X = np.asarray(X)\n",
        "    y = np.asarray(y)\n",
        "    return X,y"
      ]
    },
    {
      "cell_type": "code",
      "execution_count": 5,
      "metadata": {
        "id": "dAFto1SzFiUj"
      },
      "outputs": [],
      "source": [
        "X_train, y_train = get_data(BASE_DIR + '/train')\n",
        "X_test, y_test = get_data(BASE_DIR + '/test')\n",
        "\n"
      ]
    },
    {
      "cell_type": "code",
      "execution_count": 6,
      "metadata": {
        "id": "3o7UvIClL9ns"
      },
      "outputs": [],
      "source": [
        "X_train = X_train * 1./255.\n",
        "X_test = X_test * 1./255."
      ]
    },
    {
      "cell_type": "code",
      "source": [],
      "metadata": {
        "id": "edFyb21t5j4I"
      },
      "execution_count": null,
      "outputs": []
    },
    {
      "cell_type": "markdown",
      "source": [],
      "metadata": {
        "id": "YmKymNfD5je4"
      }
    },
    {
      "cell_type": "code",
      "execution_count": 7,
      "metadata": {
        "id": "sTTzS3Wn--Ue"
      },
      "outputs": [],
      "source": [
        "#Convert labels to one hot encoding\n",
        "\n",
        "encoder = LabelEncoder()\n",
        "encoder.fit(y_train)\n",
        "encoded_y_train = encoder.transform(y_train)\n",
        "encoded_y_test = encoder.transform(y_test)\n",
        "\n",
        "y_train = np_utils.to_categorical(encoded_y_train)\n",
        "y_test = np_utils.to_categorical(encoded_y_test)"
      ]
    },
    {
      "cell_type": "code",
      "execution_count": null,
      "metadata": {
        "id": "TsAzn72d_IZu"
      },
      "outputs": [],
      "source": []
    },
    {
      "cell_type": "code",
      "source": [],
      "metadata": {
        "id": "ce57Vf1gaTdu"
      },
      "execution_count": null,
      "outputs": []
    },
    {
      "cell_type": "code",
      "source": [],
      "metadata": {
        "id": "99dSyJtPaTa6"
      },
      "execution_count": null,
      "outputs": []
    },
    {
      "cell_type": "code",
      "source": [],
      "metadata": {
        "id": "mVVWzq47aTX3"
      },
      "execution_count": null,
      "outputs": []
    },
    {
      "cell_type": "code",
      "execution_count": 8,
      "metadata": {
        "id": "U_juJ9K2--R2"
      },
      "outputs": [],
      "source": [
        "def get_model():\n",
        "    model = Sequential()\n",
        "    model.add(Lambda(lambda x: x/127.5 - 1., input_shape=(256, 256, 3), output_shape=(256, 256, 3)))\n",
        "\n",
        "    # layer 1\n",
        "    model.add(Conv2D(32, kernel_size=(3, 3), padding='same', input_shape=(256, 356, 3)))\n",
        "    model.add(Activation('relu'))\n",
        "    model.add(MaxPooling2D(pool_size=(2, 2)))\n",
        "    model.add(Dropout(rate=0.25))\n",
        "\n",
        "    # layer 2\n",
        "    model.add(Conv2D(32, kernel_size=(3, 3), padding='same'))\n",
        "    model.add(Activation('relu'))\n",
        "    model.add(MaxPooling2D(pool_size=(2, 2)))\n",
        "    model.add(Dropout(rate=0.40))\n",
        "\n",
        "    # layer 3\n",
        "    model.add(Conv2D(64, kernel_size=(3, 3), padding='same'))\n",
        "    model.add(Activation('relu'))\n",
        "    model.add(MaxPooling2D(pool_size=(2, 2)))\n",
        "    model.add(Dropout(rate=0.40))\n",
        "\n",
        "\n",
        "    # Fully connected network layer\n",
        "    model.add(Flatten())  # this converts our 3D feature maps to 1D feature vectors\n",
        "    model.add(Dense(64))\n",
        "    model.add(Activation('relu'))\n",
        "    model.add(Dropout(0.40))\n",
        "\n",
        "    # Output\n",
        "    model.add(Dense(9))\n",
        "    model.add(Activation('softmax'))\n",
        "\n",
        "    # Compile\n",
        "    model.compile(loss='categorical_crossentropy', optimizer='Adam', metrics=['accuracy'])\n",
        "\n",
        "    return model"
      ]
    },
    {
      "cell_type": "code",
      "execution_count": null,
      "metadata": {
        "id": "PvaYnZsm--NO"
      },
      "outputs": [],
      "source": []
    },
    {
      "cell_type": "code",
      "execution_count": 9,
      "metadata": {
        "id": "so32LB7I--Kn"
      },
      "outputs": [],
      "source": [
        "epochs = 20\n",
        "\n",
        "batch_size = 32"
      ]
    },
    {
      "cell_type": "code",
      "execution_count": null,
      "metadata": {
        "id": "Cg96w6iZ_KHv"
      },
      "outputs": [],
      "source": []
    },
    {
      "cell_type": "code",
      "execution_count": 10,
      "metadata": {
        "colab": {
          "base_uri": "https://localhost:8080/",
          "height": 1000
        },
        "id": "0BZAvVLY_KFL",
        "outputId": "a7265bd2-5b1f-4c07-de6c-a397a30b3fbf"
      },
      "outputs": [
        {
          "output_type": "stream",
          "name": "stdout",
          "text": [
            "Epoch 1/150\n",
            "76/76 - 20s - loss: 2.4926 - accuracy: 0.1606 - val_loss: 2.2432 - val_accuracy: 0.0000e+00 - 20s/epoch - 267ms/step\n",
            "Epoch 2/150\n",
            "76/76 - 7s - loss: 2.1908 - accuracy: 0.1673 - val_loss: 2.2881 - val_accuracy: 0.0000e+00 - 7s/epoch - 88ms/step\n",
            "Epoch 3/150\n",
            "76/76 - 7s - loss: 2.1871 - accuracy: 0.1673 - val_loss: 2.3326 - val_accuracy: 0.0000e+00 - 7s/epoch - 88ms/step\n",
            "Epoch 4/150\n",
            "76/76 - 7s - loss: 2.1840 - accuracy: 0.1673 - val_loss: 2.3737 - val_accuracy: 0.0000e+00 - 7s/epoch - 89ms/step\n",
            "Epoch 5/150\n",
            "76/76 - 8s - loss: 2.1815 - accuracy: 0.1673 - val_loss: 2.4107 - val_accuracy: 0.0000e+00 - 8s/epoch - 99ms/step\n",
            "Epoch 6/150\n",
            "76/76 - 8s - loss: 2.1797 - accuracy: 0.1673 - val_loss: 2.4395 - val_accuracy: 0.0000e+00 - 8s/epoch - 101ms/step\n",
            "Epoch 7/150\n",
            "76/76 - 7s - loss: 2.1782 - accuracy: 0.1673 - val_loss: 2.4679 - val_accuracy: 0.0000e+00 - 7s/epoch - 91ms/step\n",
            "Epoch 8/150\n",
            "76/76 - 7s - loss: 2.1768 - accuracy: 0.1673 - val_loss: 2.4963 - val_accuracy: 0.0000e+00 - 7s/epoch - 89ms/step\n",
            "Epoch 9/150\n",
            "76/76 - 7s - loss: 2.1760 - accuracy: 0.1673 - val_loss: 2.5206 - val_accuracy: 0.0000e+00 - 7s/epoch - 91ms/step\n",
            "Epoch 10/150\n",
            "76/76 - 7s - loss: 2.1752 - accuracy: 0.1673 - val_loss: 2.5407 - val_accuracy: 0.0000e+00 - 7s/epoch - 94ms/step\n",
            "Epoch 11/150\n",
            "76/76 - 7s - loss: 2.1745 - accuracy: 0.1673 - val_loss: 2.5662 - val_accuracy: 0.0000e+00 - 7s/epoch - 90ms/step\n",
            "Epoch 12/150\n",
            "76/76 - 7s - loss: 2.1740 - accuracy: 0.1673 - val_loss: 2.5846 - val_accuracy: 0.0000e+00 - 7s/epoch - 89ms/step\n",
            "Epoch 13/150\n",
            "76/76 - 7s - loss: 2.1737 - accuracy: 0.1673 - val_loss: 2.6036 - val_accuracy: 0.0000e+00 - 7s/epoch - 90ms/step\n",
            "Epoch 14/150\n",
            "76/76 - 7s - loss: 2.1733 - accuracy: 0.1673 - val_loss: 2.6191 - val_accuracy: 0.0000e+00 - 7s/epoch - 88ms/step\n",
            "Epoch 15/150\n",
            "76/76 - 7s - loss: 2.1731 - accuracy: 0.1673 - val_loss: 2.6362 - val_accuracy: 0.0000e+00 - 7s/epoch - 92ms/step\n",
            "Epoch 16/150\n",
            "76/76 - 7s - loss: 2.1729 - accuracy: 0.1673 - val_loss: 2.6525 - val_accuracy: 0.0000e+00 - 7s/epoch - 98ms/step\n",
            "Epoch 17/150\n",
            "76/76 - 7s - loss: 2.1728 - accuracy: 0.1673 - val_loss: 2.6569 - val_accuracy: 0.0000e+00 - 7s/epoch - 97ms/step\n",
            "Epoch 18/150\n",
            "76/76 - 7s - loss: 2.1727 - accuracy: 0.1673 - val_loss: 2.6678 - val_accuracy: 0.0000e+00 - 7s/epoch - 90ms/step\n",
            "Epoch 19/150\n",
            "76/76 - 7s - loss: 2.1727 - accuracy: 0.1673 - val_loss: 2.6742 - val_accuracy: 0.0000e+00 - 7s/epoch - 88ms/step\n",
            "Epoch 20/150\n",
            "76/76 - 7s - loss: 2.1726 - accuracy: 0.1673 - val_loss: 2.6867 - val_accuracy: 0.0000e+00 - 7s/epoch - 90ms/step\n",
            "Epoch 21/150\n",
            "76/76 - 7s - loss: 2.1725 - accuracy: 0.1673 - val_loss: 2.6939 - val_accuracy: 0.0000e+00 - 7s/epoch - 91ms/step\n",
            "Epoch 22/150\n",
            "76/76 - 7s - loss: 2.1725 - accuracy: 0.1673 - val_loss: 2.6942 - val_accuracy: 0.0000e+00 - 7s/epoch - 90ms/step\n",
            "Epoch 23/150\n",
            "76/76 - 7s - loss: 2.1725 - accuracy: 0.1673 - val_loss: 2.7006 - val_accuracy: 0.0000e+00 - 7s/epoch - 90ms/step\n",
            "Epoch 24/150\n",
            "76/76 - 7s - loss: 2.1724 - accuracy: 0.1673 - val_loss: 2.7076 - val_accuracy: 0.0000e+00 - 7s/epoch - 88ms/step\n",
            "Epoch 25/150\n",
            "76/76 - 7s - loss: 2.1723 - accuracy: 0.1673 - val_loss: 2.7154 - val_accuracy: 0.0000e+00 - 7s/epoch - 89ms/step\n",
            "Epoch 26/150\n",
            "76/76 - 7s - loss: 2.1724 - accuracy: 0.1673 - val_loss: 2.7200 - val_accuracy: 0.0000e+00 - 7s/epoch - 89ms/step\n",
            "Epoch 27/150\n",
            "76/76 - 7s - loss: 2.1723 - accuracy: 0.1673 - val_loss: 2.7258 - val_accuracy: 0.0000e+00 - 7s/epoch - 88ms/step\n",
            "Epoch 28/150\n",
            "76/76 - 7s - loss: 2.1723 - accuracy: 0.1673 - val_loss: 2.7308 - val_accuracy: 0.0000e+00 - 7s/epoch - 87ms/step\n",
            "Epoch 29/150\n",
            "76/76 - 7s - loss: 2.1724 - accuracy: 0.1673 - val_loss: 2.7287 - val_accuracy: 0.0000e+00 - 7s/epoch - 90ms/step\n",
            "Epoch 30/150\n",
            "76/76 - 7s - loss: 2.1723 - accuracy: 0.1673 - val_loss: 2.7343 - val_accuracy: 0.0000e+00 - 7s/epoch - 89ms/step\n",
            "Epoch 31/150\n",
            "76/76 - 7s - loss: 2.1723 - accuracy: 0.1673 - val_loss: 2.7375 - val_accuracy: 0.0000e+00 - 7s/epoch - 89ms/step\n",
            "Epoch 32/150\n",
            "76/76 - 7s - loss: 2.1723 - accuracy: 0.1673 - val_loss: 2.7432 - val_accuracy: 0.0000e+00 - 7s/epoch - 89ms/step\n",
            "Epoch 33/150\n",
            "76/76 - 7s - loss: 2.1723 - accuracy: 0.1673 - val_loss: 2.7452 - val_accuracy: 0.0000e+00 - 7s/epoch - 88ms/step\n",
            "Epoch 34/150\n",
            "76/76 - 7s - loss: 2.1723 - accuracy: 0.1673 - val_loss: 2.7487 - val_accuracy: 0.0000e+00 - 7s/epoch - 89ms/step\n",
            "Epoch 35/150\n",
            "76/76 - 7s - loss: 2.1723 - accuracy: 0.1673 - val_loss: 2.7539 - val_accuracy: 0.0000e+00 - 7s/epoch - 89ms/step\n",
            "Epoch 36/150\n",
            "76/76 - 7s - loss: 2.1723 - accuracy: 0.1673 - val_loss: 2.7449 - val_accuracy: 0.0000e+00 - 7s/epoch - 88ms/step\n",
            "Epoch 37/150\n",
            "76/76 - 7s - loss: 2.1722 - accuracy: 0.1673 - val_loss: 2.7462 - val_accuracy: 0.0000e+00 - 7s/epoch - 90ms/step\n",
            "Epoch 38/150\n",
            "76/76 - 7s - loss: 2.1722 - accuracy: 0.1673 - val_loss: 2.7546 - val_accuracy: 0.0000e+00 - 7s/epoch - 88ms/step\n",
            "Epoch 39/150\n",
            "76/76 - 7s - loss: 2.1723 - accuracy: 0.1673 - val_loss: 2.7480 - val_accuracy: 0.0000e+00 - 7s/epoch - 94ms/step\n",
            "Epoch 40/150\n",
            "76/76 - 7s - loss: 2.1723 - accuracy: 0.1673 - val_loss: 2.7518 - val_accuracy: 0.0000e+00 - 7s/epoch - 90ms/step\n",
            "Epoch 41/150\n",
            "76/76 - 7s - loss: 2.1722 - accuracy: 0.1673 - val_loss: 2.7480 - val_accuracy: 0.0000e+00 - 7s/epoch - 90ms/step\n",
            "Epoch 42/150\n",
            "76/76 - 7s - loss: 2.1722 - accuracy: 0.1673 - val_loss: 2.7510 - val_accuracy: 0.0000e+00 - 7s/epoch - 87ms/step\n",
            "Epoch 43/150\n",
            "76/76 - 7s - loss: 2.1723 - accuracy: 0.1673 - val_loss: 2.7520 - val_accuracy: 0.0000e+00 - 7s/epoch - 90ms/step\n",
            "Epoch 44/150\n",
            "76/76 - 7s - loss: 2.1723 - accuracy: 0.1673 - val_loss: 2.7578 - val_accuracy: 0.0000e+00 - 7s/epoch - 89ms/step\n",
            "Epoch 45/150\n"
          ]
        },
        {
          "output_type": "error",
          "ename": "KeyboardInterrupt",
          "evalue": "ignored",
          "traceback": [
            "\u001b[0;31m---------------------------------------------------------------------------\u001b[0m",
            "\u001b[0;31mKeyboardInterrupt\u001b[0m                         Traceback (most recent call last)",
            "\u001b[0;32m<ipython-input-10-738077d0bfba>\u001b[0m in \u001b[0;36m<cell line: 4>\u001b[0;34m()\u001b[0m\n\u001b[1;32m      2\u001b[0m \u001b[0;34m\u001b[0m\u001b[0m\n\u001b[1;32m      3\u001b[0m \u001b[0;31m# fits the model on batches\u001b[0m\u001b[0;34m\u001b[0m\u001b[0;34m\u001b[0m\u001b[0m\n\u001b[0;32m----> 4\u001b[0;31m estimator = model.fit(\n\u001b[0m\u001b[1;32m      5\u001b[0m     \u001b[0mX_train\u001b[0m\u001b[0;34m,\u001b[0m\u001b[0;34m\u001b[0m\u001b[0;34m\u001b[0m\u001b[0m\n\u001b[1;32m      6\u001b[0m     \u001b[0my_train\u001b[0m\u001b[0;34m,\u001b[0m\u001b[0;34m\u001b[0m\u001b[0;34m\u001b[0m\u001b[0m\n",
            "\u001b[0;32m/usr/local/lib/python3.10/dist-packages/keras/utils/traceback_utils.py\u001b[0m in \u001b[0;36merror_handler\u001b[0;34m(*args, **kwargs)\u001b[0m\n\u001b[1;32m     63\u001b[0m         \u001b[0mfiltered_tb\u001b[0m \u001b[0;34m=\u001b[0m \u001b[0;32mNone\u001b[0m\u001b[0;34m\u001b[0m\u001b[0;34m\u001b[0m\u001b[0m\n\u001b[1;32m     64\u001b[0m         \u001b[0;32mtry\u001b[0m\u001b[0;34m:\u001b[0m\u001b[0;34m\u001b[0m\u001b[0;34m\u001b[0m\u001b[0m\n\u001b[0;32m---> 65\u001b[0;31m             \u001b[0;32mreturn\u001b[0m \u001b[0mfn\u001b[0m\u001b[0;34m(\u001b[0m\u001b[0;34m*\u001b[0m\u001b[0margs\u001b[0m\u001b[0;34m,\u001b[0m \u001b[0;34m**\u001b[0m\u001b[0mkwargs\u001b[0m\u001b[0;34m)\u001b[0m\u001b[0;34m\u001b[0m\u001b[0;34m\u001b[0m\u001b[0m\n\u001b[0m\u001b[1;32m     66\u001b[0m         \u001b[0;32mexcept\u001b[0m \u001b[0mException\u001b[0m \u001b[0;32mas\u001b[0m \u001b[0me\u001b[0m\u001b[0;34m:\u001b[0m\u001b[0;34m\u001b[0m\u001b[0;34m\u001b[0m\u001b[0m\n\u001b[1;32m     67\u001b[0m             \u001b[0mfiltered_tb\u001b[0m \u001b[0;34m=\u001b[0m \u001b[0m_process_traceback_frames\u001b[0m\u001b[0;34m(\u001b[0m\u001b[0me\u001b[0m\u001b[0;34m.\u001b[0m\u001b[0m__traceback__\u001b[0m\u001b[0;34m)\u001b[0m\u001b[0;34m\u001b[0m\u001b[0;34m\u001b[0m\u001b[0m\n",
            "\u001b[0;32m/usr/local/lib/python3.10/dist-packages/keras/engine/training.py\u001b[0m in \u001b[0;36mfit\u001b[0;34m(self, x, y, batch_size, epochs, verbose, callbacks, validation_split, validation_data, shuffle, class_weight, sample_weight, initial_epoch, steps_per_epoch, validation_steps, validation_batch_size, validation_freq, max_queue_size, workers, use_multiprocessing)\u001b[0m\n\u001b[1;32m   1727\u001b[0m                             \u001b[0msteps_per_execution\u001b[0m\u001b[0;34m=\u001b[0m\u001b[0mself\u001b[0m\u001b[0;34m.\u001b[0m\u001b[0m_steps_per_execution\u001b[0m\u001b[0;34m,\u001b[0m\u001b[0;34m\u001b[0m\u001b[0;34m\u001b[0m\u001b[0m\n\u001b[1;32m   1728\u001b[0m                         )\n\u001b[0;32m-> 1729\u001b[0;31m                     val_logs = self.evaluate(\n\u001b[0m\u001b[1;32m   1730\u001b[0m                         \u001b[0mx\u001b[0m\u001b[0;34m=\u001b[0m\u001b[0mval_x\u001b[0m\u001b[0;34m,\u001b[0m\u001b[0;34m\u001b[0m\u001b[0;34m\u001b[0m\u001b[0m\n\u001b[1;32m   1731\u001b[0m                         \u001b[0my\u001b[0m\u001b[0;34m=\u001b[0m\u001b[0mval_y\u001b[0m\u001b[0;34m,\u001b[0m\u001b[0;34m\u001b[0m\u001b[0;34m\u001b[0m\u001b[0m\n",
            "\u001b[0;32m/usr/local/lib/python3.10/dist-packages/keras/utils/traceback_utils.py\u001b[0m in \u001b[0;36merror_handler\u001b[0;34m(*args, **kwargs)\u001b[0m\n\u001b[1;32m     63\u001b[0m         \u001b[0mfiltered_tb\u001b[0m \u001b[0;34m=\u001b[0m \u001b[0;32mNone\u001b[0m\u001b[0;34m\u001b[0m\u001b[0;34m\u001b[0m\u001b[0m\n\u001b[1;32m     64\u001b[0m         \u001b[0;32mtry\u001b[0m\u001b[0;34m:\u001b[0m\u001b[0;34m\u001b[0m\u001b[0;34m\u001b[0m\u001b[0m\n\u001b[0;32m---> 65\u001b[0;31m             \u001b[0;32mreturn\u001b[0m \u001b[0mfn\u001b[0m\u001b[0;34m(\u001b[0m\u001b[0;34m*\u001b[0m\u001b[0margs\u001b[0m\u001b[0;34m,\u001b[0m \u001b[0;34m**\u001b[0m\u001b[0mkwargs\u001b[0m\u001b[0;34m)\u001b[0m\u001b[0;34m\u001b[0m\u001b[0;34m\u001b[0m\u001b[0m\n\u001b[0m\u001b[1;32m     66\u001b[0m         \u001b[0;32mexcept\u001b[0m \u001b[0mException\u001b[0m \u001b[0;32mas\u001b[0m \u001b[0me\u001b[0m\u001b[0;34m:\u001b[0m\u001b[0;34m\u001b[0m\u001b[0;34m\u001b[0m\u001b[0m\n\u001b[1;32m     67\u001b[0m             \u001b[0mfiltered_tb\u001b[0m \u001b[0;34m=\u001b[0m \u001b[0m_process_traceback_frames\u001b[0m\u001b[0;34m(\u001b[0m\u001b[0me\u001b[0m\u001b[0;34m.\u001b[0m\u001b[0m__traceback__\u001b[0m\u001b[0;34m)\u001b[0m\u001b[0;34m\u001b[0m\u001b[0;34m\u001b[0m\u001b[0m\n",
            "\u001b[0;32m/usr/local/lib/python3.10/dist-packages/keras/engine/training.py\u001b[0m in \u001b[0;36mevaluate\u001b[0;34m(self, x, y, batch_size, verbose, sample_weight, steps, callbacks, max_queue_size, workers, use_multiprocessing, return_dict, **kwargs)\u001b[0m\n\u001b[1;32m   2070\u001b[0m                         ):\n\u001b[1;32m   2071\u001b[0m                             \u001b[0mcallbacks\u001b[0m\u001b[0;34m.\u001b[0m\u001b[0mon_test_batch_begin\u001b[0m\u001b[0;34m(\u001b[0m\u001b[0mstep\u001b[0m\u001b[0;34m)\u001b[0m\u001b[0;34m\u001b[0m\u001b[0;34m\u001b[0m\u001b[0m\n\u001b[0;32m-> 2072\u001b[0;31m                             \u001b[0mtmp_logs\u001b[0m \u001b[0;34m=\u001b[0m \u001b[0mself\u001b[0m\u001b[0;34m.\u001b[0m\u001b[0mtest_function\u001b[0m\u001b[0;34m(\u001b[0m\u001b[0miterator\u001b[0m\u001b[0;34m)\u001b[0m\u001b[0;34m\u001b[0m\u001b[0;34m\u001b[0m\u001b[0m\n\u001b[0m\u001b[1;32m   2073\u001b[0m                             \u001b[0;32mif\u001b[0m \u001b[0mdata_handler\u001b[0m\u001b[0;34m.\u001b[0m\u001b[0mshould_sync\u001b[0m\u001b[0;34m:\u001b[0m\u001b[0;34m\u001b[0m\u001b[0;34m\u001b[0m\u001b[0m\n\u001b[1;32m   2074\u001b[0m                                 \u001b[0mcontext\u001b[0m\u001b[0;34m.\u001b[0m\u001b[0masync_wait\u001b[0m\u001b[0;34m(\u001b[0m\u001b[0;34m)\u001b[0m\u001b[0;34m\u001b[0m\u001b[0;34m\u001b[0m\u001b[0m\n",
            "\u001b[0;32m/usr/local/lib/python3.10/dist-packages/tensorflow/python/util/traceback_utils.py\u001b[0m in \u001b[0;36merror_handler\u001b[0;34m(*args, **kwargs)\u001b[0m\n\u001b[1;32m    148\u001b[0m     \u001b[0mfiltered_tb\u001b[0m \u001b[0;34m=\u001b[0m \u001b[0;32mNone\u001b[0m\u001b[0;34m\u001b[0m\u001b[0;34m\u001b[0m\u001b[0m\n\u001b[1;32m    149\u001b[0m     \u001b[0;32mtry\u001b[0m\u001b[0;34m:\u001b[0m\u001b[0;34m\u001b[0m\u001b[0;34m\u001b[0m\u001b[0m\n\u001b[0;32m--> 150\u001b[0;31m       \u001b[0;32mreturn\u001b[0m \u001b[0mfn\u001b[0m\u001b[0;34m(\u001b[0m\u001b[0;34m*\u001b[0m\u001b[0margs\u001b[0m\u001b[0;34m,\u001b[0m \u001b[0;34m**\u001b[0m\u001b[0mkwargs\u001b[0m\u001b[0;34m)\u001b[0m\u001b[0;34m\u001b[0m\u001b[0;34m\u001b[0m\u001b[0m\n\u001b[0m\u001b[1;32m    151\u001b[0m     \u001b[0;32mexcept\u001b[0m \u001b[0mException\u001b[0m \u001b[0;32mas\u001b[0m \u001b[0me\u001b[0m\u001b[0;34m:\u001b[0m\u001b[0;34m\u001b[0m\u001b[0;34m\u001b[0m\u001b[0m\n\u001b[1;32m    152\u001b[0m       \u001b[0mfiltered_tb\u001b[0m \u001b[0;34m=\u001b[0m \u001b[0m_process_traceback_frames\u001b[0m\u001b[0;34m(\u001b[0m\u001b[0me\u001b[0m\u001b[0;34m.\u001b[0m\u001b[0m__traceback__\u001b[0m\u001b[0;34m)\u001b[0m\u001b[0;34m\u001b[0m\u001b[0;34m\u001b[0m\u001b[0m\n",
            "\u001b[0;32m/usr/local/lib/python3.10/dist-packages/tensorflow/python/eager/polymorphic_function/polymorphic_function.py\u001b[0m in \u001b[0;36m__call__\u001b[0;34m(self, *args, **kwds)\u001b[0m\n\u001b[1;32m    892\u001b[0m \u001b[0;34m\u001b[0m\u001b[0m\n\u001b[1;32m    893\u001b[0m       \u001b[0;32mwith\u001b[0m \u001b[0mOptionalXlaContext\u001b[0m\u001b[0;34m(\u001b[0m\u001b[0mself\u001b[0m\u001b[0;34m.\u001b[0m\u001b[0m_jit_compile\u001b[0m\u001b[0;34m)\u001b[0m\u001b[0;34m:\u001b[0m\u001b[0;34m\u001b[0m\u001b[0;34m\u001b[0m\u001b[0m\n\u001b[0;32m--> 894\u001b[0;31m         \u001b[0mresult\u001b[0m \u001b[0;34m=\u001b[0m \u001b[0mself\u001b[0m\u001b[0;34m.\u001b[0m\u001b[0m_call\u001b[0m\u001b[0;34m(\u001b[0m\u001b[0;34m*\u001b[0m\u001b[0margs\u001b[0m\u001b[0;34m,\u001b[0m \u001b[0;34m**\u001b[0m\u001b[0mkwds\u001b[0m\u001b[0;34m)\u001b[0m\u001b[0;34m\u001b[0m\u001b[0;34m\u001b[0m\u001b[0m\n\u001b[0m\u001b[1;32m    895\u001b[0m \u001b[0;34m\u001b[0m\u001b[0m\n\u001b[1;32m    896\u001b[0m       \u001b[0mnew_tracing_count\u001b[0m \u001b[0;34m=\u001b[0m \u001b[0mself\u001b[0m\u001b[0;34m.\u001b[0m\u001b[0mexperimental_get_tracing_count\u001b[0m\u001b[0;34m(\u001b[0m\u001b[0;34m)\u001b[0m\u001b[0;34m\u001b[0m\u001b[0;34m\u001b[0m\u001b[0m\n",
            "\u001b[0;32m/usr/local/lib/python3.10/dist-packages/tensorflow/python/eager/polymorphic_function/polymorphic_function.py\u001b[0m in \u001b[0;36m_call\u001b[0;34m(self, *args, **kwds)\u001b[0m\n\u001b[1;32m    931\u001b[0m       \u001b[0;31m# In this case we have not created variables on the first call. So we can\u001b[0m\u001b[0;34m\u001b[0m\u001b[0;34m\u001b[0m\u001b[0m\n\u001b[1;32m    932\u001b[0m       \u001b[0;31m# run the first trace but we should fail if variables are created.\u001b[0m\u001b[0;34m\u001b[0m\u001b[0;34m\u001b[0m\u001b[0m\n\u001b[0;32m--> 933\u001b[0;31m       \u001b[0mresults\u001b[0m \u001b[0;34m=\u001b[0m \u001b[0mself\u001b[0m\u001b[0;34m.\u001b[0m\u001b[0m_variable_creation_fn\u001b[0m\u001b[0;34m(\u001b[0m\u001b[0;34m*\u001b[0m\u001b[0margs\u001b[0m\u001b[0;34m,\u001b[0m \u001b[0;34m**\u001b[0m\u001b[0mkwds\u001b[0m\u001b[0;34m)\u001b[0m\u001b[0;34m\u001b[0m\u001b[0;34m\u001b[0m\u001b[0m\n\u001b[0m\u001b[1;32m    934\u001b[0m       \u001b[0;32mif\u001b[0m \u001b[0mself\u001b[0m\u001b[0;34m.\u001b[0m\u001b[0m_created_variables\u001b[0m \u001b[0;32mand\u001b[0m \u001b[0;32mnot\u001b[0m \u001b[0mALLOW_DYNAMIC_VARIABLE_CREATION\u001b[0m\u001b[0;34m:\u001b[0m\u001b[0;34m\u001b[0m\u001b[0;34m\u001b[0m\u001b[0m\n\u001b[1;32m    935\u001b[0m         raise ValueError(\"Creating variables on a non-first call to a function\"\n",
            "\u001b[0;32m/usr/local/lib/python3.10/dist-packages/tensorflow/python/eager/polymorphic_function/tracing_compiler.py\u001b[0m in \u001b[0;36m__call__\u001b[0;34m(self, *args, **kwargs)\u001b[0m\n\u001b[1;32m    141\u001b[0m       (concrete_function,\n\u001b[1;32m    142\u001b[0m        filtered_flat_args) = self._maybe_define_function(args, kwargs)\n\u001b[0;32m--> 143\u001b[0;31m     return concrete_function._call_flat(\n\u001b[0m\u001b[1;32m    144\u001b[0m         filtered_flat_args, captured_inputs=concrete_function.captured_inputs)  # pylint: disable=protected-access\n\u001b[1;32m    145\u001b[0m \u001b[0;34m\u001b[0m\u001b[0m\n",
            "\u001b[0;32m/usr/local/lib/python3.10/dist-packages/tensorflow/python/eager/polymorphic_function/monomorphic_function.py\u001b[0m in \u001b[0;36m_call_flat\u001b[0;34m(self, args, captured_inputs, cancellation_manager)\u001b[0m\n\u001b[1;32m   1755\u001b[0m         and executing_eagerly):\n\u001b[1;32m   1756\u001b[0m       \u001b[0;31m# No tape is watching; skip to running the function.\u001b[0m\u001b[0;34m\u001b[0m\u001b[0;34m\u001b[0m\u001b[0m\n\u001b[0;32m-> 1757\u001b[0;31m       return self._build_call_outputs(self._inference_function.call(\n\u001b[0m\u001b[1;32m   1758\u001b[0m           ctx, args, cancellation_manager=cancellation_manager))\n\u001b[1;32m   1759\u001b[0m     forward_backward = self._select_forward_and_backward_functions(\n",
            "\u001b[0;32m/usr/local/lib/python3.10/dist-packages/tensorflow/python/eager/polymorphic_function/monomorphic_function.py\u001b[0m in \u001b[0;36mcall\u001b[0;34m(self, ctx, args, cancellation_manager)\u001b[0m\n\u001b[1;32m    379\u001b[0m       \u001b[0;32mwith\u001b[0m \u001b[0m_InterpolateFunctionError\u001b[0m\u001b[0;34m(\u001b[0m\u001b[0mself\u001b[0m\u001b[0;34m)\u001b[0m\u001b[0;34m:\u001b[0m\u001b[0;34m\u001b[0m\u001b[0;34m\u001b[0m\u001b[0m\n\u001b[1;32m    380\u001b[0m         \u001b[0;32mif\u001b[0m \u001b[0mcancellation_manager\u001b[0m \u001b[0;32mis\u001b[0m \u001b[0;32mNone\u001b[0m\u001b[0;34m:\u001b[0m\u001b[0;34m\u001b[0m\u001b[0;34m\u001b[0m\u001b[0m\n\u001b[0;32m--> 381\u001b[0;31m           outputs = execute.execute(\n\u001b[0m\u001b[1;32m    382\u001b[0m               \u001b[0mstr\u001b[0m\u001b[0;34m(\u001b[0m\u001b[0mself\u001b[0m\u001b[0;34m.\u001b[0m\u001b[0msignature\u001b[0m\u001b[0;34m.\u001b[0m\u001b[0mname\u001b[0m\u001b[0;34m)\u001b[0m\u001b[0;34m,\u001b[0m\u001b[0;34m\u001b[0m\u001b[0;34m\u001b[0m\u001b[0m\n\u001b[1;32m    383\u001b[0m               \u001b[0mnum_outputs\u001b[0m\u001b[0;34m=\u001b[0m\u001b[0mself\u001b[0m\u001b[0;34m.\u001b[0m\u001b[0m_num_outputs\u001b[0m\u001b[0;34m,\u001b[0m\u001b[0;34m\u001b[0m\u001b[0;34m\u001b[0m\u001b[0m\n",
            "\u001b[0;32m/usr/local/lib/python3.10/dist-packages/tensorflow/python/eager/execute.py\u001b[0m in \u001b[0;36mquick_execute\u001b[0;34m(op_name, num_outputs, inputs, attrs, ctx, name)\u001b[0m\n\u001b[1;32m     50\u001b[0m   \u001b[0;32mtry\u001b[0m\u001b[0;34m:\u001b[0m\u001b[0;34m\u001b[0m\u001b[0;34m\u001b[0m\u001b[0m\n\u001b[1;32m     51\u001b[0m     \u001b[0mctx\u001b[0m\u001b[0;34m.\u001b[0m\u001b[0mensure_initialized\u001b[0m\u001b[0;34m(\u001b[0m\u001b[0;34m)\u001b[0m\u001b[0;34m\u001b[0m\u001b[0;34m\u001b[0m\u001b[0m\n\u001b[0;32m---> 52\u001b[0;31m     tensors = pywrap_tfe.TFE_Py_Execute(ctx._handle, device_name, op_name,\n\u001b[0m\u001b[1;32m     53\u001b[0m                                         inputs, attrs, num_outputs)\n\u001b[1;32m     54\u001b[0m   \u001b[0;32mexcept\u001b[0m \u001b[0mcore\u001b[0m\u001b[0;34m.\u001b[0m\u001b[0m_NotOkStatusException\u001b[0m \u001b[0;32mas\u001b[0m \u001b[0me\u001b[0m\u001b[0;34m:\u001b[0m\u001b[0;34m\u001b[0m\u001b[0;34m\u001b[0m\u001b[0m\n",
            "\u001b[0;31mKeyboardInterrupt\u001b[0m: "
          ]
        }
      ],
      "source": [
        "model = get_model()\n",
        "\n",
        "# fits the model on batches\n",
        "estimator = model.fit(\n",
        "    X_train,\n",
        "    y_train,\n",
        "    validation_split=0.1,\n",
        "    epochs=epochs,\n",
        "    shuffle=True,\n",
        "    batch_size=batch_size,\n",
        "    verbose=2)\n",
        "\n",
        "model.save_weights('balanced_model_2.h5')"
      ]
    },
    {
      "cell_type": "code",
      "execution_count": 11,
      "metadata": {
        "id": "FkDEJWrP_KCQ"
      },
      "outputs": [],
      "source": [
        "model.save_weights('balanced_model_2.h5')"
      ]
    },
    {
      "cell_type": "code",
      "source": [
        "model.load_weights('balanced_model_2.h5')"
      ],
      "metadata": {
        "id": "ryvH_-_csX_f"
      },
      "execution_count": 18,
      "outputs": []
    },
    {
      "cell_type": "code",
      "source": [
        "model.evaluate(X_test, y_test)"
      ],
      "metadata": {
        "id": "hRfRpB-RsHqf",
        "outputId": "ccba8725-4b30-4134-c4dc-35537658e80a",
        "colab": {
          "base_uri": "https://localhost:8080/"
        }
      },
      "execution_count": 13,
      "outputs": [
        {
          "output_type": "stream",
          "name": "stdout",
          "text": [
            "7/7 [==============================] - 1s 152ms/step - loss: 2.2714 - accuracy: 0.3551\n"
          ]
        },
        {
          "output_type": "execute_result",
          "data": {
            "text/plain": [
              "[2.271425724029541, 0.35514017939567566]"
            ]
          },
          "metadata": {},
          "execution_count": 13
        }
      ]
    },
    {
      "cell_type": "code",
      "source": [],
      "metadata": {
        "id": "BYEHS926sHnh"
      },
      "execution_count": null,
      "outputs": []
    },
    {
      "cell_type": "code",
      "source": [],
      "metadata": {
        "id": "_hb527dduzH0"
      },
      "execution_count": null,
      "outputs": []
    },
    {
      "cell_type": "code",
      "execution_count": 14,
      "metadata": {
        "id": "3DDlljCw_J_u",
        "colab": {
          "base_uri": "https://localhost:8080/"
        },
        "outputId": "847de523-128a-4ab1-a91d-6ef4eaf5fa5d"
      },
      "outputs": [
        {
          "output_type": "stream",
          "name": "stdout",
          "text": [
            "Predicting on test data\n",
            "7/7 [==============================] - 0s 29ms/step\n",
            "0.0\n"
          ]
        }
      ],
      "source": [
        "from sklearn.metrics import accuracy_score\n",
        "\n",
        "print('Predicting on test data')\n",
        "\n",
        "y_pred = np.rint(model.predict(X_test))\n",
        "\n",
        "print(accuracy_score(y_test, y_pred))"
      ]
    },
    {
      "cell_type": "code",
      "execution_count": null,
      "metadata": {
        "id": "hqB-4hV9_RA2",
        "colab": {
          "base_uri": "https://localhost:8080/"
        },
        "outputId": "9c66b6ef-9f23-4141-e509-b325e0697d90"
      },
      "outputs": [
        {
          "output_type": "stream",
          "name": "stdout",
          "text": [
            "[[12  0  0  0  0  0  0  0  0]\n",
            " [ 4  0  0  0  0  0  0  0  0]\n",
            " [ 2  0  0  0  0  0  0  0  0]\n",
            " [10  0  0  0  0  0  0  0  0]\n",
            " [76  0  0  0  0  0  0  0  0]\n",
            " [10  0  0  0  0  0  0  0  0]\n",
            " [12  0  0  0  0  0  0  0  0]\n",
            " [ 4  0  0  0  0  0  0  0  0]\n",
            " [84  0  0  0  0  0  0  0  0]]\n"
          ]
        }
      ],
      "source": [
        "from sklearn.metrics import confusion_matrix\n",
        "\n",
        "y_pred_unencoded = np.argmax(y_pred, axis=1)\n",
        "\n",
        "y_test_unencoded = np.argmax(y_test, axis=1)\n",
        "\n",
        "print(confusion_matrix(y_test_unencoded, y_pred_unencoded))"
      ]
    },
    {
      "cell_type": "code",
      "source": [],
      "metadata": {
        "id": "4t26jKmVskfP"
      },
      "execution_count": null,
      "outputs": []
    },
    {
      "cell_type": "code",
      "source": [],
      "metadata": {
        "id": "Qp0vj11Isvbu"
      },
      "execution_count": null,
      "outputs": []
    },
    {
      "cell_type": "code",
      "source": [
        "num_classes = 9\n",
        "epochs = 10\n",
        "batch_size = 32"
      ],
      "metadata": {
        "id": "Qt0YwxjnsvVU"
      },
      "execution_count": 8,
      "outputs": []
    },
    {
      "cell_type": "code",
      "source": [
        "from keras.models import Model\n",
        "from keras.layers import Input\n",
        "from keras import optimizers\n",
        "\n",
        "\n",
        "base_model = applications.VGG16(include_top=False, weights='imagenet')\n",
        "input = Input(shape=(256, 256, 3), name = 'image_input')\n",
        "vgg_output = base_model(input)\n",
        "\n",
        "top_model = Flatten()(vgg_output)\n",
        "top_model = Dense(64, activation='relu')(top_model)\n",
        "predictions = Dense(num_classes, activation='softmax', name='prediction_layer')(top_model)\n",
        "\n",
        "model = Model(inputs=input, outputs=predictions)\n",
        "\n",
        "# first: train only the top layers (which were randomly initialized)\n",
        "# i.e. freeze all convolutional InceptionV3 layers\n",
        "layers = base_model.layers[:-2]\n",
        "for layer in layers:\n",
        "    layer.trainable = False\n",
        "\n",
        "# compile the model (should be done *after* setting layers to non-trainable)\n",
        "model.compile(optimizer='rmsprop', loss='categorical_crossentropy', metrics=['accuracy'])"
      ],
      "metadata": {
        "id": "qfHHAHCxskcr",
        "outputId": "108b997f-6ebb-4e5d-dd70-7daaa6dcbb3c",
        "colab": {
          "base_uri": "https://localhost:8080/"
        }
      },
      "execution_count": 9,
      "outputs": [
        {
          "output_type": "stream",
          "name": "stdout",
          "text": [
            "Downloading data from https://storage.googleapis.com/tensorflow/keras-applications/vgg16/vgg16_weights_tf_dim_ordering_tf_kernels_notop.h5\n",
            "58889256/58889256 [==============================] - 0s 0us/step\n"
          ]
        }
      ]
    },
    {
      "cell_type": "code",
      "source": [],
      "metadata": {
        "id": "7EKXlEh4skaQ"
      },
      "execution_count": null,
      "outputs": []
    },
    {
      "cell_type": "code",
      "source": [
        "model.summary()"
      ],
      "metadata": {
        "colab": {
          "base_uri": "https://localhost:8080/"
        },
        "id": "mAvc7K9JskXX",
        "outputId": "57ad5fde-c39a-4031-84f9-6f2c4c9e7d7e"
      },
      "execution_count": 10,
      "outputs": [
        {
          "output_type": "stream",
          "name": "stdout",
          "text": [
            "Model: \"model\"\n",
            "_________________________________________________________________\n",
            " Layer (type)                Output Shape              Param #   \n",
            "=================================================================\n",
            " image_input (InputLayer)    [(None, 256, 256, 3)]     0         \n",
            "                                                                 \n",
            " vgg16 (Functional)          (None, None, None, 512)   14714688  \n",
            "                                                                 \n",
            " flatten (Flatten)           (None, 32768)             0         \n",
            "                                                                 \n",
            " dense (Dense)               (None, 64)                2097216   \n",
            "                                                                 \n",
            " prediction_layer (Dense)    (None, 9)                 585       \n",
            "                                                                 \n",
            "=================================================================\n",
            "Total params: 16,812,489\n",
            "Trainable params: 4,457,609\n",
            "Non-trainable params: 12,354,880\n",
            "_________________________________________________________________\n"
          ]
        }
      ]
    },
    {
      "cell_type": "code",
      "source": [
        "model.fit(X_train, y_train, epochs=epochs, batch_size=batch_size, validation_split=0.2, shuffle=True, verbose=1)"
      ],
      "metadata": {
        "colab": {
          "base_uri": "https://localhost:8080/"
        },
        "id": "TYVBdE3yskUj",
        "outputId": "673030d7-cf7c-44c7-e199-86829eb1e56d"
      },
      "execution_count": 11,
      "outputs": [
        {
          "output_type": "stream",
          "name": "stdout",
          "text": [
            "Epoch 1/10\n",
            "67/67 [==============================] - 47s 426ms/step - loss: 2.1006 - accuracy: 0.4537 - val_loss: 5.5232 - val_accuracy: 0.0300\n",
            "Epoch 2/10\n",
            "67/67 [==============================] - 18s 266ms/step - loss: 0.6898 - accuracy: 0.7547 - val_loss: 8.8665 - val_accuracy: 0.0468\n",
            "Epoch 3/10\n",
            "67/67 [==============================] - 15s 231ms/step - loss: 0.3409 - accuracy: 0.8844 - val_loss: 9.8568 - val_accuracy: 0.1966\n",
            "Epoch 4/10\n",
            "67/67 [==============================] - 15s 224ms/step - loss: 0.1811 - accuracy: 0.9532 - val_loss: 10.1117 - val_accuracy: 0.1891\n",
            "Epoch 5/10\n",
            "67/67 [==============================] - 15s 220ms/step - loss: 0.0693 - accuracy: 0.9780 - val_loss: 15.3498 - val_accuracy: 0.1180\n",
            "Epoch 6/10\n",
            "67/67 [==============================] - 17s 256ms/step - loss: 0.0382 - accuracy: 0.9874 - val_loss: 27.3349 - val_accuracy: 0.0037\n",
            "Epoch 7/10\n",
            "67/67 [==============================] - 17s 253ms/step - loss: 0.0434 - accuracy: 0.9846 - val_loss: 19.4179 - val_accuracy: 0.2004\n",
            "Epoch 8/10\n",
            "67/67 [==============================] - 15s 221ms/step - loss: 0.0711 - accuracy: 0.9780 - val_loss: 15.2980 - val_accuracy: 0.1891\n",
            "Epoch 9/10\n",
            "67/67 [==============================] - 17s 256ms/step - loss: 0.0035 - accuracy: 1.0000 - val_loss: 21.6857 - val_accuracy: 0.2060\n",
            "Epoch 10/10\n",
            "67/67 [==============================] - 17s 255ms/step - loss: 0.0167 - accuracy: 0.9958 - val_loss: 19.0544 - val_accuracy: 0.2041\n"
          ]
        },
        {
          "output_type": "execute_result",
          "data": {
            "text/plain": [
              "<keras.callbacks.History at 0x7f44e8f79630>"
            ]
          },
          "metadata": {},
          "execution_count": 11
        }
      ]
    },
    {
      "cell_type": "code",
      "source": [
        "model.save_weights('vgg_top.h5')"
      ],
      "metadata": {
        "id": "G5tlhd9LskOv"
      },
      "execution_count": 12,
      "outputs": []
    },
    {
      "cell_type": "code",
      "source": [],
      "metadata": {
        "id": "CBEITs4YskLs"
      },
      "execution_count": null,
      "outputs": []
    },
    {
      "cell_type": "code",
      "source": [
        "model.load_weights('vgg_top.h5')"
      ],
      "metadata": {
        "id": "oWMesdd-skIE"
      },
      "execution_count": 13,
      "outputs": []
    },
    {
      "cell_type": "code",
      "source": [],
      "metadata": {
        "id": "t3OAN5pxtId0"
      },
      "execution_count": null,
      "outputs": []
    },
    {
      "cell_type": "code",
      "source": [
        "print('Predicting on test data')\n",
        "#y_pred = np.rint(model.predict(X_test))\n",
        "\n",
        "y_pred = model.predict(X_test)\n",
        "\n",
        "print(y_pred)\n"
      ],
      "metadata": {
        "id": "DVTosyX9nxLf",
        "outputId": "8c1f968a-2829-4a6a-f351-b1cb0078508c",
        "colab": {
          "base_uri": "https://localhost:8080/"
        }
      },
      "execution_count": 14,
      "outputs": [
        {
          "output_type": "stream",
          "name": "stdout",
          "text": [
            "Predicting on test data\n",
            "7/7 [==============================] - 1s 170ms/step\n",
            "[[9.99942064e-01 8.66416661e-12 4.64329517e-08 ... 8.03195803e-08\n",
            "  3.98407719e-05 2.32866222e-12]\n",
            " [5.91485403e-08 1.16494277e-06 2.21993268e-08 ... 9.99187171e-01\n",
            "  1.48981245e-08 1.43309648e-12]\n",
            " [3.81489400e-07 3.01149133e-10 3.11269514e-06 ... 3.39216058e-07\n",
            "  1.02117617e-07 3.43778456e-12]\n",
            " ...\n",
            " [2.76096377e-12 1.24947151e-14 4.06296802e-11 ... 7.01134809e-07\n",
            "  2.76558779e-07 2.56537633e-19]\n",
            " [1.75310243e-02 1.13070475e-09 6.95066760e-08 ... 4.68123006e-03\n",
            "  3.04723962e-05 3.98920957e-12]\n",
            " [9.89983797e-01 6.55703447e-09 1.16199071e-05 ... 3.06496280e-04\n",
            "  3.23442509e-04 1.29190558e-09]]\n"
          ]
        }
      ]
    },
    {
      "cell_type": "code",
      "source": [
        "y_pred = np.rint(y_pred)\n",
        "\n",
        "print(y_pred)"
      ],
      "metadata": {
        "id": "i9b1W6lHnxBl",
        "outputId": "de856abd-738d-49f3-bf18-078f60397bac",
        "colab": {
          "base_uri": "https://localhost:8080/"
        }
      },
      "execution_count": 15,
      "outputs": [
        {
          "output_type": "stream",
          "name": "stdout",
          "text": [
            "[[1. 0. 0. ... 0. 0. 0.]\n",
            " [0. 0. 0. ... 1. 0. 0.]\n",
            " [0. 0. 0. ... 0. 0. 0.]\n",
            " ...\n",
            " [0. 0. 0. ... 0. 0. 0.]\n",
            " [0. 0. 0. ... 0. 0. 0.]\n",
            " [1. 0. 0. ... 0. 0. 0.]]\n"
          ]
        }
      ]
    },
    {
      "cell_type": "code",
      "source": [
        "from sklearn.metrics import accuracy_score\n",
        "\n"
      ],
      "metadata": {
        "id": "QBJXSTv1tIar"
      },
      "execution_count": 16,
      "outputs": []
    },
    {
      "cell_type": "code",
      "source": [
        "print(accuracy_score(y_test, y_pred))"
      ],
      "metadata": {
        "id": "209LyDdXtOW7",
        "outputId": "f6ef8c3b-0bee-49ab-a1ca-34ce301239ff",
        "colab": {
          "base_uri": "https://localhost:8080/"
        }
      },
      "execution_count": 17,
      "outputs": [
        {
          "output_type": "stream",
          "name": "stdout",
          "text": [
            "0.48598130841121495\n"
          ]
        }
      ]
    },
    {
      "cell_type": "code",
      "source": [],
      "metadata": {
        "id": "xxUxIZvVoTHj"
      },
      "execution_count": null,
      "outputs": []
    },
    {
      "cell_type": "code",
      "source": [],
      "metadata": {
        "id": "OAz4PSGpoS69"
      },
      "execution_count": null,
      "outputs": []
    },
    {
      "cell_type": "code",
      "source": [
        "model.summary()"
      ],
      "metadata": {
        "colab": {
          "base_uri": "https://localhost:8080/"
        },
        "id": "8q3Yo4IXtN87",
        "outputId": "1aab2df6-227b-4aec-a840-1628fc5415f3"
      },
      "execution_count": 18,
      "outputs": [
        {
          "output_type": "stream",
          "name": "stdout",
          "text": [
            "Model: \"model\"\n",
            "_________________________________________________________________\n",
            " Layer (type)                Output Shape              Param #   \n",
            "=================================================================\n",
            " image_input (InputLayer)    [(None, 256, 256, 3)]     0         \n",
            "                                                                 \n",
            " vgg16 (Functional)          (None, None, None, 512)   14714688  \n",
            "                                                                 \n",
            " flatten (Flatten)           (None, 32768)             0         \n",
            "                                                                 \n",
            " dense (Dense)               (None, 64)                2097216   \n",
            "                                                                 \n",
            " prediction_layer (Dense)    (None, 9)                 585       \n",
            "                                                                 \n",
            "=================================================================\n",
            "Total params: 16,812,489\n",
            "Trainable params: 4,457,609\n",
            "Non-trainable params: 12,354,880\n",
            "_________________________________________________________________\n"
          ]
        }
      ]
    },
    {
      "cell_type": "code",
      "source": [
        "print(base_model.layers[-2].name)"
      ],
      "metadata": {
        "colab": {
          "base_uri": "https://localhost:8080/"
        },
        "id": "rXPdAItHtN6D",
        "outputId": "a93241f3-27a8-436c-a97d-2ee8a1333477"
      },
      "execution_count": 19,
      "outputs": [
        {
          "output_type": "stream",
          "name": "stdout",
          "text": [
            "block5_conv3\n"
          ]
        }
      ]
    },
    {
      "cell_type": "code",
      "source": [
        "from sklearn.metrics import confusion_matrix\n",
        "\n",
        "y_pred_unencoded = np.argmax(y_pred, axis=1)\n",
        "\n",
        "y_test_unencoded = np.argmax(y_test, axis=1)\n",
        "\n",
        "print(confusion_matrix(y_test_unencoded, y_pred_unencoded))"
      ],
      "metadata": {
        "colab": {
          "base_uri": "https://localhost:8080/"
        },
        "id": "6qLWWJPA0L1d",
        "outputId": "1ed9fe19-cad9-4d7c-d1e0-68441e7f1674"
      },
      "execution_count": 20,
      "outputs": [
        {
          "output_type": "stream",
          "name": "stdout",
          "text": [
            "[[ 8  0  0  0  2  0  2  0  0]\n",
            " [ 0  2  0  0  2  0  0  0  0]\n",
            " [ 0  0  0  0  2  0  0  0  0]\n",
            " [ 4  0  0  6  0  0  0  0  0]\n",
            " [ 0  0  0  0 76  0  0  0  0]\n",
            " [ 2  0  0  0  3  4  0  1  0]\n",
            " [ 2  0  0  0  0  2  8  0  0]\n",
            " [ 0  0  0  0  2  0  2  0  0]\n",
            " [63  0  1  4  5  8  3  0  0]]\n"
          ]
        }
      ]
    },
    {
      "cell_type": "code",
      "source": [],
      "metadata": {
        "id": "F3qxfAcQTv0c"
      },
      "execution_count": null,
      "outputs": []
    },
    {
      "cell_type": "code",
      "source": [],
      "metadata": {
        "id": "Xl9HTWK1Tvxj"
      },
      "execution_count": null,
      "outputs": []
    },
    {
      "cell_type": "code",
      "source": [],
      "metadata": {
        "id": "kAzeNx88XYix"
      },
      "execution_count": null,
      "outputs": []
    },
    {
      "cell_type": "code",
      "source": [
        "import tensorflow as tf\n",
        "from tensorflow.keras.layers import *\n",
        "from tensorflow.keras.applications import ResNet50, ResNet101, ResNet152\n"
      ],
      "metadata": {
        "id": "Yn5qu1ieUdZL"
      },
      "execution_count": 10,
      "outputs": []
    },
    {
      "cell_type": "code",
      "source": [
        "EPOCHS = 20\n",
        "BATCH_SIZE = 32\n",
        "IMG_SIZE = 256\n",
        "num_classes = 9"
      ],
      "metadata": {
        "id": "dsN1Hg1cUdWM"
      },
      "execution_count": 11,
      "outputs": []
    },
    {
      "cell_type": "code",
      "source": [],
      "metadata": {
        "id": "JyWTzz8DTvls"
      },
      "execution_count": null,
      "outputs": []
    },
    {
      "cell_type": "code",
      "source": [
        "def build_model(ResNet, img_size, n):\n",
        "    inp = Input(shape=(img_size,img_size, n))\n",
        "    resnet = ResNet(input_shape=(img_size,img_size,n),\n",
        "                    weights='imagenet',\n",
        "                    include_top=False)\n",
        "\n",
        "    # freeze ResNet\n",
        "    resnet.trainable = False\n",
        "    x = resnet(inp)\n",
        "    x = GlobalAveragePooling2D()(x)\n",
        "    x = Dropout(0.5)(x)\n",
        "    x = Dense(num_classes, activation='softmax')(x)\n",
        "\n",
        "    model = tf.keras.Model(inputs=inp, outputs=x)\n",
        "    model.compile(optimizer='adam', loss='categorical_crossentropy', metrics=['accuracy'])\n",
        "    return model\n",
        "\n"
      ],
      "metadata": {
        "id": "-cZy5uRzTvee"
      },
      "execution_count": 12,
      "outputs": []
    },
    {
      "cell_type": "code",
      "source": [],
      "metadata": {
        "id": "KFOG6fbecxgR"
      },
      "execution_count": null,
      "outputs": []
    },
    {
      "cell_type": "code",
      "source": [],
      "metadata": {
        "id": "ad_73ZHMcxdS"
      },
      "execution_count": null,
      "outputs": []
    },
    {
      "cell_type": "code",
      "source": [
        "resnet50 = build_model(ResNet50, IMG_SIZE, 3)\n"
      ],
      "metadata": {
        "id": "LY8TbSIXVBct",
        "outputId": "52e5aff8-0dd9-4874-95e3-6384bb34c0f2",
        "colab": {
          "base_uri": "https://localhost:8080/"
        }
      },
      "execution_count": 11,
      "outputs": [
        {
          "output_type": "stream",
          "name": "stdout",
          "text": [
            "Downloading data from https://storage.googleapis.com/tensorflow/keras-applications/resnet/resnet50_weights_tf_dim_ordering_tf_kernels_notop.h5\n",
            "94765736/94765736 [==============================] - 5s 0us/step\n"
          ]
        }
      ]
    },
    {
      "cell_type": "code",
      "source": [
        "resnet50.summary()\n"
      ],
      "metadata": {
        "id": "EKo52kzrVEK7",
        "colab": {
          "base_uri": "https://localhost:8080/"
        },
        "outputId": "51e94402-bca4-446a-80b8-c24507934276"
      },
      "execution_count": 12,
      "outputs": [
        {
          "output_type": "stream",
          "name": "stdout",
          "text": [
            "Model: \"model\"\n",
            "_________________________________________________________________\n",
            " Layer (type)                Output Shape              Param #   \n",
            "=================================================================\n",
            " input_1 (InputLayer)        [(None, 256, 256, 3)]     0         \n",
            "                                                                 \n",
            " resnet50 (Functional)       (None, 8, 8, 2048)        23587712  \n",
            "                                                                 \n",
            " global_average_pooling2d (G  (None, 2048)             0         \n",
            " lobalAveragePooling2D)                                          \n",
            "                                                                 \n",
            " dropout (Dropout)           (None, 2048)              0         \n",
            "                                                                 \n",
            " dense (Dense)               (None, 9)                 18441     \n",
            "                                                                 \n",
            "=================================================================\n",
            "Total params: 23,606,153\n",
            "Trainable params: 18,441\n",
            "Non-trainable params: 23,587,712\n",
            "_________________________________________________________________\n"
          ]
        }
      ]
    },
    {
      "cell_type": "code",
      "source": [
        "checkpoint = tf.keras.callbacks.ModelCheckpoint('resnet50.h5',\n",
        "                                                monitor='loss',\n",
        "                                                save_best_only=True,\n",
        "                                                save_weights_only=True)\n"
      ],
      "metadata": {
        "id": "6PMjGhrHUEMD"
      },
      "execution_count": 13,
      "outputs": []
    },
    {
      "cell_type": "code",
      "source": [
        "resnet50.fit(X_train, y_train, batch_size=BATCH_SIZE,\n",
        "          epochs=EPOCHS, verbose=0, callbacks=[checkpoint])\n"
      ],
      "metadata": {
        "id": "mKF8WlsLVKHy",
        "outputId": "7c9bb509-7a3c-4911-f9a2-ab46f4fe5f2a",
        "colab": {
          "base_uri": "https://localhost:8080/"
        }
      },
      "execution_count": 14,
      "outputs": [
        {
          "output_type": "execute_result",
          "data": {
            "text/plain": [
              "<keras.callbacks.History at 0x7f05e01a6650>"
            ]
          },
          "metadata": {},
          "execution_count": 14
        }
      ]
    },
    {
      "cell_type": "code",
      "source": [
        "resnet50.load_weights('resnet50.h5')\n"
      ],
      "metadata": {
        "id": "urgXE-NpVTn1"
      },
      "execution_count": 15,
      "outputs": []
    },
    {
      "cell_type": "code",
      "source": [
        "resnet50.evaluate(X_test, y_test)\n"
      ],
      "metadata": {
        "id": "bHEdwfwbVMTL",
        "outputId": "eda04fff-98b6-4317-9c20-80bc1b455d8c",
        "colab": {
          "base_uri": "https://localhost:8080/"
        }
      },
      "execution_count": 20,
      "outputs": [
        {
          "output_type": "stream",
          "name": "stdout",
          "text": [
            "7/7 [==============================] - 1s 112ms/step - loss: 1.5572 - accuracy: 0.4299\n"
          ]
        },
        {
          "output_type": "execute_result",
          "data": {
            "text/plain": [
              "[1.5572044849395752, 0.42990654706954956]"
            ]
          },
          "metadata": {},
          "execution_count": 20
        }
      ]
    },
    {
      "cell_type": "code",
      "source": [],
      "metadata": {
        "id": "BAyMbxonbHGy"
      },
      "execution_count": null,
      "outputs": []
    },
    {
      "cell_type": "code",
      "source": [],
      "metadata": {
        "id": "JOclul4acCqv"
      },
      "execution_count": null,
      "outputs": []
    },
    {
      "cell_type": "code",
      "source": [],
      "metadata": {
        "id": "YItrmVatcCnp"
      },
      "execution_count": null,
      "outputs": []
    },
    {
      "cell_type": "code",
      "source": [
        "from sklearn.metrics import accuracy_score\n",
        "\n",
        "print('Predicting on test data')\n",
        "y_pred = np.rint(resnet50.predict(X_test))\n",
        "\n",
        "print(accuracy_score(y_test, y_pred))"
      ],
      "metadata": {
        "id": "L7pu-cgibGq1",
        "outputId": "9d72d823-921e-499b-b0a4-174f1599beca",
        "colab": {
          "base_uri": "https://localhost:8080/"
        }
      },
      "execution_count": 19,
      "outputs": [
        {
          "output_type": "stream",
          "name": "stdout",
          "text": [
            "Predicting on test data\n",
            "7/7 [==============================] - 2s 123ms/step\n",
            "0.0\n"
          ]
        }
      ]
    },
    {
      "cell_type": "code",
      "source": [
        "from sklearn.metrics import confusion_matrix\n",
        "\n",
        "y_pred_unencoded = np.argmax(y_pred, axis=1)\n",
        "\n",
        "y_test_unencoded = np.argmax(y_test, axis=1)\n",
        "\n",
        "print(confusion_matrix(y_test_unencoded, y_pred_unencoded))"
      ],
      "metadata": {
        "id": "FxT3o_E4a29L",
        "outputId": "fe6144b8-7f12-47a4-f04b-ffb144ac18c1",
        "colab": {
          "base_uri": "https://localhost:8080/"
        }
      },
      "execution_count": 21,
      "outputs": [
        {
          "output_type": "stream",
          "name": "stdout",
          "text": [
            "[[12  0  0  0  0  0  0  0  0]\n",
            " [ 4  0  0  0  0  0  0  0  0]\n",
            " [ 2  0  0  0  0  0  0  0  0]\n",
            " [10  0  0  0  0  0  0  0  0]\n",
            " [76  0  0  0  0  0  0  0  0]\n",
            " [10  0  0  0  0  0  0  0  0]\n",
            " [12  0  0  0  0  0  0  0  0]\n",
            " [ 4  0  0  0  0  0  0  0  0]\n",
            " [84  0  0  0  0  0  0  0  0]]\n"
          ]
        }
      ]
    },
    {
      "cell_type": "code",
      "source": [],
      "metadata": {
        "id": "DOLHb1jtcntY"
      },
      "execution_count": null,
      "outputs": []
    },
    {
      "cell_type": "code",
      "source": [],
      "metadata": {
        "id": "HG1L2VdccnrK"
      },
      "execution_count": null,
      "outputs": []
    },
    {
      "cell_type": "code",
      "source": [],
      "metadata": {
        "id": "4fEtWMtQcnoU"
      },
      "execution_count": null,
      "outputs": []
    },
    {
      "cell_type": "code",
      "source": [],
      "metadata": {
        "id": "H74kRspwcnlU"
      },
      "execution_count": null,
      "outputs": []
    },
    {
      "cell_type": "code",
      "source": [
        "resnet152 = build_model(ResNet152, IMG_SIZE, 3)\n"
      ],
      "metadata": {
        "id": "n7qxceuYcoLp"
      },
      "execution_count": 13,
      "outputs": []
    },
    {
      "cell_type": "code",
      "source": [
        "resnet152.summary()\n"
      ],
      "metadata": {
        "id": "hs6fPIoPcpdn",
        "outputId": "f0dbd1fd-c1f5-4d70-9b61-b2bc245063c2",
        "colab": {
          "base_uri": "https://localhost:8080/"
        }
      },
      "execution_count": 14,
      "outputs": [
        {
          "output_type": "stream",
          "name": "stdout",
          "text": [
            "Model: \"model\"\n",
            "_________________________________________________________________\n",
            " Layer (type)                Output Shape              Param #   \n",
            "=================================================================\n",
            " input_1 (InputLayer)        [(None, 256, 256, 3)]     0         \n",
            "                                                                 \n",
            " resnet152 (Functional)      (None, 8, 8, 2048)        58370944  \n",
            "                                                                 \n",
            " global_average_pooling2d (G  (None, 2048)             0         \n",
            " lobalAveragePooling2D)                                          \n",
            "                                                                 \n",
            " dropout (Dropout)           (None, 2048)              0         \n",
            "                                                                 \n",
            " dense (Dense)               (None, 9)                 18441     \n",
            "                                                                 \n",
            "=================================================================\n",
            "Total params: 58,389,385\n",
            "Trainable params: 18,441\n",
            "Non-trainable params: 58,370,944\n",
            "_________________________________________________________________\n"
          ]
        }
      ]
    },
    {
      "cell_type": "code",
      "source": [
        "checkpoint = tf.keras.callbacks.ModelCheckpoint('resnet152.h5',\n",
        "                                                monitor='loss',\n",
        "                                                save_best_only=True,\n",
        "                                                save_weights_only=True)\n"
      ],
      "metadata": {
        "id": "eHJUMFwncpao"
      },
      "execution_count": 15,
      "outputs": []
    },
    {
      "cell_type": "code",
      "source": [
        "resnet152.fit(X_train, y_train, batch_size=BATCH_SIZE,\n",
        "          epochs=EPOCHS, verbose=0, callbacks=[checkpoint])\n"
      ],
      "metadata": {
        "id": "aOBBZIUccpXg",
        "outputId": "71fb9562-cc23-4f59-9ce7-56e92befedf1",
        "colab": {
          "base_uri": "https://localhost:8080/"
        }
      },
      "execution_count": 16,
      "outputs": [
        {
          "output_type": "execute_result",
          "data": {
            "text/plain": [
              "<keras.callbacks.History at 0x7f0da7a5a950>"
            ]
          },
          "metadata": {},
          "execution_count": 16
        }
      ]
    },
    {
      "cell_type": "code",
      "source": [
        "resnet152.load_weights('resnet152.h5')"
      ],
      "metadata": {
        "id": "qnwm3nxGcpRR"
      },
      "execution_count": 17,
      "outputs": []
    },
    {
      "cell_type": "code",
      "source": [
        "y_pred = resnet152.predict(X_test)"
      ],
      "metadata": {
        "id": "TKBjjVIZh-L0",
        "outputId": "ed1ee098-0248-4d2a-f0a1-d8bd7898720f",
        "colab": {
          "base_uri": "https://localhost:8080/"
        }
      },
      "execution_count": 29,
      "outputs": [
        {
          "output_type": "stream",
          "name": "stdout",
          "text": [
            "7/7 [==============================] - 2s 261ms/step\n"
          ]
        }
      ]
    },
    {
      "cell_type": "code",
      "source": [
        "print(y_pred)"
      ],
      "metadata": {
        "id": "JKM5c9EAiYyS",
        "outputId": "fa101936-ec35-466f-c9ab-5a088aa0e1b7",
        "colab": {
          "base_uri": "https://localhost:8080/"
        }
      },
      "execution_count": 30,
      "outputs": [
        {
          "output_type": "stream",
          "name": "stdout",
          "text": [
            "[[0.0913308  0.05359313 0.03665922 ... 0.05498597 0.08981112 0.27745995]\n",
            " [0.08076365 0.06690872 0.03369468 ... 0.05626995 0.08851091 0.29218143]\n",
            " [0.07404404 0.06626953 0.03198276 ... 0.05420496 0.08124533 0.3144185 ]\n",
            " ...\n",
            " [0.08042213 0.05068485 0.03292871 ... 0.05550446 0.08530418 0.30937624]\n",
            " [0.07265574 0.07011493 0.03080931 ... 0.05346893 0.08688118 0.3143069 ]\n",
            " [0.07590387 0.05748452 0.03157727 ... 0.05379097 0.08348969 0.32320946]]\n"
          ]
        }
      ]
    },
    {
      "cell_type": "code",
      "source": [],
      "metadata": {
        "id": "0w8bMx9ci-e5"
      },
      "execution_count": null,
      "outputs": []
    },
    {
      "cell_type": "code",
      "source": [
        "from sklearn.metrics import accuracy_score\n",
        "\n",
        "print(accuracy_score(y_test, y_pred))"
      ],
      "metadata": {
        "id": "txnRveH7igSb",
        "outputId": "8c5e4efe-da3d-416f-9324-a779afdd3ba0",
        "colab": {
          "base_uri": "https://localhost:8080/",
          "height": 380
        }
      },
      "execution_count": 33,
      "outputs": [
        {
          "output_type": "error",
          "ename": "InvalidParameterError",
          "evalue": "ignored",
          "traceback": [
            "\u001b[0;31m---------------------------------------------------------------------------\u001b[0m",
            "\u001b[0;31mInvalidParameterError\u001b[0m                     Traceback (most recent call last)",
            "\u001b[0;32m<ipython-input-33-1487a183e512>\u001b[0m in \u001b[0;36m<cell line: 6>\u001b[0;34m()\u001b[0m\n\u001b[1;32m      4\u001b[0m \u001b[0my_test\u001b[0m \u001b[0;34m=\u001b[0m \u001b[0mnp\u001b[0m\u001b[0;34m.\u001b[0m\u001b[0margmax\u001b[0m\u001b[0;34m(\u001b[0m\u001b[0my_test\u001b[0m\u001b[0;34m,\u001b[0m \u001b[0maxis\u001b[0m\u001b[0;34m=\u001b[0m\u001b[0;36m1\u001b[0m\u001b[0;34m)\u001b[0m\u001b[0;34m\u001b[0m\u001b[0;34m\u001b[0m\u001b[0m\n\u001b[1;32m      5\u001b[0m \u001b[0;34m\u001b[0m\u001b[0m\n\u001b[0;32m----> 6\u001b[0;31m \u001b[0mprint\u001b[0m\u001b[0;34m(\u001b[0m\u001b[0maccuracy_score\u001b[0m\u001b[0;34m(\u001b[0m\u001b[0my_test\u001b[0m\u001b[0;34m,\u001b[0m \u001b[0my_pred\u001b[0m\u001b[0;34m)\u001b[0m\u001b[0;34m)\u001b[0m\u001b[0;34m\u001b[0m\u001b[0;34m\u001b[0m\u001b[0m\n\u001b[0m",
            "\u001b[0;32m/usr/local/lib/python3.10/dist-packages/sklearn/utils/_param_validation.py\u001b[0m in \u001b[0;36mwrapper\u001b[0;34m(*args, **kwargs)\u001b[0m\n\u001b[1;32m    185\u001b[0m             \u001b[0mparams\u001b[0m \u001b[0;34m=\u001b[0m \u001b[0;34m{\u001b[0m\u001b[0mk\u001b[0m\u001b[0;34m:\u001b[0m \u001b[0mv\u001b[0m \u001b[0;32mfor\u001b[0m \u001b[0mk\u001b[0m\u001b[0;34m,\u001b[0m \u001b[0mv\u001b[0m \u001b[0;32min\u001b[0m \u001b[0mparams\u001b[0m\u001b[0;34m.\u001b[0m\u001b[0marguments\u001b[0m\u001b[0;34m.\u001b[0m\u001b[0mitems\u001b[0m\u001b[0;34m(\u001b[0m\u001b[0;34m)\u001b[0m \u001b[0;32mif\u001b[0m \u001b[0mk\u001b[0m \u001b[0;32mnot\u001b[0m \u001b[0;32min\u001b[0m \u001b[0mto_ignore\u001b[0m\u001b[0;34m}\u001b[0m\u001b[0;34m\u001b[0m\u001b[0;34m\u001b[0m\u001b[0m\n\u001b[1;32m    186\u001b[0m \u001b[0;34m\u001b[0m\u001b[0m\n\u001b[0;32m--> 187\u001b[0;31m             validate_parameter_constraints(\n\u001b[0m\u001b[1;32m    188\u001b[0m                 \u001b[0mparameter_constraints\u001b[0m\u001b[0;34m,\u001b[0m \u001b[0mparams\u001b[0m\u001b[0;34m,\u001b[0m \u001b[0mcaller_name\u001b[0m\u001b[0;34m=\u001b[0m\u001b[0mfunc\u001b[0m\u001b[0;34m.\u001b[0m\u001b[0m__qualname__\u001b[0m\u001b[0;34m\u001b[0m\u001b[0;34m\u001b[0m\u001b[0m\n\u001b[1;32m    189\u001b[0m             )\n",
            "\u001b[0;32m/usr/local/lib/python3.10/dist-packages/sklearn/utils/_param_validation.py\u001b[0m in \u001b[0;36mvalidate_parameter_constraints\u001b[0;34m(parameter_constraints, params, caller_name)\u001b[0m\n\u001b[1;32m     95\u001b[0m                 )\n\u001b[1;32m     96\u001b[0m \u001b[0;34m\u001b[0m\u001b[0m\n\u001b[0;32m---> 97\u001b[0;31m             raise InvalidParameterError(\n\u001b[0m\u001b[1;32m     98\u001b[0m                 \u001b[0;34mf\"The {param_name!r} parameter of {caller_name} must be\"\u001b[0m\u001b[0;34m\u001b[0m\u001b[0;34m\u001b[0m\u001b[0m\n\u001b[1;32m     99\u001b[0m                 \u001b[0;34mf\" {constraints_str}. Got {param_val!r} instead.\"\u001b[0m\u001b[0;34m\u001b[0m\u001b[0;34m\u001b[0m\u001b[0m\n",
            "\u001b[0;31mInvalidParameterError\u001b[0m: The 'y_pred' parameter of accuracy_score must be an array-like or a sparse matrix. Got 0 instead."
          ]
        }
      ]
    },
    {
      "cell_type": "code",
      "source": [
        "print(y_pred)"
      ],
      "metadata": {
        "id": "PaMQaf52jAPZ",
        "outputId": "80ecd6d5-a523-4c0b-f5f9-c4e485c0a56a",
        "colab": {
          "base_uri": "https://localhost:8080/"
        }
      },
      "execution_count": 23,
      "outputs": [
        {
          "output_type": "stream",
          "name": "stdout",
          "text": [
            "[[0. 0. 0. ... 0. 0. 0.]\n",
            " [0. 0. 0. ... 0. 0. 0.]\n",
            " [0. 0. 0. ... 0. 0. 0.]\n",
            " ...\n",
            " [0. 0. 0. ... 0. 0. 0.]\n",
            " [0. 0. 0. ... 0. 0. 0.]\n",
            " [0. 0. 0. ... 0. 0. 0.]]\n"
          ]
        }
      ]
    },
    {
      "cell_type": "code",
      "source": [],
      "metadata": {
        "id": "rcp9eKeKh-Cy"
      },
      "execution_count": null,
      "outputs": []
    },
    {
      "cell_type": "code",
      "source": [
        "resnet152.evaluate(X_test, y_test)\n"
      ],
      "metadata": {
        "id": "Vu_uRyh_c74I",
        "outputId": "4f9a3e55-5838-406b-cf2c-b019d74aae4d",
        "colab": {
          "base_uri": "https://localhost:8080/"
        }
      },
      "execution_count": 18,
      "outputs": [
        {
          "output_type": "stream",
          "name": "stdout",
          "text": [
            "7/7 [==============================] - 6s 423ms/step - loss: 1.6269 - accuracy: 0.3925\n"
          ]
        },
        {
          "output_type": "execute_result",
          "data": {
            "text/plain": [
              "[1.6268986463546753, 0.3925233781337738]"
            ]
          },
          "metadata": {},
          "execution_count": 18
        }
      ]
    }
  ],
  "metadata": {
    "colab": {
      "provenance": [],
      "gpuType": "T4",
      "include_colab_link": true
    },
    "kernelspec": {
      "display_name": "Python 3",
      "name": "python3"
    },
    "language_info": {
      "name": "python"
    },
    "accelerator": "GPU"
  },
  "nbformat": 4,
  "nbformat_minor": 0
}