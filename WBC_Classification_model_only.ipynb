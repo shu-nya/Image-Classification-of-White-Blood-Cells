{
  "cells": [
    {
      "cell_type": "markdown",
      "metadata": {
        "id": "view-in-github",
        "colab_type": "text"
      },
      "source": [
        "<a href=\"https://colab.research.google.com/github/shu-nya/Image-Classification-of-White-Blood-Cells/blob/master/WBC_Classification_model_only.ipynb\" target=\"_parent\"><img src=\"https://colab.research.google.com/assets/colab-badge.svg\" alt=\"Open In Colab\"/></a>"
      ]
    },
    {
      "cell_type": "code",
      "execution_count": 1,
      "metadata": {
        "id": "HNFhaaFk-akc"
      },
      "outputs": [],
      "source": [
        "import numpy as np\n",
        "from keras.models import Sequential\n",
        "from keras import applications\n",
        "from keras import optimizers\n",
        "from keras.layers import Dense, Dropout, Activation, Flatten\n",
        "from keras.layers import Input, Conv2D, MaxPooling2D, Lambda\n",
        "from keras.layers import Dense\n",
        "from keras.models import Model\n",
        "from keras.wrappers.scikit_learn import KerasClassifier\n",
        "from keras.utils import to_categorical\n",
        "from keras.utils import np_utils\n",
        "from keras.preprocessing.image import ImageDataGenerator\n",
        "from sklearn.model_selection import cross_val_score\n",
        "from sklearn.model_selection import KFold\n",
        "from sklearn.preprocessing import LabelEncoder\n",
        "from sklearn.pipeline import Pipeline\n",
        "from sklearn.model_selection import train_test_split\n",
        "from sklearn.metrics import roc_curve, auc\n",
        "from sklearn.utils import shuffle\n",
        "import csv\n",
        "import cv2\n",
        "import scipy\n",
        "import os\n",
        "from PIL import Image\n",
        "#import splitfolders\n",
        "import shutil"
      ]
    },
    {
      "cell_type": "code",
      "execution_count": 2,
      "metadata": {
        "colab": {
          "base_uri": "https://localhost:8080/"
        },
        "id": "5o-YKxb7--aK",
        "outputId": "c5b4fe2f-9221-47fc-d234-963df926c3b5"
      },
      "outputs": [
        {
          "output_type": "stream",
          "name": "stdout",
          "text": [
            "Mounted at /content/drive\n"
          ]
        }
      ],
      "source": [
        "from google.colab import drive\n",
        "drive.mount('/content/drive')"
      ]
    },
    {
      "cell_type": "code",
      "execution_count": 3,
      "metadata": {
        "id": "OVLUoKtNFfKd"
      },
      "outputs": [],
      "source": [
        "BASE_DIR = '/content/drive/MyDrive/taskMedPrime'"
      ]
    },
    {
      "cell_type": "code",
      "execution_count": 3,
      "metadata": {
        "id": "bTQKwZo4FfHq"
      },
      "outputs": [],
      "source": []
    },
    {
      "cell_type": "code",
      "execution_count": 4,
      "metadata": {
        "id": "Plg1cYH0FiXM"
      },
      "outputs": [],
      "source": [
        "def get_data(folder):\n",
        "    X = []\n",
        "    y = []\n",
        "\n",
        "    for wbc_type in os.listdir(folder):\n",
        "        if not wbc_type.startswith('.'):\n",
        "\n",
        "            for image_filename in os.listdir(folder + '/' + wbc_type):\n",
        "                img_file = cv2.imread(folder + '/' + wbc_type + '/' + image_filename)\n",
        "\n",
        "                if img_file is not None:\n",
        "                    img_arr = np.asarray(img_file)\n",
        "                    X.append(img_arr)\n",
        "                    y.append(wbc_type)\n",
        "\n",
        "    X = np.asarray(X)\n",
        "    y = np.asarray(y)\n",
        "    return X,y"
      ]
    },
    {
      "cell_type": "code",
      "execution_count": 5,
      "metadata": {
        "id": "dAFto1SzFiUj"
      },
      "outputs": [],
      "source": [
        "X_train, y_train = get_data(BASE_DIR + '/train')\n",
        "X_test, y_test = get_data(BASE_DIR + '/test')\n",
        "\n"
      ]
    },
    {
      "cell_type": "code",
      "execution_count": 6,
      "metadata": {
        "id": "3o7UvIClL9ns"
      },
      "outputs": [],
      "source": [
        "X_train = X_train * 1./255.\n",
        "X_test = X_test * 1./255."
      ]
    },
    {
      "cell_type": "code",
      "execution_count": 6,
      "metadata": {
        "id": "-XHZkYDP--XX"
      },
      "outputs": [],
      "source": []
    },
    {
      "cell_type": "code",
      "execution_count": 7,
      "metadata": {
        "id": "sTTzS3Wn--Ue"
      },
      "outputs": [],
      "source": [
        "#Convert labels to one hot encoding\n",
        "\n",
        "encoder = LabelEncoder()\n",
        "encoder.fit(y_train)\n",
        "encoded_y_train = encoder.transform(y_train)\n",
        "encoded_y_test = encoder.transform(y_test)\n",
        "\n",
        "y_train = np_utils.to_categorical(encoded_y_train)\n",
        "y_test = np_utils.to_categorical(encoded_y_test)"
      ]
    },
    {
      "cell_type": "code",
      "execution_count": 7,
      "metadata": {
        "id": "TsAzn72d_IZu"
      },
      "outputs": [],
      "source": []
    },
    {
      "cell_type": "code",
      "execution_count": 8,
      "metadata": {
        "id": "U_juJ9K2--R2"
      },
      "outputs": [],
      "source": [
        "def get_model():\n",
        "    model = Sequential()\n",
        "    model.add(Lambda(lambda x: x/127.5 - 1., input_shape=(256, 256, 3), output_shape=(256, 256, 3)))\n",
        "\n",
        "    # layer 1\n",
        "    model.add(Conv2D(32, kernel_size=(3, 3), padding='same', input_shape=(256, 356, 3)))\n",
        "    model.add(Activation('relu'))\n",
        "    model.add(MaxPooling2D(pool_size=(2, 2)))\n",
        "    model.add(Dropout(rate=0.25))\n",
        "\n",
        "    # layer 2\n",
        "    model.add(Conv2D(32, kernel_size=(3, 3), padding='same'))\n",
        "    model.add(Activation('relu'))\n",
        "    model.add(MaxPooling2D(pool_size=(2, 2)))\n",
        "    model.add(Dropout(rate=0.40))\n",
        "\n",
        "    # layer 3\n",
        "    model.add(Conv2D(64, kernel_size=(3, 3), padding='same'))\n",
        "    model.add(Activation('relu'))\n",
        "    model.add(MaxPooling2D(pool_size=(2, 2)))\n",
        "    model.add(Dropout(rate=0.40))\n",
        "\n",
        "\n",
        "    # Fully connected network layer\n",
        "    model.add(Flatten())  # this converts our 3D feature maps to 1D feature vectors\n",
        "    model.add(Dense(64))\n",
        "    model.add(Activation('relu'))\n",
        "    model.add(Dropout(0.40))\n",
        "\n",
        "    # Output\n",
        "    model.add(Dense(9))\n",
        "    model.add(Activation('softmax'))\n",
        "\n",
        "    # Compile\n",
        "    model.compile(loss='categorical_crossentropy', optimizer='Adam', metrics=['accuracy'])\n",
        "\n",
        "    return model"
      ]
    },
    {
      "cell_type": "code",
      "execution_count": 8,
      "metadata": {
        "id": "PvaYnZsm--NO"
      },
      "outputs": [],
      "source": []
    },
    {
      "cell_type": "code",
      "execution_count": 9,
      "metadata": {
        "id": "so32LB7I--Kn"
      },
      "outputs": [],
      "source": [
        "epochs = 20\n",
        "\n",
        "batch_size = 32"
      ]
    },
    {
      "cell_type": "code",
      "execution_count": 9,
      "metadata": {
        "id": "Cg96w6iZ_KHv"
      },
      "outputs": [],
      "source": []
    },
    {
      "cell_type": "code",
      "execution_count": 10,
      "metadata": {
        "colab": {
          "base_uri": "https://localhost:8080/"
        },
        "id": "0BZAvVLY_KFL",
        "outputId": "16214215-bf4c-4109-f269-97b6956aa228"
      },
      "outputs": [
        {
          "output_type": "stream",
          "name": "stdout",
          "text": [
            "Epoch 1/150\n",
            "75/75 - 21s - loss: 2.9069 - accuracy: 0.1442 - val_loss: 2.2371 - val_accuracy: 0.0000e+00 - 21s/epoch - 283ms/step\n",
            "Epoch 2/150\n",
            "75/75 - 7s - loss: 2.1912 - accuracy: 0.1675 - val_loss: 2.2879 - val_accuracy: 0.0000e+00 - 7s/epoch - 89ms/step\n",
            "Epoch 3/150\n",
            "75/75 - 7s - loss: 2.1873 - accuracy: 0.1675 - val_loss: 2.3332 - val_accuracy: 0.0000e+00 - 7s/epoch - 89ms/step\n",
            "Epoch 4/150\n",
            "75/75 - 7s - loss: 2.1842 - accuracy: 0.1675 - val_loss: 2.3736 - val_accuracy: 0.0000e+00 - 7s/epoch - 90ms/step\n",
            "Epoch 5/150\n",
            "75/75 - 7s - loss: 2.1815 - accuracy: 0.1675 - val_loss: 2.4137 - val_accuracy: 0.0000e+00 - 7s/epoch - 91ms/step\n",
            "Epoch 6/150\n",
            "75/75 - 7s - loss: 2.1795 - accuracy: 0.1675 - val_loss: 2.4494 - val_accuracy: 0.0000e+00 - 7s/epoch - 90ms/step\n",
            "Epoch 7/150\n",
            "75/75 - 7s - loss: 2.1779 - accuracy: 0.1675 - val_loss: 2.4820 - val_accuracy: 0.0000e+00 - 7s/epoch - 89ms/step\n",
            "Epoch 8/150\n",
            "75/75 - 7s - loss: 2.1766 - accuracy: 0.1675 - val_loss: 2.5084 - val_accuracy: 0.0000e+00 - 7s/epoch - 90ms/step\n",
            "Epoch 9/150\n",
            "75/75 - 7s - loss: 2.1756 - accuracy: 0.1675 - val_loss: 2.5357 - val_accuracy: 0.0000e+00 - 7s/epoch - 89ms/step\n",
            "Epoch 10/150\n",
            "75/75 - 7s - loss: 2.1749 - accuracy: 0.1675 - val_loss: 2.5601 - val_accuracy: 0.0000e+00 - 7s/epoch - 90ms/step\n",
            "Epoch 11/150\n",
            "75/75 - 7s - loss: 2.1742 - accuracy: 0.1675 - val_loss: 2.5845 - val_accuracy: 0.0000e+00 - 7s/epoch - 89ms/step\n",
            "Epoch 12/150\n",
            "75/75 - 7s - loss: 2.1738 - accuracy: 0.1675 - val_loss: 2.6024 - val_accuracy: 0.0000e+00 - 7s/epoch - 89ms/step\n",
            "Epoch 13/150\n",
            "75/75 - 7s - loss: 2.1734 - accuracy: 0.1675 - val_loss: 2.6171 - val_accuracy: 0.0000e+00 - 7s/epoch - 91ms/step\n",
            "Epoch 14/150\n",
            "75/75 - 7s - loss: 2.1731 - accuracy: 0.1675 - val_loss: 2.6336 - val_accuracy: 0.0000e+00 - 7s/epoch - 90ms/step\n",
            "Epoch 15/150\n",
            "75/75 - 7s - loss: 2.1729 - accuracy: 0.1675 - val_loss: 2.6475 - val_accuracy: 0.0000e+00 - 7s/epoch - 89ms/step\n",
            "Epoch 16/150\n",
            "75/75 - 7s - loss: 2.1728 - accuracy: 0.1675 - val_loss: 2.6602 - val_accuracy: 0.0000e+00 - 7s/epoch - 88ms/step\n",
            "Epoch 17/150\n",
            "75/75 - 7s - loss: 2.1726 - accuracy: 0.1675 - val_loss: 2.6685 - val_accuracy: 0.0000e+00 - 7s/epoch - 89ms/step\n",
            "Epoch 18/150\n",
            "75/75 - 7s - loss: 2.1725 - accuracy: 0.1675 - val_loss: 2.6818 - val_accuracy: 0.0000e+00 - 7s/epoch - 90ms/step\n",
            "Epoch 19/150\n",
            "75/75 - 7s - loss: 2.1724 - accuracy: 0.1675 - val_loss: 2.6905 - val_accuracy: 0.0000e+00 - 7s/epoch - 90ms/step\n",
            "Epoch 20/150\n",
            "75/75 - 7s - loss: 2.1724 - accuracy: 0.1675 - val_loss: 2.6964 - val_accuracy: 0.0000e+00 - 7s/epoch - 88ms/step\n",
            "Epoch 21/150\n",
            "75/75 - 7s - loss: 2.1723 - accuracy: 0.1675 - val_loss: 2.7031 - val_accuracy: 0.0000e+00 - 7s/epoch - 91ms/step\n",
            "Epoch 22/150\n",
            "75/75 - 7s - loss: 2.1724 - accuracy: 0.1675 - val_loss: 2.7106 - val_accuracy: 0.0000e+00 - 7s/epoch - 88ms/step\n",
            "Epoch 23/150\n",
            "75/75 - 7s - loss: 2.1723 - accuracy: 0.1675 - val_loss: 2.7169 - val_accuracy: 0.0000e+00 - 7s/epoch - 91ms/step\n",
            "Epoch 24/150\n",
            "75/75 - 7s - loss: 2.1722 - accuracy: 0.1675 - val_loss: 2.7234 - val_accuracy: 0.0000e+00 - 7s/epoch - 90ms/step\n",
            "Epoch 25/150\n",
            "75/75 - 7s - loss: 2.1722 - accuracy: 0.1675 - val_loss: 2.7295 - val_accuracy: 0.0000e+00 - 7s/epoch - 92ms/step\n",
            "Epoch 26/150\n",
            "75/75 - 7s - loss: 2.1722 - accuracy: 0.1675 - val_loss: 2.7317 - val_accuracy: 0.0000e+00 - 7s/epoch - 88ms/step\n",
            "Epoch 27/150\n",
            "75/75 - 7s - loss: 2.1722 - accuracy: 0.1675 - val_loss: 2.7373 - val_accuracy: 0.0000e+00 - 7s/epoch - 89ms/step\n",
            "Epoch 28/150\n",
            "75/75 - 7s - loss: 2.1722 - accuracy: 0.1675 - val_loss: 2.7362 - val_accuracy: 0.0000e+00 - 7s/epoch - 88ms/step\n",
            "Epoch 29/150\n",
            "75/75 - 7s - loss: 2.1722 - accuracy: 0.1675 - val_loss: 2.7410 - val_accuracy: 0.0000e+00 - 7s/epoch - 89ms/step\n",
            "Epoch 30/150\n",
            "75/75 - 7s - loss: 2.1721 - accuracy: 0.1675 - val_loss: 2.7460 - val_accuracy: 0.0000e+00 - 7s/epoch - 88ms/step\n",
            "Epoch 31/150\n",
            "75/75 - 7s - loss: 2.1722 - accuracy: 0.1675 - val_loss: 2.7448 - val_accuracy: 0.0000e+00 - 7s/epoch - 91ms/step\n",
            "Epoch 32/150\n",
            "75/75 - 7s - loss: 2.1721 - accuracy: 0.1675 - val_loss: 2.7513 - val_accuracy: 0.0000e+00 - 7s/epoch - 90ms/step\n",
            "Epoch 33/150\n",
            "75/75 - 7s - loss: 2.1722 - accuracy: 0.1675 - val_loss: 2.7502 - val_accuracy: 0.0000e+00 - 7s/epoch - 90ms/step\n",
            "Epoch 34/150\n",
            "75/75 - 7s - loss: 2.1722 - accuracy: 0.1675 - val_loss: 2.7530 - val_accuracy: 0.0000e+00 - 7s/epoch - 90ms/step\n",
            "Epoch 35/150\n",
            "75/75 - 7s - loss: 2.1722 - accuracy: 0.1675 - val_loss: 2.7518 - val_accuracy: 0.0000e+00 - 7s/epoch - 89ms/step\n",
            "Epoch 36/150\n",
            "75/75 - 7s - loss: 2.1722 - accuracy: 0.1675 - val_loss: 2.7543 - val_accuracy: 0.0000e+00 - 7s/epoch - 90ms/step\n",
            "Epoch 37/150\n",
            "75/75 - 7s - loss: 2.1721 - accuracy: 0.1675 - val_loss: 2.7549 - val_accuracy: 0.0000e+00 - 7s/epoch - 90ms/step\n",
            "Epoch 38/150\n",
            "75/75 - 7s - loss: 2.1722 - accuracy: 0.1675 - val_loss: 2.7607 - val_accuracy: 0.0000e+00 - 7s/epoch - 90ms/step\n",
            "Epoch 39/150\n",
            "75/75 - 7s - loss: 2.1723 - accuracy: 0.1675 - val_loss: 2.7624 - val_accuracy: 0.0000e+00 - 7s/epoch - 89ms/step\n",
            "Epoch 40/150\n",
            "75/75 - 7s - loss: 2.1722 - accuracy: 0.1675 - val_loss: 2.7562 - val_accuracy: 0.0000e+00 - 7s/epoch - 90ms/step\n",
            "Epoch 41/150\n",
            "75/75 - 7s - loss: 2.1722 - accuracy: 0.1675 - val_loss: 2.7575 - val_accuracy: 0.0000e+00 - 7s/epoch - 89ms/step\n",
            "Epoch 42/150\n",
            "75/75 - 7s - loss: 2.1722 - accuracy: 0.1675 - val_loss: 2.7600 - val_accuracy: 0.0000e+00 - 7s/epoch - 90ms/step\n",
            "Epoch 43/150\n",
            "75/75 - 7s - loss: 2.1722 - accuracy: 0.1675 - val_loss: 2.7616 - val_accuracy: 0.0000e+00 - 7s/epoch - 90ms/step\n",
            "Epoch 44/150\n",
            "75/75 - 7s - loss: 2.1722 - accuracy: 0.1675 - val_loss: 2.7586 - val_accuracy: 0.0000e+00 - 7s/epoch - 88ms/step\n",
            "Epoch 45/150\n",
            "75/75 - 7s - loss: 2.1722 - accuracy: 0.1675 - val_loss: 2.7660 - val_accuracy: 0.0000e+00 - 7s/epoch - 92ms/step\n",
            "Epoch 46/150\n",
            "75/75 - 7s - loss: 2.1721 - accuracy: 0.1675 - val_loss: 2.7620 - val_accuracy: 0.0000e+00 - 7s/epoch - 88ms/step\n",
            "Epoch 47/150\n",
            "75/75 - 7s - loss: 2.1721 - accuracy: 0.1675 - val_loss: 2.7642 - val_accuracy: 0.0000e+00 - 7s/epoch - 89ms/step\n",
            "Epoch 48/150\n",
            "75/75 - 7s - loss: 2.1721 - accuracy: 0.1675 - val_loss: 2.7655 - val_accuracy: 0.0000e+00 - 7s/epoch - 88ms/step\n",
            "Epoch 49/150\n",
            "75/75 - 7s - loss: 2.1722 - accuracy: 0.1675 - val_loss: 2.7665 - val_accuracy: 0.0000e+00 - 7s/epoch - 91ms/step\n",
            "Epoch 50/150\n",
            "75/75 - 7s - loss: 2.1721 - accuracy: 0.1675 - val_loss: 2.7646 - val_accuracy: 0.0000e+00 - 7s/epoch - 88ms/step\n",
            "Epoch 51/150\n",
            "75/75 - 7s - loss: 2.1722 - accuracy: 0.1675 - val_loss: 2.7664 - val_accuracy: 0.0000e+00 - 7s/epoch - 91ms/step\n",
            "Epoch 52/150\n",
            "75/75 - 7s - loss: 2.1721 - accuracy: 0.1675 - val_loss: 2.7643 - val_accuracy: 0.0000e+00 - 7s/epoch - 90ms/step\n",
            "Epoch 53/150\n",
            "75/75 - 7s - loss: 2.1722 - accuracy: 0.1675 - val_loss: 2.7609 - val_accuracy: 0.0000e+00 - 7s/epoch - 89ms/step\n",
            "Epoch 54/150\n",
            "75/75 - 7s - loss: 2.1722 - accuracy: 0.1675 - val_loss: 2.7650 - val_accuracy: 0.0000e+00 - 7s/epoch - 88ms/step\n",
            "Epoch 55/150\n",
            "75/75 - 7s - loss: 2.1721 - accuracy: 0.1675 - val_loss: 2.7629 - val_accuracy: 0.0000e+00 - 7s/epoch - 89ms/step\n",
            "Epoch 56/150\n",
            "75/75 - 7s - loss: 2.1722 - accuracy: 0.1675 - val_loss: 2.7623 - val_accuracy: 0.0000e+00 - 7s/epoch - 90ms/step\n",
            "Epoch 57/150\n",
            "75/75 - 7s - loss: 2.1722 - accuracy: 0.1675 - val_loss: 2.7651 - val_accuracy: 0.0000e+00 - 7s/epoch - 89ms/step\n",
            "Epoch 58/150\n",
            "75/75 - 7s - loss: 2.1721 - accuracy: 0.1675 - val_loss: 2.7648 - val_accuracy: 0.0000e+00 - 7s/epoch - 90ms/step\n",
            "Epoch 59/150\n",
            "75/75 - 7s - loss: 2.1722 - accuracy: 0.1675 - val_loss: 2.7619 - val_accuracy: 0.0000e+00 - 7s/epoch - 89ms/step\n",
            "Epoch 60/150\n",
            "75/75 - 7s - loss: 2.1721 - accuracy: 0.1675 - val_loss: 2.7651 - val_accuracy: 0.0000e+00 - 7s/epoch - 90ms/step\n",
            "Epoch 61/150\n",
            "75/75 - 7s - loss: 2.1722 - accuracy: 0.1675 - val_loss: 2.7648 - val_accuracy: 0.0000e+00 - 7s/epoch - 91ms/step\n",
            "Epoch 62/150\n",
            "75/75 - 7s - loss: 2.1722 - accuracy: 0.1675 - val_loss: 2.7669 - val_accuracy: 0.0000e+00 - 7s/epoch - 88ms/step\n",
            "Epoch 63/150\n",
            "75/75 - 7s - loss: 2.1721 - accuracy: 0.1675 - val_loss: 2.7675 - val_accuracy: 0.0000e+00 - 7s/epoch - 89ms/step\n",
            "Epoch 64/150\n",
            "75/75 - 7s - loss: 2.1722 - accuracy: 0.1675 - val_loss: 2.7645 - val_accuracy: 0.0000e+00 - 7s/epoch - 88ms/step\n",
            "Epoch 65/150\n",
            "75/75 - 7s - loss: 2.1723 - accuracy: 0.1675 - val_loss: 2.7651 - val_accuracy: 0.0000e+00 - 7s/epoch - 90ms/step\n",
            "Epoch 66/150\n",
            "75/75 - 7s - loss: 2.1722 - accuracy: 0.1675 - val_loss: 2.7657 - val_accuracy: 0.0000e+00 - 7s/epoch - 90ms/step\n",
            "Epoch 67/150\n",
            "75/75 - 7s - loss: 2.1721 - accuracy: 0.1675 - val_loss: 2.7663 - val_accuracy: 0.0000e+00 - 7s/epoch - 91ms/step\n",
            "Epoch 68/150\n",
            "75/75 - 7s - loss: 2.1722 - accuracy: 0.1675 - val_loss: 2.7638 - val_accuracy: 0.0000e+00 - 7s/epoch - 88ms/step\n",
            "Epoch 69/150\n",
            "75/75 - 7s - loss: 2.1722 - accuracy: 0.1675 - val_loss: 2.7671 - val_accuracy: 0.0000e+00 - 7s/epoch - 91ms/step\n",
            "Epoch 70/150\n",
            "75/75 - 7s - loss: 2.1722 - accuracy: 0.1675 - val_loss: 2.7686 - val_accuracy: 0.0000e+00 - 7s/epoch - 90ms/step\n",
            "Epoch 71/150\n",
            "75/75 - 7s - loss: 2.1722 - accuracy: 0.1675 - val_loss: 2.7655 - val_accuracy: 0.0000e+00 - 7s/epoch - 91ms/step\n",
            "Epoch 72/150\n",
            "75/75 - 7s - loss: 2.1722 - accuracy: 0.1675 - val_loss: 2.7667 - val_accuracy: 0.0000e+00 - 7s/epoch - 90ms/step\n",
            "Epoch 73/150\n",
            "75/75 - 7s - loss: 2.1722 - accuracy: 0.1675 - val_loss: 2.7648 - val_accuracy: 0.0000e+00 - 7s/epoch - 89ms/step\n",
            "Epoch 74/150\n",
            "75/75 - 7s - loss: 2.1721 - accuracy: 0.1675 - val_loss: 2.7646 - val_accuracy: 0.0000e+00 - 7s/epoch - 88ms/step\n",
            "Epoch 75/150\n",
            "75/75 - 7s - loss: 2.1721 - accuracy: 0.1675 - val_loss: 2.7646 - val_accuracy: 0.0000e+00 - 7s/epoch - 90ms/step\n",
            "Epoch 76/150\n",
            "75/75 - 7s - loss: 2.1721 - accuracy: 0.1675 - val_loss: 2.7652 - val_accuracy: 0.0000e+00 - 7s/epoch - 88ms/step\n",
            "Epoch 77/150\n",
            "75/75 - 7s - loss: 2.1722 - accuracy: 0.1675 - val_loss: 2.7669 - val_accuracy: 0.0000e+00 - 7s/epoch - 90ms/step\n",
            "Epoch 78/150\n",
            "75/75 - 7s - loss: 2.1722 - accuracy: 0.1675 - val_loss: 2.7663 - val_accuracy: 0.0000e+00 - 7s/epoch - 90ms/step\n",
            "Epoch 79/150\n",
            "75/75 - 7s - loss: 2.1721 - accuracy: 0.1675 - val_loss: 2.7658 - val_accuracy: 0.0000e+00 - 7s/epoch - 89ms/step\n",
            "Epoch 80/150\n",
            "75/75 - 7s - loss: 2.1722 - accuracy: 0.1675 - val_loss: 2.7667 - val_accuracy: 0.0000e+00 - 7s/epoch - 88ms/step\n",
            "Epoch 81/150\n",
            "75/75 - 7s - loss: 2.1722 - accuracy: 0.1675 - val_loss: 2.7692 - val_accuracy: 0.0000e+00 - 7s/epoch - 91ms/step\n",
            "Epoch 82/150\n",
            "75/75 - 7s - loss: 2.1721 - accuracy: 0.1675 - val_loss: 2.7656 - val_accuracy: 0.0000e+00 - 7s/epoch - 90ms/step\n",
            "Epoch 83/150\n",
            "75/75 - 7s - loss: 2.1722 - accuracy: 0.1675 - val_loss: 2.7631 - val_accuracy: 0.0000e+00 - 7s/epoch - 89ms/step\n",
            "Epoch 84/150\n",
            "75/75 - 7s - loss: 2.1722 - accuracy: 0.1675 - val_loss: 2.7654 - val_accuracy: 0.0000e+00 - 7s/epoch - 88ms/step\n",
            "Epoch 85/150\n",
            "75/75 - 7s - loss: 2.1722 - accuracy: 0.1675 - val_loss: 2.7665 - val_accuracy: 0.0000e+00 - 7s/epoch - 89ms/step\n",
            "Epoch 86/150\n",
            "75/75 - 7s - loss: 2.1722 - accuracy: 0.1675 - val_loss: 2.7669 - val_accuracy: 0.0000e+00 - 7s/epoch - 90ms/step\n",
            "Epoch 87/150\n",
            "75/75 - 7s - loss: 2.1722 - accuracy: 0.1675 - val_loss: 2.7640 - val_accuracy: 0.0000e+00 - 7s/epoch - 91ms/step\n",
            "Epoch 88/150\n",
            "75/75 - 7s - loss: 2.1722 - accuracy: 0.1675 - val_loss: 2.7650 - val_accuracy: 0.0000e+00 - 7s/epoch - 88ms/step\n",
            "Epoch 89/150\n",
            "75/75 - 7s - loss: 2.1722 - accuracy: 0.1675 - val_loss: 2.7696 - val_accuracy: 0.0000e+00 - 7s/epoch - 90ms/step\n",
            "Epoch 90/150\n",
            "75/75 - 7s - loss: 2.1721 - accuracy: 0.1675 - val_loss: 2.7676 - val_accuracy: 0.0000e+00 - 7s/epoch - 88ms/step\n",
            "Epoch 91/150\n",
            "75/75 - 7s - loss: 2.1721 - accuracy: 0.1675 - val_loss: 2.7688 - val_accuracy: 0.0000e+00 - 7s/epoch - 90ms/step\n",
            "Epoch 92/150\n",
            "75/75 - 7s - loss: 2.1722 - accuracy: 0.1675 - val_loss: 2.7675 - val_accuracy: 0.0000e+00 - 7s/epoch - 88ms/step\n",
            "Epoch 93/150\n",
            "75/75 - 7s - loss: 2.1721 - accuracy: 0.1675 - val_loss: 2.7644 - val_accuracy: 0.0000e+00 - 7s/epoch - 91ms/step\n",
            "Epoch 94/150\n",
            "75/75 - 7s - loss: 2.1722 - accuracy: 0.1675 - val_loss: 2.7670 - val_accuracy: 0.0000e+00 - 7s/epoch - 90ms/step\n",
            "Epoch 95/150\n",
            "75/75 - 7s - loss: 2.1723 - accuracy: 0.1675 - val_loss: 2.7683 - val_accuracy: 0.0000e+00 - 7s/epoch - 91ms/step\n",
            "Epoch 96/150\n",
            "75/75 - 7s - loss: 2.1721 - accuracy: 0.1675 - val_loss: 2.7656 - val_accuracy: 0.0000e+00 - 7s/epoch - 90ms/step\n",
            "Epoch 97/150\n",
            "75/75 - 7s - loss: 2.1721 - accuracy: 0.1675 - val_loss: 2.7670 - val_accuracy: 0.0000e+00 - 7s/epoch - 89ms/step\n",
            "Epoch 98/150\n",
            "75/75 - 7s - loss: 2.1722 - accuracy: 0.1675 - val_loss: 2.7656 - val_accuracy: 0.0000e+00 - 7s/epoch - 90ms/step\n",
            "Epoch 99/150\n",
            "75/75 - 7s - loss: 2.1722 - accuracy: 0.1675 - val_loss: 2.7659 - val_accuracy: 0.0000e+00 - 7s/epoch - 89ms/step\n",
            "Epoch 100/150\n",
            "75/75 - 7s - loss: 2.1722 - accuracy: 0.1675 - val_loss: 2.7664 - val_accuracy: 0.0000e+00 - 7s/epoch - 88ms/step\n",
            "Epoch 101/150\n",
            "75/75 - 7s - loss: 2.1721 - accuracy: 0.1675 - val_loss: 2.7661 - val_accuracy: 0.0000e+00 - 7s/epoch - 91ms/step\n",
            "Epoch 102/150\n",
            "75/75 - 7s - loss: 2.1721 - accuracy: 0.1675 - val_loss: 2.7674 - val_accuracy: 0.0000e+00 - 7s/epoch - 90ms/step\n",
            "Epoch 103/150\n",
            "75/75 - 7s - loss: 2.1722 - accuracy: 0.1675 - val_loss: 2.7639 - val_accuracy: 0.0000e+00 - 7s/epoch - 91ms/step\n",
            "Epoch 104/150\n",
            "75/75 - 7s - loss: 2.1722 - accuracy: 0.1675 - val_loss: 2.7652 - val_accuracy: 0.0000e+00 - 7s/epoch - 88ms/step\n",
            "Epoch 105/150\n",
            "75/75 - 7s - loss: 2.1721 - accuracy: 0.1675 - val_loss: 2.7661 - val_accuracy: 0.0000e+00 - 7s/epoch - 89ms/step\n",
            "Epoch 106/150\n",
            "75/75 - 7s - loss: 2.1721 - accuracy: 0.1675 - val_loss: 2.7638 - val_accuracy: 0.0000e+00 - 7s/epoch - 90ms/step\n",
            "Epoch 107/150\n",
            "75/75 - 7s - loss: 2.1722 - accuracy: 0.1675 - val_loss: 2.7679 - val_accuracy: 0.0000e+00 - 7s/epoch - 90ms/step\n",
            "Epoch 108/150\n",
            "75/75 - 7s - loss: 2.1722 - accuracy: 0.1675 - val_loss: 2.7692 - val_accuracy: 0.0000e+00 - 7s/epoch - 88ms/step\n",
            "Epoch 109/150\n",
            "75/75 - 7s - loss: 2.1721 - accuracy: 0.1675 - val_loss: 2.7656 - val_accuracy: 0.0000e+00 - 7s/epoch - 91ms/step\n",
            "Epoch 110/150\n",
            "75/75 - 7s - loss: 2.1722 - accuracy: 0.1675 - val_loss: 2.7629 - val_accuracy: 0.0000e+00 - 7s/epoch - 88ms/step\n",
            "Epoch 111/150\n",
            "75/75 - 7s - loss: 2.1722 - accuracy: 0.1675 - val_loss: 2.7673 - val_accuracy: 0.0000e+00 - 7s/epoch - 91ms/step\n",
            "Epoch 112/150\n",
            "75/75 - 7s - loss: 2.1722 - accuracy: 0.1675 - val_loss: 2.7669 - val_accuracy: 0.0000e+00 - 7s/epoch - 89ms/step\n",
            "Epoch 113/150\n",
            "75/75 - 7s - loss: 2.1722 - accuracy: 0.1675 - val_loss: 2.7694 - val_accuracy: 0.0000e+00 - 7s/epoch - 91ms/step\n",
            "Epoch 114/150\n",
            "75/75 - 7s - loss: 2.1722 - accuracy: 0.1675 - val_loss: 2.7666 - val_accuracy: 0.0000e+00 - 7s/epoch - 88ms/step\n",
            "Epoch 115/150\n",
            "75/75 - 7s - loss: 2.1722 - accuracy: 0.1675 - val_loss: 2.7676 - val_accuracy: 0.0000e+00 - 7s/epoch - 91ms/step\n",
            "Epoch 116/150\n",
            "75/75 - 7s - loss: 2.1722 - accuracy: 0.1675 - val_loss: 2.7630 - val_accuracy: 0.0000e+00 - 7s/epoch - 90ms/step\n",
            "Epoch 117/150\n",
            "75/75 - 7s - loss: 2.1721 - accuracy: 0.1675 - val_loss: 2.7653 - val_accuracy: 0.0000e+00 - 7s/epoch - 90ms/step\n",
            "Epoch 118/150\n",
            "75/75 - 7s - loss: 2.1722 - accuracy: 0.1675 - val_loss: 2.7666 - val_accuracy: 0.0000e+00 - 7s/epoch - 90ms/step\n",
            "Epoch 119/150\n",
            "75/75 - 7s - loss: 2.1722 - accuracy: 0.1675 - val_loss: 2.7654 - val_accuracy: 0.0000e+00 - 7s/epoch - 90ms/step\n",
            "Epoch 120/150\n",
            "75/75 - 7s - loss: 2.1722 - accuracy: 0.1675 - val_loss: 2.7648 - val_accuracy: 0.0000e+00 - 7s/epoch - 88ms/step\n",
            "Epoch 121/150\n",
            "75/75 - 7s - loss: 2.1722 - accuracy: 0.1675 - val_loss: 2.7656 - val_accuracy: 0.0000e+00 - 7s/epoch - 89ms/step\n",
            "Epoch 122/150\n",
            "75/75 - 7s - loss: 2.1722 - accuracy: 0.1675 - val_loss: 2.7683 - val_accuracy: 0.0000e+00 - 7s/epoch - 90ms/step\n",
            "Epoch 123/150\n",
            "75/75 - 7s - loss: 2.1722 - accuracy: 0.1675 - val_loss: 2.7676 - val_accuracy: 0.0000e+00 - 7s/epoch - 90ms/step\n",
            "Epoch 124/150\n",
            "75/75 - 7s - loss: 2.1722 - accuracy: 0.1675 - val_loss: 2.7652 - val_accuracy: 0.0000e+00 - 7s/epoch - 89ms/step\n",
            "Epoch 125/150\n",
            "75/75 - 7s - loss: 2.1722 - accuracy: 0.1675 - val_loss: 2.7653 - val_accuracy: 0.0000e+00 - 7s/epoch - 90ms/step\n",
            "Epoch 126/150\n",
            "75/75 - 7s - loss: 2.1722 - accuracy: 0.1675 - val_loss: 2.7652 - val_accuracy: 0.0000e+00 - 7s/epoch - 88ms/step\n",
            "Epoch 127/150\n",
            "75/75 - 7s - loss: 2.1722 - accuracy: 0.1675 - val_loss: 2.7649 - val_accuracy: 0.0000e+00 - 7s/epoch - 90ms/step\n",
            "Epoch 128/150\n",
            "75/75 - 7s - loss: 2.1722 - accuracy: 0.1675 - val_loss: 2.7671 - val_accuracy: 0.0000e+00 - 7s/epoch - 90ms/step\n",
            "Epoch 129/150\n",
            "75/75 - 7s - loss: 2.1722 - accuracy: 0.1675 - val_loss: 2.7663 - val_accuracy: 0.0000e+00 - 7s/epoch - 92ms/step\n",
            "Epoch 130/150\n",
            "75/75 - 7s - loss: 2.1722 - accuracy: 0.1675 - val_loss: 2.7665 - val_accuracy: 0.0000e+00 - 7s/epoch - 90ms/step\n",
            "Epoch 131/150\n",
            "75/75 - 7s - loss: 2.1722 - accuracy: 0.1675 - val_loss: 2.7689 - val_accuracy: 0.0000e+00 - 7s/epoch - 90ms/step\n",
            "Epoch 132/150\n",
            "75/75 - 7s - loss: 2.1722 - accuracy: 0.1675 - val_loss: 2.7659 - val_accuracy: 0.0000e+00 - 7s/epoch - 89ms/step\n",
            "Epoch 133/150\n",
            "75/75 - 7s - loss: 2.1722 - accuracy: 0.1675 - val_loss: 2.7657 - val_accuracy: 0.0000e+00 - 7s/epoch - 90ms/step\n",
            "Epoch 134/150\n",
            "75/75 - 7s - loss: 2.1722 - accuracy: 0.1675 - val_loss: 2.7668 - val_accuracy: 0.0000e+00 - 7s/epoch - 89ms/step\n",
            "Epoch 135/150\n",
            "75/75 - 7s - loss: 2.1722 - accuracy: 0.1675 - val_loss: 2.7688 - val_accuracy: 0.0000e+00 - 7s/epoch - 89ms/step\n",
            "Epoch 136/150\n",
            "75/75 - 7s - loss: 2.1721 - accuracy: 0.1675 - val_loss: 2.7662 - val_accuracy: 0.0000e+00 - 7s/epoch - 89ms/step\n",
            "Epoch 137/150\n",
            "75/75 - 7s - loss: 2.1722 - accuracy: 0.1675 - val_loss: 2.7621 - val_accuracy: 0.0000e+00 - 7s/epoch - 91ms/step\n",
            "Epoch 138/150\n",
            "75/75 - 7s - loss: 2.1722 - accuracy: 0.1675 - val_loss: 2.7625 - val_accuracy: 0.0000e+00 - 7s/epoch - 91ms/step\n",
            "Epoch 139/150\n",
            "75/75 - 7s - loss: 2.1722 - accuracy: 0.1675 - val_loss: 2.7645 - val_accuracy: 0.0000e+00 - 7s/epoch - 91ms/step\n",
            "Epoch 140/150\n",
            "75/75 - 7s - loss: 2.1721 - accuracy: 0.1675 - val_loss: 2.7673 - val_accuracy: 0.0000e+00 - 7s/epoch - 88ms/step\n",
            "Epoch 141/150\n",
            "75/75 - 7s - loss: 2.1722 - accuracy: 0.1675 - val_loss: 2.7708 - val_accuracy: 0.0000e+00 - 7s/epoch - 91ms/step\n",
            "Epoch 142/150\n",
            "75/75 - 7s - loss: 2.1722 - accuracy: 0.1675 - val_loss: 2.7641 - val_accuracy: 0.0000e+00 - 7s/epoch - 88ms/step\n",
            "Epoch 143/150\n",
            "75/75 - 7s - loss: 2.1722 - accuracy: 0.1675 - val_loss: 2.7647 - val_accuracy: 0.0000e+00 - 7s/epoch - 90ms/step\n",
            "Epoch 144/150\n",
            "75/75 - 7s - loss: 2.1722 - accuracy: 0.1675 - val_loss: 2.7642 - val_accuracy: 0.0000e+00 - 7s/epoch - 90ms/step\n",
            "Epoch 145/150\n",
            "75/75 - 7s - loss: 2.1722 - accuracy: 0.1675 - val_loss: 2.7668 - val_accuracy: 0.0000e+00 - 7s/epoch - 91ms/step\n",
            "Epoch 146/150\n",
            "75/75 - 7s - loss: 2.1722 - accuracy: 0.1675 - val_loss: 2.7662 - val_accuracy: 0.0000e+00 - 7s/epoch - 90ms/step\n",
            "Epoch 147/150\n",
            "75/75 - 7s - loss: 2.1721 - accuracy: 0.1675 - val_loss: 2.7661 - val_accuracy: 0.0000e+00 - 7s/epoch - 91ms/step\n",
            "Epoch 148/150\n",
            "75/75 - 7s - loss: 2.1722 - accuracy: 0.1675 - val_loss: 2.7644 - val_accuracy: 0.0000e+00 - 7s/epoch - 88ms/step\n",
            "Epoch 149/150\n",
            "75/75 - 7s - loss: 2.1722 - accuracy: 0.1675 - val_loss: 2.7624 - val_accuracy: 0.0000e+00 - 7s/epoch - 90ms/step\n",
            "Epoch 150/150\n",
            "75/75 - 7s - loss: 2.1722 - accuracy: 0.1675 - val_loss: 2.7680 - val_accuracy: 0.0000e+00 - 7s/epoch - 90ms/step\n"
          ]
        }
      ],
      "source": [
        "model = get_model()\n",
        "\n",
        "# fits the model on batches\n",
        "estimator = model.fit(\n",
        "    X_train,\n",
        "    y_train,\n",
        "    validation_split=0.1,\n",
        "    epochs=150,\n",
        "    shuffle=True,\n",
        "    batch_size=32,\n",
        "    verbose=2)\n",
        "\n",
        "model.save_weights('balanced_model_2.h5')"
      ]
    },
    {
      "cell_type": "code",
      "execution_count": 10,
      "metadata": {
        "id": "FkDEJWrP_KCQ"
      },
      "outputs": [],
      "source": []
    },
    {
      "cell_type": "code",
      "execution_count": 11,
      "metadata": {
        "id": "3DDlljCw_J_u",
        "colab": {
          "base_uri": "https://localhost:8080/"
        },
        "outputId": "1ea7ceb0-f0f9-4006-e024-0531d53d2090"
      },
      "outputs": [
        {
          "output_type": "stream",
          "name": "stdout",
          "text": [
            "Predicting on test data\n",
            "7/7 [==============================] - 1s 80ms/step\n",
            "0.0\n"
          ]
        }
      ],
      "source": [
        "from sklearn.metrics import accuracy_score\n",
        "\n",
        "print('Predicting on test data')\n",
        "\n",
        "y_pred = np.rint(model.predict(X_test))\n",
        "\n",
        "print(accuracy_score(y_test, y_pred))"
      ]
    },
    {
      "cell_type": "code",
      "execution_count": 12,
      "metadata": {
        "id": "hqB-4hV9_RA2",
        "colab": {
          "base_uri": "https://localhost:8080/"
        },
        "outputId": "9c66b6ef-9f23-4141-e509-b325e0697d90"
      },
      "outputs": [
        {
          "output_type": "stream",
          "name": "stdout",
          "text": [
            "[[12  0  0  0  0  0  0  0  0]\n",
            " [ 4  0  0  0  0  0  0  0  0]\n",
            " [ 2  0  0  0  0  0  0  0  0]\n",
            " [10  0  0  0  0  0  0  0  0]\n",
            " [76  0  0  0  0  0  0  0  0]\n",
            " [10  0  0  0  0  0  0  0  0]\n",
            " [12  0  0  0  0  0  0  0  0]\n",
            " [ 4  0  0  0  0  0  0  0  0]\n",
            " [84  0  0  0  0  0  0  0  0]]\n"
          ]
        }
      ],
      "source": [
        "from sklearn.metrics import confusion_matrix\n",
        "\n",
        "y_pred_unencoded = np.argmax(y_pred, axis=1)\n",
        "\n",
        "y_test_unencoded = np.argmax(y_test, axis=1)\n",
        "\n",
        "print(confusion_matrix(y_test_unencoded, y_pred_unencoded))"
      ]
    }
  ],
  "metadata": {
    "colab": {
      "provenance": [],
      "gpuType": "T4",
      "authorship_tag": "ABX9TyM6r+rN+92cdb4aAXFzCpz4",
      "include_colab_link": true
    },
    "kernelspec": {
      "display_name": "Python 3",
      "name": "python3"
    },
    "language_info": {
      "name": "python"
    },
    "accelerator": "GPU"
  },
  "nbformat": 4,
  "nbformat_minor": 0
}